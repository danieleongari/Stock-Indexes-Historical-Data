{
 "cells": [
  {
   "cell_type": "markdown",
   "metadata": {},
   "source": [
    "# Explorlatory data analysis on the content of the datasets"
   ]
  },
  {
   "cell_type": "code",
   "execution_count": 1,
   "metadata": {},
   "outputs": [],
   "source": [
    "import pandas as pd\n",
    "import plotly.express as px\n"
   ]
  },
  {
   "cell_type": "markdown",
   "metadata": {},
   "source": [
    "## ETF\n",
    "All traded in EUR. All from Borsa di Milano, except for the Crypto ETFs.\n",
    "\n",
    "I will exclude crypto from EDA because they lack some info and there are better way to get crypto prices.\n",
    "\n",
    "Columns of `/dati/{ticker}.csv` are:\n",
    "- Date\n",
    "- OPEN_PRC\n",
    "- HIGH_1\n",
    "- LOW_1\n",
    "- TRDPRC_1 (Close)\n",
    "- TRNOVR_UNS (Volume)"
   ]
  },
  {
   "cell_type": "code",
   "execution_count": 2,
   "metadata": {},
   "outputs": [
    {
     "data": {
      "text/html": [
       "<div>\n",
       "<style scoped>\n",
       "    .dataframe tbody tr th:only-of-type {\n",
       "        vertical-align: middle;\n",
       "    }\n",
       "\n",
       "    .dataframe tbody tr th {\n",
       "        vertical-align: top;\n",
       "    }\n",
       "\n",
       "    .dataframe thead th {\n",
       "        text-align: right;\n",
       "    }\n",
       "</style>\n",
       "<table border=\"1\" class=\"dataframe\">\n",
       "  <thead>\n",
       "    <tr style=\"text-align: right;\">\n",
       "      <th></th>\n",
       "      <th>Ticker</th>\n",
       "      <th>ISIN</th>\n",
       "      <th>ETF Name</th>\n",
       "      <th>Category</th>\n",
       "      <th>Type</th>\n",
       "      <th>Domicile</th>\n",
       "    </tr>\n",
       "  </thead>\n",
       "  <tbody>\n",
       "    <tr>\n",
       "      <th>0</th>\n",
       "      <td>MMLP.MI</td>\n",
       "      <td>IE00BKPTXQ89</td>\n",
       "      <td>Alerian Midstream Energy Dividend UCITS ETF Dis</td>\n",
       "      <td>Equity Theme - Infrastructure</td>\n",
       "      <td>Equity ETF</td>\n",
       "      <td>Ireland</td>\n",
       "    </tr>\n",
       "    <tr>\n",
       "      <th>1</th>\n",
       "      <td>FAMSFFA.MI</td>\n",
       "      <td>IE000NPK2VI6</td>\n",
       "      <td>AM MSCI EUR IG SRI SusExFossil CrpBd UCITS ETF</td>\n",
       "      <td>Bond EUR Corporates</td>\n",
       "      <td>Exchange-Traded Fund</td>\n",
       "      <td>Ireland</td>\n",
       "    </tr>\n",
       "    <tr>\n",
       "      <th>2</th>\n",
       "      <td>FAMSF3A.MI</td>\n",
       "      <td>IE000W6ZFH20</td>\n",
       "      <td>AM MSCI EUR IG SRI SusExFossil1-3yCrpBdUCITSETF</td>\n",
       "      <td>Bond EUR Corporates Short Term</td>\n",
       "      <td>Exchange-Traded Fund</td>\n",
       "      <td>Ireland</td>\n",
       "    </tr>\n",
       "    <tr>\n",
       "      <th>3</th>\n",
       "      <td>COMH.MI</td>\n",
       "      <td>LU1900069219</td>\n",
       "      <td>Amndi Blmbrg Eqlwght ComdtexAgrcl UCITSETF DHE...</td>\n",
       "      <td>Commodity Blended</td>\n",
       "      <td>Commodity ETF</td>\n",
       "      <td>Luxembourg</td>\n",
       "    </tr>\n",
       "    <tr>\n",
       "      <th>4</th>\n",
       "      <td>COMO.MI</td>\n",
       "      <td>LU1829218749</td>\n",
       "      <td>Amundi Blbrg Equlwght Commdt ex-Agricl UCITS E...</td>\n",
       "      <td>Commodity Blended</td>\n",
       "      <td>Commodity ETF</td>\n",
       "      <td>Luxembourg</td>\n",
       "    </tr>\n",
       "    <tr>\n",
       "      <th>...</th>\n",
       "      <td>...</td>\n",
       "      <td>...</td>\n",
       "      <td>...</td>\n",
       "      <td>...</td>\n",
       "      <td>...</td>\n",
       "      <td>...</td>\n",
       "    </tr>\n",
       "    <tr>\n",
       "      <th>1816</th>\n",
       "      <td>XDGU.MI</td>\n",
       "      <td>IE00BZ036H21</td>\n",
       "      <td>Xtrackers USD Corporate Bond UCITS ETF 1D</td>\n",
       "      <td>Bond USD Corporates</td>\n",
       "      <td>Bond ETF</td>\n",
       "      <td>Ireland</td>\n",
       "    </tr>\n",
       "    <tr>\n",
       "      <th>1817</th>\n",
       "      <td>XDGE.MI</td>\n",
       "      <td>IE00BZ036J45</td>\n",
       "      <td>Xtrackers USD Corporate Bond UCITS ETF 2D EUR Hgd</td>\n",
       "      <td>Bond USD Corporates</td>\n",
       "      <td>Bond ETF</td>\n",
       "      <td>Ireland</td>\n",
       "    </tr>\n",
       "    <tr>\n",
       "      <th>1818</th>\n",
       "      <td>XGBU.MI</td>\n",
       "      <td>IE0003W9O921</td>\n",
       "      <td>Xtrackers USD Corporate Green Bond UCITS ETF 2C</td>\n",
       "      <td>NaN</td>\n",
       "      <td>Bond ETF</td>\n",
       "      <td>Ireland</td>\n",
       "    </tr>\n",
       "    <tr>\n",
       "      <th>1819</th>\n",
       "      <td>XUHY.MI</td>\n",
       "      <td>IE00BDR5HM97</td>\n",
       "      <td>Xtrackers USD High Yld Corporate Bond UCITS ET...</td>\n",
       "      <td>Bond USD High Yield</td>\n",
       "      <td>Bond ETF</td>\n",
       "      <td>Ireland</td>\n",
       "    </tr>\n",
       "    <tr>\n",
       "      <th>1820</th>\n",
       "      <td>XNZW.MI</td>\n",
       "      <td>IE000UZCJS58</td>\n",
       "      <td>Xtrackers Wld Net Zero Pway Par Algnd UCITS ET...</td>\n",
       "      <td>Equity Global Sm&amp;Mid Cap</td>\n",
       "      <td>Equity ETF</td>\n",
       "      <td>Ireland</td>\n",
       "    </tr>\n",
       "  </tbody>\n",
       "</table>\n",
       "<p>1821 rows × 6 columns</p>\n",
       "</div>"
      ],
      "text/plain": [
       "          Ticker          ISIN  \\\n",
       "0        MMLP.MI  IE00BKPTXQ89   \n",
       "1     FAMSFFA.MI  IE000NPK2VI6   \n",
       "2     FAMSF3A.MI  IE000W6ZFH20   \n",
       "3        COMH.MI  LU1900069219   \n",
       "4        COMO.MI  LU1829218749   \n",
       "...          ...           ...   \n",
       "1816     XDGU.MI  IE00BZ036H21   \n",
       "1817     XDGE.MI  IE00BZ036J45   \n",
       "1818     XGBU.MI  IE0003W9O921   \n",
       "1819     XUHY.MI  IE00BDR5HM97   \n",
       "1820     XNZW.MI  IE000UZCJS58   \n",
       "\n",
       "                                               ETF Name  \\\n",
       "0       Alerian Midstream Energy Dividend UCITS ETF Dis   \n",
       "1        AM MSCI EUR IG SRI SusExFossil CrpBd UCITS ETF   \n",
       "2       AM MSCI EUR IG SRI SusExFossil1-3yCrpBdUCITSETF   \n",
       "3     Amndi Blmbrg Eqlwght ComdtexAgrcl UCITSETF DHE...   \n",
       "4     Amundi Blbrg Equlwght Commdt ex-Agricl UCITS E...   \n",
       "...                                                 ...   \n",
       "1816          Xtrackers USD Corporate Bond UCITS ETF 1D   \n",
       "1817  Xtrackers USD Corporate Bond UCITS ETF 2D EUR Hgd   \n",
       "1818    Xtrackers USD Corporate Green Bond UCITS ETF 2C   \n",
       "1819  Xtrackers USD High Yld Corporate Bond UCITS ET...   \n",
       "1820  Xtrackers Wld Net Zero Pway Par Algnd UCITS ET...   \n",
       "\n",
       "                            Category                  Type    Domicile  \n",
       "0      Equity Theme - Infrastructure            Equity ETF     Ireland  \n",
       "1                Bond EUR Corporates  Exchange-Traded Fund     Ireland  \n",
       "2     Bond EUR Corporates Short Term  Exchange-Traded Fund     Ireland  \n",
       "3                  Commodity Blended         Commodity ETF  Luxembourg  \n",
       "4                  Commodity Blended         Commodity ETF  Luxembourg  \n",
       "...                              ...                   ...         ...  \n",
       "1816             Bond USD Corporates              Bond ETF     Ireland  \n",
       "1817             Bond USD Corporates              Bond ETF     Ireland  \n",
       "1818                             NaN              Bond ETF     Ireland  \n",
       "1819             Bond USD High Yield              Bond ETF     Ireland  \n",
       "1820        Equity Global Sm&Mid Cap            Equity ETF     Ireland  \n",
       "\n",
       "[1821 rows x 6 columns]"
      ]
     },
     "execution_count": 2,
     "metadata": {},
     "output_type": "execute_result"
    }
   ],
   "source": [
    "df_info = (\n",
    "    pd.read_excel(\"../ETF/elenco ETF.xlsx\")\n",
    "    [[\"RIC\", \"ISIN\", \"Name\", \"Lipper Classification Scheme\", \"Instrument Type\", \"Domicile\"]] # interesting info\n",
    "    .rename(columns={\"RIC\": \"Ticker\", \"Name\": \"ETF Name\", \"Lipper Classification Scheme\": \"Category\", \"Instrument Type\": \"Type\"})\n",
    "    .dropna(subset=[\"ISIN\"]) # this will exclude 4 crypto ETCs from xetra\n",
    ")\n",
    "df_info"
   ]
  },
  {
   "cell_type": "code",
   "execution_count": 3,
   "metadata": {},
   "outputs": [
    {
     "name": "stdout",
     "output_type": "stream",
     "text": [
      "MIVO.MI: no data\n",
      "ISAD.MI: no data\n",
      "FMQQ.MI: no data\n",
      "WTCHIN.MI: no data\n",
      "EGTD.MI: error Missing column provided to 'parse_dates': 'Date'\n",
      "MLPI.MI: no data\n",
      "FLOTH.MI: no data\n",
      "LCUK.MI: no data\n",
      "FLOT.MI: no data\n",
      "OIL1L.MI: no data\n",
      "SGIOIL2L.MI: no data\n",
      "EUCR.MI: no data\n",
      "EXCPA.MI: no data\n",
      "SIL1L.MI: no data\n",
      "GGE.MI: error Missing column provided to 'parse_dates': 'Date'\n",
      "USESGA.MI: error Missing column provided to 'parse_dates': 'Date'\n",
      "JPEUB.MI: error float division by zero\n"
     ]
    }
   ],
   "source": [
    "df_eda = pd.DataFrame(index=df_info[\"Ticker\"], columns=[\"Date Oldest\", \"Date Newest\", \"Years Covered\", \"Data per Year\", \"Avg Volume (M EUR)\"])\n",
    "for ticker in df_info[\"Ticker\"]:\n",
    "    try:\n",
    "        df_hist = (\n",
    "            pd.read_csv(f\"../ETF/dati/{ticker}.csv\", sep=\";\", parse_dates=[\"Date\"])\n",
    "            .dropna(subset=[\"TRDPRC_1\"])\n",
    "        )\n",
    "        oldest = df_hist[\"Date\"].min().date()\n",
    "        newest = df_hist[\"Date\"].max().date()\n",
    "        years_covered = (newest - oldest).days / 365.25\n",
    "        data_per_year = len(df_hist) / years_covered\n",
    "        avg_volume = (df_hist[\"TRNOVR_UNS\"]*df_hist[\"TRDPRC_1\"]).mean() / 1e6\n",
    "        df_eda.loc[ticker] = [oldest, newest, years_covered, data_per_year, avg_volume]\n",
    "    except FileNotFoundError:\n",
    "        print(f\"{ticker}: no data\")\n",
    "    except Exception as e:\n",
    "        print(f\"{ticker}: error {e}\")"
   ]
  },
  {
   "cell_type": "code",
   "execution_count": 4,
   "metadata": {},
   "outputs": [
    {
     "data": {
      "text/html": [
       "<div>\n",
       "<style scoped>\n",
       "    .dataframe tbody tr th:only-of-type {\n",
       "        vertical-align: middle;\n",
       "    }\n",
       "\n",
       "    .dataframe tbody tr th {\n",
       "        vertical-align: top;\n",
       "    }\n",
       "\n",
       "    .dataframe thead th {\n",
       "        text-align: right;\n",
       "    }\n",
       "</style>\n",
       "<table border=\"1\" class=\"dataframe\">\n",
       "  <thead>\n",
       "    <tr style=\"text-align: right;\">\n",
       "      <th></th>\n",
       "      <th>Ticker</th>\n",
       "      <th>ISIN</th>\n",
       "      <th>ETF Name</th>\n",
       "      <th>Category</th>\n",
       "      <th>Type</th>\n",
       "      <th>Domicile</th>\n",
       "      <th>Date Oldest</th>\n",
       "      <th>Date Newest</th>\n",
       "      <th>Years Covered</th>\n",
       "      <th>Data per Year</th>\n",
       "      <th>Avg Volume (M EUR)</th>\n",
       "    </tr>\n",
       "  </thead>\n",
       "  <tbody>\n",
       "    <tr>\n",
       "      <th>0</th>\n",
       "      <td>MMLP.MI</td>\n",
       "      <td>IE00BKPTXQ89</td>\n",
       "      <td>Alerian Midstream Energy Dividend UCITS ETF Dis</td>\n",
       "      <td>Equity Theme - Infrastructure</td>\n",
       "      <td>Equity ETF</td>\n",
       "      <td>Ireland</td>\n",
       "      <td>2020-08-07</td>\n",
       "      <td>2023-11-10</td>\n",
       "      <td>3.258042</td>\n",
       "      <td>210.862815</td>\n",
       "      <td>0.492546</td>\n",
       "    </tr>\n",
       "    <tr>\n",
       "      <th>1</th>\n",
       "      <td>FAMSFFA.MI</td>\n",
       "      <td>IE000NPK2VI6</td>\n",
       "      <td>AM MSCI EUR IG SRI SusExFossil CrpBd UCITS ETF</td>\n",
       "      <td>Bond EUR Corporates</td>\n",
       "      <td>Exchange-Traded Fund</td>\n",
       "      <td>Ireland</td>\n",
       "      <td>2022-10-10</td>\n",
       "      <td>2023-11-10</td>\n",
       "      <td>1.084189</td>\n",
       "      <td>105.147727</td>\n",
       "      <td>2.160326</td>\n",
       "    </tr>\n",
       "    <tr>\n",
       "      <th>2</th>\n",
       "      <td>FAMSF3A.MI</td>\n",
       "      <td>IE000W6ZFH20</td>\n",
       "      <td>AM MSCI EUR IG SRI SusExFossil1-3yCrpBdUCITSETF</td>\n",
       "      <td>Bond EUR Corporates Short Term</td>\n",
       "      <td>Exchange-Traded Fund</td>\n",
       "      <td>Ireland</td>\n",
       "      <td>2022-10-10</td>\n",
       "      <td>2023-11-10</td>\n",
       "      <td>1.084189</td>\n",
       "      <td>117.138258</td>\n",
       "      <td>1.628128</td>\n",
       "    </tr>\n",
       "    <tr>\n",
       "      <th>3</th>\n",
       "      <td>COMH.MI</td>\n",
       "      <td>LU1900069219</td>\n",
       "      <td>Amndi Blmbrg Eqlwght ComdtexAgrcl UCITSETF DHE...</td>\n",
       "      <td>Commodity Blended</td>\n",
       "      <td>Commodity ETF</td>\n",
       "      <td>Luxembourg</td>\n",
       "      <td>2019-04-15</td>\n",
       "      <td>2023-09-28</td>\n",
       "      <td>4.454483</td>\n",
       "      <td>207.880455</td>\n",
       "      <td>5.451044</td>\n",
       "    </tr>\n",
       "    <tr>\n",
       "      <th>4</th>\n",
       "      <td>COMO.MI</td>\n",
       "      <td>LU1829218749</td>\n",
       "      <td>Amundi Blbrg Equlwght Commdt ex-Agricl UCITS E...</td>\n",
       "      <td>Commodity Blended</td>\n",
       "      <td>Commodity ETF</td>\n",
       "      <td>Luxembourg</td>\n",
       "      <td>2006-06-01</td>\n",
       "      <td>2023-11-10</td>\n",
       "      <td>17.442847</td>\n",
       "      <td>254.144287</td>\n",
       "      <td>15.223571</td>\n",
       "    </tr>\n",
       "    <tr>\n",
       "      <th>...</th>\n",
       "      <td>...</td>\n",
       "      <td>...</td>\n",
       "      <td>...</td>\n",
       "      <td>...</td>\n",
       "      <td>...</td>\n",
       "      <td>...</td>\n",
       "      <td>...</td>\n",
       "      <td>...</td>\n",
       "      <td>...</td>\n",
       "      <td>...</td>\n",
       "      <td>...</td>\n",
       "    </tr>\n",
       "    <tr>\n",
       "      <th>1816</th>\n",
       "      <td>XDGU.MI</td>\n",
       "      <td>IE00BZ036H21</td>\n",
       "      <td>Xtrackers USD Corporate Bond UCITS ETF 1D</td>\n",
       "      <td>Bond USD Corporates</td>\n",
       "      <td>Bond ETF</td>\n",
       "      <td>Ireland</td>\n",
       "      <td>2016-02-22</td>\n",
       "      <td>2023-11-10</td>\n",
       "      <td>7.715264</td>\n",
       "      <td>202.844659</td>\n",
       "      <td>1.093141</td>\n",
       "    </tr>\n",
       "    <tr>\n",
       "      <th>1817</th>\n",
       "      <td>XDGE.MI</td>\n",
       "      <td>IE00BZ036J45</td>\n",
       "      <td>Xtrackers USD Corporate Bond UCITS ETF 2D EUR Hgd</td>\n",
       "      <td>Bond USD Corporates</td>\n",
       "      <td>Bond ETF</td>\n",
       "      <td>Ireland</td>\n",
       "      <td>2016-09-01</td>\n",
       "      <td>2023-11-10</td>\n",
       "      <td>7.189596</td>\n",
       "      <td>201.819402</td>\n",
       "      <td>2.643452</td>\n",
       "    </tr>\n",
       "    <tr>\n",
       "      <th>1818</th>\n",
       "      <td>XGBU.MI</td>\n",
       "      <td>IE0003W9O921</td>\n",
       "      <td>Xtrackers USD Corporate Green Bond UCITS ETF 2C</td>\n",
       "      <td>NaN</td>\n",
       "      <td>Bond ETF</td>\n",
       "      <td>Ireland</td>\n",
       "      <td>2021-09-08</td>\n",
       "      <td>2023-09-01</td>\n",
       "      <td>1.979466</td>\n",
       "      <td>24.248963</td>\n",
       "      <td>0.591846</td>\n",
       "    </tr>\n",
       "    <tr>\n",
       "      <th>1819</th>\n",
       "      <td>XUHY.MI</td>\n",
       "      <td>IE00BDR5HM97</td>\n",
       "      <td>Xtrackers USD High Yld Corporate Bond UCITS ET...</td>\n",
       "      <td>Bond USD High Yield</td>\n",
       "      <td>Bond ETF</td>\n",
       "      <td>Ireland</td>\n",
       "      <td>2018-04-27</td>\n",
       "      <td>2023-11-10</td>\n",
       "      <td>5.538672</td>\n",
       "      <td>205.825507</td>\n",
       "      <td>0.880885</td>\n",
       "    </tr>\n",
       "    <tr>\n",
       "      <th>1820</th>\n",
       "      <td>XNZW.MI</td>\n",
       "      <td>IE000UZCJS58</td>\n",
       "      <td>Xtrackers Wld Net Zero Pway Par Algnd UCITS ET...</td>\n",
       "      <td>Equity Global Sm&amp;Mid Cap</td>\n",
       "      <td>Equity ETF</td>\n",
       "      <td>Ireland</td>\n",
       "      <td>2022-03-25</td>\n",
       "      <td>2023-11-07</td>\n",
       "      <td>1.620808</td>\n",
       "      <td>45.039274</td>\n",
       "      <td>0.961165</td>\n",
       "    </tr>\n",
       "  </tbody>\n",
       "</table>\n",
       "<p>1821 rows × 11 columns</p>\n",
       "</div>"
      ],
      "text/plain": [
       "          Ticker          ISIN  \\\n",
       "0        MMLP.MI  IE00BKPTXQ89   \n",
       "1     FAMSFFA.MI  IE000NPK2VI6   \n",
       "2     FAMSF3A.MI  IE000W6ZFH20   \n",
       "3        COMH.MI  LU1900069219   \n",
       "4        COMO.MI  LU1829218749   \n",
       "...          ...           ...   \n",
       "1816     XDGU.MI  IE00BZ036H21   \n",
       "1817     XDGE.MI  IE00BZ036J45   \n",
       "1818     XGBU.MI  IE0003W9O921   \n",
       "1819     XUHY.MI  IE00BDR5HM97   \n",
       "1820     XNZW.MI  IE000UZCJS58   \n",
       "\n",
       "                                               ETF Name  \\\n",
       "0       Alerian Midstream Energy Dividend UCITS ETF Dis   \n",
       "1        AM MSCI EUR IG SRI SusExFossil CrpBd UCITS ETF   \n",
       "2       AM MSCI EUR IG SRI SusExFossil1-3yCrpBdUCITSETF   \n",
       "3     Amndi Blmbrg Eqlwght ComdtexAgrcl UCITSETF DHE...   \n",
       "4     Amundi Blbrg Equlwght Commdt ex-Agricl UCITS E...   \n",
       "...                                                 ...   \n",
       "1816          Xtrackers USD Corporate Bond UCITS ETF 1D   \n",
       "1817  Xtrackers USD Corporate Bond UCITS ETF 2D EUR Hgd   \n",
       "1818    Xtrackers USD Corporate Green Bond UCITS ETF 2C   \n",
       "1819  Xtrackers USD High Yld Corporate Bond UCITS ET...   \n",
       "1820  Xtrackers Wld Net Zero Pway Par Algnd UCITS ET...   \n",
       "\n",
       "                            Category                  Type    Domicile  \\\n",
       "0      Equity Theme - Infrastructure            Equity ETF     Ireland   \n",
       "1                Bond EUR Corporates  Exchange-Traded Fund     Ireland   \n",
       "2     Bond EUR Corporates Short Term  Exchange-Traded Fund     Ireland   \n",
       "3                  Commodity Blended         Commodity ETF  Luxembourg   \n",
       "4                  Commodity Blended         Commodity ETF  Luxembourg   \n",
       "...                              ...                   ...         ...   \n",
       "1816             Bond USD Corporates              Bond ETF     Ireland   \n",
       "1817             Bond USD Corporates              Bond ETF     Ireland   \n",
       "1818                             NaN              Bond ETF     Ireland   \n",
       "1819             Bond USD High Yield              Bond ETF     Ireland   \n",
       "1820        Equity Global Sm&Mid Cap            Equity ETF     Ireland   \n",
       "\n",
       "     Date Oldest Date Newest Years Covered Data per Year Avg Volume (M EUR)  \n",
       "0     2020-08-07  2023-11-10      3.258042    210.862815           0.492546  \n",
       "1     2022-10-10  2023-11-10      1.084189    105.147727           2.160326  \n",
       "2     2022-10-10  2023-11-10      1.084189    117.138258           1.628128  \n",
       "3     2019-04-15  2023-09-28      4.454483    207.880455           5.451044  \n",
       "4     2006-06-01  2023-11-10     17.442847    254.144287          15.223571  \n",
       "...          ...         ...           ...           ...                ...  \n",
       "1816  2016-02-22  2023-11-10      7.715264    202.844659           1.093141  \n",
       "1817  2016-09-01  2023-11-10      7.189596    201.819402           2.643452  \n",
       "1818  2021-09-08  2023-09-01      1.979466     24.248963           0.591846  \n",
       "1819  2018-04-27  2023-11-10      5.538672    205.825507           0.880885  \n",
       "1820  2022-03-25  2023-11-07      1.620808     45.039274           0.961165  \n",
       "\n",
       "[1821 rows x 11 columns]"
      ]
     },
     "execution_count": 4,
     "metadata": {},
     "output_type": "execute_result"
    }
   ],
   "source": [
    "df_eda2 = df_info.join(df_eda, on=\"Ticker\", how=\"left\")\n",
    "df_eda2.to_csv(\"01_eda_ETF.csv\", index=False)    \n",
    "df_eda2"
   ]
  },
  {
   "cell_type": "code",
   "execution_count": 5,
   "metadata": {},
   "outputs": [
    {
     "data": {
      "application/vnd.plotly.v1+json": {
       "config": {
        "plotlyServerURL": "https://plot.ly"
       },
       "data": [
        {
         "alignmentgroup": "True",
         "bingroup": "x",
         "hovertemplate": "Date Oldest=%{x}<br>count=%{y}<extra></extra>",
         "legendgroup": "",
         "marker": {
          "color": "#636efa",
          "pattern": {
           "shape": ""
          }
         },
         "name": "",
         "nbinsx": 50,
         "offsetgroup": "",
         "orientation": "v",
         "showlegend": false,
         "type": "histogram",
         "x": [
          "2020-08-07",
          "2022-10-10",
          "2022-10-10",
          "2019-04-15",
          "2006-06-01",
          "2018-02-14",
          "2021-05-19",
          "2010-09-10",
          "2010-05-05",
          "2010-10-12",
          "2010-03-09",
          "2010-05-10",
          "2023-07-10",
          "2010-04-26",
          "2023-07-10",
          "2012-01-30",
          "2010-04-22",
          "2010-03-09",
          "2010-03-09",
          "2010-10-20",
          "2010-09-22",
          "2010-09-30",
          "2010-09-22",
          "2017-04-06",
          "2009-06-15",
          "2021-06-23",
          "2010-09-16",
          "2013-11-29",
          "2015-06-22",
          "2018-02-14",
          "2015-02-24",
          "2010-03-08",
          "2018-01-31",
          "2023-03-06",
          "2022-07-14",
          "2018-01-31",
          "2017-04-06",
          "2011-03-24",
          "2011-03-23",
          "2014-10-03",
          "2010-09-10",
          "2018-02-14",
          "2017-05-16",
          "2021-06-16",
          "2017-04-06",
          "2019-12-12",
          "2010-04-26",
          "2017-04-18",
          "2021-06-09",
          "2017-04-06",
          "2017-04-24",
          "2017-04-06",
          "2021-06-24",
          "2020-11-10",
          "2019-04-10",
          "2018-02-15",
          "2021-05-13",
          "2010-03-09",
          "2019-01-11",
          "2020-12-16",
          "2017-04-12",
          "2018-02-14",
          "2019-01-14",
          "2020-06-25",
          "2021-02-23",
          "2018-11-29",
          "2017-04-11",
          "2018-08-23",
          "2017-04-07",
          "2018-01-31",
          "2013-03-21",
          "2023-07-10",
          "2023-07-10",
          "2016-12-14",
          "2010-03-09",
          "2020-05-04",
          "2011-07-21",
          "2011-08-03",
          "2021-05-13",
          "2023-04-03",
          "2023-04-03",
          "2011-03-24",
          "2021-05-11",
          null,
          "2023-07-10",
          "2016-09-08",
          "2017-03-17",
          "2010-03-09",
          "2018-04-10",
          "2011-03-22",
          "2018-11-21",
          "2008-04-03",
          null,
          "2010-03-09",
          "2016-11-25",
          "2018-02-16",
          "2021-05-13",
          "2010-09-10",
          "2010-09-08",
          "2013-05-10",
          "2023-03-17",
          "2021-06-21",
          "2019-03-20",
          "2019-03-28",
          "2019-03-21",
          "2019-03-22",
          "2019-03-21",
          "2019-03-20",
          "2019-03-22",
          "2019-10-11",
          "2019-03-25",
          "2019-03-25",
          "2014-05-20",
          "2018-01-31",
          "2017-05-05",
          "2021-05-25",
          "2012-05-28",
          "2010-09-08",
          "2010-10-07",
          "2010-09-28",
          "2010-10-01",
          "2010-10-08",
          "2010-10-04",
          "2010-10-04",
          "2010-09-29",
          "2018-01-31",
          "2019-11-29",
          "2019-11-29",
          "2007-01-05",
          "2016-09-19",
          "2017-04-18",
          "2011-01-17",
          "2016-09-16",
          "2011-01-13",
          "2011-01-17",
          "2016-06-07",
          "2015-09-09",
          "2011-01-27",
          "2018-02-14",
          "2021-07-21",
          "2023-02-09",
          "2023-02-21",
          "2023-06-08",
          "2023-02-09",
          "2023-09-06",
          "2023-02-22",
          "2019-05-20",
          "2020-01-06",
          "2020-01-06",
          "2019-04-03",
          "2021-09-07",
          "2017-09-07",
          "2017-10-20",
          "2017-07-04",
          "2017-06-28",
          "2017-07-07",
          "2023-07-28",
          "2019-04-01",
          "2019-04-01",
          "2021-04-09",
          "2021-04-12",
          "2023-05-03",
          "2023-05-02",
          "2019-06-27",
          "2017-06-27",
          "2020-11-10",
          "2022-07-28",
          "2022-06-21",
          "2019-12-30",
          "2022-10-27",
          "2017-06-29",
          "2021-04-13",
          "2023-03-28",
          "2023-03-20",
          "2019-07-02",
          "2021-05-20",
          "2019-04-05",
          "2022-06-30",
          "2021-09-08",
          "2017-12-28",
          "2017-07-11",
          "2017-06-22",
          "2020-05-19",
          "2017-06-23",
          "2019-04-24",
          "2017-06-30",
          "2019-07-30",
          "2017-07-07",
          "2017-10-18",
          "2018-05-11",
          "2020-02-11",
          "2022-09-09",
          "2020-01-02",
          "2022-06-28",
          "2021-09-07",
          "2020-01-31",
          "2015-07-16",
          "2015-07-21",
          "2015-07-16",
          "2020-07-01",
          "2020-03-16",
          "2020-03-17",
          "2020-06-29",
          "2022-03-02",
          "2020-07-31",
          "2020-03-17",
          "2020-03-20",
          "2020-10-21",
          "2022-04-28",
          "2018-10-09",
          "2022-04-08",
          "2021-12-06",
          "2015-11-02",
          "2015-11-02",
          "2015-11-02",
          "2011-02-14",
          "2011-02-14",
          "2011-02-14",
          "2011-02-11",
          "2011-02-11",
          "2011-03-01",
          "2011-02-11",
          "2011-02-11",
          "2014-10-03",
          "2014-09-25",
          "2015-02-18",
          "2014-09-30",
          "2012-09-26",
          "2012-09-10",
          "2012-09-05",
          "2012-07-25",
          "2012-08-16",
          "2012-09-10",
          "2012-08-10",
          "2012-07-11",
          "2012-08-10",
          "2012-09-05",
          "2013-05-20",
          "2012-09-05",
          "2012-11-23",
          "2012-07-18",
          "2012-08-09",
          "2012-10-04",
          "2013-08-23",
          "2014-01-22",
          "2014-03-21",
          "2014-03-31",
          "2014-03-31",
          "2014-04-02",
          "2014-01-20",
          "2014-02-11",
          "2014-01-16",
          "2014-01-16",
          "2014-04-29",
          "2014-02-10",
          "2014-03-27",
          "2014-03-20",
          "2014-01-16",
          "2022-11-02",
          "2022-12-08",
          "2022-09-28",
          "2023-01-06",
          "2021-10-11",
          "2021-11-12",
          "2021-10-04",
          "2021-11-22",
          "2023-04-06",
          "2023-09-04",
          "2021-10-05",
          "2021-10-04",
          "2022-09-21",
          "2023-01-30",
          "2023-03-20",
          "2023-01-30",
          "2021-10-07",
          "2021-10-18",
          "2021-10-04",
          "2021-10-06",
          "2021-10-04",
          "2021-10-04",
          "2021-11-19",
          "2021-10-04",
          "2021-10-11",
          "2021-10-07",
          "2021-10-04",
          "2022-10-10",
          "2022-10-10",
          "2022-10-10",
          "2022-10-10",
          "2022-10-10",
          "2022-10-10",
          "2022-10-10",
          "2022-10-10",
          "2022-10-10",
          "2020-03-10",
          "2021-03-02",
          "2018-10-02",
          "2018-05-15",
          "2021-03-01",
          "2021-06-25",
          "2022-05-02",
          "2020-06-08",
          "2020-06-08",
          "2017-05-17",
          null,
          "2018-10-02",
          "2022-06-30",
          "2018-01-31",
          "2019-05-02",
          "2018-10-10",
          "2023-05-05",
          "2018-09-14",
          "2019-06-17",
          "2019-06-11",
          "2019-07-02",
          "2019-06-11",
          "2022-03-24",
          "2023-08-01",
          "2023-07-20",
          "2018-02-01",
          "2022-09-13",
          "2022-07-08",
          "2023-05-11",
          "2020-08-03",
          "2020-07-31",
          "2018-02-01",
          "2018-02-01",
          "2018-02-08",
          "2018-09-17",
          "2023-07-14",
          "2022-03-01",
          "2021-11-19",
          "2022-02-23",
          "2022-06-29",
          "2022-04-12",
          "2022-04-13",
          "2022-04-13",
          "2022-02-25",
          "2021-11-19",
          "2021-11-19",
          "2022-02-24",
          "2021-11-19",
          "2022-02-18",
          "2022-09-12",
          "2021-11-19",
          "2021-11-19",
          "2021-11-18",
          "2022-03-01",
          "2021-11-19",
          "2022-02-17",
          "2022-11-25",
          "2021-12-10",
          "2021-11-19",
          "2023-07-21",
          "2023-04-17",
          "2023-03-20",
          "2022-05-25",
          "2022-03-02",
          "2022-02-18",
          "2021-08-09",
          "2022-05-26",
          "2021-11-18",
          "2021-08-09",
          "2022-02-17",
          "2007-04-20",
          "2019-11-20",
          "2019-11-20",
          "2019-11-21",
          "2021-11-29",
          "2022-02-07",
          "2022-01-28",
          "2022-03-11",
          "2022-03-01",
          "2022-02-09",
          "2021-11-22",
          "2022-01-14",
          "2022-01-21",
          "2022-01-14",
          "2022-03-09",
          "2022-02-08",
          "2022-02-28",
          "2021-11-29",
          "2022-02-03",
          "2021-11-11",
          "2021-11-12",
          "2022-02-08",
          "2023-10-03",
          "2022-02-07",
          "2021-12-08",
          "2021-11-24",
          "2021-12-13",
          "2021-12-06",
          "2021-12-06",
          "2021-12-13",
          "2022-01-31",
          "2022-04-21",
          "2022-01-21",
          "2021-12-03",
          "2021-12-10",
          "2022-02-28",
          "2022-02-24",
          "2022-01-25",
          "2022-01-19",
          "2022-01-24",
          "2022-03-07",
          "2022-02-21",
          "2022-01-10",
          "2021-12-15",
          "2022-01-25",
          "2021-11-24",
          "2022-02-17",
          "2023-06-14",
          "2022-06-15",
          "2021-12-07",
          "2021-12-06",
          "2021-12-09",
          "2021-12-09",
          "2021-12-14",
          "2021-12-06",
          "2022-01-21",
          "2022-08-10",
          "2022-06-14",
          "2021-12-01",
          "2021-12-06",
          "2022-03-15",
          "2021-12-01",
          "2023-06-20",
          "2023-06-29",
          "2021-11-30",
          "2021-11-24",
          "2021-12-13",
          "2022-05-23",
          "2021-07-23",
          "2018-10-12",
          "2019-04-18",
          "2018-10-12",
          "2020-10-12",
          "2022-01-25",
          "2020-08-03",
          "2020-11-03",
          "2017-06-15",
          "2022-07-21",
          "2020-07-08",
          "2019-01-18",
          "2023-09-06",
          "2023-08-14",
          "2021-01-08",
          "2020-07-07",
          "2022-05-12",
          "2019-01-31",
          "2019-01-21",
          "2022-07-29",
          "2019-02-05",
          "2022-08-24",
          "2022-05-12",
          "2022-12-09",
          "2017-06-15",
          "2022-07-21",
          "2021-08-18",
          "2019-04-26",
          "2022-11-24",
          "2019-01-23",
          "2022-01-05",
          "2017-07-07",
          "2019-02-28",
          "2019-06-07",
          "2019-05-15",
          "2021-09-03",
          "2021-08-26",
          "2022-12-15",
          "2017-06-15",
          "2022-07-22",
          "2022-12-13",
          "2022-02-04",
          "2017-07-18",
          "2022-07-21",
          "2020-07-06",
          "2022-09-08",
          null,
          "2020-12-14",
          "2018-05-22",
          "2018-08-22",
          "2018-05-11",
          "2019-01-23",
          "2019-09-20",
          "2018-07-19",
          "2018-09-28",
          "2018-07-19",
          "2023-09-08",
          "2018-08-29",
          "2017-05-02",
          "2014-10-23",
          "2018-11-16",
          "2014-10-16",
          "2018-01-09",
          "2014-10-02",
          "2019-10-29",
          "2003-06-26",
          "2018-09-18",
          "2022-07-13",
          "2022-08-04",
          "2022-07-28",
          "2022-09-13",
          null,
          "2018-01-12",
          "2008-10-10",
          "2020-11-25",
          "2020-10-27",
          "2020-04-08",
          "2019-09-11",
          "2019-09-25",
          "2019-09-17",
          "2019-09-02",
          "2014-09-05",
          "2017-11-29",
          "2016-02-02",
          "2014-09-08",
          "2023-06-29",
          "2023-07-03",
          "2016-06-15",
          "2014-09-10",
          "2008-01-23",
          "2007-11-26",
          "2007-11-26",
          "2023-07-05",
          "2014-11-24",
          "2021-04-07",
          "2023-02-08",
          "2014-09-25",
          "2022-09-20",
          "2014-10-17",
          "2016-10-11",
          "2014-10-14",
          "2014-09-11",
          "2014-09-12",
          "2021-04-07",
          "2021-07-05",
          "2022-06-29",
          "2014-10-07",
          "2019-01-29",
          "2022-01-04",
          "2019-08-01",
          "2014-10-23",
          "2022-01-04",
          "2015-03-12",
          "2022-01-04",
          "2019-10-08",
          "2019-07-25",
          "2020-02-19",
          "2021-12-17",
          "2019-06-20",
          "2014-12-04",
          "2021-10-28",
          "2018-09-19",
          "2021-04-07",
          "2020-07-15",
          "2014-11-28",
          "2017-10-26",
          "2018-05-03",
          "2020-02-07",
          "2020-02-05",
          "2022-07-21",
          "2022-07-22",
          "2022-09-13",
          "2019-02-04",
          "2014-09-16",
          "2021-04-28",
          "2020-05-21",
          "2022-04-14",
          "2015-05-21",
          "2022-10-10",
          "2017-06-13",
          "2014-09-29",
          "2017-12-01",
          "2018-09-20",
          "2022-05-27",
          "2022-06-17",
          "2023-06-05",
          "2023-06-05",
          "2023-06-26",
          "2023-05-09",
          "2021-08-06",
          "2014-09-10",
          "2014-10-30",
          "2014-09-15",
          "2016-09-13",
          "2021-01-12",
          "2021-04-07",
          "2019-01-16",
          "2019-01-31",
          "2019-01-30",
          "2019-04-08",
          "2020-02-17",
          "2022-12-02",
          "2022-10-21",
          "2019-01-23",
          "2021-09-08",
          "2018-01-09",
          "2014-10-16",
          "2018-11-13",
          "2022-09-20",
          "2023-03-01",
          "2023-03-01",
          "2021-06-08",
          "2020-06-30",
          "2006-03-08",
          "2017-10-19",
          "2017-10-19",
          "2021-06-03",
          "2013-05-20",
          "2014-01-09",
          "2007-03-22",
          "2022-03-08",
          "2006-09-25",
          "2007-03-21",
          "2009-10-20",
          "2009-11-09",
          "2021-02-26",
          "2009-09-30",
          "2023-08-01",
          "2019-06-11",
          "2010-01-19",
          "2015-08-05",
          "2023-08-01",
          "2019-06-13",
          "2013-05-21",
          "2004-04-08",
          "2009-03-10",
          "2009-09-30",
          "2010-01-19",
          "2006-09-27",
          "2007-03-21",
          "2010-01-20",
          "2007-03-21",
          "2021-06-01",
          "2021-06-01",
          "2010-12-16",
          "2021-06-03",
          "2006-03-08",
          "2023-05-29",
          "2014-01-09",
          "2016-11-03",
          "2022-05-24",
          "2006-09-25",
          "2007-03-20",
          "2016-11-03",
          "2007-11-30",
          "2022-11-01",
          "2020-06-23",
          "2005-02-24",
          "2009-09-29",
          "2010-02-02",
          "2008-02-26",
          "2010-03-10",
          "2002-09-30",
          "2006-03-08",
          "2019-06-12",
          "2014-07-24",
          "2010-03-11",
          "2017-05-02",
          "2010-01-21",
          "2008-04-03",
          "2010-01-21",
          "2010-03-11",
          "2010-02-01",
          "2010-05-27",
          "2003-02-28",
          "2007-03-20",
          "2019-06-12",
          "2016-11-03",
          "2009-05-18",
          "2008-02-29",
          "2007-03-20",
          "2009-05-27",
          "2015-02-17",
          "2015-02-18",
          "2016-06-10",
          "2015-02-17",
          "2015-02-16",
          "2016-05-10",
          "2015-02-17",
          "2015-02-17",
          "2016-04-21",
          "2015-02-19",
          "2015-02-20",
          "2015-02-20",
          "2015-02-17",
          "2019-06-12",
          "2006-03-08",
          "2009-11-06",
          "2009-10-20",
          "2005-02-24",
          "2005-02-24",
          "2008-02-29",
          "2006-03-08",
          "2016-11-03",
          "2017-09-04",
          "2010-03-11",
          "2008-03-18",
          "2023-03-31",
          "2008-03-18",
          "2013-05-20",
          "2015-08-05",
          "2007-03-20",
          "2007-12-05",
          "2007-03-21",
          "2016-11-03",
          "2023-09-15",
          "2023-09-15",
          "2023-08-11",
          "2023-08-14",
          "2023-05-29",
          "2012-09-03",
          "2015-08-05",
          "2013-05-20",
          "2010-11-09",
          "2011-10-17",
          "2021-06-03",
          "2016-01-08",
          "2023-01-18",
          "2006-03-08",
          "2014-04-29",
          "2006-03-08",
          "2010-03-11",
          "2022-03-08",
          "2010-09-15",
          "2022-05-06",
          "2008-03-18",
          "2019-06-11",
          "2010-01-21",
          "2006-03-08",
          "2022-05-06",
          "2014-07-25",
          "2022-05-06",
          "2006-09-26",
          "2019-06-11",
          "2021-12-13",
          "2022-05-06",
          "2011-04-04",
          "2014-07-24",
          "2019-06-14",
          "2010-03-11",
          "2005-02-24",
          "2010-09-17",
          "2006-03-08",
          "2010-09-15",
          "2006-09-26",
          "2010-01-29",
          "2015-07-08",
          "2006-03-08",
          "2007-03-20",
          "2010-07-09",
          "2021-12-17",
          "2022-03-02",
          "2009-10-20",
          "2021-06-11",
          "2019-06-11",
          "2010-03-17",
          "2023-04-06",
          "2023-04-04",
          "2023-03-30",
          "2023-03-30",
          "2022-05-05",
          "2020-06-24",
          "2011-04-05",
          "2023-08-14",
          "2019-06-18",
          "2006-03-08",
          "2010-03-15",
          "2010-03-24",
          "2008-02-26",
          "2011-04-05",
          "2020-06-22",
          "2002-09-30",
          "2008-02-26",
          "2008-02-29",
          "2006-03-08",
          "2007-11-30",
          "2007-03-20",
          "2009-10-19",
          "2023-08-01",
          "2014-01-09",
          "2015-02-16",
          "2015-02-18",
          "2023-09-14",
          "2023-09-14",
          "2019-03-21",
          "2023-09-22",
          "2022-02-24",
          "2022-03-29",
          "2022-07-07",
          "2018-02-22",
          "2019-06-11",
          "2019-04-11",
          "2022-09-01",
          "2019-07-18",
          "2018-06-12",
          "2023-01-26",
          "2022-02-21",
          "2020-11-12",
          "2022-02-24",
          "2022-07-04",
          "2018-12-20",
          "2018-12-20",
          "2018-06-13",
          "2018-10-24",
          "2022-05-06",
          "2018-12-27",
          "2022-06-06",
          "2020-02-12",
          "2018-10-18",
          "2022-01-04",
          "2023-09-13",
          "2019-07-17",
          "2023-10-09",
          "2023-08-04",
          "2023-07-12",
          "2022-07-14",
          "2022-05-25",
          "2022-03-09",
          "2023-09-05",
          "2018-10-22",
          "2023-08-21",
          "2022-05-24",
          "2021-11-23",
          "2018-12-14",
          "2018-10-25",
          "2020-01-06",
          "2018-02-22",
          "2019-05-28",
          "2018-02-22",
          "2021-01-08",
          "2022-08-12",
          "2021-07-21",
          "2022-11-02",
          "2022-10-31",
          "2022-12-01",
          "2019-09-11",
          "2019-02-27",
          "2018-02-23",
          "2020-12-10",
          "2020-11-12",
          "2019-09-12",
          "2015-11-17",
          "2010-02-11",
          "2010-02-01",
          "2021-05-27",
          "2014-07-02",
          "2018-02-26",
          "2022-09-14",
          "2022-06-03",
          "2020-12-10",
          "2021-01-21",
          "2021-01-21",
          "2019-11-28",
          "2019-03-15",
          "2023-09-28",
          "2019-01-18",
          "2022-09-08",
          "2009-01-29",
          "2019-09-11",
          "2021-02-10",
          "2023-10-02",
          "2021-10-28",
          "2019-02-12",
          "2013-01-17",
          "2022-09-07",
          "2021-09-23",
          "2022-09-09",
          "2018-02-23",
          "2021-07-19",
          "2021-07-19",
          "2014-12-10",
          "2009-01-29",
          null,
          "2019-01-23",
          "2020-02-11",
          "2022-03-28",
          "2022-05-04",
          "2022-02-22",
          "2022-03-01",
          "2022-02-21",
          "2022-02-18",
          "2022-02-21",
          "2022-02-28",
          "2022-02-21",
          "2022-02-21",
          "2022-02-18",
          "2022-02-22",
          "2022-02-21",
          "2022-02-17",
          "2022-02-18",
          "2023-08-11",
          "2022-02-25",
          "2022-02-18",
          "2023-09-27",
          "2020-11-02",
          null,
          "2014-10-17",
          "2010-09-07",
          "2017-07-19",
          "2011-06-16",
          "2010-07-02",
          "2005-09-09",
          "2019-07-11",
          "2021-04-27",
          "2020-06-29",
          "2021-06-15",
          "2008-10-14",
          "2018-04-03",
          "2015-11-20",
          null,
          "2018-04-09",
          "2017-02-02",
          "2020-07-10",
          "2021-09-16",
          "2007-07-25",
          "2010-07-05",
          "2006-11-16",
          "2003-10-22",
          "2002-11-22",
          "2010-02-03",
          "2021-07-22",
          "2011-02-01",
          "2016-07-11",
          "2021-07-27",
          "2015-10-15",
          "2021-07-27",
          "2017-02-09",
          "2016-12-08",
          "2017-09-12",
          null,
          "2004-04-27",
          "2020-03-03",
          "2004-07-07",
          "2006-02-09",
          "2016-07-22",
          "2004-07-07",
          "2016-07-22",
          "2016-07-22",
          "2021-07-22",
          "2007-10-18",
          "2002-09-30",
          "2012-11-27",
          "2009-02-04",
          "2007-09-28",
          "2014-09-04",
          "2017-09-08",
          "2017-09-08",
          "2012-03-07",
          "2012-03-08",
          "2016-07-22",
          "2015-07-03",
          "2008-05-09",
          "2010-03-08",
          "2017-05-24",
          "2014-05-15",
          "2021-06-01",
          "2003-11-14",
          "2008-02-11",
          "2008-02-11",
          "2008-02-11",
          "2022-05-31",
          "2020-03-03",
          "2020-04-14",
          "2019-07-03",
          "2020-11-20",
          "2011-02-02",
          "2017-02-13",
          "2018-12-18",
          "2006-04-06",
          "2013-06-28",
          "2008-11-06",
          "2006-09-07",
          "2012-01-16",
          "2007-04-13",
          "2016-01-27",
          "2006-12-14",
          "2005-11-25",
          "2019-10-28",
          "2020-05-04",
          "2005-11-25",
          "2018-04-18",
          "2019-09-19",
          "2007-10-08",
          "2015-11-19",
          "2017-09-08",
          "2017-09-08",
          "2017-09-11",
          "2020-11-12",
          "2006-04-21",
          "2019-03-28",
          "2021-06-15",
          "2020-05-06",
          "2007-04-13",
          "2007-01-24",
          "2012-01-24",
          "2006-12-14",
          "2020-04-30",
          "2021-05-27",
          "2008-01-14",
          "2020-05-04",
          "2006-11-20",
          "2006-09-14",
          "2020-11-13",
          "2018-09-17",
          "2021-05-27",
          "2008-01-14",
          "2020-10-01",
          "2021-06-08",
          "2010-10-01",
          "2020-11-10",
          "2018-09-17",
          "2010-09-24",
          "2021-07-07",
          "2006-09-07",
          "2020-01-16",
          "2021-01-19",
          "2002-11-22",
          "2021-02-18",
          "2020-11-02",
          "2020-11-02",
          "2020-11-02",
          "2016-02-26",
          "2016-01-27",
          "2020-12-01",
          "2013-10-31",
          "2010-05-31",
          "2013-02-06",
          "2015-06-15",
          "2016-02-08",
          "2006-11-22",
          "2006-11-22",
          "2006-11-22",
          "2006-11-22",
          "2006-11-22",
          "2006-11-22",
          "2006-11-22",
          "2006-11-22",
          "2006-11-22",
          "2006-11-22",
          "2006-11-22",
          "2006-11-22",
          "2006-11-22",
          "2006-11-22",
          "2006-11-22",
          "2006-11-22",
          "2006-11-22",
          "2007-02-02",
          "2010-10-04",
          "2019-09-17",
          "2021-08-25",
          "2017-05-15",
          "2017-02-01",
          "2022-02-07",
          "2022-06-08",
          "2022-12-08",
          "2019-02-12",
          "2023-08-21",
          "2011-07-06",
          "2020-10-22",
          "2021-08-30",
          "2015-09-09",
          "2015-02-27",
          "2011-10-10",
          "2019-06-18",
          "2020-04-28",
          "2023-02-01",
          "2016-10-06",
          "2016-09-26",
          "2014-09-05",
          "2017-11-20",
          "2014-11-27",
          "2016-09-26",
          "2014-09-10",
          "2015-04-17",
          "2021-06-21",
          "2020-02-25",
          "2021-12-02",
          "2020-09-03",
          "2022-04-27",
          "2021-08-05",
          "2022-04-27",
          "2020-09-03",
          "2020-10-12",
          "2022-10-05",
          "2022-03-18",
          "2022-12-02",
          "2023-01-17",
          "2022-03-10",
          "2022-04-04",
          "2022-04-26",
          "2022-11-23",
          "2022-05-02",
          "2022-03-15",
          "2022-04-08",
          "2022-06-08",
          "2022-10-25",
          "2022-04-01",
          "2022-03-21",
          "2022-10-27",
          "2022-10-06",
          "2022-11-01",
          "2022-03-23",
          "2022-03-25",
          "2022-07-20",
          "2022-12-29",
          "2022-08-05",
          "2022-03-08",
          "2014-10-24",
          "2014-10-20",
          "2014-10-27",
          "2014-10-27",
          "2014-10-20",
          "2014-10-20",
          "2014-10-20",
          "2014-11-05",
          "2022-11-22",
          null,
          "2023-03-16",
          "2022-10-07",
          "2022-02-16",
          "2022-12-20",
          "2022-04-11",
          "2022-03-30",
          "2022-06-14",
          "2022-10-06",
          "2022-09-30",
          "2022-10-13",
          "2022-04-07",
          "2022-03-16",
          "2022-10-13",
          "2022-10-04",
          "2022-10-05",
          "2022-10-03",
          "2022-03-21",
          "2017-05-25",
          null,
          "2021-06-21",
          "2022-06-07",
          "2022-07-28",
          "2014-01-27",
          "2014-01-27",
          "2017-02-17",
          "2017-01-26",
          "2017-01-24",
          "2017-01-24",
          "2012-05-21",
          "2016-09-06",
          "2017-05-29",
          "2017-04-07",
          "2017-04-07",
          "2021-11-15",
          "2019-11-26",
          "2022-05-12",
          "2012-04-12",
          "2022-05-12",
          "2012-04-19",
          "2021-03-30",
          "2012-05-22",
          "2012-04-12",
          "2018-02-20",
          "2018-02-20",
          null,
          "2014-01-31",
          "2023-03-28",
          "2021-06-16",
          "2022-04-05",
          "2016-03-01",
          "2016-03-04",
          "2013-05-03",
          "2014-12-10",
          "2019-06-20",
          "2016-02-29",
          "2022-05-17",
          "2022-06-17",
          "2012-04-12",
          "2019-01-30",
          "2019-10-02",
          "2012-04-17",
          "2022-08-19",
          "2012-04-26",
          "2013-05-06",
          "2022-06-17",
          null,
          "2015-01-08",
          "2014-12-19",
          "2014-12-22",
          "2014-12-12",
          "2014-12-11",
          "2014-12-10",
          "2014-12-16",
          "2015-01-23",
          "2014-12-16",
          "2015-01-05",
          "2014-12-15",
          "2014-12-23",
          "2016-02-29",
          "2022-04-07",
          "2022-05-09",
          "2019-02-25",
          "2019-02-19",
          "2019-02-05",
          "2019-02-22",
          "2023-07-26",
          "2019-03-05",
          "2018-05-30",
          "2015-04-23",
          "2015-02-03",
          "2014-02-03",
          "2019-12-05",
          "2013-05-03",
          "2012-04-12",
          "2018-11-15",
          "2012-04-12",
          "2012-04-13",
          "2014-01-27",
          "2014-01-28",
          "2018-09-05",
          "2016-04-22",
          "2016-03-01",
          "2020-04-21",
          "2021-06-22",
          "2012-04-12",
          "2016-02-24",
          "2016-03-02",
          "2016-02-24",
          "2016-06-08",
          "2016-04-11",
          "2016-03-31",
          "2016-03-16",
          "2019-10-02",
          "2023-03-31",
          "2022-05-12",
          "2022-03-01",
          "2021-12-14",
          "2022-01-13",
          "2020-10-27",
          "2021-06-21",
          "2022-03-10",
          "2022-07-12",
          "2022-03-23",
          null,
          "2022-03-18",
          "2022-03-08",
          "2022-03-11",
          "2020-08-19",
          "2019-10-23",
          "2018-03-08",
          "2020-02-03",
          "2019-01-14",
          "2018-07-20",
          "2013-12-02",
          "2018-04-27",
          "2017-07-12",
          "2019-01-23",
          "2013-05-24",
          "2013-03-18",
          "2021-09-20",
          "2021-09-14",
          "2021-03-25",
          "2021-03-25",
          "2019-04-18",
          "2019-05-02",
          "2013-02-05",
          "2014-10-02",
          "2021-09-30",
          "2013-03-05",
          "2013-02-22",
          "2019-09-26",
          "2015-10-26",
          "2020-05-04",
          "2018-03-06",
          "2017-11-23",
          "2019-08-20",
          "2019-08-20",
          "2019-12-30",
          "2016-09-19",
          "2018-07-27",
          "2013-01-22",
          "2010-11-11",
          "2021-05-03",
          "2022-06-29",
          "2017-07-11",
          "2017-01-17",
          "2020-09-25",
          "2010-07-30",
          "2013-03-19",
          "2020-10-21",
          "2019-09-05",
          "2013-03-15",
          "2021-04-06",
          "2021-04-06",
          "2019-05-30",
          "2019-01-29",
          "2023-07-06",
          null,
          "2018-09-07",
          "2010-07-21",
          "2013-02-18",
          "2017-02-28",
          "2019-09-06",
          "2018-04-27",
          "2023-07-07",
          "2020-05-05",
          "2018-07-10",
          "2020-09-28",
          "2020-06-26",
          "2013-01-23",
          "2020-04-15",
          "2016-11-10",
          "2016-11-10",
          "2016-12-13",
          "2020-09-09",
          "2019-10-15",
          "2020-04-20",
          "2019-01-29",
          "2010-06-07",
          "2019-08-22",
          "2019-01-11",
          "2013-02-12",
          "2010-07-28",
          "2010-07-26",
          "2019-03-04",
          "2010-06-29",
          "2020-09-22",
          "2010-06-08",
          "2010-10-04",
          "2013-09-16",
          "2013-09-18",
          "2022-04-19",
          "2022-04-20",
          "2016-11-10",
          "2017-12-01",
          "2017-11-29",
          "2017-02-17",
          "2015-01-14",
          "2015-04-28",
          "2014-01-14",
          "2015-01-14",
          "2014-06-20",
          "2016-02-18",
          "2016-05-13",
          "2016-02-16",
          "2014-07-03",
          "2015-09-01",
          "2016-09-15",
          "2015-10-05",
          "2015-10-05",
          "2016-09-14",
          "2013-12-09",
          "2019-01-11",
          "2019-09-30",
          "2013-03-15",
          "2016-10-19",
          "2023-07-06",
          "2021-09-30",
          "2022-02-24",
          "2023-01-19",
          null,
          "2016-04-26",
          "2015-10-05",
          "2016-02-10",
          "2015-10-23",
          "2015-10-05",
          "2021-09-07",
          "2021-08-23",
          "2018-01-15",
          "2021-08-10",
          "2021-04-28",
          "2021-04-28",
          "2021-05-11",
          null,
          "2023-01-17",
          "2022-09-02",
          "2021-04-29",
          "2020-06-30",
          "2020-10-02",
          "2020-06-25",
          "2020-07-14",
          "2021-04-27",
          "2023-08-01",
          "2021-04-01",
          "2013-05-28",
          "2015-04-14",
          "2013-05-24",
          "2017-02-27",
          "2018-11-14",
          "2021-03-08",
          "2013-01-22",
          "2021-06-30",
          "2023-02-02",
          "2023-02-01",
          "2021-05-21",
          "2023-05-17",
          "2018-05-29",
          "2022-10-07",
          "2018-05-28",
          "2018-05-24",
          "2019-04-16",
          "2017-05-24",
          "2021-03-31",
          "2019-05-10",
          "2019-04-24",
          "2019-04-25",
          "2017-05-29",
          "2017-05-23",
          "2020-09-15",
          "2017-05-23",
          "2019-04-23",
          "2021-10-04",
          "2023-05-26",
          "2021-10-04",
          "2020-12-03",
          "2021-11-25",
          "2022-09-13",
          "2022-09-08",
          "2019-05-03",
          "2019-04-17",
          "2023-04-24",
          "2022-09-09",
          "2019-09-10",
          "2022-09-08",
          "2022-09-07",
          "2022-08-23",
          "2022-08-25",
          "2022-10-20",
          "2022-11-07",
          "2022-10-20",
          "2022-10-31",
          "2022-11-29",
          "2022-11-21",
          "2021-04-13",
          "2021-04-13",
          "2021-05-25",
          "2021-05-25",
          "2022-08-23",
          "2022-08-25",
          "2022-11-28",
          "2022-11-29",
          "2022-11-21",
          "2020-01-14",
          "2019-01-18",
          "2020-01-14",
          "2019-01-18",
          "2019-01-21",
          "2023-08-02",
          "2020-01-14",
          "2019-01-18",
          "2020-01-31",
          "2019-01-21",
          "2020-01-16",
          "2019-01-21",
          "2019-01-24",
          "2020-01-20",
          "2020-01-15",
          "2019-01-21",
          "2021-07-19",
          "2020-01-23",
          "2019-01-21",
          "2021-06-23",
          "2020-01-14",
          "2020-12-10",
          "2020-12-11",
          "2020-12-10",
          "2020-12-10",
          "2020-12-10",
          "2020-12-10",
          "2020-12-10",
          "2020-12-10",
          "2020-01-16",
          "2019-01-18",
          "2023-06-22",
          "2020-01-14",
          "2019-01-18",
          "2021-06-10",
          "2020-01-14",
          "2019-01-18",
          "2020-01-16",
          "2019-01-18",
          "2020-01-14",
          "2019-01-18",
          "2021-06-11",
          "2019-01-18",
          "2012-01-04",
          "2009-05-26",
          "2007-04-20",
          "2009-05-26",
          "2009-05-26",
          "2018-12-11",
          "2018-09-11",
          "2018-06-07",
          "2022-04-22",
          "2020-03-04",
          "2022-01-17",
          "2022-09-27",
          "2015-04-23",
          "2015-04-15",
          "2012-09-24",
          "2012-09-26",
          "2020-12-18",
          "2015-10-19",
          "2009-05-26",
          "2007-04-20",
          "2022-01-14",
          "2015-01-13",
          "2014-08-04",
          "2015-01-26",
          "2014-08-05",
          "2017-12-13",
          "2023-04-20",
          "2021-09-02",
          "2019-10-07",
          "2012-01-04",
          "2012-01-05",
          "2012-01-06",
          "2007-04-20",
          "2007-04-20",
          "2009-05-26",
          "2007-04-20",
          "2007-04-20",
          "2007-04-20",
          "2007-04-23",
          "2007-04-20",
          "2007-04-20",
          "2007-04-20",
          "2007-04-20",
          "2009-05-26",
          "2014-07-29",
          "2019-09-17",
          "2021-02-15",
          "2012-01-09",
          "2021-01-29",
          "2012-11-14",
          "2009-05-26",
          "2009-05-26",
          "2013-11-12",
          "2013-11-15",
          "2021-08-24",
          "2015-01-20",
          "2016-12-29",
          "2015-01-20",
          "2016-03-21",
          "2016-04-21",
          "2019-03-01",
          "2007-04-20",
          "2022-04-21",
          "2018-09-24",
          "2016-06-10",
          "2013-11-04",
          "2013-11-15",
          "2022-03-08",
          "2014-12-12",
          "2023-08-21",
          "2015-01-21",
          "2017-01-06",
          "2015-11-09",
          "2015-05-22",
          "2015-01-20",
          "2017-01-06",
          "2016-07-21",
          "2013-11-07",
          "2013-11-04",
          "2016-11-28",
          "2022-03-04",
          "2007-04-23",
          "2022-10-17",
          "2023-05-09",
          "2016-07-11",
          "2013-12-12",
          "2013-12-20",
          "2009-05-26",
          "2007-04-20",
          "2019-03-01",
          "2007-04-20",
          "2012-01-04",
          "2015-11-12",
          "2016-02-26",
          "2015-05-26",
          "2012-01-04",
          "2007-04-20",
          "2007-04-20",
          "2014-02-28",
          "2014-02-25",
          "2009-05-26",
          "2013-11-04",
          "2013-11-04",
          "2007-04-20",
          "2009-05-26",
          "2022-02-11",
          "2022-02-11",
          "2012-01-04",
          "2012-01-05",
          "2014-08-04",
          "2014-07-28",
          "2012-01-11",
          "2007-06-26",
          "2007-06-22",
          "2007-06-21",
          "2007-06-21",
          "2007-07-04",
          "2012-05-14",
          "2009-05-26",
          "2007-04-20",
          "2022-04-29",
          "2023-06-19",
          "2014-02-28",
          "2014-02-27",
          "2022-03-07",
          "2016-03-17",
          "2009-05-26",
          "2009-05-26",
          "2013-11-29",
          "2013-11-29",
          "2007-04-20",
          "2007-04-20",
          "2022-03-03",
          "2022-03-10",
          "2022-03-16",
          "2022-04-05",
          "2012-01-12",
          "2007-04-20",
          "2012-01-04",
          "2015-01-22",
          "2016-12-12",
          "2016-12-01",
          "2016-06-22",
          "2023-09-06",
          "2015-01-12",
          "2014-08-01",
          "2017-12-13",
          "2022-05-02",
          "2007-04-20",
          "2009-05-26",
          "2020-12-18",
          "2020-12-21",
          "2007-04-23",
          "2007-04-20",
          "2017-10-12",
          "2020-08-04",
          "2021-05-17",
          "2009-02-18",
          "2012-08-13",
          "2014-07-31",
          "2023-01-17",
          "2022-03-29",
          "2022-08-17",
          "2017-10-02",
          "2016-09-01",
          "2022-08-03",
          "2021-09-08",
          "2007-07-18",
          "2009-02-18",
          "2007-02-15",
          "2007-07-19",
          "2022-09-28",
          "2022-11-17",
          "2022-12-05",
          "2007-07-18",
          "2010-07-29",
          "2007-02-15",
          "2008-03-17",
          "2021-05-19",
          "2014-02-11",
          "2022-05-11",
          "2016-09-01",
          "2020-09-23",
          "2020-08-06",
          "2020-09-09",
          "2020-08-06",
          "2013-10-24",
          "2022-08-16",
          "2014-04-15",
          "2014-04-16",
          "2022-02-16",
          "2022-02-28",
          "2018-07-17",
          "2010-06-25",
          "2015-05-22",
          "2015-05-27",
          "2007-11-07",
          "2020-11-11",
          "2007-11-07",
          "2007-11-26",
          "2007-11-13",
          "2007-11-27",
          "2007-11-21",
          "2007-12-17",
          "2007-11-13",
          "2007-11-06",
          "2008-01-30",
          "2009-02-17",
          "2012-02-06",
          "2007-11-09",
          "2017-10-11",
          "2013-10-30",
          "2013-10-30",
          "2015-09-14",
          "2013-10-25",
          "2011-01-28",
          "2012-02-22",
          "2008-10-31",
          "2023-06-02",
          "2013-12-20",
          "2017-03-21",
          "2008-06-30",
          "2018-06-29",
          "2008-01-30",
          "2022-10-31",
          "2022-09-29",
          "2008-03-17",
          "2009-02-17",
          "2022-07-12",
          "2014-07-25",
          "2007-07-18",
          "2010-07-28",
          "2022-07-29",
          "2018-05-08",
          "2022-05-13",
          "2007-07-20",
          "2022-02-18",
          "2007-07-18",
          "2020-10-09",
          "2007-07-18",
          "2017-10-03",
          "2017-03-30",
          "2021-02-10",
          "2013-01-18",
          "2022-02-08",
          "2018-07-10",
          "2008-03-18",
          "2007-02-19",
          "2022-08-16",
          "2022-08-03",
          "2023-03-21",
          "2023-04-18",
          "2023-03-02",
          "2023-03-17",
          "2023-04-28",
          "2023-03-02",
          "2023-03-23",
          "2011-01-26",
          "2022-08-03",
          "2022-01-18",
          "2018-07-10",
          "2007-02-15",
          "2012-07-06",
          "2022-03-01",
          "2007-09-19",
          "2010-07-28",
          "2022-08-03",
          "2009-02-17",
          "2015-04-14",
          "2022-03-03",
          "2018-07-31",
          "2022-05-09",
          "2020-10-09",
          "2007-02-15",
          "2014-09-22",
          "2020-11-05",
          "2016-04-21",
          "2015-09-09",
          "2016-04-04",
          "2016-04-06",
          "2022-01-13",
          "2018-07-30",
          "2020-10-12",
          "2016-04-21",
          "2016-04-04",
          "2016-03-30",
          "2016-04-04",
          "2016-05-13",
          "2015-09-25",
          "2015-11-06",
          "2007-02-15",
          "2016-03-04",
          "2015-10-05",
          "2016-05-03",
          "2015-09-17",
          "2016-04-29",
          "2021-02-17",
          "2007-07-30",
          "2013-02-28",
          "2010-10-18",
          "2010-10-14",
          "2010-10-15",
          "2010-10-20",
          "2010-10-14",
          "2015-09-09",
          "2015-09-09",
          "2015-04-14",
          "2010-04-29",
          "2010-05-03",
          "2023-06-13",
          "2021-05-17",
          "2021-11-19",
          "2023-02-07",
          "2008-03-14",
          "2010-07-30",
          "2022-08-01",
          "2021-11-11",
          "2015-04-15",
          "2022-07-20",
          "2008-03-17",
          "2008-03-19",
          "2008-03-14",
          "2023-01-17",
          "2007-09-18",
          "2009-02-17",
          "2007-07-18",
          "2007-02-15",
          "2022-11-16",
          "2020-10-15",
          "2022-09-28",
          "2018-04-27",
          "2020-10-16",
          "2016-02-22",
          "2016-09-01",
          "2021-09-08",
          "2018-04-27",
          "2022-03-25"
         ],
         "xaxis": "x",
         "yaxis": "y"
        }
       ],
       "layout": {
        "barmode": "relative",
        "legend": {
         "tracegroupgap": 0
        },
        "margin": {
         "t": 60
        },
        "template": {
         "data": {
          "bar": [
           {
            "error_x": {
             "color": "#2a3f5f"
            },
            "error_y": {
             "color": "#2a3f5f"
            },
            "marker": {
             "line": {
              "color": "#E5ECF6",
              "width": 0.5
             },
             "pattern": {
              "fillmode": "overlay",
              "size": 10,
              "solidity": 0.2
             }
            },
            "type": "bar"
           }
          ],
          "barpolar": [
           {
            "marker": {
             "line": {
              "color": "#E5ECF6",
              "width": 0.5
             },
             "pattern": {
              "fillmode": "overlay",
              "size": 10,
              "solidity": 0.2
             }
            },
            "type": "barpolar"
           }
          ],
          "carpet": [
           {
            "aaxis": {
             "endlinecolor": "#2a3f5f",
             "gridcolor": "white",
             "linecolor": "white",
             "minorgridcolor": "white",
             "startlinecolor": "#2a3f5f"
            },
            "baxis": {
             "endlinecolor": "#2a3f5f",
             "gridcolor": "white",
             "linecolor": "white",
             "minorgridcolor": "white",
             "startlinecolor": "#2a3f5f"
            },
            "type": "carpet"
           }
          ],
          "choropleth": [
           {
            "colorbar": {
             "outlinewidth": 0,
             "ticks": ""
            },
            "type": "choropleth"
           }
          ],
          "contour": [
           {
            "colorbar": {
             "outlinewidth": 0,
             "ticks": ""
            },
            "colorscale": [
             [
              0,
              "#0d0887"
             ],
             [
              0.1111111111111111,
              "#46039f"
             ],
             [
              0.2222222222222222,
              "#7201a8"
             ],
             [
              0.3333333333333333,
              "#9c179e"
             ],
             [
              0.4444444444444444,
              "#bd3786"
             ],
             [
              0.5555555555555556,
              "#d8576b"
             ],
             [
              0.6666666666666666,
              "#ed7953"
             ],
             [
              0.7777777777777778,
              "#fb9f3a"
             ],
             [
              0.8888888888888888,
              "#fdca26"
             ],
             [
              1,
              "#f0f921"
             ]
            ],
            "type": "contour"
           }
          ],
          "contourcarpet": [
           {
            "colorbar": {
             "outlinewidth": 0,
             "ticks": ""
            },
            "type": "contourcarpet"
           }
          ],
          "heatmap": [
           {
            "colorbar": {
             "outlinewidth": 0,
             "ticks": ""
            },
            "colorscale": [
             [
              0,
              "#0d0887"
             ],
             [
              0.1111111111111111,
              "#46039f"
             ],
             [
              0.2222222222222222,
              "#7201a8"
             ],
             [
              0.3333333333333333,
              "#9c179e"
             ],
             [
              0.4444444444444444,
              "#bd3786"
             ],
             [
              0.5555555555555556,
              "#d8576b"
             ],
             [
              0.6666666666666666,
              "#ed7953"
             ],
             [
              0.7777777777777778,
              "#fb9f3a"
             ],
             [
              0.8888888888888888,
              "#fdca26"
             ],
             [
              1,
              "#f0f921"
             ]
            ],
            "type": "heatmap"
           }
          ],
          "heatmapgl": [
           {
            "colorbar": {
             "outlinewidth": 0,
             "ticks": ""
            },
            "colorscale": [
             [
              0,
              "#0d0887"
             ],
             [
              0.1111111111111111,
              "#46039f"
             ],
             [
              0.2222222222222222,
              "#7201a8"
             ],
             [
              0.3333333333333333,
              "#9c179e"
             ],
             [
              0.4444444444444444,
              "#bd3786"
             ],
             [
              0.5555555555555556,
              "#d8576b"
             ],
             [
              0.6666666666666666,
              "#ed7953"
             ],
             [
              0.7777777777777778,
              "#fb9f3a"
             ],
             [
              0.8888888888888888,
              "#fdca26"
             ],
             [
              1,
              "#f0f921"
             ]
            ],
            "type": "heatmapgl"
           }
          ],
          "histogram": [
           {
            "marker": {
             "pattern": {
              "fillmode": "overlay",
              "size": 10,
              "solidity": 0.2
             }
            },
            "type": "histogram"
           }
          ],
          "histogram2d": [
           {
            "colorbar": {
             "outlinewidth": 0,
             "ticks": ""
            },
            "colorscale": [
             [
              0,
              "#0d0887"
             ],
             [
              0.1111111111111111,
              "#46039f"
             ],
             [
              0.2222222222222222,
              "#7201a8"
             ],
             [
              0.3333333333333333,
              "#9c179e"
             ],
             [
              0.4444444444444444,
              "#bd3786"
             ],
             [
              0.5555555555555556,
              "#d8576b"
             ],
             [
              0.6666666666666666,
              "#ed7953"
             ],
             [
              0.7777777777777778,
              "#fb9f3a"
             ],
             [
              0.8888888888888888,
              "#fdca26"
             ],
             [
              1,
              "#f0f921"
             ]
            ],
            "type": "histogram2d"
           }
          ],
          "histogram2dcontour": [
           {
            "colorbar": {
             "outlinewidth": 0,
             "ticks": ""
            },
            "colorscale": [
             [
              0,
              "#0d0887"
             ],
             [
              0.1111111111111111,
              "#46039f"
             ],
             [
              0.2222222222222222,
              "#7201a8"
             ],
             [
              0.3333333333333333,
              "#9c179e"
             ],
             [
              0.4444444444444444,
              "#bd3786"
             ],
             [
              0.5555555555555556,
              "#d8576b"
             ],
             [
              0.6666666666666666,
              "#ed7953"
             ],
             [
              0.7777777777777778,
              "#fb9f3a"
             ],
             [
              0.8888888888888888,
              "#fdca26"
             ],
             [
              1,
              "#f0f921"
             ]
            ],
            "type": "histogram2dcontour"
           }
          ],
          "mesh3d": [
           {
            "colorbar": {
             "outlinewidth": 0,
             "ticks": ""
            },
            "type": "mesh3d"
           }
          ],
          "parcoords": [
           {
            "line": {
             "colorbar": {
              "outlinewidth": 0,
              "ticks": ""
             }
            },
            "type": "parcoords"
           }
          ],
          "pie": [
           {
            "automargin": true,
            "type": "pie"
           }
          ],
          "scatter": [
           {
            "fillpattern": {
             "fillmode": "overlay",
             "size": 10,
             "solidity": 0.2
            },
            "type": "scatter"
           }
          ],
          "scatter3d": [
           {
            "line": {
             "colorbar": {
              "outlinewidth": 0,
              "ticks": ""
             }
            },
            "marker": {
             "colorbar": {
              "outlinewidth": 0,
              "ticks": ""
             }
            },
            "type": "scatter3d"
           }
          ],
          "scattercarpet": [
           {
            "marker": {
             "colorbar": {
              "outlinewidth": 0,
              "ticks": ""
             }
            },
            "type": "scattercarpet"
           }
          ],
          "scattergeo": [
           {
            "marker": {
             "colorbar": {
              "outlinewidth": 0,
              "ticks": ""
             }
            },
            "type": "scattergeo"
           }
          ],
          "scattergl": [
           {
            "marker": {
             "colorbar": {
              "outlinewidth": 0,
              "ticks": ""
             }
            },
            "type": "scattergl"
           }
          ],
          "scattermapbox": [
           {
            "marker": {
             "colorbar": {
              "outlinewidth": 0,
              "ticks": ""
             }
            },
            "type": "scattermapbox"
           }
          ],
          "scatterpolar": [
           {
            "marker": {
             "colorbar": {
              "outlinewidth": 0,
              "ticks": ""
             }
            },
            "type": "scatterpolar"
           }
          ],
          "scatterpolargl": [
           {
            "marker": {
             "colorbar": {
              "outlinewidth": 0,
              "ticks": ""
             }
            },
            "type": "scatterpolargl"
           }
          ],
          "scatterternary": [
           {
            "marker": {
             "colorbar": {
              "outlinewidth": 0,
              "ticks": ""
             }
            },
            "type": "scatterternary"
           }
          ],
          "surface": [
           {
            "colorbar": {
             "outlinewidth": 0,
             "ticks": ""
            },
            "colorscale": [
             [
              0,
              "#0d0887"
             ],
             [
              0.1111111111111111,
              "#46039f"
             ],
             [
              0.2222222222222222,
              "#7201a8"
             ],
             [
              0.3333333333333333,
              "#9c179e"
             ],
             [
              0.4444444444444444,
              "#bd3786"
             ],
             [
              0.5555555555555556,
              "#d8576b"
             ],
             [
              0.6666666666666666,
              "#ed7953"
             ],
             [
              0.7777777777777778,
              "#fb9f3a"
             ],
             [
              0.8888888888888888,
              "#fdca26"
             ],
             [
              1,
              "#f0f921"
             ]
            ],
            "type": "surface"
           }
          ],
          "table": [
           {
            "cells": {
             "fill": {
              "color": "#EBF0F8"
             },
             "line": {
              "color": "white"
             }
            },
            "header": {
             "fill": {
              "color": "#C8D4E3"
             },
             "line": {
              "color": "white"
             }
            },
            "type": "table"
           }
          ]
         },
         "layout": {
          "annotationdefaults": {
           "arrowcolor": "#2a3f5f",
           "arrowhead": 0,
           "arrowwidth": 1
          },
          "autotypenumbers": "strict",
          "coloraxis": {
           "colorbar": {
            "outlinewidth": 0,
            "ticks": ""
           }
          },
          "colorscale": {
           "diverging": [
            [
             0,
             "#8e0152"
            ],
            [
             0.1,
             "#c51b7d"
            ],
            [
             0.2,
             "#de77ae"
            ],
            [
             0.3,
             "#f1b6da"
            ],
            [
             0.4,
             "#fde0ef"
            ],
            [
             0.5,
             "#f7f7f7"
            ],
            [
             0.6,
             "#e6f5d0"
            ],
            [
             0.7,
             "#b8e186"
            ],
            [
             0.8,
             "#7fbc41"
            ],
            [
             0.9,
             "#4d9221"
            ],
            [
             1,
             "#276419"
            ]
           ],
           "sequential": [
            [
             0,
             "#0d0887"
            ],
            [
             0.1111111111111111,
             "#46039f"
            ],
            [
             0.2222222222222222,
             "#7201a8"
            ],
            [
             0.3333333333333333,
             "#9c179e"
            ],
            [
             0.4444444444444444,
             "#bd3786"
            ],
            [
             0.5555555555555556,
             "#d8576b"
            ],
            [
             0.6666666666666666,
             "#ed7953"
            ],
            [
             0.7777777777777778,
             "#fb9f3a"
            ],
            [
             0.8888888888888888,
             "#fdca26"
            ],
            [
             1,
             "#f0f921"
            ]
           ],
           "sequentialminus": [
            [
             0,
             "#0d0887"
            ],
            [
             0.1111111111111111,
             "#46039f"
            ],
            [
             0.2222222222222222,
             "#7201a8"
            ],
            [
             0.3333333333333333,
             "#9c179e"
            ],
            [
             0.4444444444444444,
             "#bd3786"
            ],
            [
             0.5555555555555556,
             "#d8576b"
            ],
            [
             0.6666666666666666,
             "#ed7953"
            ],
            [
             0.7777777777777778,
             "#fb9f3a"
            ],
            [
             0.8888888888888888,
             "#fdca26"
            ],
            [
             1,
             "#f0f921"
            ]
           ]
          },
          "colorway": [
           "#636efa",
           "#EF553B",
           "#00cc96",
           "#ab63fa",
           "#FFA15A",
           "#19d3f3",
           "#FF6692",
           "#B6E880",
           "#FF97FF",
           "#FECB52"
          ],
          "font": {
           "color": "#2a3f5f"
          },
          "geo": {
           "bgcolor": "white",
           "lakecolor": "white",
           "landcolor": "#E5ECF6",
           "showlakes": true,
           "showland": true,
           "subunitcolor": "white"
          },
          "hoverlabel": {
           "align": "left"
          },
          "hovermode": "closest",
          "mapbox": {
           "style": "light"
          },
          "paper_bgcolor": "white",
          "plot_bgcolor": "#E5ECF6",
          "polar": {
           "angularaxis": {
            "gridcolor": "white",
            "linecolor": "white",
            "ticks": ""
           },
           "bgcolor": "#E5ECF6",
           "radialaxis": {
            "gridcolor": "white",
            "linecolor": "white",
            "ticks": ""
           }
          },
          "scene": {
           "xaxis": {
            "backgroundcolor": "#E5ECF6",
            "gridcolor": "white",
            "gridwidth": 2,
            "linecolor": "white",
            "showbackground": true,
            "ticks": "",
            "zerolinecolor": "white"
           },
           "yaxis": {
            "backgroundcolor": "#E5ECF6",
            "gridcolor": "white",
            "gridwidth": 2,
            "linecolor": "white",
            "showbackground": true,
            "ticks": "",
            "zerolinecolor": "white"
           },
           "zaxis": {
            "backgroundcolor": "#E5ECF6",
            "gridcolor": "white",
            "gridwidth": 2,
            "linecolor": "white",
            "showbackground": true,
            "ticks": "",
            "zerolinecolor": "white"
           }
          },
          "shapedefaults": {
           "line": {
            "color": "#2a3f5f"
           }
          },
          "ternary": {
           "aaxis": {
            "gridcolor": "white",
            "linecolor": "white",
            "ticks": ""
           },
           "baxis": {
            "gridcolor": "white",
            "linecolor": "white",
            "ticks": ""
           },
           "bgcolor": "#E5ECF6",
           "caxis": {
            "gridcolor": "white",
            "linecolor": "white",
            "ticks": ""
           }
          },
          "title": {
           "x": 0.05
          },
          "xaxis": {
           "automargin": true,
           "gridcolor": "white",
           "linecolor": "white",
           "ticks": "",
           "title": {
            "standoff": 15
           },
           "zerolinecolor": "white",
           "zerolinewidth": 2
          },
          "yaxis": {
           "automargin": true,
           "gridcolor": "white",
           "linecolor": "white",
           "ticks": "",
           "title": {
            "standoff": 15
           },
           "zerolinecolor": "white",
           "zerolinewidth": 2
          }
         }
        },
        "xaxis": {
         "anchor": "y",
         "domain": [
          0,
          1
         ],
         "title": {
          "text": "Date Oldest"
         }
        },
        "yaxis": {
         "anchor": "x",
         "domain": [
          0,
          1
         ],
         "title": {
          "text": "count"
         }
        }
       }
      }
     },
     "metadata": {},
     "output_type": "display_data"
    },
    {
     "data": {
      "text/html": [
       "<div>\n",
       "<style scoped>\n",
       "    .dataframe tbody tr th:only-of-type {\n",
       "        vertical-align: middle;\n",
       "    }\n",
       "\n",
       "    .dataframe tbody tr th {\n",
       "        vertical-align: top;\n",
       "    }\n",
       "\n",
       "    .dataframe thead th {\n",
       "        text-align: right;\n",
       "    }\n",
       "</style>\n",
       "<table border=\"1\" class=\"dataframe\">\n",
       "  <thead>\n",
       "    <tr style=\"text-align: right;\">\n",
       "      <th></th>\n",
       "      <th>Ticker</th>\n",
       "      <th>ISIN</th>\n",
       "      <th>ETF Name</th>\n",
       "      <th>Category</th>\n",
       "      <th>Type</th>\n",
       "      <th>Domicile</th>\n",
       "      <th>Date Oldest</th>\n",
       "      <th>Date Newest</th>\n",
       "      <th>Years Covered</th>\n",
       "      <th>Data per Year</th>\n",
       "      <th>Avg Volume (M EUR)</th>\n",
       "    </tr>\n",
       "  </thead>\n",
       "  <tbody>\n",
       "    <tr>\n",
       "      <th>773</th>\n",
       "      <td>EUN.MI</td>\n",
       "      <td>IE0008470928</td>\n",
       "      <td>iShares STOXX Europe 50 UCITS ETF EUR (Dist)</td>\n",
       "      <td>Equity Europe</td>\n",
       "      <td>Equity ETF</td>\n",
       "      <td>Ireland</td>\n",
       "      <td>2002-09-30</td>\n",
       "      <td>2023-11-10</td>\n",
       "      <td>21.111567</td>\n",
       "      <td>253.841882</td>\n",
       "      <td>27.737277</td>\n",
       "    </tr>\n",
       "    <tr>\n",
       "      <th>654</th>\n",
       "      <td>EUE.MI</td>\n",
       "      <td>IE0008471009</td>\n",
       "      <td>iShares Core EURO STOXX 50 UCITS ETF EUR Dist</td>\n",
       "      <td>Equity EuroZone</td>\n",
       "      <td>Equity ETF</td>\n",
       "      <td>Ireland</td>\n",
       "      <td>2002-09-30</td>\n",
       "      <td>2023-09-28</td>\n",
       "      <td>20.99384</td>\n",
       "      <td>254.122164</td>\n",
       "      <td>231.401299</td>\n",
       "    </tr>\n",
       "    <tr>\n",
       "      <th>942</th>\n",
       "      <td>MSE.MI</td>\n",
       "      <td>FR0007054358</td>\n",
       "      <td>Lyxor EURO STOXX 50 (DR) UCITS ETF - Acc</td>\n",
       "      <td>Equity EuroZone</td>\n",
       "      <td>Equity ETF</td>\n",
       "      <td>France</td>\n",
       "      <td>2002-09-30</td>\n",
       "      <td>2023-11-10</td>\n",
       "      <td>21.111567</td>\n",
       "      <td>254.173454</td>\n",
       "      <td>167.177967</td>\n",
       "    </tr>\n",
       "    <tr>\n",
       "      <th>1018</th>\n",
       "      <td>USTE.MI</td>\n",
       "      <td>LU1829221024</td>\n",
       "      <td>Lyxor Nasdaq-100 UCITS ETF - Acc</td>\n",
       "      <td>Equity US</td>\n",
       "      <td>Equity ETF</td>\n",
       "      <td>Luxembourg</td>\n",
       "      <td>2002-11-22</td>\n",
       "      <td>2023-09-28</td>\n",
       "      <td>20.848734</td>\n",
       "      <td>254.020223</td>\n",
       "      <td>13.441018</td>\n",
       "    </tr>\n",
       "    <tr>\n",
       "      <th>920</th>\n",
       "      <td>DJE.MI</td>\n",
       "      <td>FR0007056841</td>\n",
       "      <td>Lyxor Dow Jones Industrial Average UCITS ETF Dist</td>\n",
       "      <td>Equity US</td>\n",
       "      <td>Equity ETF</td>\n",
       "      <td>France</td>\n",
       "      <td>2002-11-22</td>\n",
       "      <td>2023-11-10</td>\n",
       "      <td>20.966461</td>\n",
       "      <td>253.97705</td>\n",
       "      <td>48.002654</td>\n",
       "    </tr>\n",
       "    <tr>\n",
       "      <th>666</th>\n",
       "      <td>IUSA.MI</td>\n",
       "      <td>IE0031442068</td>\n",
       "      <td>iShares Core S&amp;P 500 UCITS ETF USD (Dist)</td>\n",
       "      <td>Equity US</td>\n",
       "      <td>Equity ETF</td>\n",
       "      <td>Ireland</td>\n",
       "      <td>2003-02-28</td>\n",
       "      <td>2023-09-28</td>\n",
       "      <td>20.580424</td>\n",
       "      <td>254.173573</td>\n",
       "      <td>72.575498</td>\n",
       "    </tr>\n",
       "    <tr>\n",
       "      <th>497</th>\n",
       "      <td>EQQQ.MI</td>\n",
       "      <td>IE0032077012</td>\n",
       "      <td>Invesco EQQQ NASDAQ-100 UCITS ETF Dist</td>\n",
       "      <td>Equity US</td>\n",
       "      <td>Equity ETF</td>\n",
       "      <td>Ireland</td>\n",
       "      <td>2003-06-26</td>\n",
       "      <td>2023-09-28</td>\n",
       "      <td>20.257358</td>\n",
       "      <td>254.228612</td>\n",
       "      <td>185.262009</td>\n",
       "    </tr>\n",
       "    <tr>\n",
       "      <th>919</th>\n",
       "      <td>MGT.MI</td>\n",
       "      <td>FR0007075494</td>\n",
       "      <td>Lyxor DJ Global Titans 50 UCITS ETF - Dist</td>\n",
       "      <td>Equity Global</td>\n",
       "      <td>Equity ETF</td>\n",
       "      <td>France</td>\n",
       "      <td>2003-10-22</td>\n",
       "      <td>2023-11-10</td>\n",
       "      <td>20.052019</td>\n",
       "      <td>254.089125</td>\n",
       "      <td>3.082989</td>\n",
       "    </tr>\n",
       "    <tr>\n",
       "      <th>958</th>\n",
       "      <td>ETFMIB.MI</td>\n",
       "      <td>FR0010010827</td>\n",
       "      <td>Lyxor FTSE MIB (DR) UCITS ETF - Dist</td>\n",
       "      <td>Equity Italy</td>\n",
       "      <td>Equity ETF</td>\n",
       "      <td>France</td>\n",
       "      <td>2003-11-14</td>\n",
       "      <td>2023-09-28</td>\n",
       "      <td>19.871321</td>\n",
       "      <td>254.135092</td>\n",
       "      <td>230.763268</td>\n",
       "    </tr>\n",
       "    <tr>\n",
       "      <th>626</th>\n",
       "      <td>IBCX.MI</td>\n",
       "      <td>IE0032523478</td>\n",
       "      <td>iShares € Corp Bond Large Cap UCITS ETF EUR Dist</td>\n",
       "      <td>Bond EUR Corporates</td>\n",
       "      <td>Bond ETF</td>\n",
       "      <td>Ireland</td>\n",
       "      <td>2004-04-08</td>\n",
       "      <td>2023-11-10</td>\n",
       "      <td>19.589322</td>\n",
       "      <td>254.322222</td>\n",
       "      <td>238.571944</td>\n",
       "    </tr>\n",
       "  </tbody>\n",
       "</table>\n",
       "</div>"
      ],
      "text/plain": [
       "         Ticker          ISIN  \\\n",
       "773      EUN.MI  IE0008470928   \n",
       "654      EUE.MI  IE0008471009   \n",
       "942      MSE.MI  FR0007054358   \n",
       "1018    USTE.MI  LU1829221024   \n",
       "920      DJE.MI  FR0007056841   \n",
       "666     IUSA.MI  IE0031442068   \n",
       "497     EQQQ.MI  IE0032077012   \n",
       "919      MGT.MI  FR0007075494   \n",
       "958   ETFMIB.MI  FR0010010827   \n",
       "626     IBCX.MI  IE0032523478   \n",
       "\n",
       "                                               ETF Name             Category  \\\n",
       "773        iShares STOXX Europe 50 UCITS ETF EUR (Dist)        Equity Europe   \n",
       "654       iShares Core EURO STOXX 50 UCITS ETF EUR Dist      Equity EuroZone   \n",
       "942            Lyxor EURO STOXX 50 (DR) UCITS ETF - Acc      Equity EuroZone   \n",
       "1018                   Lyxor Nasdaq-100 UCITS ETF - Acc            Equity US   \n",
       "920   Lyxor Dow Jones Industrial Average UCITS ETF Dist            Equity US   \n",
       "666           iShares Core S&P 500 UCITS ETF USD (Dist)            Equity US   \n",
       "497              Invesco EQQQ NASDAQ-100 UCITS ETF Dist            Equity US   \n",
       "919          Lyxor DJ Global Titans 50 UCITS ETF - Dist        Equity Global   \n",
       "958                Lyxor FTSE MIB (DR) UCITS ETF - Dist         Equity Italy   \n",
       "626    iShares € Corp Bond Large Cap UCITS ETF EUR Dist  Bond EUR Corporates   \n",
       "\n",
       "            Type    Domicile Date Oldest Date Newest Years Covered  \\\n",
       "773   Equity ETF     Ireland  2002-09-30  2023-11-10     21.111567   \n",
       "654   Equity ETF     Ireland  2002-09-30  2023-09-28      20.99384   \n",
       "942   Equity ETF      France  2002-09-30  2023-11-10     21.111567   \n",
       "1018  Equity ETF  Luxembourg  2002-11-22  2023-09-28     20.848734   \n",
       "920   Equity ETF      France  2002-11-22  2023-11-10     20.966461   \n",
       "666   Equity ETF     Ireland  2003-02-28  2023-09-28     20.580424   \n",
       "497   Equity ETF     Ireland  2003-06-26  2023-09-28     20.257358   \n",
       "919   Equity ETF      France  2003-10-22  2023-11-10     20.052019   \n",
       "958   Equity ETF      France  2003-11-14  2023-09-28     19.871321   \n",
       "626     Bond ETF     Ireland  2004-04-08  2023-11-10     19.589322   \n",
       "\n",
       "     Data per Year Avg Volume (M EUR)  \n",
       "773     253.841882          27.737277  \n",
       "654     254.122164         231.401299  \n",
       "942     254.173454         167.177967  \n",
       "1018    254.020223          13.441018  \n",
       "920      253.97705          48.002654  \n",
       "666     254.173573          72.575498  \n",
       "497     254.228612         185.262009  \n",
       "919     254.089125           3.082989  \n",
       "958     254.135092         230.763268  \n",
       "626     254.322222         238.571944  "
      ]
     },
     "metadata": {},
     "output_type": "display_data"
    }
   ],
   "source": [
    "# Olders ETFs\n",
    "fig = px.histogram(df_eda2, x=\"Date Oldest\", nbins=50)\n",
    "fig.show()\n",
    "display(df_eda2.sort_values(\"Date Oldest\").head(10))"
   ]
  },
  {
   "cell_type": "code",
   "execution_count": 6,
   "metadata": {},
   "outputs": [
    {
     "data": {
      "application/vnd.plotly.v1+json": {
       "config": {
        "plotlyServerURL": "https://plot.ly"
       },
       "data": [
        {
         "customdata": [
          [
           3.2580424366872007,
           210.8628151260504,
           0.49254551796379337
          ],
          [
           1.0841889117043122,
           105.14772727272727,
           2.160326397042105
          ],
          [
           1.0841889117043122,
           117.13825757575756,
           1.6281279156047248
          ],
          [
           4.454483230663929,
           207.880454824831,
           5.4510443969494355
          ],
          [
           17.44284736481862,
           254.144286611207,
           15.223571442462195
          ],
          [
           5.735797399041752,
           238.8508353221957,
           17.698471095893137
          ],
          [
           2.4722792607802875,
           70.78488372093024,
           0.7386806030468571
          ],
          [
           13.14715947980835,
           238.3024260724698,
           31.597794308174823
          ],
          [
           13.516769336071183,
           254.27673688474783,
           57.46685449269613
          ],
          [
           13.078713210130047,
           254.22990370525434,
           68.39013056204715
          ],
          [
           13.672826830937714,
           244.86523828594312,
           0.8507670705936323
          ],
          [
           13.503080082135524,
           248.7580596107056,
           6.340377728636086
          ],
          [
           0.47091033538672145,
           261.1962209302325,
           49.88958749865146
          ],
          [
           13.541409993155373,
           232.84133643348162,
           9.186125502339763
          ],
          [
           0.47091033538672145,
           261.1962209302325,
           5.431974800867768
          ],
          [
           11.7782340862423,
           237.89644351464435,
           19.25536519816766
          ],
          [
           13.552361396303901,
           237.6707575757576,
           21.70855333337287
          ],
          [
           13.672826830937714,
           249.32664197036445,
           3.380101201742811
          ],
          [
           13.672826830937714,
           253.641770124149,
           5.365631036297608
          ],
          [
           13.05681040383299,
           245.69553365485427,
           53.19152501939706
          ],
          [
           13.13347022587269,
           240.9873358348968,
           66.2278902573476
          ],
          [
           13.111567419575634,
           234.67827312591353,
           60.57799753006222
          ],
          [
           13.13347022587269,
           239.00766103814883,
           76.18112797433064
          ],
          [
           6.595482546201232,
           229.24782067247818,
           18.796674262703092
          ],
          [
           14.403832991101986,
           254.51558639042005,
           104.29728649695933
          ],
          [
           2.3819301848049284,
           210.33362068965516,
           6.6206082439253
          ],
          [
           13.149897330595483,
           248.2909119300437,
           57.05349338210966
          ],
          [
           9.946611909650924,
           254.0563583815029,
           123.18853675766246
          ],
          [
           8.386036960985626,
           252.2049461312439,
           24.884793758819832
          ],
          [
           5.735797399041752,
           254.5417661097852,
           77.89211121006404
          ],
          [
           8.709103353867214,
           254.56122288588497,
           61.58117996375358
          ],
          [
           13.675564681724847,
           237.28453453453452,
           0.7950970135698174
          ],
          [
           5.774127310061601,
           219.08072546230443,
           17.312813062284587
          ],
          [
           0.6817248459958932,
           170.15662650602408,
           26.99139845641034
          ],
          [
           1.325119780971937,
           83.01136363636364,
           0.884889550138182
          ],
          [
           5.774127310061601,
           247.65647226173544,
           34.8934222892053
          ],
          [
           6.595482546201232,
           196.19489414694894,
           7.297861922472822
          ],
          [
           12.632443531827516,
           254.10760728218466,
           44.04621622661039
          ],
          [
           12.635181382614647,
           207.1200975081257,
           41.00583048565764
          ],
          [
           9.103353867214237,
           247.2715037593985,
           28.795151699849033
          ],
          [
           13.166324435318275,
           254.20913911416096,
           220.05175405650837
          ],
          [
           5.727583846680356,
           202.0048996175908,
           37.652794529683234
          ],
          [
           6.483230663928816,
           224.73363597972974,
           21.117752695135245
          ],
          [
           2.401095140314853,
           185.74857468643103,
           6.869514572928756
          ],
          [
           6.595482546201232,
           210.14383561643834,
           22.089163580889565
          ],
          [
           3.912388774811773,
           240.00682295311407,
           37.431161673749415
          ],
          [
           13.541409993155373,
           254.40482207844724,
           64.87356279623977
          ],
          [
           6.562628336755647,
           201.59605757196496,
           4.992018989894652
          ],
          [
           2.4202600958247777,
           191.71493212669682,
           1.8127001594729526
          ],
          [
           6.595482546201232,
           209.3857409713574,
           7.27890187706081
          ],
          [
           6.546201232032854,
           215.54485570890841,
           34.59914421887918
          ],
          [
           6.477754962354552,
           244.22041420118344,
           24.947838229668143
          ],
          [
           2.379192334017796,
           125.67289988492522,
           2.5447138475742475
          ],
          [
           2.9979466119096507,
           222.48561643835617,
           1.0620588905461545
          ],
          [
           4.58590006844627,
           227.65432835820897,
           5.761439922932851
          ],
          [
           5.73305954825462,
           251.17478510028653,
           133.90690980910307
          ],
          [
           2.48870636550308,
           90.00660066006601,
           2.4314845608928572
          ],
          [
           13.672826830937714,
           252.83725470564679,
           87.45973344707605
          ],
          [
           4.829568788501026,
           234.80357142857144,
           15.66214150622738
          ],
          [
           2.8993839835728954,
           184.8668555240793,
           2.607327985277985
          ],
          [
           6.579055441478439,
           239.24406991260926,
           23.436108623846586
          ],
          [
           5.735797399041752,
           252.6239856801909,
           70.9039049666321
          ],
          [
           4.818617385352498,
           197.98210227272727,
           21.00686880808323
          ],
          [
           3.2580424366872007,
           240.63529411764705,
           12.3621887010272
          ],
          [
           2.707734428473648,
           199.059403437816,
           4.551972001587755
          ],
          [
           4.947296372347707,
           238.71624239070283,
           50.79776250864762
          ],
          [
           6.581793292265571,
           235.04232529118138,
           19.958382008794644
          ],
          [
           5.215605749486653,
           212.6311023622047,
           9.341981444381119
          ],
          [
           6.5927446954141,
           163.2097176079734,
           4.628695111425301
          ],
          [
           5.774127310061601,
           254.4107396870555,
           13.842404030504593
          ],
          [
           10.636550308008214,
           232.5942084942085,
           102.26263742276156
          ],
          [
           0.47091033538672145,
           261.1962209302325,
           7.989204329459794
          ],
          [
           0.47091033538672145,
           261.1962209302325,
           9.612171698785883
          ],
          [
           6.9021218343600275,
           223.5544426814756,
           3.5452159660497085
          ],
          [
           13.672826830937714,
           251.5207749299159,
           43.71268164514652
          ],
          [
           3.5181382614647503,
           252.40622568093386,
           1.2289761721909784
          ],
          [
           12.306639288158795,
           254.090489432703,
           10.754126606383878
          ],
          [
           12.271047227926077,
           245.53731593038825,
           1.2725762977687514
          ],
          [
           2.4941820670773445,
           182.82546652030734,
           2.5273802484543753
          ],
          [
           0.6050650239561944,
           99.1628959276018,
           6.164882929162918
          ],
          [
           0.6023271731690623,
           106.25454545454546,
           1.0563221469847655
          ],
          [
           12.632443531827516,
           254.10760728218466,
           5.967050890588347
          ],
          [
           2.4804928131416837,
           78.6134105960265,
           1.5695201293528207
          ],
          [
           null,
           null,
           null
          ],
          [
           0.47091033538672145,
           261.1962209302325,
           4.5187443779546514
          ],
          [
           7.170431211498974,
           245.31300114547537,
           11.8805728690821
          ],
          [
           6.650239561943874,
           206.15798682585427,
           20.639862392989663
          ],
          [
           13.672826830937714,
           247.57133560272328,
           52.88310270691444
          ],
          [
           5.585215605749487,
           235.44301470588235,
           2.1759004158033957
          ],
          [
           12.63791923340178,
           253.36449306759098,
           56.34495350965701
          ],
          [
           4.969199178644764,
           253.5619834710744,
           9.493484497562743
          ],
          [
           15.603011635865846,
           230.8528689243727,
           0.8725234281317884
          ],
          [
           null,
           null,
           null
          ],
          [
           13.555099247091034,
           251.0494344576853,
           81.22315810399753
          ],
          [
           6.836413415468857,
           139.25430516619943,
           17.32722015320404
          ],
          [
           5.730321697467488,
           211.6809603440038,
           85.5551534173325
          ],
          [
           2.4941820670773445,
           215.30104281009878,
           11.078790101357423
          ],
          [
           13.166324435318275,
           254.13318777292577,
           71.66348358662822
          ],
          [
           13.17180013689254,
           254.17938058615673,
           29.563616230730286
          ],
          [
           10.38466803559206,
           253.5468626417084,
           145.9006405319614
          ],
          [
           0.6516084873374401,
           207.1796218487395,
           1.7356026937614815
          ],
          [
           2.379192334017796,
           44.97324510932106,
           0.9962717959112338
          ],
          [
           4.643394934976044,
           248.0943396226415,
           4.917605758193109
          ],
          [
           4.621492128678987,
           244.72615521327012,
           4.192298921436801
          ],
          [
           4.63791923340178,
           142.3051948051948,
           0.43194380842331964
          ],
          [
           4.61327857631759,
           150.2185459940653,
           0.7730248339911342
          ],
          [
           4.63791923340178,
           170.55061983471074,
           0.9117984368344194
          ],
          [
           4.640657084188912,
           214.4092920353982,
           1.1620883802545596
          ],
          [
           4.635181382614648,
           122.54105138806851,
           0.6961179281669576
          ],
          [
           4.082135523613963,
           173.19366197183098,
           0.8765903038983649
          ],
          [
           4.6242299794661195,
           106.17984014209591,
           0.638298625148556
          ],
          [
           4.610540725530458,
           137.51098574821853,
           0.8981995995747081
          ],
          [
           9.475701574264203,
           248.6359433689685,
           22.59093207360289
          ],
          [
           5.774127310061601,
           174.57183499288763,
           8.004900191024142
          ],
          [
           6.5160848733744015,
           191.6795168067227,
           28.491767928242474
          ],
          [
           2.461327857631759,
           137.73053392658508,
           7.168182516706489
          ],
          [
           11.45242984257358,
           251.91160650251018,
           40.73435378641047
          ],
          [
           13.17180013689254,
           254.33122012055705,
           37.965805552900875
          ],
          [
           13.092402464065708,
           253.7349435382685,
           47.554465144348086
          ],
          [
           13.114305270362765,
           243.7795929018789,
           19.60907569052664
          ],
          [
           13.1088295687885,
           251.05216165413535,
           24.28238496852657
          ],
          [
           13.089664613278575,
           246.22479606776827,
           23.852295851972077
          ],
          [
           13.097878165639973,
           225.83810618729098,
           6.037788276389325
          ],
          [
           13.100616016427105,
           250.06457680250782,
           20.22461303275899
          ],
          [
           13.114305270362765,
           239.3569415448852,
           21.587670763630047
          ],
          [
           5.774127310061601,
           254.2375533428165,
           44.54528939493506
          ],
          [
           3.9479808350444903,
           211.75381414701803,
           3.264952778928346
          ],
          [
           3.9479808350444903,
           212.26040221914008,
           1.6818773584589792
          ],
          [
           16.84599589322382,
           254.00694783032668,
           18.427018915385986
          ],
          [
           7.14031485284052,
           235.98399156441718,
           71.23131101725258
          ],
          [
           6.444900752908967,
           186.96951996601527,
           41.48894077576592
          ],
          [
           12.813141683778234,
           252.55320512820512,
           28.587520232282927
          ],
          [
           7.148528405201916,
           197.52317119877443,
           34.01787798031254
          ],
          [
           12.824093086926762,
           242.98014517506405,
           17.094830144056306
          ],
          [
           12.813141683778234,
           228.12516025641025,
           6.172100652750737
          ],
          [
           7.425051334702259,
           254.81305309734515,
           51.54392312029937
          ],
          [
           8.16974674880219,
           247.00888069705096,
           41.69345141941095
          ],
          [
           12.785763175906913,
           239.2504817987152,
           65.59722299750518
          ],
          [
           5.724845995893224,
           209.78730272596843,
           17.875583150857903
          ],
          [
           2.297056810403833,
           121.89511323003576,
           0.19523405720030002
          ],
          [
           0.7419575633127995,
           28.30350553505535,
           0.2519928702018095
          ],
          [
           0.621492128678987,
           35.39867841409692,
           0.43613575208909083
          ],
          [
           0.2518822724161533,
           47.64130434782609,
           0.46153713719966666
          ],
          [
           0.7474332648870636,
           30.771978021978022,
           0.45803186143739133
          ],
          [
           0.17248459958932238,
           139.14285714285714,
           0.14547651731133335
          ],
          [
           0.7145790554414785,
           193.1206896551724,
           0.2973709053510724
          ],
          [
           4.476386036960986,
           57.188990825688066,
           9.230776775646094
          ],
          [
           3.8439425051334704,
           181.5844017094017,
           2.930728121413727
          ],
          [
           3.8439425051334704,
           187.82799145299145,
           0.6652001170361671
          ],
          [
           4.605065023956194,
           209.7690249702735,
           1.4492901625199315
          ],
          [
           2.0533880903490758,
           30.194000000000003,
           0.07659217055438708
          ],
          [
           6.1738535249828885,
           118.07860310421286,
           12.099836013607957
          ],
          [
           6.056125941136208,
           107.98982820976492,
           17.38429602814303
          ],
          [
           6.250513347022587,
           23.3580814717477,
           5.133831928512329
          ],
          [
           6.365503080082136,
           37.70322580645161,
           6.765884012725417
          ],
          [
           6.335386721423682,
           187.83383751080382,
           4.629110520882184
          ],
          [
           0.2655715263518138,
           45.185567010309285,
           0.14285257162666667
          ],
          [
           4.610540725530458,
           244.22298099762472,
           3.7979463432602767
          ],
          [
           4.610540725530458,
           184.1432600950119,
           1.6029478111916007
          ],
          [
           2.5872689938398357,
           237.31587301587302,
           0.3658068648837837
          ],
          [
           2.5763175906913074,
           79.95908607863974,
           0.19111266322513595
          ],
          [
           0.17796030116358658,
           11.23846153846154,
           0.2902380183785
          ],
          [
           0.1806981519507187,
           16.602272727272727,
           0.45420540485833333
          ],
          [
           4.372347707049966,
           243.11881653099562,
           4.724576822896918
          ],
          [
           6.3709787816564,
           182.8604426299957,
           4.640097942125441
          ],
          [
           2.9979466119096507,
           249.50410958904112,
           1.09909889404989
          ],
          [
           1.2867898699520877,
           145.32287234042553,
           0.11360209368913371
          ],
          [
           1.377138945927447,
           55.913021868787276,
           0.04457932893672728
          ],
          [
           3.8603696098562628,
           152.83510638297872,
           0.49126047484906105
          ],
          [
           1.0102669404517455,
           34.64430894308943,
           0.08597840489988572
          ],
          [
           6.357289527720739,
           100.671834625323,
           0.19596260122332196
          ],
          [
           2.5763175906913074,
           180.10201912858662,
           0.48352241196411855
          ],
          [
           0.621492128678987,
           251.00881057268725,
           1.2498615729304614
          ],
          [
           0.5831622176591376,
           8.573943661971832,
           0.0743792467976
          ],
          [
           4.358658453114305,
           204.1912688442211,
           1.7075721722479649
          ],
          [
           2.4750171115674195,
           173.7361725663717,
           2.3557430872451213
          ],
          [
           4.59958932238193,
           247.63080357142857,
           25.66880140804021
          ],
          [
           1.111567419575633,
           15.29371921182266,
           0.16348421892511766
          ],
          [
           2.1711156741957565,
           35.4656368221942,
           0.25056147275215584
          ],
          [
           5.867214236824093,
           143.16845543630424,
           8.027136070067316
          ],
          [
           6.272416153319644,
           95.17863378437364,
           0.3162889588161457
          ],
          [
           6.379192334017796,
           65.83905579399142,
           0.4758269439622128
          ],
          [
           3.356605065023956,
           119.76386623164764,
           4.683909837291209
          ],
          [
           6.381930184804928,
           48.88803088803088,
           0.665346818281785
          ],
          [
           4.547570157426421,
           137.21613485851896,
           1.16929024974237
          ],
          [
           6.357289527720739,
           125.36789405684755,
           0.5412823200373452
          ],
          [
           4.2819986310746065,
           99.48625319693095,
           2.4974332102141648
          ],
          [
           6.33264887063655,
           95.378728923476,
           0.500653895725477
          ],
          [
           6.061601642710472,
           114.16124661246613,
           0.6915991179937289
          ],
          [
           5.500342231348392,
           140.53670980587356,
           2.3451932267935094
          ],
          [
           3.7453798767967146,
           183.15899122807016,
           3.030344248405864
          ],
          [
           1.1389459274469542,
           22.828125,
           0.28445728171457696
          ],
          [
           3.8521560574948666,
           91.63699360341151,
           0.22347086610907932
          ],
          [
           1.3661875427789185,
           39.52605210420842,
           0.5370926700211297
          ],
          [
           2.1245722108145104,
           137.43943298969074,
           0.6011683712454329
          ],
          [
           3.7700205338809036,
           40.31808278867102,
           6.317405930707237
          ],
          [
           8.202600958247775,
           254.4314919893191,
           8.257098726588591
          ],
          [
           8.188911704312115,
           233.48645937813438,
           3.5726119876270013
          ],
          [
           8.202600958247775,
           178.4799732977303,
           3.422425991004384
          ],
          [
           3.351129363449692,
           148.00980392156862,
           3.254650598843951
          ],
          [
           3.62217659137577,
           65.7063492063492,
           11.57879564167479
          ],
          [
           3.6440793976728267,
           73.26953418482344,
           12.135599785255431
          ],
          [
           3.3648186173853527,
           166.13079739625712,
           8.37801435526261
          ],
          [
           1.6509240246406571,
           112.66417910447761,
           0.7784016852093065
          ],
          [
           3.252566735112936,
           80.55176767676768,
           5.871904122672519
          ],
          [
           3.649555099247091,
           180.02194298574645,
           6.050947406992846
          ],
          [
           3.619438740588638,
           158.31183812405445,
           58.0246978460206
          ],
          [
           3.049965776865161,
           229.51077199281866,
           0.4479628500351557
          ],
          [
           1.5249828884325805,
           185.5758527827648,
           0.09126780483590041
          ],
          [
           5.086926762491444,
           241.40312163616792,
           6.357194668643279
          ],
          [
           1.5906913073237507,
           249.57702237521517,
           0.1347839179786423
          ],
          [
           1.9247091033538672,
           155.3481507823613,
           0.022995723561992174
          ],
          [
           7.904175222450377,
           254.54901281607204,
           6.186402192101581
          ],
          [
           7.904175222450377,
           254.0429511603741,
           3.327162525943553
          ],
          [
           7.904175222450377,
           254.42249740214754,
           3.005630029714797
          ],
          [
           12.728268309377139,
           195.39185846418584,
           2.359449902105925
          ],
          [
           12.698151950718685,
           211.9993531694696,
           1.9543531737364956
          ],
          [
           12.618754277891854,
           231.63934692991972,
           1.6833682118506301
          ],
          [
           12.626967830253252,
           252.47549869904597,
           73.90370288589179
          ],
          [
           12.725530458590006,
           180.89619191049914,
           2.2937469044018726
          ],
          [
           12.56125941136208,
           202.60707279860506,
           1.377651534563675
          ],
          [
           12.59958932238193,
           181.1170143415906,
           5.485928508428566
          ],
          [
           12.626967830253252,
           254.138605810928,
           12.109008883058522
          ],
          [
           8.982888432580424,
           199.2677537336178,
           1.3098904327119771
          ],
          [
           9.007529089664613,
           253.12158054711247,
           41.58009334250106
          ],
          [
           8.59958932238193,
           186.28796561604582,
           1.0703524291877575
          ],
          [
           8.993839835728952,
           254.28515981735163,
           5.000254261999765
          ],
          [
           10.99520876112252,
           185.99010209163345,
           0.2872493215595983
          ],
          [
           11.047227926078028,
           230.2840148698885,
           0.32091639998211047
          ],
          [
           11.058179329226558,
           210.88462490715523,
           0.21535860036740875
          ],
          [
           11.175906913073238,
           230.49583537481627,
           0.8428900630566699
          ],
          [
           11.107460643394935,
           179.42894996302687,
           0.3276178562958952
          ],
          [
           11.044490075290897,
           175.5626549330689,
           0.7079783936244736
          ],
          [
           11.126625598904859,
           189.9947096456693,
           0.30213592260717104
          ],
          [
           11.211498973305956,
           235.20494505494503,
           1.0272227675725474
          ],
          [
           11.132101300479125,
           217.92830791933102,
           1.0356836853979772
          ],
          [
           11.06091718001369,
           229.27574257425744,
           0.24924361711051088
          ],
          [
           10.35728952772074,
           254.02398889770024,
           5.421638592505874
          ],
          [
           11.06091718001369,
           218.96918316831685,
           0.3384529740731001
          ],
          [
           10.841889117043122,
           165.56155303030303,
           0.7922545218525047
          ],
          [
           11.134839151266256,
           186.89089009097614,
           0.22419793048844855
          ],
          [
           11.134839151266256,
           215.62951807228916,
           0.39572532615129646
          ],
          [
           10.981519507186858,
           251.87771129394167,
           0.8258054548979606
          ],
          [
           10.097193702943189,
           156.28104663774405,
           0.5824735382306039
          ],
          [
           9.64271047227926,
           133.7798126064736,
           2.104982469660468
          ],
          [
           9.514031485284052,
           187.5125179856115,
           4.889740787958397
          ],
          [
           9.492128678986996,
           208.8045860974906,
           6.805423888631486
          ],
          [
           9.494866529774127,
           220.75086505190313,
           6.624499082604897
          ],
          [
           9.489390828199863,
           198.11598384304673,
           1.348191013710109
          ],
          [
           9.686516084873375,
           221.75155455059354,
           1.9814540167767212
          ],
          [
           9.609856262833675,
           228.8275641025641,
           5.2247400717825965
          ],
          [
           9.582477754962355,
           108.8445,
           1.0318676460531138
          ],
          [
           9.681040383299111,
           106.18693438914026,
           1.1932850524187502
          ],
          [
           9.388090349075975,
           140.60367454068242,
           4.582194124000118
          ],
          [
           9.585215605749486,
           113.29948586118253,
           2.1496679132902745
          ],
          [
           9.505817932922655,
           97.41402649769586,
           0.5557291533977906
          ],
          [
           8.454483230663929,
           104.67818976683938,
           0.6791996925696429
          ],
          [
           9.697467488021903,
           252.54016092603047,
           15.504141513391199
          ],
          [
           1.0212183436002737,
           44.06501340482574,
           0.0809962428882889
          ],
          [
           0.917180013689254,
           33.799253731343285,
           0.05568155292622581
          ],
          [
           1.056810403832991,
           33.11852331606218,
           0.15785124590829996
          ],
          [
           0.840520191649555,
           73.76384364820848,
           0.21510447331239918
          ],
          [
           2.080766598220397,
           54.7875,
           0.05042548413271052
          ],
          [
           1.9931553730321698,
           94.32280219780219,
           0.10103031259706781
          ],
          [
           2.0698151950718686,
           49.76289682539682,
           0.05525956626511651
          ],
          [
           1.9657768651608487,
           60.535863509749305,
           0.11510429367799999
          ],
          [
           0.3805612594113621,
           13.138489208633093,
           0.18767029709410002
          ],
          [
           0.17522245037645448,
           62.77734375,
           0.5496402787738637
          ],
          [
           2.0944558521560577,
           98.3549019607843,
           0.08148753714545146
          ],
          [
           2.099931553730322,
           248.57953063885265,
           0.2639446753949195
          ],
          [
           1.1170431211498972,
           156.6636029411765,
           0.06173376025864714
          ],
          [
           0.7364818617385352,
           23.08271375464684,
           1.0333656255029413
          ],
          [
           0.31485284052019163,
           9.528260869565218,
           0.41846114637799997
          ],
          [
           0.7720739219712526,
           24.60904255319149,
           1.3485143946918947
          ],
          [
           2.0698151950718686,
           34.785714285714285,
           0.3299095170857743
          ],
          [
           1.3278576317590691,
           10.543298969072165,
           0.13918885322192856
          ],
          [
           2.0533880903490758,
           13.636000000000001,
           0.260723211639375
          ],
          [
           1.9164955509924708,
           24.002142857142857,
           0.3228590189859564
          ],
          [
           2.0752908966461328,
           36.62137203166227,
           0.04519755727585527
          ],
          [
           2.080766598220397,
           7.208881578947369,
           0.3863524364698167
          ],
          [
           1.9685147159479808,
           7.6199582753824755,
           0.26644369733501666
          ],
          [
           2.078028747433265,
           51.97233201581028,
           0.5424219475469375
          ],
          [
           2.078028747433265,
           51.97233201581028,
           0.2366519437523241
          ],
          [
           2.088980150581793,
           99.57011795543906,
           0.16030352712778845
          ],
          [
           2.099931553730322,
           176.6724250325945,
           0.13294838391287056
          ],
          [
           1.0841889117043122,
           231.5094696969697,
           0.9456868305274901
          ],
          [
           1.08145106091718,
           152.5727848101266,
           1.2880793418242427
          ],
          [
           1.08145106091718,
           120.20886075949369,
           3.7508028626976926
          ],
          [
           1.0841889117043122,
           68.25378787878788,
           0.8552651681770271
          ],
          [
           1.0841889117043122,
           188.1590909090909,
           0.5788655111808824
          ],
          [
           1.0841889117043122,
           180.780303030303,
           0.8301328236637756
          ],
          [
           1.0841889117043122,
           235.19886363636363,
           1.776471085770588
          ],
          [
           1.08145106091718,
           208.97848101265825,
           0.9186218792800884
          ],
          [
           1.0841889117043122,
           247.1893939393939,
           3.5364792437988806
          ],
          [
           3.668720054757016,
           254.03955223880595,
           10.375400966581294
          ],
          [
           2.6858316221765914,
           94.57033639143731,
           0.49573078897965744
          ],
          [
           5.103353867214237,
           102.48162553648069,
           3.8635324964849422
          ],
          [
           5.489390828199863,
           254.8552369077307,
           3.2336049300826004
          ],
          [
           2.6858316221765914,
           158.61009174311926,
           0.33325811004967604
          ],
          [
           2.3737166324435317,
           112.48183391003461,
           0.331100422321191
          ],
          [
           1.5249828884325805,
           95.0830341113106,
           1.2392360990577587
          ],
          [
           3.4223134839151266,
           247.2012,
           6.668893355259769
          ],
          [
           3.4168377823408624,
           186.4296875,
           0.9164987459254067
          ],
          [
           6.362765229295003,
           111.27237521514631,
           2.3612849138247896
          ],
          [
           null,
           null,
           null
          ],
          [
           5.0951403148528405,
           51.02901665771091,
           0.1696721701516
          ],
          [
           1.3607118412046544,
           71.28621730382294,
           3.8987766106575252
          ],
          [
           5.774127310061601,
           191.8904694167852,
           0.7657483454214332
          ],
          [
           4.525667351129363,
           249.6869328493648,
           7.015439640975777
          ],
          [
           5.084188911704312,
           167.77504038772213,
           24.258021197530596
          ],
          [
           0.5174537987679672,
           222.2420634920635,
           1.4126599457410869
          ],
          [
           5.144421629021219,
           31.49042043640234,
           0.4641354892924383
          ],
          [
           4.399726214921286,
           192.96655258245178,
           0.9486904989519637
          ],
          [
           4.41615331964408,
           239.12213267203967,
           6.003868835964071
          ],
          [
           4.358658453114305,
           236.31124371859295,
           2.3055226115234095
          ],
          [
           4.41615331964408,
           204.02371357718536,
           1.5789163687719079
          ],
          [
           1.6043805612594113,
           51.733361774744026,
           0.18595800031059034
          ],
          [
           0.17796030116358658,
           56.19230769230769,
           0.2480630764
          ],
          [
           0.13141683778234087,
           60.875,
           0.07439438791875
          ],
          [
           5.771389459274469,
           139.1346062618596,
           0.6161378446698195
          ],
          [
           1.158110882956879,
           186.51063829787233,
           0.3295281669058241
          ],
          [
           1.319644079397673,
           53.044605809128626,
           0.09383825095745714
          ],
          [
           0.48186173853524983,
           33.20454545454545,
           0.24402565117187502
          ],
          [
           3.268993839835729,
           239.82914572864323,
           1.9487212567392331
          ],
          [
           3.274469541409993,
           203.39172240802677,
           0.9261337365900525
          ],
          [
           5.771389459274469,
           179.50616698292222,
           2.300201994123835
          ],
          [
           5.765913757700205,
           197.19337606837607,
           0.9135535799981556
          ],
          [
           5.727583846680356,
           73.67853728489483,
           2.272687515590462
          ],
          [
           5.127994524298426,
           45.04684997330485,
           1.4342285866268398
          ],
          [
           0.3258042436687201,
           239.40756302521007,
           0.3464320297504103
          ],
          [
           1.6837782340862424,
           124.71951219512195,
           0.06992508545207143
          ],
          [
           1.9739904175222451,
           152.9895977808599,
           0.14398007852655628
          ],
          [
           1.7111567419575633,
           215.6436,
           0.09337274381314295
          ],
          [
           1.3661875427789185,
           41.72194388777555,
           0.7878376525758771
          ],
          [
           1.377138945927447,
           34.12872763419483,
           1.6388594825005323
          ],
          [
           1.462012320328542,
           17.099719101123597,
           0.246082159058
          ],
          [
           1.568788501026694,
           93.06544502617801,
           0.31294253761520546
          ],
          [
           1.7056810403832992,
           120.1865971107544,
           0.14228386130348783
          ],
          [
           1.9739904175222451,
           175.27947295423022,
           0.16539935225450292
          ],
          [
           1.9739904175222451,
           202.63522884882107,
           0.36370280501531005
          ],
          [
           1.7084188911704312,
           232.37860576923077,
           0.9065873234392544
          ],
          [
           1.9739904175222451,
           204.66158113730927,
           0.2685616965761015
          ],
          [
           1.7248459958932238,
           100.87857142857143,
           0.11470770769741953
          ],
          [
           1.1553730321697468,
           102.99703791469193,
           0.12696158813247058
          ],
          [
           1.9739904175222451,
           111.95596393897364,
           0.0949830060486199
          ],
          [
           1.9739904175222451,
           214.28675450762827,
           0.12136227526417731
          ],
          [
           1.9767282683093772,
           232.70775623268696,
           0.25545804740253913
          ],
          [
           1.6947296372347707,
           177.01938610662359,
           0.11816192052530666
          ],
          [
           1.9548254620123204,
           140.1659663865546,
           0.19907519581088323
          ],
          [
           1.727583846680356,
           250.6390649762282,
           0.37576159802895837
          ],
          [
           0.9582477754962354,
           248.37,
           0.5985766112809077
          ],
          [
           1.9137577002053388,
           148.9216738197425,
           0.16181127173989124
          ],
          [
           1.9739904175222451,
           221.88557558945908,
           0.5946350176824156
          ],
          [
           0.30116358658453113,
           219.15,
           0.20666793977230305
          ],
          [
           0.5557837097878165,
           61.17487684729064,
           0.11693699451964705
          ],
          [
           0.4407939767282683,
           13.611801242236025,
           0.06523751266466667
          ],
          [
           1.462012320328542,
           246.2359550561798,
           0.27843264309635557
          ],
          [
           1.6865160848733745,
           192.11201298701297,
           0.30180652411091047
          ],
          [
           1.7248459958932238,
           252.19642857142856,
           0.45904023555688733
          ],
          [
           2.2532511978097194,
           191.2791616038882,
           0.1403080237174455
          ],
          [
           1.45927446954141,
           249.4390243902439,
           0.34350149012603304
          ],
          [
           1.9739904175222451,
           142.3512482662968,
           0.7497123087795018
          ],
          [
           2.2505133470225873,
           132.41423357664235,
           0.07251348306805706
          ],
          [
           1.7084188911704312,
           107.11658653846153,
           0.07941196783496175
          ],
          [
           16.44079397672827,
           254.06315570358035,
           212.9232354456074
          ],
          [
           3.8548939082819986,
           252.6658380681818,
           16.41219941787116
          ],
          [
           3.9616700889801506,
           102.48203178991015,
           0.389346450226867
          ],
          [
           3.9616700889801506,
           105.2586385625432,
           0.3554137211284173
          ],
          [
           1.8288843258042438,
           15.856661676646706,
           0.33566331679155176
          ],
          [
           1.541409993155373,
           19.462699822380106,
           0.5983767809028333
          ],
          [
           1.3032169746748803,
           6.905987394957982,
           0.4889793072241668
          ],
          [
           1.51129363449692,
           53.59646739130435,
           0.0033975886000204942
          ],
          [
           1.516769336071184,
           23.075361010830328,
           0.009136791326421428
          ],
          [
           1.6317590691307324,
           199.78439597315435,
           0.004659238611511963
          ],
          [
           1.9657768651608487,
           149.05048746518105,
           0.23604111693435328
          ],
          [
           1.8206707734428473,
           215.30526315789473,
           0.41390216018141307
          ],
          [
           1.8015058179329226,
           190.95136778115503,
           0.007296948081849709
          ],
          [
           1.8206707734428473,
           149.39548872180453,
           0.11846542309033088
          ],
          [
           1.5550992470910336,
           218.63556338028167,
           4.521104229744689
          ],
          [
           1.6344969199178645,
           162.12939698492463,
           0.027074600521677886
          ],
          [
           1.5797399041752225,
           120.27296360485269,
           0.09482598533948157
          ],
          [
           1.946611909650924,
           135.62025316455697,
           0.10490284304866548
          ],
          [
           1.7659137577002053,
           197.06511627906977,
           0.35863387341359165
          ],
          [
           1.9931553730321698,
           106.36401098901098,
           0.48513130080845995
          ],
          [
           1.9849418206707734,
           84.63724137931035,
           0.042703126769003875
          ],
          [
           1.6344969199178645,
           219.6394472361809,
           0.04204640665897103
          ],
          [
           0.08213552361396304,
           36.525,
           0.058924317675
          ],
          [
           1.6372347707049966,
           120.32483277591973,
           0.05873388432041477
          ],
          [
           1.9219712525667352,
           102.49893162393163,
           2.635984436322986
          ],
          [
           1.9603011635865846,
           141.30481843575419,
           0.1539912987025018
          ],
          [
           1.9055441478439425,
           164.7823275862069,
           8.827597081113804
          ],
          [
           1.9274469541409993,
           241.7705965909091,
           409.55469337801003
          ],
          [
           1.9274469541409993,
           220.4989346590909,
           0.9625541494257486
          ],
          [
           1.9082819986310746,
           177.64670014347203,
           4.53901766333444
          ],
          [
           1.6563997262149213,
           204.05702479338842,
           0.4959702215708018
          ],
          [
           1.429158110882957,
           104.95689655172413,
           0.0012435366867967334
          ],
          [
           1.68104038329911,
           70.19462540716613,
           0.1698706466998665
          ],
          [
           1.9356605065023955,
           251.59370579915137,
           9.465709987685765
          ],
          [
           1.9110198494182067,
           96.80694842406876,
           0.3043531272472048
          ],
          [
           1.5770020533880904,
           232.0859375,
           0.09124012307509971
          ],
          [
           1.5852156057494866,
           83.90025906735751,
           0.004725344530995412
          ],
          [
           1.782340862422998,
           120.6278801843318,
           0.9315200431370094
          ],
          [
           1.8042436687200547,
           84.24582701062215,
           0.010860944388255066
          ],
          [
           1.7905544147843941,
           129.01032110091745,
           0.6984182553562556
          ],
          [
           1.5550992470910336,
           108.67473591549295,
           0.20253797954248962
          ],
          [
           1.593429158110883,
           102.2951030927835,
           0.15269402157455259
          ],
          [
           1.7713894592744694,
           41.21058732612056,
           0.8231485249683425
          ],
          [
           1.7248459958932238,
           40.583333333333336,
           0.3323059506031072
          ],
          [
           1.7905544147843941,
           115.04816513761469,
           13.589585439303468
          ],
          [
           1.7987679671457906,
           9.450913242009133,
           1.0999501393861588
          ],
          [
           1.6043805612594113,
           160.18643344709898,
           0.05859226087174402
          ],
          [
           0.17796030116358658,
           16.857692307692307,
           0.13770063045333333
          ],
          [
           1.2840520191649556,
           120.71162046908314,
           36.753489819062196
          ],
          [
           1.9219712525667352,
           78.0448717948718,
           0.0784483256478592
          ],
          [
           1.8836413415468858,
           47.24890988372093,
           0.01162267086726989
          ],
          [
           1.919233401779603,
           124.00784593437945,
           13.729656926136052
          ],
          [
           1.8973305954825461,
           189.21320346320348,
           16.0918307844852
          ],
          [
           1.9055441478439425,
           199.41810344827584,
           24.939209744844188
          ],
          [
           1.9274469541409993,
           108.95241477272727,
           0.33422872526691183
          ],
          [
           1.6646132785763177,
           46.256990131578945,
           0.0718113140662987
          ],
          [
           1.1307323750855578,
           56.600484261501215,
           0.013762291308635937
          ],
          [
           1.2867898699520877,
           63.72446808510638,
           0.011271225225597682
          ],
          [
           1.9411362080766599,
           251.39915373765868,
           15.597809718550346
          ],
          [
           1.9274469541409993,
           76.2666903409091,
           39.51178105688275
          ],
          [
           1.538672142368241,
           209.27135231316726,
           0.054565775955223876
          ],
          [
           1.9000684462696784,
           53.15597982708933,
           1.9560142903346285
          ],
          [
           0.2683093771389459,
           55.90561224489796,
           0.008212304373333333
          ],
          [
           0.243668720054757,
           82.07865168539325,
           0.0126008971126
          ],
          [
           1.8672142368240932,
           42.309017595307914,
           0.16838874692789554
          ],
          [
           1.9603011635865846,
           52.03282122905028,
           0.11932755968210784
          ],
          [
           1.727583846680356,
           32.99405705229794,
           0.07987452759302631
          ],
          [
           1.4674880219028064,
           122.65858208955224,
           0.08904376909768333
          ],
          [
           2.297056810403833,
           141.48539928486295,
           0.10858324859116156
          ],
          [
           5.078713210130048,
           230.1764150943396,
           0.4339434911325166
          ],
          [
           4.563997262149213,
           184.4874025194961,
           0.1599208453182803
          ],
          [
           5.078713210130048,
           231.75161725067386,
           1.29283600057162
          ],
          [
           3.077344284736482,
           152.72909252669038,
           0.577895423599685
          ],
          [
           1.7905544147843941,
           201.61353211009177,
           1.7249487087012993
          ],
          [
           3.268993839835729,
           188.43718592964825,
           1.3905363539644287
          ],
          [
           3.0171115674195756,
           232.34142468239565,
           0.9867295473193197
          ],
          [
           6.403832991101985,
           182.39076528430954,
           7.9193978572413295
          ],
          [
           1.3059548254620124,
           128.64150943396226,
           4.898526996643452
          ],
          [
           3.2580424366872007,
           73.66386554621849,
           0.24248536432643333
          ],
          [
           4.810403832991102,
           135.3316733067729,
           0.36038686398753
          ],
          [
           0.15605749486652978,
           38.44736842105263,
           0.43369624385266664
          ],
          [
           0.1998631074606434,
           45.03082191780822,
           0.664720416427
          ],
          [
           2.836413415468857,
           257.0147200772201,
           3.376843331426119
          ],
          [
           3.3429158110882957,
           106.19471744471744,
           0.4049429089625916
          ],
          [
           1.4373716632443532,
           24.35,
           0.2778254393965714
          ],
          [
           4.774811772758385,
           82.7257740825688,
           1.0304686904899367
          ],
          [
           4.802190280629706,
           235.3092930444698,
           1.466488425237145
          ],
          [
           1.2594113620807665,
           32.55489130434783,
           0.1474152929659512
          ],
          [
           4.761122518822724,
           237.75905692926972,
           1.335790605283562
          ],
          [
           1.212867898699521,
           85.7471783295711,
           0.4007223503806058
          ],
          [
           1.4948665297741273,
           27.427197802197803,
           0.26991248922458533
          ],
          [
           0.917180013689254,
           46.88283582089552,
           0.26070661085999997
          ],
          [
           6.403832991101985,
           215.33978195810175,
           0.9217061560488345
          ],
          [
           1.3032169746748803,
           63.68855042016806,
           0.6481232184692771
          ],
          [
           2.1601642710472277,
           33.330798479087456,
           0.31127480888575
          ],
          [
           4.539356605065024,
           80.84846200241255,
           0.46618458822705183
          ],
          [
           0.9007529089664613,
           16.65273556231003,
           1.2133426943498664
          ],
          [
           4.7967145790554415,
           131.54837328767124,
           1.9937565294603803
          ],
          [
           1.8261464750171115,
           30.665667166416792,
           0.45948730813021427
          ],
          [
           6.338124572210814,
           127.16695464362851,
           1.7463626440966808
          ],
          [
           4.698151950718686,
           190.28758741258738,
           3.9097788845041554
          ],
          [
           4.427104722792608,
           147.0487012987013,
           0.5188757865066077
          ],
          [
           4.490075290896646,
           122.0469512195122,
           1.6436361374621806
          ],
          [
           2.16290212183436,
           87.38259493670887,
           1.4075999893855817
          ],
          [
           2.206707734428474,
           226.12872208436724,
           1.6652895179872882
          ],
          [
           0.9034907597535934,
           233.53863636363639,
           8.308466164876778
          ],
          [
           6.403832991101985,
           234.07855921333905,
           13.968248974891194
          ],
          [
           1.3032169746748803,
           82.10451680672269,
           2.147937082511448
          ],
          [
           0.8815879534565366,
           22.68633540372671,
           0.38812227573679997
          ],
          [
           1.7631759069130732,
           228.5648291925466,
           0.4852033100006625
          ],
          [
           6.313483915126626,
           196.08824804856894,
           7.820237732121565
          ],
          [
           1.3032169746748803,
           19.95063025210084,
           0.5899054601490384
          ],
          [
           3.326488706365503,
           134.37592592592594,
           0.5908936518144139
          ],
          [
           1.1663244353182751,
           91.74119718309859,
           0.23585207358317756
          ],
          [
           null,
           null,
           null
          ],
          [
           2.9048596851471595,
           242.35249764373233,
           0.4285166499652551
          ],
          [
           5.393566050650239,
           70.45431472081218,
           1.163046980858487
          ],
          [
           5.207392197125257,
           40.51932176656151,
           1.7763919546003555
          ],
          [
           5.492128678986996,
           78.11178963110667,
           0.5831727602196387
          ],
          [
           4.769336071184121,
           101.69130309988518,
           0.6749117589386598
          ],
          [
           4.054757015742642,
           18.99004051316678,
           2.2121996544006755
          ],
          [
           5.3114305270362765,
           240.6131443298969,
           6.0071616600628905
          ],
          [
           4.999315537303217,
           187.82571193866374,
           0.7367658024366655
          ],
          [
           5.3114305270362765,
           242.4958762886598,
           7.970920436369796
          ],
          [
           0.11498973305954825,
           26.089285714285715,
           0.012047987179999999
          ],
          [
           5.08145106091718,
           164.3231411637931,
           3.245849716262244
          ],
          [
           6.524298425735798,
           231.13596307175828,
           6.305493337558219
          ],
          [
           9.048596851471595,
           247.11013615733737,
           72.44609854280885
          ],
          [
           4.982888432580425,
           148.1068681318681,
           4.724938051027697
          ],
          [
           9.067761806981519,
           245.26449275362322,
           73.13810514982998
          ],
          [
           5.823408624229979,
           124.4975317348378,
           1.220610915685821
          ],
          [
           9.10609171800137,
           250.3818400481058,
           133.474509991116
          ],
          [
           4.032854209445585,
           244.49185336048882,
           71.39838871148366
          ],
          [
           20.257357973990416,
           254.2286119745912,
           185.2620092291132
          ],
          [
           5.144421629021219,
           234.81745609366683,
           102.9601508763106
          ],
          [
           1.2101300479123889,
           31.401583710407238,
           0.22180584230699998
          ],
          [
           0.8158795345653662,
           34.31879194630872,
           0.28421790919027673
          ],
          [
           1.1827515400410678,
           46.501736111111114,
           0.6451486711131955
          ],
          [
           1.0321697467488022,
           11.625994694960212,
           0.11333702913160418
          ],
          [
           null,
           null,
           null
          ],
          [
           5.823408624229979,
           78.81981664315938,
           1.5042572719178533
          ],
          [
           14.959616700889802,
           206.2218612737921,
           24.530981673883613
          ],
          [
           2.9568788501026693,
           159.96597222222223,
           2.073512601053501
          ],
          [
           3.0362765229295,
           239.10865644724979,
           4.061952418937184
          ],
          [
           3.589322381930185,
           84.4170480549199,
           1.2590456005244388
          ],
          [
           4.164271047227926,
           46.10650887573965,
           0.5540854485704427
          ],
          [
           4.117727583846681,
           84.99833776595744,
           0.8574354287205913
          ],
          [
           4.147843942505133,
           85.34554455445544,
           0.911693637287579
          ],
          [
           4.188911704312115,
           49.89362745098039,
           0.7006129191450956
          ],
          [
           9.180013689253936,
           231.5900685952878,
           23.954844085925526
          ],
          [
           5.938398357289528,
           69.54737206085754,
           8.84656011722851
          ],
          [
           7.767282683093772,
           202.64487134296792,
           0.539578892816995
          ],
          [
           9.17180013689254,
           253.49440298507463,
           73.63902187168064
          ],
          [
           0.3668720054757016,
           226.23694029850745,
           0.09033841942368373
          ],
          [
           0.2874743326488706,
           31.307142857142857,
           0.5850339072844446
          ],
          [
           7.403148528405202,
           231.38803624260353,
           1.253860847722114
          ],
          [
           9.160848733744011,
           172.25478182904962,
           0.6230997876386604
          ],
          [
           15.679671457905544,
           203.001702462022,
           0.15765119581559503
          ],
          [
           15.83025325119781,
           182.37231926668971,
           0.269298283465037
          ],
          [
           15.838466803559205,
           207.7852636127917,
           0.8652424844830079
          ],
          [
           0.1697467488021903,
           17.673387096774192,
           0.2289542505503333
          ],
          [
           8.955509924709103,
           208.02835524304496,
           1.9655486432048532
          ],
          [
           2.5817932922655715,
           206.44565217391303,
           0.6871391558382064
          ],
          [
           0.7529089664613279,
           98.28545454545454,
           0.09751276249855405
          ],
          [
           9.125256673511293,
           253.36273627362738,
           92.82863047401608
          ],
          [
           1.1389459274469542,
           111.50661057692307,
           0.0620200862062697
          ],
          [
           9.065023956194388,
           212.90622168529146,
           73.88620826223178
          ],
          [
           7.080082135523614,
           194.91299303944317,
           20.519387801246136
          ],
          [
           9.073237508555783,
           205.99041943270973,
           55.81480253333706
          ],
          [
           9.160848733744011,
           191.2486551105798,
           7.340784985686734
          ],
          [
           9.160848733744011,
           252.92416317991632,
           6.665061897986003
          ],
          [
           2.5927446954141,
           223.70116156283,
           0.5920341030566543
          ],
          [
           2.346338124572211,
           219.91715285880977,
           1.3319332947524596
          ],
          [
           1.3388090349075976,
           33.61196319018405,
           0.1676755825799389
          ],
          [
           9.092402464065708,
           211.9351851851852,
           6.5109123043859745
          ],
          [
           4.662559890485968,
           107.66617733411627,
           3.9218016949131975
          ],
          [
           1.7440109514031485,
           9.17425431711146,
           0.3392037148858593
          ],
          [
           4.276522929500342,
           78.10083226632523,
           3.6886288974229045
          ],
          [
           9.023956194387406,
           144.50424757281553,
           43.97553830448403
          ],
          [
           1.8288843258042438,
           10.388847305389222,
           0.1739105114841184
          ],
          [
           8.643394934976044,
           100.1921127652835,
           3.314589903100275
          ],
          [
           1.8069815195071868,
           22.136363636363637,
           1.651332421766575
          ],
          [
           4.090349075975359,
           162.08885542168676,
           4.835093431071795
          ],
          [
           4.295687885010267,
           199.50239005736137,
           5.39048560195776
          ],
          [
           3.701574264202601,
           45.11593934911242,
           0.9297595127748502
          ],
          [
           1.8973305954825461,
           24.77164502164502,
           0.018969982360202125
          ],
          [
           4.388774811772758,
           167.9284154709919,
           2.0179692939377882
          ],
          [
           8.933607118412047,
           223.98567269384003,
           89.7331995463812
          ],
          [
           2.0342231348391513,
           242.84454912516824,
           8.933707969213875
          ],
          [
           5.1416837782340865,
           248.75119808306707,
           19.699049209220668
          ],
          [
           2.5872689938398357,
           180.11269841269842,
           1.2886785394272529
          ],
          [
           3.3210130047912387,
           248.71929101401486,
           8.32825936411756
          ],
          [
           8.83230663928816,
           254.18048667079975,
           293.4116513054281
          ],
          [
           6.039698836413415,
           248.02561196736175,
           1.1875329351297308
          ],
          [
           5.522245037645448,
           194.84828953891918,
           0.9741396942005001
          ],
          [
           3.756331279945243,
           81.46246355685132,
           2.1396413032071893
          ],
          [
           3.7508555783709787,
           64.51861313868613,
           0.6611505668400827
          ],
          [
           1.1225188227241616,
           40.08841463414634,
           0.2508767948086889
          ],
          [
           1.1225188227241616,
           21.380487804878047,
           0.1678597828549271
          ],
          [
           0.8624229979466119,
           13.914285714285715,
           1.3522331671187497
          ],
          [
           4.763860369609857,
           225.23749999999998,
           6.059946668770925
          ],
          [
           9.127994524298426,
           174.84673065386923,
           5.3207774788627
          ],
          [
           2.535249828884326,
           134.50350971922245,
           0.6663828551195748
          ],
          [
           3.4715947980835042,
           242.8278785488959,
           16.882829607046318
          ],
          [
           1.5742642026009583,
           62.88652173913043,
           4.846849014775253
          ],
          [
           8.473648186173854,
           250.18739903069465,
           3.8776190573101195
          ],
          [
           0.8624229979466119,
           9.276190476190475,
           0.2270129749125
          ],
          [
           6.3901437371663246,
           87.16548843187661,
           1.3672130342036806
          ],
          [
           8.996577686516085,
           249.87279367011564,
           607.1835748862015
          ],
          [
           5.94113620807666,
           202.14988479262672,
           5.36783530413803
          ],
          [
           5.138945927446954,
           215.80301012253594,
           13.17584001119948
          ],
          [
           1.4565366187542779,
           123.58082706766918,
           0.30850369575037356
          ],
          [
           1.3990417522245038,
           86.48776908023483,
           0.3725628644180743
          ],
          [
           0.4024640657084189,
           14.908163265306122,
           0.20936282903483336
          ],
          [
           0.432580424366872,
           25.428797468354432,
           0.5468434578825682
          ],
          [
           0.08761122518822724,
           22.828125,
           0.0012688556600000001
          ],
          [
           0.5065023956194388,
           13.820270270270269,
           0.04542706750682143
          ],
          [
           2.2614647501711156,
           249.8380750605327,
           2.564704159796239
          ],
          [
           9.160848733744011,
           164.72272863120142,
           6.220493242011117
          ],
          [
           9.02943189596167,
           148.6250758035173,
           13.944978281259685
          ],
          [
           9.152635181382614,
           251.5122644331439,
           86.3365696065421
          ],
          [
           7.156741957563312,
           240.47255164498853,
           1.7874729190333252
          ],
          [
           2.8254620123203287,
           87.77325581395348,
           0.5513771212497983
          ],
          [
           2.5735797399041753,
           55.56462765957446,
           0.2845045632419581
          ],
          [
           4.813141683778234,
           135.87798634812287,
           1.8340768143269188
          ],
          [
           4.774811772758385,
           141.5762614678899,
           1.544900183153883
          ],
          [
           4.777549623545517,
           208.68438395415473,
           1.6543527445609076
          ],
          [
           4.473648186173854,
           220.8488372093023,
           15.544983085762164
          ],
          [
           3.728952772073922,
           97.34636563876651,
           1.8739115143909093
          ],
          [
           0.9363449691991786,
           53.39912280701754,
           0.019134568867965003
          ],
          [
           1.051334702258727,
           32.33984375,
           0.030813042935323526
          ],
          [
           4.7967145790554415,
           109.6583904109589,
           0.7461591720060362
          ],
          [
           2.1601642710472277,
           58.79182509505704,
           1.1966278782962598
          ],
          [
           5.831622176591376,
           84.36760563380282,
           0.9445151921929309
          ],
          [
           9.067761806981519,
           238.86820652173915,
           72.18247507587787
          ],
          [
           4.991101984941821,
           122.41785518376302,
           0.8825488593064648
          ],
          [
           1.136208076659822,
           66.00903614457832,
           0.05178012977917001
          ],
          [
           0.6351813826146475,
           113.35344827586206,
           0.07113910584677777
          ],
          [
           0.6926762491444216,
           86.6205533596838,
           0.20495497079245
          ],
          [
           2.42299794661191,
           115.97203389830507,
           0.427796079004136
          ],
          [
           3.36208076659822,
           140.98412052117266,
           0.18324180900802742
          ],
          [
           17.675564681724847,
           254.02300185873605,
           70.28271587976636
          ],
          [
           5.94113620807666,
           197.94193548387096,
           0.2363917415644173
          ],
          [
           6.05886379192334,
           216.0471079981925,
           0.4831422577971951
          ],
          [
           2.43668720054757,
           201.91348314606742,
           0.2928595667371382
          ],
          [
           10.35728952772074,
           254.31363996827912,
           99.8022574296736
          ],
          [
           9.834360027378509,
           254.5157989977728,
           35.437325621291386
          ],
          [
           16.637919233401778,
           253.93800394931714,
           96.70952348341915
          ],
          [
           1.541409993155373,
           66.17317939609237,
           0.5455164990596225
          ],
          [
           17.125256673511295,
           254.12757793764985,
           158.7932612084841
          ],
          [
           16.640657084188913,
           254.07650542941755,
           137.3582413162559
          ],
          [
           14.056125941136209,
           253.27035449941565,
           45.63287602270153
          ],
          [
           13.883641341546886,
           253.24768290278053,
           32.5154272663935
          ],
          [
           2.702258726899384,
           186.51063829787236,
           3.0200799975077284
          ],
          [
           14.11088295687885,
           254.27182770663563,
           68.43978744303911
          ],
          [
           0.27652292950034224,
           83.17574257425743,
           0.1104302989239565
          ],
          [
           4.41615331964408,
           249.31199628022318,
           2.271249409043298
          ],
          [
           13.689253935660506,
           254.36010000000002,
           155.59061583689896
          ],
          [
           8.147843942505133,
           250.98664314516128,
           1.3934125169062626
          ],
          [
           0.2737850787132101,
           47.4825,
           0.1384773233375192
          ],
          [
           4.4106776180698155,
           242.13966480446925,
           2.9462386165474364
          ],
          [
           10.472279260780287,
           251.33019607843138,
           26.04706688472968
          ],
          [
           19.589322381930184,
           254.32222222222222,
           238.5719440921929
          ],
          [
           14.669404517453799,
           250.99860022396416,
           37.67810777698748
          ],
          [
           14.11088295687885,
           248.88591385331782,
           30.359212900475544
          ],
          [
           13.804243668720055,
           227.97337366124555,
           16.186105096258075
          ],
          [
           17.11978097193703,
           254.03362386054695,
           217.82415583751973
          ],
          [
           16.522929500342233,
           253.9501242750621,
           274.52287015594123
          ],
          [
           13.804243668720055,
           249.1262891709639,
           48.175963085891276
          ],
          [
           16.640657084188913,
           253.83613030602172,
           110.94507062724831
          ],
          [
           2.4421629021218343,
           244.45543721973095,
           0.6439640141193496
          ],
          [
           2.4421629021218343,
           226.84809417040358,
           0.5628425551815466
          ],
          [
           12.78302532511978,
           254.08695652173915,
           333.61799924010637
          ],
          [
           2.43668720054757,
           226.94747191011237,
           0.9927342659034379
          ],
          [
           17.557837097878167,
           253.96066583502258,
           157.30959450691273
          ],
          [
           0.33401779603011633,
           224.53893442622953,
           1.01238378946476
          ],
          [
           9.834360027378509,
           254.5157989977728,
           129.14680399030178
          ],
          [
           7.017111567419575,
           254.09315255559892,
           1.2454400048594558
          ],
          [
           1.4647501711156743,
           257.38177570093455,
           3.5687988475574937
          ],
          [
           17.125256673511295,
           254.12757793764985,
           5.98083444811522
          ],
          [
           16.643394934976044,
           248.08640401381805,
           1.4358118331626106
          ],
          [
           7.017111567419575,
           254.66318767069842,
           7.028407162644722
          ],
          [
           15.945242984257359,
           253.99424793956044,
           12.23895843106781
          ],
          [
           1.0239561943874058,
           200.2038770053476,
           0.0969465871082927
          ],
          [
           3.381245722108145,
           254.93562753036437,
           3.40973497693612
          ],
          [
           18.70773442847365,
           254.22640128786767,
           119.4608254788233
          ],
          [
           13.995893223819301,
           254.14598004694835,
           230.70027273827202
          ],
          [
           13.768651608487337,
           254.41852256909922,
           80.94551488918702
          ],
          [
           15.704312114989733,
           254.19769874476987,
           121.8547841177083
          ],
          [
           13.670088980150581,
           254.35094131784498,
           165.70083929901077
          ],
          [
           20.993839835728952,
           254.1221635367762,
           231.4012986878232
          ],
          [
           17.675564681724847,
           254.07957713754647,
           6.808488601175665
          ],
          [
           4.413415468856948,
           253.54513027295283,
           4.64453130890908
          ],
          [
           9.297741273100616,
           254.47040636042402,
           57.45792276707215
          ],
          [
           13.66735112936345,
           254.18239182692307,
           94.71299043635896
          ],
          [
           6.406570841889117,
           214.62339743589743,
           0.7421132691851764
          ],
          [
           13.801505817932922,
           254.39253124380085,
           35.143442432016016
          ],
          [
           15.603011635865846,
           254.3098789261274,
           43.385761987093204
          ],
          [
           13.801505817932922,
           254.39253124380085,
           29.09255177922687
          ],
          [
           13.66735112936345,
           254.32872596153845,
           59.8362917063819
          ],
          [
           13.653661875427789,
           254.4372368157209,
           190.27598209957594
          ],
          [
           13.338809034907598,
           254.3705357142857,
           1032.1973673198625
          ],
          [
           20.580424366872005,
           254.17357323400293,
           72.57549805641216
          ],
          [
           16.643394934976044,
           251.81160552722488,
           2.6832772795645674
          ],
          [
           4.413415468856948,
           250.82614764267987,
           0.9824146095656648
          ],
          [
           7.017111567419575,
           254.09315255559892,
           2.168351331059659
          ],
          [
           14.480492813141684,
           254.34217243335223,
           4.678868177019449
          ],
          [
           15.696098562628336,
           251.97344322344324,
           6.508346708281175
          ],
          [
           16.643394934976044,
           254.03470965619346,
           7.361645282778598
          ],
          [
           14.455852156057494,
           233.7461647727273,
           14.503989670671913
          ],
          [
           8.728268309377139,
           247.58633939774154,
           4.991332233572761
          ],
          [
           8.725530458590006,
           252.59209287731412,
           16.574002323457034
          ],
          [
           7.416837782340862,
           175.41168327796234,
           0.3731203119111784
          ],
          [
           8.728268309377139,
           231.4319322459222,
           0.9591465840493638
          ],
          [
           8.731006160164272,
           254.1516933207902,
           2.897179938929762
          ],
          [
           7.496235455167693,
           138.60290357925493,
           0.26984464767489685
          ],
          [
           8.61054072553046,
           254.68783783783783,
           47.198452833856884
          ],
          [
           8.728268309377139,
           252.39829046424092,
           17.769725633393307
          ],
          [
           7.5509924709103355,
           233.0819434372734,
           0.5703427792638288
          ],
          [
           8.722792607802875,
           248.65889830508473,
           12.175706323763427
          ],
          [
           8.720054757015742,
           209.4023547880691,
           2.0723555975254477
          ],
          [
           8.602327173169062,
           254.1172819859962,
           24.098279064950443
          ],
          [
           8.728268309377139,
           254.57512547051442,
           14.843003024516467
          ],
          [
           4.413415468856948,
           254.90462158808933,
           1.7741141996333514
          ],
          [
           17.675564681724847,
           254.07957713754647,
           14.76014360203837
          ],
          [
           14.009582477754963,
           253.7548856752003,
           50.55606825079821
          ],
          [
           14.056125941136209,
           253.91064472146473,
           43.01261609666072
          ],
          [
           18.70773442847365,
           251.07262549392652,
           7.418938881090256
          ],
          [
           18.70773442847365,
           253.90567832577196,
           7.484966104129516
          ],
          [
           15.696098562628336,
           252.8653846153846,
           15.765395655902918
          ],
          [
           17.675564681724847,
           253.96642657992564,
           6.0430371362559825
          ],
          [
           7.017111567419575,
           246.54018728053063,
           1.0055836834997438
          ],
          [
           6.182067077344285,
           247.4900354295837,
           0.7629516565354197
          ],
          [
           13.66735112936345,
           254.25555889423077,
           55.40321270190025
          ],
          [
           15.646817248459959,
           254.23700787401575,
           28.48062126445475
          ],
          [
           0.6132785763175906,
           192.40848214285717,
           0.1658198898923284
          ],
          [
           15.529089664613279,
           254.16815056417488,
           14.511752946788059
          ],
          [
           10.47501711156742,
           254.41485886042864,
           43.40038156620225
          ],
          [
           8.265571526351813,
           254.79181848294138,
           29.312524066773
          ],
          [
           16.643394934976044,
           253.79437407468333,
           7.075533065643353
          ],
          [
           15.931553730321697,
           253.8358824540299,
           14.306205900708795
          ],
          [
           16.640657084188913,
           253.41547384007896,
           99.39555151789985
          ],
          [
           7.017111567419575,
           254.66318767069842,
           4.193927721414497
          ],
          [
           0.15331964407939766,
           267.4151785714286,
           0.9200218361998048
          ],
          [
           0.15331964407939766,
           254.37053571428572,
           0.5635043735140065
          ],
          [
           0.24914442162902123,
           256.8791208791209,
           1.3898472377591953
          ],
          [
           0.24093086926762491,
           261.48579545454544,
           1.7832697053258058
          ],
          [
           0.33401779603011633,
           239.5081967213115,
           1.5881932457553845
          ],
          [
           11.184120465434633,
           253.66321909424727,
           95.5430361960262
          ],
          [
           8.265571526351813,
           254.79181848294138,
           155.27539185582305
          ],
          [
           10.47501711156742,
           253.26927600627286,
           17.29200904550616
          ],
          [
           13.00205338809035,
           254.26753000631712,
           173.34055356467445
          ],
          [
           11.94798083504449,
           254.10151237396883,
           98.47842165089631
          ],
          [
           2.43668720054757,
           245.8255617977528,
           0.7581418299511632
          ],
          [
           7.838466803559206,
           192.76728955640937,
           34.32168101239108
          ],
          [
           0.810403832991102,
           227.0472972972973,
           0.11627139056022963
          ],
          [
           17.675564681724847,
           253.57039962825277,
           22.272557210376817
          ],
          [
           9.533196440793978,
           253.53510913268235,
           4.382710839761694
          ],
          [
           17.675564681724847,
           254.02300185873605,
           38.99825861785304
          ],
          [
           13.66735112936345,
           249.86553485576923,
           19.912205768601844
          ],
          [
           1.5550992470910336,
           214.77728873239434,
           0.20361492620311075
          ],
          [
           13.152635181382614,
           252.5729600333056,
           32.33056146499999
          ],
          [
           1.514031485284052,
           242.3991862567812,
           0.3530201544994148
          ],
          [
           15.646817248459959,
           247.20682414698163,
           2.5044615877583207
          ],
          [
           4.41615331964408,
           227.57362058276502,
           1.1581117626503887
          ],
          [
           13.801505817932922,
           254.39253124380085,
           9.991638073248202
          ],
          [
           17.675564681724847,
           254.07957713754647,
           82.95188623225884
          ],
          [
           1.514031485284052,
           228.52893309222424,
           0.7605844852895721
          ],
          [
           9.177275838466803,
           181.64431682577566,
           3.740627643638492
          ],
          [
           1.514031485284052,
           221.9240506329114,
           0.10705222244997917
          ],
          [
           17.12251882272416,
           232.267228973457,
           7.0652802146775375
          ],
          [
           4.41615331964408,
           242.29231246125232,
           18.802190527050257
          ],
          [
           1.9082819986310746,
           254.6793400286944,
           0.4759218808016034
          ],
          [
           1.514031485284052,
           189.56012658227849,
           0.06094365917374914
          ],
          [
           12.602327173169062,
           254.23875733217469,
           108.85406203914036
          ],
          [
           9.297741273100616,
           228.6576855123675,
           5.137703193111667
          ],
          [
           4.407939767282683,
           221.1917701863354,
           0.6473144140550716
          ],
          [
           13.66735112936345,
           251.18254206730768,
           22.054791153692094
          ],
          [
           18.70773442847365,
           254.22640128786767,
           21.626564288149744
          ],
          [
           13.14715947980835,
           236.24875052061643,
           15.069080587876396
          ],
          [
           17.672826830937716,
           252.30824941905496,
           13.992635159780408
          ],
          [
           13.152635181382614,
           235.6942131557036,
           6.365232153154188
          ],
          [
           17.12251882272416,
           251.54009433962267,
           14.836083944564587
          ],
          [
           13.779603011635865,
           228.2358931055037,
           5.950980300665377
          ],
          [
           8.342231348391513,
           239.5042664916311,
           1.5102970788361931
          ],
          [
           17.675564681724847,
           249.8930065055762,
           9.667319013873191
          ],
          [
           16.643394934976044,
           252.95319953939793,
           5.404344039903638
          ],
          [
           13.338809034907598,
           210.2136699507389,
           10.185121013602956
          ],
          [
           1.8973305954825461,
           252.4599567099567,
           1.360557529221027
          ],
          [
           1.5742642026009583,
           172.14391304347825,
           0.46426237066332754
          ],
          [
           14.056125941136209,
           253.6260712894429,
           57.5044123807861
          ],
          [
           2.414784394250513,
           66.67261904761905,
           357.6498569846273
          ],
          [
           4.41615331964408,
           244.5567265964042,
           11.719441460583434
          ],
          [
           13.650924024640657,
           247.96856197352588,
           57.9335558215002
          ],
          [
           0.5913757700205339,
           86.23958333333333,
           0.028454354640078432
          ],
          [
           0.5995893223819302,
           176.7876712328767,
           0.08272169580657548
          ],
          [
           0.6160164271047228,
           146.1,
           0.09644345791944443
          ],
          [
           0.6160164271047228,
           64.93333333333334,
           0.021463300332625
          ],
          [
           1.516769336071184,
           210.3154332129964,
           0.8224278527196333
          ],
          [
           3.378507871321013,
           244.19064019448948,
           0.8137540058335293
          ],
          [
           12.48186173853525,
           254.12875630620752,
           123.65333843567046
          ],
          [
           0.24093086926762491,
           62.25852272727273,
           0.1604792150995
          ],
          [
           4.2792607802874745,
           245.36948176583493,
           8.579093241333851
          ],
          [
           17.557837097878167,
           254.01762045844376,
           60.53326334522339
          ],
          [
           13.538672142368242,
           254.30854398382203,
           627.0915841987268
          ],
          [
           13.631759069130732,
           253.892398071902,
           31.41567581530787
          ],
          [
           15.696098562628336,
           203.55376766091052,
           8.500538899734021
          ],
          [
           12.48186173853525,
           254.12875630620752,
           242.6656246176123
          ],
          [
           3.383983572895277,
           255.61589805825244,
           1.901996857374478
          ],
          [
           21.111567419575632,
           253.84188172740244,
           27.73727727619687
          ],
          [
           15.704312114989733,
           254.26137552301256,
           75.64229128341942
          ],
          [
           15.696098562628336,
           253.8210361067504,
           2.1469463447835344
          ],
          [
           17.675564681724847,
           253.6269749070632,
           1.3821388966198394
          ],
          [
           15.945242984257359,
           246.46849244505495,
           0.5257220527174217
          ],
          [
           16.643394934976044,
           251.99185721335746,
           4.59655176683918
          ],
          [
           14.05886379192334,
           250.80262901655308,
           25.626126626433525
          ],
          [
           0.2737850787132101,
           47.4825,
           0.1251253310075192
          ],
          [
           9.834360027378509,
           250.34674276169264,
           27.431326414693245
          ],
          [
           8.731006160164272,
           244.4162746942615,
           1.2144705688173798
          ],
          [
           8.720054757015742,
           144.7238618524333,
           0.27979422831552925
          ],
          [
           0.15605749486652978,
           269.1315789473684,
           1.413071468918149
          ],
          [
           0.15605749486652978,
           269.1315789473684,
           1.4005333777140296
          ],
          [
           4.640657084188912,
           254.48982300884956,
           74.04113606367089
          ],
          [
           0.13141683778234087,
           45.65625,
           0.020332238524666663
          ],
          [
           1.7056810403832992,
           29.90008025682183,
           0.2971658778281373
          ],
          [
           1.5496235455167693,
           20.65017667844523,
           0.4237326738375
          ],
          [
           1.1526351813826146,
           16.483966745843233,
           0.5295784419210525
          ],
          [
           5.713894592744696,
           113.93279827503594,
           7.934809167397503
          ],
          [
           4.413415468856948,
           62.310018610421835,
           9.580395024731999
          ],
          [
           4.479123887748118,
           46.43765281173594,
           2.3543810643547403
          ],
          [
           1.1882272416153319,
           164.95161290322582,
           0.5947916724133929
          ],
          [
           4.314852840520191,
           129.32074873096448,
           22.52519185671785
          ],
          [
           5.412731006160164,
           139.30121396054628,
           12.36222826375324
          ],
          [
           0.7885010266940452,
           30.4375,
           1.3316008918239584
          ],
          [
           1.6974674880219027,
           34.75766129032258,
           1.7042676579800846
          ],
          [
           2.9924709103353866,
           231.58119853613908,
           1.4971294370152235
          ],
          [
           1.700205338809035,
           38.81884057971014,
           0.33884080847381826
          ],
          [
           1.3442847364818618,
           83.31568228105907,
           0.6718480534375
          ],
          [
           4.772073921971253,
           185.66351118760755,
           5.696904077153499
          ],
          [
           4.772073921971253,
           170.15662650602408,
           8.480611807652993
          ],
          [
           5.409993155373032,
           225.5086032388664,
           105.26883494253326
          ],
          [
           5.045859000684462,
           135.35851871947912,
           5.466149703325952
          ],
          [
           1.514031485284052,
           150.59132007233273,
           1.428181383211842
          ],
          [
           4.870636550308008,
           152.13617200674537,
           1.566166277103375
          ],
          [
           1.4264202600958247,
           72.20873320537429,
           2.944020626903884
          ],
          [
           3.7344284736481863,
           104.43365102639295,
           2.079005997735898
          ],
          [
           5.062286105407256,
           175.4148188209843,
           12.362312879774295
          ],
          [
           1.8480492813141685,
           146.64111111111112,
           4.881047091827031
          ],
          [
           0.09582477754962354,
           62.614285714285714,
           0.5323409003416667
          ],
          [
           4.317590691307323,
           162.35906785034877,
           0.6557649317996791
          ],
          [
           0.08213552361396304,
           36.525,
           0.9832918821666665
          ],
          [
           0.2190280629705681,
           22.828125,
           8.38324525152
          ],
          [
           0.31211498973305957,
           41.651315789473685,
           15.590663165707694
          ],
          [
           1.325119780971937,
           34.71384297520661,
           0.8552106344826089
          ],
          [
           1.462012320328542,
           60.87500000000001,
           0.7012050968823035
          ],
          [
           1.6700889801505818,
           138.91475409836065,
           0.8456708847702588
          ],
          [
           0.1806981519507187,
           60.87499999999999,
           0.6466368573909091
          ],
          [
           5.0513347022587265,
           170.0540650406504,
           17.264156893196386
          ],
          [
           0.15879534565366188,
           25.189655172413794,
           0.21098491093750002
          ],
          [
           1.45927446954141,
           69.2124765478424,
           3.94601407620099
          ],
          [
           1.9520876112251881,
           18.44179523141655,
           2.3974018849750003
          ],
          [
           4.788501026694045,
           56.593910806174954,
           6.1270313648339485
          ],
          [
           5.04312114989733,
           226.05048859934854,
           18.823508697976813
          ],
          [
           3.8439425051334704,
           148.54540598290598,
           4.111274222267663
          ],
          [
           5.713894592744696,
           216.48981792045998,
           10.664793846436277
          ],
          [
           4.4517453798767965,
           75.70064575645756,
           9.266281230256082
          ],
          [
           5.711156741957564,
           124.31807286673057,
           13.241259270489506
          ],
          [
           2.836413415468857,
           257.0147200772201,
           4.164733727759879
          ],
          [
           1.163586584531143,
           35.235882352941175,
           0.08852924167592682
          ],
          [
           2.187542778918549,
           151.3113266583229,
           0.1369766106697009
          ],
          [
           1.0157426420260096,
           27.566037735849054,
           0.09218726879028571
          ],
          [
           1.0184804928131417,
           23.56451612903226,
           0.18042050169166665
          ],
          [
           0.9226557152635181,
           6.502967359050445,
           0.13224882692083334
          ],
          [
           4.164271047227926,
           255.02662721893492,
           3.4211971535990466
          ],
          [
           4.700889801505818,
           116.14822364589399,
           0.36097407402514287
          ],
          [
           5.711156741957564,
           254.41430968360496,
           10.848695712436244
          ],
          [
           2.7789185489390826,
           227.42660098522168,
           0.6280856897482048
          ],
          [
           2.9924709103353866,
           255.9757548032937,
           2.4026592171188237
          ],
          [
           4.161533196440794,
           253.03174342105265,
           1.9465344348443354
          ],
          [
           7.863107460643395,
           254.4795438718663,
           19.787627239926856
          ],
          [
           13.744010951403148,
           241.99631474103586,
           77.96837714620433
          ],
          [
           13.653661875427789,
           246.8934730298777,
           3.702381254877481
          ],
          [
           2.455852156057495,
           244.72157190635448,
           0.37839257926675235
          ],
          [
           9.349760438056126,
           234.1236456808199,
           1.4799125861765898
          ],
          [
           5.702943189596167,
           243.55844935189631,
           5.3434712595599825
          ],
          [
           1.1498973305954825,
           63.48392857142858,
           0.1826483667034384
          ],
          [
           1.4373716632443532,
           97.4,
           0.7971985223505786
          ],
          [
           2.915811088295688,
           124.83661971830986,
           0.49741067695232116
          ],
          [
           2.8008213552361396,
           235.6451612903226,
           0.23506675503865002
          ],
          [
           2.7624914442162902,
           35.113230921704655,
           0.2427714556028866
          ],
          [
           3.9315537303216974,
           58.75539693593315,
           0.29765455366620774
          ],
          [
           4.654346338124572,
           42.540882352941175,
           0.16936349314048485
          ],
          [
           0.11772758384668036,
           144.40116279069767,
           0.47427766963299994
          ],
          [
           4.80766598220397,
           78.624430523918,
           0.23206329807222748
          ],
          [
           1.1526351813826146,
           121.46080760095013,
           0.09914945861024288
          ],
          [
           14.778918548939084,
           254.07813078918116,
           7.6069129841440155
          ],
          [
           4.164271047227926,
           250.4640039447732,
           4.177222679010982
          ],
          [
           2.746064339493498,
           257.0952143569292,
           5.779015842314454
          ],
          [
           0.06570841889117043,
           60.875,
           3.2295840517719996
          ],
          [
           2.0342231348391513,
           254.64266487213996,
           1.160017075693871
          ],
          [
           4.741957563312799,
           135.80889145496536,
           0.3828217554518462
          ],
          [
           10.811772758384668,
           249.54279564446693,
           2.1761325287791853
          ],
          [
           1.1745379876796715,
           160.91433566433565,
           0.12546068508020633
          ],
          [
           2.130047912388775,
           250.6985861182519,
           3.0036666384961013
          ],
          [
           1.163586584531143,
           79.92529411764706,
           0.0428366598768172
          ],
          [
           5.711156741957564,
           239.18096836049855,
           0.8528049810621955
          ],
          [
           2.242299794661191,
           79.38278388278388,
           0.0901161837944382
          ],
          [
           2.302532511978097,
           76.43757431629014,
           0.11840749154657387
          ],
          [
           8.917180013689254,
           254.3404973902364,
           11.292042466573381
          ],
          [
           14.778918548939084,
           229.71910892923304,
           4.541419517842318
          ],
          [
           null,
           null,
           null
          ],
          [
           4.785763175906913,
           38.44736842105263,
           0.4365170578804565
          ],
          [
           3.7371663244353184,
           51.10824175824175,
           0.919059019935754
          ],
          [
           1.5030800821355237,
           132.3948087431694,
           0.06858691758695477
          ],
          [
           1.3990417522245038,
           49.31947162426614,
           0.18728129725578263
          ],
          [
           1.7138945927446954,
           229.88578274760386,
           0.22232355951311808
          ],
          [
           1.6947296372347707,
           149.28634894991922,
           0.0013918793100117393
          ],
          [
           1.7138945927446954,
           131.27995207667732,
           0.30738477875641174
          ],
          [
           1.7248459958932238,
           209.2940476190476,
           2.2470995804120797
          ],
          [
           1.7084188911704312,
           135.2127403846154,
           0.16889992589352812
          ],
          [
           1.6947296372347707,
           201.2120355411955,
           0.03960740422320637
          ],
          [
           1.7166324435318274,
           141.5562200956938,
           0.43330399689434157
          ],
          [
           1.7084188911704312,
           149.84615384615384,
           0.007270298454113751
          ],
          [
           1.7193702943189597,
           131.4434713375796,
           0.2328428108724027
          ],
          [
           1.7138945927446954,
           200.71246006389777,
           1.2442990007207704
          ],
          [
           1.7138945927446954,
           139.44848242811503,
           1.1251632646664622
          ],
          [
           1.727583846680356,
           250.06022187004754,
           0.09737640663375069
          ],
          [
           1.7248459958932238,
           232.4845238095238,
           17.16372872843301
          ],
          [
           0.243668720054757,
           196.98876404494382,
           0.5449677480323333
          ],
          [
           1.700205338809035,
           99.987922705314,
           0.856652230946831
          ],
          [
           1.7248459958932238,
           238.86190476190475,
           5.814012463697406
          ],
          [
           0.11772758384668036,
           93.43604651162791,
           0.023503636308000002
          ],
          [
           3.0198494182067077,
           220.2096554850408,
           5.357417307367767
          ],
          [
           null,
           null,
           null
          ],
          [
           9.065023956194388,
           223.93763213530656,
           16.73901996513494
          ],
          [
           13.174537987679672,
           247.67471945137154,
           2.7495026059230665
          ],
          [
           6.193018480492813,
           251.4121352785146,
           32.889517167829325
          ],
          [
           12.402464065708418,
           254.1430463576159,
           50.815397800853006
          ],
          [
           13.357973990417522,
           254.00558516089365,
           69.84216317760678
          ],
          [
           18.168377823408623,
           254.12285262206152,
           83.7597596994676
          ],
          [
           4.334017796030117,
           164.51247631080227,
           2.313037522085622
          ],
          [
           2.537987679671458,
           211.19093851132686,
           2.7843094997124735
          ],
          [
           3.36208076659822,
           126.40981270358307,
           0.9797941811880141
          ],
          [
           2.403832991101985,
           112.7366173120729,
           0.21988159580002212
          ],
          [
           15.069130732375086,
           244.00876635174419,
           10.064904467095086
          ],
          [
           5.604380561259411,
           246.2359550561798,
           7.261897835304905
          ],
          [
           7.972621492128679,
           245.71591689560438,
           121.38519716377485
          ],
          [
           null,
           null,
           null
          ],
          [
           5.582477754962355,
           83.47547817557626,
           0.2948410596545944
          ],
          [
           6.767967145790554,
           214.39229368932038,
           18.06517045927814
          ],
          [
           3.216974674880219,
           245.8831914893617,
           3.6977676260258336
          ],
          [
           2.1464750171115674,
           120.66294642857143,
           0.20037627868942853
          ],
          [
           16.295687885010267,
           254.05493951612902,
           202.54051730080678
          ],
          [
           13.349760438056126,
           254.38658736669402,
           17.145031201735375
          ],
          [
           16.982888432580424,
           254.02039335805256,
           365.4811684684833
          ],
          [
           20.05201916495551,
           254.08912479519387,
           3.0829894838688854
          ],
          [
           20.966461327857633,
           253.9770501436406,
           48.00265440516832
          ],
          [
           13.765913757700206,
           235.29131861575178,
           18.74906345571412
          ],
          [
           2.184804928131417,
           140.51597744360902,
           0.628344741676391
          ],
          [
           12.772073921971252,
           254.22652733118971,
           34.565145250179775
          ],
          [
           7.3319644079397674,
           245.0912061239731,
           10.609950391295124
          ],
          [
           2.1656399726214923,
           97.43078381795195,
           0.3598410733544502
          ],
          [
           8.071184120465434,
           239.12228629579377,
           14.684615921337784
          ],
          [
           2.1711156741957565,
           229.37515762925597,
           0.1774950324921044
          ],
          [
           6.743326488706366,
           204.3501827040195,
           6.141799526959925
          ],
          [
           6.803559206023272,
           252.367907444668,
           20.628155623693143
          ],
          [
           6.160164271047228,
           245.44799999999998,
           55.851151243653824
          ],
          [
           null,
           null,
           null
          ],
          [
           19.537303216974674,
           254.38515975336324,
           169.63654361059616
          ],
          [
           3.57015742642026,
           115.4010736196319,
           0.847543090826932
          ],
          [
           19.342915811088297,
           249.75552016985137,
           49.649845608778
          ],
          [
           17.749486652977414,
           254.0355159648311,
           196.3193093970665
          ],
          [
           7.301848049281314,
           230.48959505061868,
           50.17394721280888
          ],
          [
           19.342915811088297,
           254.2532908704883,
           196.58657538311016
          ],
          [
           7.301848049281314,
           254.45613048368955,
           76.76048133328572
          ],
          [
           7.301848049281314,
           254.45613048368955,
           109.98537412921297
          ],
          [
           2.299794661190965,
           142.62142857142857,
           0.4858460860765458
          ],
          [
           15.945242984257359,
           253.86881868131866,
           528.4946629804683
          ],
          [
           21.111567419575632,
           254.17345350797564,
           167.1779670168747
          ],
          [
           10.951403148528405,
           248.552625,
           15.169322184859473
          ],
          [
           14.76249144421629,
           254.42859792284867,
           24.610710491702548
          ],
          [
           16.11772758384668,
           254.00603023611347,
           35.003755881155115
          ],
          [
           9.182751540041068,
           254.38998211091234,
           154.79178520505877
          ],
          [
           6.1711156741957565,
           253.92491126885537,
           57.31325878276681
          ],
          [
           6.1711156741957565,
           252.30445874001774,
           16.766498881172016
          ],
          [
           11.676933607118412,
           173.41881594372802,
           7.599215961210274
          ],
          [
           11.67419575633128,
           245.32739212007505,
           35.79376165710382
          ],
          [
           7.301848049281314,
           238.2958380202475,
           23.692135425692197
          ],
          [
           8.238193018480493,
           238.40179461615156,
           12.952117897644873
          ],
          [
           15.50444900752909,
           253.2176408264171,
           3.483480907170479
          ],
          [
           13.675564681724847,
           252.0554054054054,
           1.754080938011041
          ],
          [
           6.3436002737850785,
           221.79833836858006,
           12.075708398069866
          ],
          [
           9.371663244353183,
           254.49057843996493,
           199.10352571902166
          ],
          [
           2.321697467488022,
           207.6067216981132,
           1.1614388744450248
          ],
          [
           19.871321013004792,
           254.13509231193166,
           230.76326780821975
          ],
          [
           15.627652292950033,
           254.22884548002804,
           138.75333666035692
          ],
          [
           15.627652292950033,
           254.22884548002804,
           61.76346673224986
          ],
          [
           15.627652292950033,
           254.22884548002804,
           414.64073884736445
          ],
          [
           1.322381930184805,
           166.3664596273292,
           2.2193933346155226
          ],
          [
           3.6878850102669403,
           171.37193763919822,
           0.5254785233463238
          ],
          [
           3.4496919917864477,
           197.98869047619047,
           0.8320083565962021
          ],
          [
           4.355920602327173,
           255.28472658705218,
           31.72841699791989
          ],
          [
           2.844626967830253,
           103.35274302213668,
           0.19654604580986731
          ],
          [
           12.76933607118412,
           253.2629716981132,
           32.92402854127635
          ],
          [
           6.737850787132102,
           198.57964242177977,
           9.005046331615517
          ],
          [
           4.884325804243669,
           36.85257847533632,
           4.406742874871667
          ],
          [
           17.596167008898014,
           254.0325968570095,
           56.75390326905901
          ],
          [
           10.368240930869268,
           233.59796672828097,
           25.396647616439314
          ],
          [
           15.008898015058179,
           250.25155052900402,
           13.317335357067936
          ],
          [
           17.17453798767967,
           253.86417981826878,
           15.009595101076354
          ],
          [
           11.698836413415469,
           253.9568804118886,
           145.4399399575713
          ],
          [
           16.577686516084874,
           254.13678777869526,
           19.176681781194237
          ],
          [
           7.786447638603696,
           205.61366033755274,
           20.257954726264984
          ],
          [
           16.906228610540726,
           253.101983805668,
           7.148004018466732
          ],
          [
           17.95756331279945,
           254.09906235706666,
           209.80445315516764
          ],
          [
           4.035592060232717,
           241.35244233378563,
           4.266153385547207
          ],
          [
           3.5181382614647503,
           256.6698443579767,
           5.246705743162845
          ],
          [
           17.95756331279945,
           251.25903338923618,
           7.192989842200104
          ],
          [
           5.563312799452429,
           184.06299212598427,
           0.4923494233681787
          ],
          [
           4.142368240930869,
           203.02395902181098,
           1.5544979443973388
          ],
          [
           16.09034907597536,
           254.12748851454822,
           11.261484202557822
          ],
          [
           7.967145790554415,
           168.5672680412371,
           8.360130941760255
          ],
          [
           6.1711156741957565,
           223.94653948535935,
           6.398292924331402
          ],
          [
           6.168377823408624,
           213.1840878828229,
           24.223680623068365
          ],
          [
           6.16290212183436,
           246.79931141714792,
           13.323023240300593
          ],
          [
           2.97056810403833,
           115.46612903225805,
           0.29957426422390676
          ],
          [
           17.555099247091032,
           253.088856830942,
           72.82016211745167
          ],
          [
           4.621492128678987,
           242.99511255924168,
           8.876698486343296
          ],
          [
           2.3983572895277208,
           70.04794520547945,
           0.9488714378264405
          ],
          [
           3.512662559890486,
           256.78526890101324,
           3.392102150175257
          ],
          [
           16.577686516084874,
           251.24132947976878,
           0.40078710042826104
          ],
          [
           16.79397672826831,
           254.1387349201174,
           25.512152200610213
          ],
          [
           11.794661190965092,
           244.34784122562675,
           8.546724576229572
          ],
          [
           16.906228610540726,
           252.2738866396761,
           11.767943790998267
          ],
          [
           3.5290896646132786,
           253.6064778898371,
           1.1894439528458458
          ],
          [
           2.3381245722108144,
           230.52663934426232,
           0.5139471594935232
          ],
          [
           15.822039698836413,
           254.13916767606852,
           9.109545259091425
          ],
          [
           3.5181382614647503,
           247.85836575875484,
           0.9341757533574032
          ],
          [
           16.971937029431896,
           253.6540167768995,
           23.148664668867184
          ],
          [
           17.155373032169745,
           250.35888126396426,
           43.352598282683836
          ],
          [
           2.9869952087611225,
           130.90077910174153,
           0.5667064479691175
          ],
          [
           5.147159479808351,
           173.49375,
           8.313568780013657
          ],
          [
           2.455852156057495,
           233.72742474916387,
           0.17737006830091331
          ],
          [
           15.822039698836413,
           254.32877660494896,
           10.840806322207305
          ],
          [
           2.9897330595482545,
           228.44848901098902,
           6.686199568528938
          ],
          [
           2.4202600958247777,
           49.994626696832576,
           1.511005355791645
          ],
          [
           13.1088295687885,
           254.1798245614035,
           71.21309881944028
          ],
          [
           2.9979466119096507,
           234.16027397260277,
           0.21876413302741457
          ],
          [
           5.147159479808351,
           232.36117021276596,
           6.712231203628577
          ],
          [
           13.127994524298426,
           254.26579770594367,
           115.30288408471675
          ],
          [
           2.2258726899383983,
           211.15313653136533,
           0.914161020872851
          ],
          [
           17.17453798767967,
           254.09708273553326,
           94.0703886387359
          ],
          [
           3.8165639972621492,
           219.30720946915352,
           34.12441863336828
          ],
          [
           2.8062970568104038,
           256.5658536585366,
           237.21765006979805
          ],
          [
           20.84873374401095,
           254.02022324359817,
           13.441018060988522
          ],
          [
           2.724161533196441,
           179.8718592964824,
           0.9073111761010367
          ],
          [
           3.0198494182067077,
           212.2622393472348,
           1.3289298804188332
          ],
          [
           3.0143737166324436,
           80.28201634877384,
           0.16831676783894628
          ],
          [
           3.0198494182067077,
           199.67883046237534,
           0.7581612938599734
          ],
          [
           7.704312114989733,
           249.34088486140726,
           0.4107619573595707
          ],
          [
           7.786447638603696,
           250.69198312236287,
           8.382951986761148
          ],
          [
           2.8227241615331966,
           199.80698351115421,
           9.538652652900355
          ],
          [
           10.026009582477755,
           253.7400327689787,
           164.16394047563278
          ],
          [
           13.44558521560575,
           254.5073304825901,
           15.672819336000206
          ],
          [
           10.757015742642025,
           254.2526724357343,
           5.573727416913062
          ],
          [
           8.28747433264887,
           254.48042616451934,
           179.12766368376253
          ],
          [
           7.630390143737166,
           187.80166846071043,
           449.3357765688731
          ],
          [
           16.9637234770705,
           240.6900823111685,
           6.519311963153665
          ],
          [
           16.9637234770705,
           238.80370400258232,
           5.858160978203359
          ],
          [
           16.966461327857633,
           253.02860254962076,
           13.022033304300587
          ],
          [
           16.84873374401095,
           253.9656727331817,
           26.080492244774174
          ],
          [
           16.966461327857633,
           253.97163950298528,
           37.894761132685126
          ],
          [
           16.966461327857633,
           229.15797966758106,
           9.054937962112168
          ],
          [
           16.966461327857633,
           240.47442310795543,
           3.8819954469725775
          ],
          [
           16.966461327857633,
           240.6512425367113,
           5.080909149955043
          ],
          [
           16.966461327857633,
           253.20542197837662,
           11.387763474637666
          ],
          [
           16.966461327857633,
           254.03057931257058,
           29.441958081463984
          ],
          [
           16.966461327857633,
           249.96373245118605,
           4.834751094922606
          ],
          [
           16.9637234770705,
           214.28078599096193,
           1.842889093420104
          ],
          [
           16.960985626283367,
           226.81464891041162,
           3.668764422575885
          ],
          [
           16.966461327857633,
           252.79284331127963,
           6.141017521704578
          ],
          [
           16.966461327857633,
           245.89688558980149,
           7.905403458968454
          ],
          [
           16.966461327857633,
           234.22680329191542,
           4.061375237275246
          ],
          [
           16.966461327857633,
           250.84782959496528,
           9.204906032348278
          ],
          [
           16.76933607118412,
           253.67730612244898,
           2.6760102176060747
          ],
          [
           13.100616016427105,
           245.25564263322883,
           11.535030444580412
          ],
          [
           4.147843942505133,
           233.85643564356437,
           26.09494798027204
          ],
          [
           2.0917180013689256,
           228.99836387434553,
           0.4693119427385966
          ],
          [
           6.3709787816564,
           216.136334336055,
           36.16715535940759
          ],
          [
           6.770704996577686,
           231.73362312980186,
           28.224606654136757
          ],
          [
           1.6372347707049966,
           29.92851170568562,
           10.659736367230613
          ],
          [
           1.4236824093086926,
           177.00576923076923,
           0.10145994632379862
          ],
          [
           0.8733744010951403,
           24.044670846394986,
           0.04718010157038095
          ],
          [
           4.741957563312799,
           197.38683602771363,
           9.922221099546192
          ],
          [
           0.22176591375770022,
           58.62037037037037,
           0.2225127553076923
          ],
          [
           12.347707049965777,
           223.52328159645234,
           13.230277136420487
          ],
          [
           3.049965776865161,
           156.395197486535,
           10.788159151210742
          ],
          [
           2.195756331279945,
           99.73784289276809,
           1.2100856086091325
          ],
          [
           8.16974674880219,
           253.86343833780163,
           191.8528295724907
          ],
          [
           8.700889801505818,
           201.70350849590938,
           32.366001827710605
          ],
          [
           12.082135523613964,
           189.94986403806934,
           5.304540166558168
          ],
          [
           4.372347707049966,
           37.965873512836566,
           3.369558126328313
          ],
          [
           3.4168377823408624,
           247.59735576923077,
           10.494766337826121
          ],
          [
           0.7665982203969883,
           108.27053571428571,
           3.708381272318072
          ],
          [
           7.093771389459275,
           253.0388846005403,
           9.691698638412177
          ],
          [
           7.1184120465434635,
           245.27942307692308,
           15.463247177091665
          ],
          [
           9.180013689253936,
           239.10639725618847,
           21.699321016435007
          ],
          [
           5.971252566735113,
           246.68191196698763,
           1.7509467845657984
          ],
          [
           8.83504449007529,
           234.18105051131081,
           11.1763576108778
          ],
          [
           7.1184120465434635,
           127.13509615384615,
           3.159678462765241
          ],
          [
           9.166324435318275,
           254.51859318996415,
           85.38569472022458
          ],
          [
           8.566735112936344,
           254.82286673058488,
           27.657440792296864
          ],
          [
           2.3874058863791925,
           249.2244839449541,
           0.23917700519608276
          ],
          [
           3.707049965776865,
           254.11041358936484,
           0.5247057491900897
          ],
          [
           1.9301848049281314,
           89.11063829787234,
           0.03476663400110465
          ],
          [
           3.184120465434634,
           226.43615649183147,
           0.11372921879351049
          ],
          [
           1.4209445585215605,
           13.371387283236995,
           0.26397941986730267
          ],
          [
           2.2642026009582477,
           205.37031438935915,
           0.07468386899174193
          ],
          [
           1.5195071868583163,
           117.80135135135134,
           0.030345819603494417
          ],
          [
           3.184120465434634,
           256.27171109200344,
           0.635005195312237
          ],
          [
           3.077344284736482,
           74.41481316725978,
           0.036407007127921394
          ],
          [
           0.9226557152635181,
           18.425074183976264,
           0.04264985636470588
          ],
          [
           1.4921286789869952,
           14.744036697247706,
           0.09354201296931815
          ],
          [
           0.8158795345653662,
           116.43875838926174,
           0.02751338165404
          ],
          [
           0.6023271731690623,
           36.525,
           0.05347492831322728
          ],
          [
           1.5523613963039014,
           186.16798941798942,
           0.16738899738105883
          ],
          [
           1.4264202600958247,
           45.56861804222649,
           0.04892343970081539
          ],
          [
           1.4236824093086926,
           73.05,
           0.19707904389326925
          ],
          [
           0.8459958932238193,
           222.2233009708738,
           0.012877827540923405
          ],
          [
           1.4072553045859,
           73.90272373540857,
           0.3602295615184615
          ],
          [
           1.538672142368241,
           201.47241992882562,
           0.2555539302274387
          ],
          [
           1.4483230663928817,
           49.71266540642722,
           0.26179116550138887
          ],
          [
           1.2238193018480492,
           17.976510067114095,
           4.389896392718182
          ],
          [
           0.9007529089664613,
           54.398936170212764,
           0.10863667906275509
          ],
          [
           1.1882272416153319,
           20.19815668202765,
           0.04840725390833333
          ],
          [
           1.4976043805612593,
           52.75091407678245,
           0.47532845170664545
          ],
          [
           0.8952772073921971,
           21.222477064220186,
           0.11639037667078948
          ],
          [
           0.9774127310061602,
           183.13655462184872,
           0.9063324809748604
          ],
          [
           0.9062286105407256,
           39.725075528700906,
           0.059680298246861115
          ],
          [
           1.516769336071184,
           125.92554151624549,
           0.06280466126897906
          ],
          [
           1.4127310061601643,
           31.1453488372093,
           0.4416090503642045
          ],
          [
           1.1718001368925393,
           55.470210280373834,
           0.3119630731438462
          ],
          [
           0.7474332648870636,
           165.90109890109892,
           0.16666862028991933
          ],
          [
           1.1197809719370295,
           66.97738386308068,
           0.34269813361566664
          ],
          [
           1.5578370978781657,
           242.64411247803162,
           0.32189334739037767
          ],
          [
           8.928131416837783,
           235.32359705611776,
           4.742781734955566
          ],
          [
           8.93908281998631,
           215.122741194487,
           0.6730068505242834
          ],
          [
           8.917180013689254,
           224.39829597789375,
           1.8178398401551559
          ],
          [
           8.917180013689254,
           165.29889468836353,
           0.586418793617635
          ],
          [
           8.93908281998631,
           253.6054364471669,
           7.655064154197149
          ],
          [
           8.93908281998631,
           253.38169984686064,
           1.6043019335515707
          ],
          [
           8.93908281998631,
           254.27664624808577,
           20909.109971263617
          ],
          [
           8.895277207392198,
           249.90789473684208,
           5.190768249269266
          ],
          [
           0.8487337440109514,
           179.09032258064516,
           0.10022495351201316
          ],
          [
           null,
           null,
           null
          ],
          [
           0.49555099247091033,
           26.233425414364643,
           0.112703443
          ],
          [
           0.9691991786447639,
           127.94067796610169,
           0.1049233730978871
          ],
          [
           1.6125941136208077,
           123.40365025466893,
           0.21380681452454275
          ],
          [
           0.7145790554414785,
           19.591954022988503,
           0.5155069733071429
          ],
          [
           1.4647501711156743,
           154.9752336448598,
           0.34147133466343615
          ],
          [
           1.4976043805612593,
           190.30393053016454,
           0.12172407674701755
          ],
          [
           1.2073921971252566,
           29.816326530612248,
           0.22199074579166667
          ],
          [
           0.917180013689254,
           46.88283582089552,
           1.191931152427907
          ],
          [
           0.9911019849418207,
           78.70027624309392,
           0.5777836391641026
          ],
          [
           0.9582477754962354,
           109.575,
           0.1044427670856762
          ],
          [
           1.4757015742642026,
           86.73840445269018,
           0.5452982573265626
          ],
          [
           1.51129363449692,
           43.671195652173914,
           5.030317402368182
          ],
          [
           0.7665982203969883,
           7.826785714285714,
           2.2277051413833333
          ],
          [
           0.9390828199863107,
           26.621720116618075,
           0.09843182759200002
          ],
          [
           0.837782340862423,
           14.323529411764707,
           0.14470647265833333
          ],
          [
           0.9856262833675564,
           20.291666666666668,
           0.07734350989
          ],
          [
           1.5195071868583163,
           153.33918918918917,
           0.13591872115565665
          ],
          [
           6.3436002737850785,
           188.53646957272335,
           82.69845465059737
          ],
          [
           null,
           null,
           null
          ],
          [
           2.3874058863791925,
           227.02465596330273,
           0.14959946354815637
          ],
          [
           1.4264202600958247,
           194.89347408829175,
           2.0161576439129494
          ],
          [
           1.2867898699520877,
           51.29042553191489,
           8.71003968727462
          ],
          [
           9.779603011635865,
           180.27316629339307,
           3.466821618697626
          ],
          [
           9.78507871321013,
           254.46908226077227,
           22.978327757782505
          ],
          [
           6.7268993839835725,
           171.55006105006106,
           1.4830279709270031
          ],
          [
           6.787132101300479,
           212.01885841064947,
           2.3186815054962793
          ],
          [
           6.792607802874743,
           171.21553808948005,
           3.3358422975742417
          ],
          [
           6.789869952087611,
           123.41915322580645,
           2.913370479090691
          ],
          [
           11.471594798083505,
           234.66658711217184,
           22.141325290760786
          ],
          [
           7.173169062286106,
           222.77461832061067,
           4.069233132308884
          ],
          [
           6.450376454483231,
           97.35865874363327,
           7.3985225063860245
          ],
          [
           6.570841889117043,
           89.48625,
           2.067103976635036
          ],
          [
           6.5927446954141,
           179.13631644518273,
           1.5612978955836623
          ],
          [
           1.9274469541409993,
           82.49254261363636,
           0.44422358489465413
          ],
          [
           3.9507186858316223,
           137.19022869022868,
           1.7592232468075801
          ],
          [
           1.4921286789869952,
           120.63302752293578,
           0.9348494424068057
          ],
          [
           11.578370978781656,
           254.09446677701584,
           50.432668602573166
          ],
          [
           1.4976043805612593,
           127.53702010968922,
           1.9898392591863878
          ],
          [
           11.55920602327173,
           239.03025817148273,
           13.03094629924175
          ],
          [
           2.614647501711157,
           245.15732984293194,
           2.3630974064795427
          ],
          [
           11.468856947296372,
           223.5619479589401,
           20.453629413692006
          ],
          [
           11.578370978781656,
           254.00809884133366,
           30.1225375776395
          ],
          [
           5.71937029431896,
           241.98468166586883,
           3.749916612777404
          ],
          [
           5.71937029431896,
           244.43250359023455,
           6.7090629372389925
          ],
          [
           null,
           null,
           null
          ],
          [
           9.77138945927447,
           247.35479125805546,
           4.968169360689133
          ],
          [
           0.6160164271047228,
           81.16666666666666,
           1.3424738755999999
          ],
          [
           2.3928815879534566,
           138.32694508009152,
           2.0227671038544837
          ],
          [
           1.5989048596851472,
           130.08904109589042,
           2.1226344056415867
          ],
          [
           7.693360711841205,
           235.00782918149466,
           4.215370515692356
          ],
          [
           7.682409308692677,
           226.75178189593726,
           8.138257225115531
          ],
          [
           10.521560574948666,
           228.29313036690084,
           2.0842133540308136
          ],
          [
           8.917180013689254,
           250.86406202026404,
           2.8441908643248714
          ],
          [
           4.39151266255989,
           153.47786783042395,
           1.4216069754507896
          ],
          [
           7.696098562628337,
           221.0210779082177,
           2.1892059575093157
          ],
          [
           1.483915126625599,
           178.58164206642064,
           1.0815521112601887
          ],
          [
           1.3497604380561259,
           20.744421906693713,
           0.3017373850994286
          ],
          [
           11.578370978781656,
           249.86243792858832,
           13.966262435420374
          ],
          [
           4.777549623545517,
           254.73309455587392,
           51.648294928709596
          ],
          [
           3.9890485968514717,
           204.56005490734384,
           5.0021775632532925
          ],
          [
           11.564681724845997,
           246.52645596590907,
           27.426833375613253
          ],
          [
           1.215605749486653,
           44.4222972972973,
           0.19377746899957407
          ],
          [
           11.540041067761807,
           238.47402135231317,
           4.646966916920926
          ],
          [
           10.510609171800137,
           247.17882261005468,
           12.394570503558244
          ],
          [
           1.3908281998631074,
           21.56988188976378,
           0.14037909376103333
          ],
          [
           null,
           null,
           null
          ],
          [
           8.837782340862423,
           159.8817379182156,
           2.1562146617753233
          ],
          [
           8.892539356605065,
           202.30441810344828,
           8.120660704819972
          ],
          [
           8.88432580424367,
           194.6124036979969,
           17.589139502185304
          ],
          [
           8.91170431211499,
           245.96866359447003,
           28.409097924075613
          ],
          [
           8.914442162902121,
           246.79054054054055,
           10.333296503135664
          ],
          [
           8.917180013689254,
           228.77187595947188,
           14.500703379196008
          ],
          [
           8.900752908966462,
           187.1751768686558,
           32.9325309942593
          ],
          [
           8.796714579055442,
           163.24276377217555,
           13.406468867817253
          ],
          [
           8.900752908966462,
           234.92394647800674,
           11.384116507100938
          ],
          [
           8.843258042436688,
           214.9660216718266,
           5.016255577520251
          ],
          [
           8.903490759753593,
           250.12661439114393,
           43.028193391588424
          ],
          [
           8.881587953456537,
           203.2294235511714,
           12.067672520639157
          ],
          [
           7.693360711841205,
           113.60444839857651,
           1.7789427124500439
          ],
          [
           1.5304585900068446,
           16.334973166368517,
           0.30704516321375996
          ],
          [
           1.4099931553730323,
           24.113592233009708,
           0.31683508904311763
          ],
          [
           4.706365503080082,
           201.42931937172773,
           3.510384326434266
          ],
          [
           4.720054757015743,
           118.85455336426914,
           1.6084715020375935
          ],
          [
           4.761122518822724,
           234.18847038527892,
           3.4046366057574056
          ],
          [
           4.714579055441479,
           230.3493031358885,
           10.507044213651763
          ],
          [
           0.28199863107460643,
           78.01456310679612,
           1.0706851909321362
          ],
          [
           4.684462696783025,
           231.83021624780832,
           6.378231111090087
          ],
          [
           5.448323066392882,
           242.45992462311557,
           15.201778811062994
          ],
          [
           8.550308008213552,
           252.73943323727187,
           8.344271987774206
          ],
          [
           8.766598220396988,
           251.63694565896316,
           17.78163118290803
          ],
          [
           9.765913757700206,
           234.28427249789738,
           6.92134627818857
          ],
          [
           3.9315537303216974,
           161.76810584958218,
           6.306600386840364
          ],
          [
           10.521560574948666,
           231.80971896955504,
           6.94573385574377
          ],
          [
           11.578370978781656,
           249.08512650744856,
           169.8941896795046
          ],
          [
           4.985626283367557,
           211.80889621087314,
           4.161949461205537
          ],
          [
           11.578370978781656,
           247.3577677938047,
           1.390116246705448
          ],
          [
           11.575633127994525,
           254.0681764427625,
           9.97079457212648
          ],
          [
           9.78507871321013,
           254.57127867935088,
           11.802809134255451
          ],
          [
           9.782340862422998,
           250.860201511335,
           4.755238889179091
          ],
          [
           5.1800136892539355,
           244.59394820295984,
           3.01699548752794
          ],
          [
           7.5509924709103355,
           224.47380348078318,
           7.554664838073533
          ],
          [
           7.693360711841205,
           217.20026690391458,
           5.347904013609472
          ],
          [
           3.5509924709103355,
           197.12798766383963,
           0.4276465699965542
          ],
          [
           2.3600273785078714,
           73.3042343387471,
           0.22019926214373992
          ],
          [
           11.578370978781656,
           254.09446677701584,
           30.41993585118968
          ],
          [
           7.709787816563997,
           251.36878551136363,
           11.464735518763666
          ],
          [
           7.690622861054073,
           250.8249377002492,
           16.91187015635147
          ],
          [
           7.709787816563997,
           239.5656072443182,
           7.006715931477217
          ],
          [
           7.422313483915127,
           229.03909996311324,
           7.683936933160849
          ],
          [
           7.581108829568788,
           208.5446912242687,
           7.259971242491763
          ],
          [
           7.611225188227242,
           242.01097122302158,
           17.897353775639488
          ],
          [
           7.652292950034223,
           222.80903398926657,
           6.784399564384391
          ],
          [
           4.1067761806981515,
           180.92050000000003,
           0.8768014939172544
          ],
          [
           0.6050650239561944,
           161.96606334841627,
           0.06300272392465307
          ],
          [
           1.4976043805612593,
           245.05804387568557,
           0.7161814135187193
          ],
          [
           1.6673511293634498,
           88.16379310344827,
           0.25092482240812924
          ],
          [
           1.9055441478439425,
           105.48168103448276,
           1.1601240808328555
          ],
          [
           1.8206707734428473,
           208.71428571428572,
           0.3138629985919448
          ],
          [
           2.915811088295688,
           184.16830985915493,
           13.460510196716035
          ],
          [
           2.3874058863791925,
           253.831995412844,
           0.43903754237790704
          ],
          [
           1.4757015742642026,
           31.84925788497217,
           0.07943672846648937
          ],
          [
           0.8980150581793293,
           8.908536585365853,
           10.3120399009625
          ],
          [
           1.3388090349075976,
           27.63650306748466,
           0.10290054324324323
          ],
          [
           null,
           null,
           null
          ],
          [
           1.5249828884325805,
           137.7064631956912,
           0.1387888194711286
          ],
          [
           1.5578370978781657,
           201.5615114235501,
           0.5205741816696655
          ],
          [
           1.5468856947296372,
           188.11991150442478,
           0.30436087505216153
          ],
          [
           3.2251882272416155,
           218.59189303904924,
           2.3981668519920336
          ],
          [
           4.049281314168378,
           204.97464503042596,
           1.0434547589096783
          ],
          [
           5.675564681724846,
           237.6856005788712,
           1.421213919865963
          ],
          [
           3.7672826830937716,
           230.4047965116279,
           1.9887957478766474
          ],
          [
           4.813141683778234,
           218.98378839590444,
           1.3834540190210447
          ],
          [
           5.284052019164956,
           97.84158031088083,
           0.41378994303093236
          ],
          [
           9.930184804928132,
           247.62882547559965,
           8.968229756643183
          ],
          [
           5.519507186858316,
           74.82552083333333,
           1.6723138023223512
          ],
          [
           6.261464750171116,
           84.0059029296021,
           2.6944899474641844
          ],
          [
           4.7967145790554415,
           220.9845890410959,
           6.733935599986847
          ],
          [
           10.453114305270363,
           204.532346778418,
           28.033258006714078
          ],
          [
           10.647501711156742,
           236.4874003599897,
           30.52203379286377
          ],
          [
           1.9931553730321698,
           29.601304945054945,
           0.10169876186322034
          ],
          [
           2.135523613963039,
           91.3125,
           0.08883929204914871
          ],
          [
           2.0725530458590007,
           32.327278731836195,
           0.20717287536155224
          ],
          [
           2.6036960985626285,
           21.891955835962143,
           0.04669222925908771
          ],
          [
           4.563997262149213,
           203.5496400719856,
           9.164355257916274
          ],
          [
           4.525667351129363,
           208.80898366606172,
           9.007206406850415
          ],
          [
           10.759753593429158,
           157.62442748091604,
           6.306244794643149
          ],
          [
           9.10609171800137,
           247.5266085387853,
           0.5938463039121981
          ],
          [
           1.9931553730321698,
           75.75927197802197,
           0.7451960488359933
          ],
          [
           10.683093771389458,
           222.31387749871863,
           3.800507733355376
          ],
          [
           10.713210130047912,
           140.57411193457705,
           1.8488464910412172
          ],
          [
           4.120465434633813,
           162.36029900332224,
           0.35904022623316295
          ],
          [
           8.041067761806982,
           169.2561287027579,
           1.3106185816393632
          ],
          [
           3.5181382614647503,
           241.03657587548636,
           2.0985392558543827
          ],
          [
           5.68104038329911,
           240.09686746987953,
           2.5767394849342016
          ],
          [
           5.963039014373717,
           245.8477961432507,
           2.4455083383390486
          ],
          [
           4.224503764544832,
           242.3953337653921,
           2.245442541537943
          ],
          [
           4.224503764544832,
           247.60304601425796,
           1.1789056273525278
          ],
          [
           3.8603696098562628,
           61.13404255319149,
           0.7637958303163052
          ],
          [
           7.14031485284052,
           219.73820935582822,
           1.1120187164500843
          ],
          [
           5.229295003422314,
           92.55549738219895,
           1.6111354091850263
          ],
          [
           10.798083504449007,
           251.61872464503043,
           21.770437158194948
          ],
          [
           12.996577686516085,
           245.52617442595323,
           216.74549345085597
          ],
          [
           2.521560574948665,
           38.46824104234528,
           0.2249534103682474
          ],
          [
           1.0896646132785763,
           18.35427135678392,
           0.13879824303860003
          ],
          [
           6.33264887063655,
           68.05998702983139,
           0.25124985739096983
          ],
          [
           6.811772758384668,
           184.0930466237942,
           3.1363758707224423
          ],
          [
           3.1129363449691994,
           133.3146437994723,
           1.0052390925561396
          ],
          [
           13.281314168377824,
           251.48113790970933,
           16.664878968160913
          ],
          [
           10.64476386036961,
           217.195987654321,
           5.508652728392222
          ],
          [
           3.052703627652293,
           96.30807174887892,
           0.3360753735353605
          ],
          [
           4.177960301163586,
           119.91497378768022,
           0.4012970207990159
          ],
          [
           10.655715263518138,
           247.94206063720452,
           31.34225556329543
          ],
          [
           2.595482546201232,
           204.5862341772152,
           0.12847630112299244
          ],
          [
           2.595482546201232,
           253.51740506329116,
           0.3223144291629947
          ],
          [
           4.438056125941136,
           222.84531153608884,
           1.3565070060203097
          ],
          [
           4.780287474332649,
           186.18127147766322,
           0.743586730744826
          ],
          [
           0.32854209445585214,
           24.35,
           0.306868573330125
          ],
          [
           null,
           null,
           null
          ],
          [
           5.174537987679671,
           248.33134920634922,
           1.6885638852821665
          ],
          [
           13.305954825462011,
           233.20385802469139,
           9.149502108629221
          ],
          [
           10.699520876112253,
           144.49245138178094,
           4.629795081914265
          ],
          [
           6.69678302532512,
           142.6057849550286,
           3.1553410186579507
          ],
          [
           4.177960301163586,
           188.13007863695938,
           3.6900840674964535
          ],
          [
           5.538672142368241,
           193.00654967869502,
           22.121671289811623
          ],
          [
           0.2272416153319644,
           154.0210843373494,
           0.3399422951994286
          ],
          [
           3.3976728268309375,
           243.107574536664,
           4.03828178192413
          ],
          [
           5.336071184120465,
           243.9997434581837,
           1.7891903863768246
          ],
          [
           3.1129363449691994,
           43.04617414248021,
           1.7245476796064778
          ],
          [
           3.370294318959617,
           58.74857839155158,
           0.6297729400642423
          ],
          [
           10.787132101300479,
           162.32303299492386,
           8.660559220178044
          ],
          [
           3.4469541409993156,
           92.25536139793486,
           1.1186121629338712
          ],
          [
           6.9897330595482545,
           144.35458284371327,
           0.7961314703903848
          ],
          [
           6.997946611909651,
           192.62793427230048,
           0.7328010875644977
          ],
          [
           6.907597535934292,
           254.2128418549346,
           7.057993669455072
          ],
          [
           3.167693360711841,
           149.00432152117546,
           4.026478957020469
          ],
          [
           4.071184120465435,
           166.78194351042367,
           0.4398900668695096
          ],
          [
           3.4387405886379194,
           218.1031050955414,
           2.4555510864483945
          ],
          [
           4.780287474332649,
           232.20360824742266,
           1.8107869093625961
          ],
          [
           13.426420260095824,
           252.56173531810768,
           4.651838892956257
          ],
          [
           4.219028062970568,
           231.3329007138222,
           1.545787342652733
          ],
          [
           4.829568788501026,
           238.73767006802723,
           6.039517708378909
          ],
          [
           10.740588637919233,
           246.35521284731075,
           18.51893226874212
          ],
          [
           13.286789869952088,
           209.38089841335255,
           5.605849622223471
          ],
          [
           13.289527720739219,
           189.02101359703337,
           10.400236254105879
          ],
          [
           4.684462696783025,
           204.93278784336647,
           6.392026489216626
          ],
          [
           13.308692676249144,
           207.30811561407117,
           5.095089238607576
          ],
          [
           3.132101300479124,
           204.97421328671328,
           1.1814015100882989
          ],
          [
           13.357973990417522,
           186.48037507686,
           87.08257374515625
          ],
          [
           13.100616016427105,
           233.882131661442,
           24.562105431212487
          ],
          [
           10.146475017111568,
           201.84349703184026,
           0.38352707672451153
          ],
          [
           10.143737166324435,
           172.91457489878545,
           0.5509926916768417
          ],
          [
           1.5496235455167693,
           111.64001766784453,
           1.3490941803396301
          ],
          [
           1.5578370978781657,
           225.9543057996485,
           0.5493212180481135
          ],
          [
           6.997946611909651,
           227.781103286385,
           1.1215969578176752
          ],
          [
           5.935660506502396,
           144.71851937269372,
           1.065452244306086
          ],
          [
           5.946611909650924,
           230.88777624309392,
           3.2957631712803437
          ],
          [
           6.7268993839835725,
           210.3495115995116,
           5.659213645201175
          ],
          [
           8.821355236139631,
           232.95740223463685,
           2.09553115318852
          ],
          [
           8.536618754277892,
           254.78471776779986,
           11.824712434517817
          ],
          [
           9.820670773442847,
           253.54683579592975,
           7.976817514511179
          ],
          [
           8.821355236139631,
           174.3496275605214,
           1.3732714157423016
          ],
          [
           9.390828199863108,
           254.18418367346936,
           8.28367986533581
          ],
          [
           7.60848733744011,
           208.3199892047499,
           1.8349854930003486
          ],
          [
           7.3757700205338805,
           254.61748329621383,
           3.819207514571285
          ],
          [
           7.731690622861054,
           231.644033286119,
           1.426833408573896
          ],
          [
           9.35523613963039,
           253.86852502194907,
           4.368136170337082
          ],
          [
           8.073921971252567,
           172.77848423194303,
           1.4038056085787993
          ],
          [
           7.148528405201916,
           172.2032746074301,
           1.4280024570570515
          ],
          [
           8.095824777549623,
           142.4190902942171,
           0.9447228733621256
          ],
          [
           8.098562628336756,
           189.53980730223122,
           1.1438151526142741
          ],
          [
           7.036276522929501,
           186.17801556420233,
           0.8090737184538291
          ],
          [
           9.919233401779604,
           254.1527049406569,
           9.08332654653034
          ],
          [
           4.824093086926762,
           182.8322928490352,
           10.772643741419882
          ],
          [
           3.994524298425736,
           91.37508567511995,
           1.0751463072892165
          ],
          [
           10.655715263518138,
           235.7420349434738,
           49.001784845703384
          ],
          [
           7.058179329226557,
           169.16543832428238,
           0.8298695429420849
          ],
          [
           0.34223134839151265,
           26.298000000000002,
           0.02106479686027778
          ],
          [
           2.0506502395619437,
           30.234312416555408,
           0.42083595029625814
          ],
          [
           1.6646132785763177,
           24.63034539473684,
           0.39826041727092687
          ],
          [
           0.02190280629705681,
           91.3125,
           0.006450939520000001
          ],
          [
           null,
           null,
           null
          ],
          [
           7.540041067761807,
           144.16367102396512,
           0.9389129171338231
          ],
          [
           8.098562628336756,
           223.86688640973628,
           3.9749000255994527
          ],
          [
           7.671457905544147,
           137.91381156316916,
           0.9438716661595405
          ],
          [
           7.967145790554415,
           84.09536082474226,
           0.5837523526730928
          ],
          [
           8.095824777549623,
           142.4190902942171,
           2.651352934577257
          ],
          [
           1.9055441478439425,
           13.119612068965518,
           0.39534750043392003
          ],
          [
           2.21492128678987,
           240.18912237330036,
           0.9522849388753223
          ],
          [
           5.817932922655715,
           226.19717647058823,
           4.90269043147036
          ],
          [
           1.7604380561259412,
           7.952566096423017,
           0.13624203379885716
          ],
          [
           2.3901437371663246,
           16.735395189003434,
           0.2991137978426999
          ],
          [
           2.2258726899383983,
           28.30350553505535,
           0.0929748975450159
          ],
          [
           2.3353867214236823,
           29.11723329425557,
           0.1439744929183529
          ],
          [
           null,
           null,
           null
          ],
          [
           0.4490075290896646,
           4.454268292682927,
           0.010084692356
          ],
          [
           1.1416837782340863,
           8.758992805755396,
           0.8501587546139999
          ],
          [
           2.3134839151266258,
           15.560946745562129,
           0.11915441648422222
          ],
          [
           3.238877481177276,
           200.99556213017752,
           0.8988674714255055
          ],
          [
           3.1047227926078027,
           29.632275132275133,
           2.0645229130386085
          ],
          [
           3.375770020533881,
           112.86313868613138,
           1.557002068266559
          ],
          [
           3.3018480492813143,
           89.34390547263682,
           1.1998210516851038
          ],
          [
           2.3737166324435317,
           20.22145328719723,
           0.09718166468574999
          ],
          [
           0.23819301848049282,
           50.37931034482759,
           0.025313860693750006
          ],
          [
           1.9739904175222451,
           8.105409153952843,
           0.188237700191
          ],
          [
           10.453114305270363,
           254.37395233106338,
           17.377382720610225
          ],
          [
           8.574948665297741,
           241.05100574712642,
           9.926996657353408
          ],
          [
           10.464065708418891,
           221.04218995290424,
           8.595282313465795
          ],
          [
           6.699520876112252,
           254.3465467919902,
           240.8733316905245
          ],
          [
           4.988364134154689,
           194.8534577387486,
           39.90480623326354
          ],
          [
           2.674880219028063,
           218.32753326509723,
           16.656672136119006
          ],
          [
           10.778918548939084,
           190.2788290576581,
           4.358046365039256
          ],
          [
           2.3627652292950034,
           157.0194090382387,
           0.19694168203711654
          ],
          [
           0.7665982203969883,
           127.8375,
           0.0909501617899694
          ],
          [
           0.7665982203969883,
           37.82946428571429,
           0.1136708170813793
          ],
          [
           2.4722792607802875,
           256.4435215946844,
           0.7952181789323763
          ],
          [
           0.48459958932238195,
           262.07203389830505,
           1.3184409915329527
          ],
          [
           5.451060917180014,
           150.42943244600704,
           4.942132245714634
          ],
          [
           1.0704996577686516,
           58.85102301790281,
           0.10055949363714285
          ],
          [
           5.453798767967146,
           198.7605421686747,
           2.4082156028689963
          ],
          [
           5.464750171115674,
           179.51415330661322,
           3.625046244876965
          ],
          [
           4.569472963723477,
           212.4971539844218,
           2.324719738691653
          ],
          [
           6.464065708418891,
           234.06321473951715,
           15.522756414024803
          ],
          [
           2.4941820670773445,
           256.5971459934138,
           1.726246465018569
          ],
          [
           4.479123887748118,
           38.84688264058679,
           1.3197009378274942
          ],
          [
           4.544832306639288,
           32.34442771084338,
           0.5951904821823333
          ],
          [
           4.520191649555099,
           12.610084797092671,
           0.14980907155207016
          ],
          [
           6.447638603696099,
           121.75,
           1.4767015597927928
          ],
          [
           6.466803559206023,
           239.2217400508044,
           10.755000086743678
          ],
          [
           3.1512662559890487,
           247.83688097306688,
           1.1901902672933087
          ],
          [
           6.466803559206023,
           231.799216765453,
           3.7892423006641205
          ],
          [
           4.550308008213553,
           179.98781588447653,
           2.8175640872357746
          ],
          [
           2.099931553730322,
           127.6232073011734,
           0.23561237272810448
          ],
          [
           0.4380561259411362,
           86.746875,
           0.4641166555046053
          ],
          [
           2.099931553730322,
           257.1512385919165,
           5.153509518967248
          ],
          [
           2.817248459958932,
           255.56851311953355,
           48.490565404941286
          ],
          [
           1.7741273100616017,
           45.09259259259259,
           0.11180483218425
          ],
          [
           1.158110882956879,
           166.65070921985816,
           0.1423385299368031
          ],
          [
           1.163586584531143,
           55.86176470588235,
           0.04845115147484615
          ],
          [
           4.498288843258043,
           22.00836883749239,
           2.0642064108656566
          ],
          [
           4.566735112936345,
           128.53821942446044,
           0.5409557559801039
          ],
          [
           0.5475701574264202,
           193.5825,
           0.38071983887317923
          ],
          [
           1.0321697467488022,
           65.88063660477454,
           0.5919083906102941
          ],
          [
           4.167008898015058,
           255.33902759526939,
           21.884377622549817
          ],
          [
           1.054072553045859,
           88.22922077922078,
           0.9808375151494623
          ],
          [
           1.054072553045859,
           70.2038961038961,
           0.8819870738891893
          ],
          [
           1.2046543463381245,
           71.38977272727273,
           0.03659509662643314
          ],
          [
           1.163586584531143,
           30.07941176470588,
           0.033301970074371426
          ],
          [
           1.054072553045859,
           73.05,
           0.03715594104451948
          ],
          [
           0.944558521560575,
           37.05434782608695,
           0.07247913508531428
          ],
          [
           1.0321697467488022,
           36.815649867374006,
           0.044386019413552635
          ],
          [
           0.999315537303217,
           28.01917808219178,
           0.05623625469480357
          ],
          [
           0.947296372347707,
           232.2398843930636,
           0.1539884730942341
          ],
          [
           0.9637234770704997,
           102.7265625,
           0.09791452158667424
          ],
          [
           2.5763175906913074,
           249.5810308182784,
           0.1659217553344172
          ],
          [
           2.568104038329911,
           148.74786780383795,
           0.049530287255689795
          ],
          [
           2.461327857631759,
           171.85845383759732,
           0.7166243262098788
          ],
          [
           2.458590006844627,
           141.54454342984408,
           0.09864010466436782
          ],
          [
           1.2046543463381245,
           55.617613636363636,
           0.10627940493296645
          ],
          [
           1.2019164955509924,
           18.304100227790432,
           0.01953331359423864
          ],
          [
           0.8898015058179329,
           43.83,
           0.17090697367192306
          ],
          [
           0.8788501026694046,
           29.584112149532707,
           0.11047978231381733
          ],
          [
           0.9007529089664613,
           42.18693009118541,
           0.12236588521023026
          ],
          [
           3.8220396988364134,
           237.8311246418338,
           8.881780144006658
          ],
          [
           4.810403832991102,
           252.99331246442802,
           11.9348967465438
          ],
          [
           3.8220396988364134,
           235.21472063037248,
           6.86709860024703
          ],
          [
           4.810403832991102,
           251.5381331815595,
           13.641402949167459
          ],
          [
           4.684462696783025,
           225.85300993571013,
           12.090959598091233
          ],
          [
           0.07118412046543464,
           28.096153846153843,
           2.0516260107375
          ],
          [
           3.704312114989733,
           255.3780487804878,
           60.78172922234051
          ],
          [
           4.810403832991102,
           254.44849174729654,
           58.007319237409185
          ],
          [
           3.7754962354551678,
           221.95757795503988,
           3.941167943358323
          ],
          [
           4.802190280629706,
           248.22006841505132,
           3.443855895917254
          ],
          [
           3.8165639972621492,
           220.61728837876615,
           8.410855561820954
          ],
          [
           4.802190280629706,
           222.81499429874572,
           4.670611064366518
          ],
          [
           4.7939767282683095,
           224.03112507138778,
           1.1619266509398836
          ],
          [
           3.805612594113621,
           154.2458633093525,
           2.0927689012543866
          ],
          [
           3.8193018480492813,
           217.05537634408603,
           2.5360064705732324
          ],
          [
           4.802190280629706,
           254.2589794754846,
           12.797218218411166
          ],
          [
           2.3107460643394937,
           104.29531990521326,
           1.2720006876425312
          ],
          [
           3.7973990417522243,
           187.76009372746935,
           2.0659649115085457
          ],
          [
           4.799452429842574,
           176.47846548773532,
           1.8358177588971367
          ],
          [
           2.3819301848049284,
           118.81120689655171,
           2.7836346314261475
          ],
          [
           3.8220396988364134,
           252.22134670487105,
           4.266291440136581
          ],
          [
           2.915811088295688,
           253.44577464788733,
           2.852285157975666
          ],
          [
           2.9075975359342916,
           185.37641242937852,
           0.6202951808892393
          ],
          [
           2.915811088295688,
           255.84647887323945,
           5.202987732580644
          ],
          [
           2.915811088295688,
           212.29084507042253,
           0.7574271767107028
          ],
          [
           2.915811088295688,
           255.84647887323945,
           8.021239011244235
          ],
          [
           2.915811088295688,
           247.2725352112676,
           0.9902592962904648
          ],
          [
           2.915811088295688,
           255.84647887323945,
           11.083455178258719
          ],
          [
           2.915811088295688,
           250.0161971830986,
           1.0264688187561042
          ],
          [
           3.698836413415469,
           253.59326424870466,
           45.084011582803605
          ],
          [
           4.810403832991102,
           255.28002276607856,
           56.37510902466573
          ],
          [
           0.38329911019849416,
           177.40714285714287,
           5.630421158043383
          ],
          [
           3.8220396988364134,
           238.3544054441261,
           6.9310383339458
          ],
          [
           4.810403832991102,
           157.3672453044963,
           1.907893227447358
          ],
          [
           2.4175222450376452,
           142.7080973952435,
           3.99757184534558
          ],
          [
           3.8220396988364134,
           240.97080945558739,
           4.9149576998722795
          ],
          [
           4.810403832991102,
           241.7676437108708,
           6.063738732010077
          ],
          [
           3.8165639972621492,
           246.55685078909613,
           4.279717336474443
          ],
          [
           4.810403832991102,
           255.07214001138306,
           11.011292475432626
          ],
          [
           3.8220396988364134,
           239.66260744985675,
           2.485227237043272
          ],
          [
           4.810403832991102,
           243.22282299373933,
           3.555431934051092
          ],
          [
           2.414784394250513,
           186.76615646258506,
           5.79364720417744
          ],
          [
           4.810403832991102,
           254.86425725668755,
           37.16001465722862
          ],
          [
           11.849418206707734,
           181.44350739371535,
           1.4572723780630197
          ],
          [
           14.458590006844627,
           254.2433251278167,
           32.75308127811223
          ],
          [
           16.55852156057495,
           254.12896825396825,
           1.983532590149272
          ],
          [
           14.458590006844627,
           212.7455027456921,
           0.6793810945098057
          ],
          [
           14.458590006844627,
           248.57195606892634,
           0.36775994424508635
          ],
          [
           4.914442162902122,
           253.741922005571,
           30.074408489072002
          ],
          [
           5.045859000684462,
           218.59508952794357,
           22.144663092575254
          ],
          [
           5.426420260095825,
           244.91284056508576,
           12.096152001143857
          ],
          [
           1.5468856947296372,
           133.81725663716816,
           0.10541066692559421
          ],
          [
           3.685147159479808,
           253.44985141158992,
           14.109632367476484
          ],
          [
           1.7905544147843941,
           132.3612385321101,
           0.14308766588814348
          ],
          [
           1.1170431211498972,
           117.27389705882354,
           0.32819058569233583
          ],
          [
           8.432580424366872,
           225.31655844155844,
           2.321275105650602
          ],
          [
           8.454483230663929,
           227.21672603626945,
           2.7400020345377922
          ],
          [
           11.126625598904859,
           253.98535925196853,
           18.343745200009856
          ],
          [
           11.121149897330595,
           253.2112259970458,
           27.05402979518639
          ],
          [
           2.8939082819986313,
           253.29068117313147,
           11.398926317341713
          ],
          [
           7.942505133470226,
           254.5796277145812,
           3429.963515967868
          ],
          [
           14.458590006844627,
           182.0371141829199,
           2.210167988610999
          ],
          [
           16.55852156057495,
           253.70622519841268,
           1.3432578729575086
          ],
          [
           1.809719370294319,
           116.04009077155824,
           0.12454109238817622
          ],
          [
           8.706365503080082,
           216.27853773584906,
           10.254296862743175
          ],
          [
           9.149897330595483,
           249.51099640933572,
           7.650102411904742
          ],
          [
           8.670773442847365,
           156.61809283233345,
           6.401727615882988
          ],
          [
           9.14715947980835,
           219.52170008979348,
           14.24358704967502
          ],
          [
           5.790554414784395,
           140.40106382978723,
           3.50821208706722
          ],
          [
           0.4517453798767967,
           22.136363636363637,
           1.0561679782150002
          ],
          [
           2.187542778918549,
           256.90926157697123,
           9.466520750891783
          ],
          [
           4.093086926762491,
           254.57558528428095,
           65.3291416924339
          ],
          [
           11.849418206707734,
           253.59894870609983,
           0.36680515289045595
          ],
          [
           11.846680355920602,
           253.9107926970187,
           1.5167072669215458
          ],
          [
           11.84394250513347,
           254.05391816920945,
           1.7662606699250856
          ],
          [
           16.55852156057495,
           254.12896825396825,
           0.36107645288004564
          ],
          [
           16.55852156057495,
           246.33841765873015,
           0.26597829829706454
          ],
          [
           14.340862422997947,
           254.44773768613973,
           527.4948337222576
          ],
          [
           16.55852156057495,
           253.76661706349205,
           9.749712260285863
          ],
          [
           16.55852156057495,
           248.63330853174602,
           0.3793053802655047
          ],
          [
           16.55852156057495,
           253.88740079365078,
           3.855151770366696
          ],
          [
           16.550308008213552,
           249.5421836228288,
           4.283766292282767
          ],
          [
           16.55852156057495,
           252.4983878968254,
           0.20672698975385345
          ],
          [
           16.55852156057495,
           253.94779265873015,
           6.537736169562878
          ],
          [
           16.555783709787818,
           230.91628080039686,
           0.34563051584217347
          ],
          [
           16.555783709787818,
           246.3187531007111,
           1.1513256409027601
          ],
          [
           14.458590006844627,
           254.2433251278167,
           2.5322198676047414
          ],
          [
           9.284052019164955,
           254.30706281332942,
           11.576370501979309
          ],
          [
           4.147843942505133,
           253.86683168316833,
           4.772456964630199
          ],
          [
           2.732375085557837,
           227.2747995991984,
           23.89892777309092
          ],
          [
           11.835728952772074,
           251.35756419153364,
           0.47522601030296624
          ],
          [
           2.7789185489390826,
           256.93448275862073,
           3.259320289536415
          ],
          [
           10.986995208761122,
           238.37272614004485,
           7.806835007466905
          ],
          [
           14.453114305270363,
           223.27367872703164,
           3.1810270306454758
          ],
          [
           14.455852156057494,
           224.8224431818182,
           2.3269971328384047
          ],
          [
           9.99315537303217,
           254.17397260273972,
           125.3395273450825
          ],
          [
           9.867214236824093,
           253.8710460599334,
           4.12960273181105
          ],
          [
           2.206707734428474,
           50.754342431761785,
           0.3788707442648661
          ],
          [
           8.804928131416839,
           231.57486007462686,
           0.3938045541892521
          ],
          [
           6.863791923340178,
           83.48155165536498,
           0.34275011220682966
          ],
          [
           8.796714579055442,
           193.70868347338936,
           0.25881893198963024
          ],
          [
           7.520876112251882,
           253.56088460138335,
           16.973342407790142
          ],
          [
           7.433264887063655,
           200.58480662983425,
           0.3748118163009091
          ],
          [
           4.692676249144422,
           51.78281796966161,
           1.8730173855006251
          ],
          [
           16.55852156057495,
           240.54079861111111,
           0.3989455729586747
          ],
          [
           1.5550992470910336,
           123.46478873239435,
           0.18716198768000522
          ],
          [
           5.002053388090349,
           139.94252873563218,
           1.0202981333181729
          ],
          [
           7.416837782340862,
           239.99446290143965,
           1.5057033671338331
          ],
          [
           9.897330595482547,
           254.00788381742737,
           129.03219369203023
          ],
          [
           9.984941820670773,
           254.0826021387442,
           5.461622214028769
          ],
          [
           1.5578370978781657,
           182.30404217926184,
           2.400263304974648
          ],
          [
           8.793976728268309,
           254.15122976338733,
           29.45940985581624
          ],
          [
           0.2190280629705681,
           241.978125,
           1.2604861854132074
          ],
          [
           8.802190280629706,
           201.42713841368584,
           0.3932994221837226
          ],
          [
           6.836413415468857,
           43.00500600720865,
           0.4024120824714103
          ],
          [
           7.997262149212868,
           92.15653885655597,
           0.6268440536253552
          ],
          [
           8.46817248459959,
           127.1821047526673,
           0.6045739300399176
          ],
          [
           8.802190280629706,
           209.0388802488336,
           0.6061961921429408
          ],
          [
           6.811772758384668,
           50.207194533762056,
           0.24969111516993042
          ],
          [
           7.304585900068446,
           221.5046851574213,
           0.9781318919376905
          ],
          [
           9.88911704312115,
           254.01661129568106,
           297.3789516395812
          ],
          [
           9.897330595482547,
           254.10892116182572,
           40.36591018383845
          ],
          [
           6.830937713894593,
           252.08837675350702,
           35.58950335218002
          ],
          [
           1.568788501026694,
           150.434554973822,
           1.1596867115938556
          ],
          [
           16.550308008213552,
           234.5575682382134,
           1.6869192988465624
          ],
          [
           1.0431211498973305,
           60.395669291338585,
           0.17224697855555562
          ],
          [
           0.3805612594113621,
           94.59712230215827,
           0.1945088270536667
          ],
          [
           7.3319644079397674,
           206.62948095593725,
           4.7470665743861895
          ],
          [
           9.911019849418206,
           254.06063535911602,
           14.593499368539389
          ],
          [
           9.88911704312115,
           252.49979235880397,
           14.560059639057862
          ],
          [
           14.458590006844627,
           241.5864893012687,
           3.127962391400205
          ],
          [
           16.553045859000683,
           226.8464687396626,
           0.22028805723917266
          ],
          [
           4.692676249144422,
           111.02406651108517,
           1.0368399747060748
          ],
          [
           16.55852156057495,
           251.65290178571428,
           2.655452931303594
          ],
          [
           11.849418206707734,
           159.07954020332718,
           1.6688320577141047
          ],
          [
           7.876796714579055,
           146.76016684045882,
           1.0455205329947954
          ],
          [
           7.704312114989733,
           88.78144989339019,
           1.1569759967865514
          ],
          [
           8.459958932238193,
           136.64368932038835,
           0.8982415421287829
          ],
          [
           11.849418206707734,
           196.5497342883549,
           0.33225185078812813
          ],
          [
           16.553045859000683,
           243.76178465100895,
           0.027207356123103026
          ],
          [
           16.50924024640657,
           191.65024875621893,
           0.06044050411089121
          ],
          [
           9.579739904175222,
           254.0778793941126,
           218.98297480606607
          ],
          [
           9.587953456536619,
           254.38171045117076,
           684.2651787085164
          ],
          [
           14.458590006844627,
           248.08781480780155,
           91.9246588588882
          ],
          [
           9.897330595482547,
           254.10892116182572,
           523462.9497946238
          ],
          [
           9.897330595482547,
           254.10892116182572,
           613327.5359356578
          ],
          [
           16.55852156057495,
           254.12896825396825,
           0.22218880365083937
          ],
          [
           14.458590006844627,
           254.51997727703088,
           8621.195488806881
          ],
          [
           1.7193702943189597,
           66.30334394904459,
           0.13035285415225437
          ],
          [
           1.675564681724846,
           31.034313725490197,
           0.07960803262476925
          ],
          [
           11.849418206707734,
           189.88274029574862,
           0.6304547749549587
          ],
          [
           11.846680355920602,
           247.83314074416455,
           10.08045183216271
          ],
          [
           9.267624914442163,
           234.68796159527326,
           1.414161996320633
          ],
          [
           9.286789869952088,
           249.27881780660377,
           20.229150158723595
          ],
          [
           11.83025325119781,
           231.35599398287434,
           2.731211432348965
          ],
          [
           16.257357973990416,
           254.10032839339848,
           439.846128995542
          ],
          [
           16.386036960985628,
           253.81365914786966,
           25.685965165231917
          ],
          [
           16.38877481177276,
           253.7712579351821,
           29.12199851256063
          ],
          [
           16.386036960985628,
           248.0160401002506,
           8.170023072018763
          ],
          [
           16.35318275154004,
           254.14013058764442,
           17.887205306781915
          ],
          [
           11.490759753593428,
           253.76912080057187,
           48.482501938307486
          ],
          [
           14.458590006844627,
           254.31248816512024,
           0.7743058822213954
          ],
          [
           16.55852156057495,
           226.7110615079365,
           2.571709907358797
          ],
          [
           1.5331964407939767,
           108.27053571428571,
           0.37042844550396387
          ],
          [
           0.3887748117727584,
           79.73767605633802,
           0.15118876069667742
          ],
          [
           9.579739904175222,
           253.76471849099744,
           69.53110941830428
          ],
          [
           9.582477754962355,
           254.31835714285714,
           537.3987782965689
          ],
          [
           1.5605749486652978,
           240.29605263157893,
           1.2254653227398
          ],
          [
           7.531827515400411,
           254.65267175572518,
           18345.985426404925
          ],
          [
           14.458590006844627,
           254.03583601590609,
           34.18166236021881
          ],
          [
           14.458590006844627,
           254.51997727703088,
           30.282840231750463
          ],
          [
           9.828884325804244,
           253.94540389972144,
           123.75474945290085
          ],
          [
           9.946611909650924,
           251.6434764657308,
           16.729293159951524
          ],
          [
           16.54757015742642,
           199.06245863666445,
           0.1896831527655826
          ],
          [
           16.55852156057495,
           247.1235119047619,
           1.4995448264470035
          ],
          [
           1.6673511293634498,
           37.78448275862069,
           0.1489005289872857
          ],
          [
           1.6673511293634498,
           32.38669950738916,
           0.062186904293796294
          ],
          [
           1.571526351813826,
           46.45165505226481,
           0.09235026551693151
          ],
          [
           1.5879534565366187,
           23.30043103448276,
           0.12014863233308108
          ],
          [
           11.827515400410677,
           247.2201388888889,
           1.2070724319044448
          ],
          [
           16.55852156057495,
           253.88740079365078,
           2.4423042235442867
          ],
          [
           11.846680355920602,
           188.99809336722902,
           1.4727852260401555
          ],
          [
           8.799452429842573,
           172.73802115743624,
           1.197732681764031
          ],
          [
           6.885694729637235,
           66.07902584493041,
           0.6753817625080089
          ],
          [
           6.787132101300479,
           41.40187575635337,
           0.691653041586545
          ],
          [
           7.383983572895278,
           179.57786429365962,
           0.6809086695733287
          ],
          [
           0.05201916495550993,
           38.44736842105263,
           0.035837904944
          ],
          [
           8.709103353867214,
           191.17926752593524,
           3.173201200074836
          ],
          [
           9.155373032169747,
           188.74162679425837,
           16.798027986748316
          ],
          [
           5.7878165639972625,
           127.68200094607379,
           3.773922333367706
          ],
          [
           1.5003422313483916,
           87.97992700729927,
           3.6358638727818184
          ],
          [
           16.55852156057495,
           254.06857638888889,
           0.3759758292470043
          ],
          [
           14.458590006844627,
           253.897509941299,
           80.9783058984141
          ],
          [
           2.7761806981519506,
           254.6664201183432,
           144.01928353513614
          ],
          [
           2.7679671457905544,
           255.06083086053414,
           9.761991946042302
          ],
          [
           16.550308008213552,
           254.19466501240694,
           29.86255835506208
          ],
          [
           16.55852156057495,
           241.50706845238093,
           0.4886488852477942
          ],
          [
           6.056125941136208,
           142.3352169981917,
           6.902709897848337
          ],
          [
           3.266255989048597,
           196.86148365465212,
           1.4462672813468116
          ],
          [
           2.4832306639288158,
           250.48015435501654,
           11.511202801689388
          ],
          [
           14.72416153319644,
           239.0628486426181,
           3.8980952426653475
          ],
          [
           11.241615331964407,
           254.05601558694593,
           11.207205267950467
          ],
          [
           9.27857631759069,
           253.81048982000593,
           140.54381520689932
          ],
          [
           0.621492128678987,
           24.13546255506608,
           0.4492814278583333
          ],
          [
           1.3853524982888432,
           18.767786561264824,
           0.6437196398480769
          ],
          [
           1.2292950034223136,
           84.60133630289532,
           1.618973248088942
          ],
          [
           6.105407255304586,
           176.07343049327355,
           1.179286315580386
          ],
          [
           7.189596167008898,
           163.15241812642802,
           0.6738272897088887
          ],
          [
           1.212867898699521,
           20.612302483069975,
           0.723326804595
          ],
          [
           2.1711156741957565,
           219.2421185372005,
           3.548368399416492
          ],
          [
           16.314852840520192,
           253.75650276892094,
           62.72182178305321
          ],
          [
           14.72416153319644,
           254.34385459278542,
           67.47710638234196
          ],
          [
           16.733744010951405,
           253.85831151832457,
           35.66101264556612
          ],
          [
           16.309377138945926,
           237.2254910189693,
           1.2427875374532058
          ],
          [
           0.9418206707734429,
           21.23546511627907,
           1.4027143469650003
          ],
          [
           0.9609856262833676,
           47.86752136752136,
           1.653806705891304
          ],
          [
           0.9226557152635181,
           63.94584569732938,
           6.43007046490339
          ],
          [
           16.314852840520192,
           251.67251216647088,
           9.218400958376613
          ],
          [
           13.284052019164955,
           241.64313685078318,
           1.5886384269924552
          ],
          [
           16.733744010951405,
           249.2568308246073,
           9.535404527565554
          ],
          [
           15.649555099247092,
           254.00083100069978,
           5.9919735485494465
          ],
          [
           2.4777549623545516,
           142.06408839779007,
           1.3565932877400568
          ],
          [
           9.744010951403148,
           253.28378758078114,
           3.0021330067912615
          ],
          [
           1.4811772758384667,
           88.4431608133087,
           0.8780907516685114
          ],
          [
           7.189596167008898,
           251.05721629855293,
           4.011172854505782
          ],
          [
           3.1293634496919918,
           196.5255905511811,
           3.8487476290551528
          ],
          [
           3.260780287474333,
           234.9130982367758,
           6.889543474825326
          ],
          [
           3.167693360711841,
           138.27095937770096,
           0.9035441826575937
          ],
          [
           3.260780287474333,
           166.21788413098236,
           1.3154441150450185
          ],
          [
           10.04517453798768,
           221.79803761242843,
           5.4238799113586245
          ],
          [
           1.2238193018480492,
           70.27181208053692,
           1.830198132295058
          ],
          [
           9.571526351813826,
           251.1616132723112,
           5.957665714241603
          ],
          [
           9.568788501026694,
           253.84613733905582,
           3.5284562721898856
          ],
          [
           1.7111567419575633,
           116.29560000000001,
           0.10854031721546734
          ],
          [
           1.6591375770020533,
           38.57425742574257,
           0.23137098414581247
          ],
          [
           5.316906228610541,
           205.38259526261587,
           71.86468131797693
          ],
          [
           13.377138945927447,
           250.05346909537454,
           72.97202234213408
          ],
          [
           8.470910335386721,
           248.73359728506787,
           3.293847721873841
          ],
          [
           8.457221081451062,
           252.565231466494,
           2.698420259643675
          ],
          [
           15.890485968514716,
           241.2764472777395,
           259.9422490148629
          ],
          [
           2.9952087611225187,
           164.93007312614262,
           20.139080764328543
          ],
          [
           16.008213552361397,
           253.99461262185736,
           71.4553316483088
          ],
          [
           15.956194387405887,
           254.25862216884008,
           69.2510653308607
          ],
          [
           15.991786447638603,
           220.23805855161788,
           42.058345003390855
          ],
          [
           15.953456536618754,
           244.27308220353527,
           54.6406001932972
          ],
          [
           15.969883641341546,
           251.66119492542433,
           84.88075236830484
          ],
          [
           15.898699520876113,
           241.40339245737903,
           48.044203956373245
          ],
          [
           15.991786447638603,
           237.68451463790447,
           28.462018074447442
          ],
          [
           16.01095140314853,
           253.88872264021887,
           107.52088792684049
          ],
          [
           15.775496235455167,
           253.49440298507463,
           50.19174243360962
          ],
          [
           14.726899383983573,
           254.29656999442275,
           93.57108659246506
          ],
          [
           11.759069130732374,
           220.5106519208382,
           12.465871709574216
          ],
          [
           16.00273785078713,
           254.01903336184776,
           113.67124472824568
          ],
          [
           6.080766598220397,
           180.8982440342188,
           14.155488919508386
          ],
          [
           10.028747433264886,
           251.8759213759214,
           129.81575351143175
          ],
          [
           10.028747433264886,
           251.477067977068,
           6.42741246358463
          ],
          [
           8.15605749486653,
           211.62185297079554,
           2.1220230617269826
          ],
          [
           10.042436687200547,
           252.03046619411123,
           65.25086151169891
          ],
          [
           12.78302532511978,
           214.0338402227458,
           29.73173034197773
          ],
          [
           11.715263518138261,
           252.32040196307548,
           7.434396189163987
          ],
          [
           15.019849418206707,
           222.77187386073643,
           7.234040856302551
          ],
          [
           0.4216290212183436,
           54.550324675324674,
           3.061613602559782
          ],
          [
           9.88911704312115,
           254.01661129568106,
           7.048592821324289
          ],
          [
           6.639288158795345,
           234.96494845360826,
           37.24115773497148
          ],
          [
           15.36208076659822,
           253.41619140973089,
           102.0307715128722
          ],
          [
           5.366187542778919,
           222.13163265306122,
           1.0900346320350252
          ],
          [
           15.7782340862423,
           254.1475793857366,
           165.54171486450892
          ],
          [
           1.0184804928131417,
           30.4375,
           0.8603088144241935
          ],
          [
           1.111567419575633,
           59.3756157635468,
           1.5474159697416665
          ],
          [
           15.649555099247092,
           245.11878936319104,
           6.413767897113213
          ],
          [
           14.72416153319644,
           243.47736147266642,
           10.17970608626251
          ],
          [
           1.264887063655031,
           71.1525974025974,
           0.876232976242778
          ],
          [
           9.295003422313483,
           254.4377761413844,
           6.015974919220197
          ],
          [
           16.314852840520192,
           251.05957375398555,
           20.39383687050318
          ],
          [
           13.284052019164955,
           251.42930750206102,
           7.021530985095645
          ],
          [
           1.273100616016427,
           61.26774193548387,
           0.3828789068094872
          ],
          [
           5.508555783709788,
           251.0639910536779,
           9.323261375771073
          ],
          [
           1.4948665297741273,
           123.08791208791209,
           0.40998905689594023
          ],
          [
           16.309377138945926,
           245.25768004028876,
           11.013099123095797
          ],
          [
           1.7248459958932238,
           107.83571428571429,
           2.236091514848387
          ],
          [
           16.306639288158795,
           243.52044157152451,
           1.6547244407900976
          ],
          [
           3.082819986310746,
           170.94738010657193,
           4.0687673275026555
          ],
          [
           16.314852840520192,
           246.83029870783687,
           38.50095424353605
          ],
          [
           6.102669404517454,
           243.82772543741586,
           21.534376312721744
          ],
          [
           6.611909650924025,
           118.7251552795031,
           2.2878333297161433
          ],
          [
           2.746064339493498,
           196.2809072781655,
           4.948308159732376
          ],
          [
           10.809034907597535,
           252.1039133738602,
           18.32673669083352
          ],
          [
           1.7494866529774127,
           29.72300469483568,
           5.645459858099999
          ],
          [
           5.336071184120465,
           192.2762955361724,
           5.940845241603405
          ],
          [
           15.646817248459959,
           249.699343832021,
           5.115130478199928
          ],
          [
           16.722792607802873,
           249.12107072691555,
           26.224216262506182
          ],
          [
           1.1909650924024642,
           99.07931034482758,
           0.2234379581364407
          ],
          [
           1.267624914442163,
           45.7548596112311,
           0.6675017942534482
          ],
          [
           0.6023271731690623,
           38.185227272727275,
           0.4362193454315217
          ],
          [
           0.44353182751540043,
           20.291666666666664,
           0.1763090706638889
          ],
          [
           0.6680355920602327,
           77.84016393442623,
           0.2326060626677884
          ],
          [
           0.6516084873374401,
           69.05987394957982,
           0.9427873328108889
          ],
          [
           0.5147159479808351,
           7.7712765957446805,
           1.44737926334375
          ],
          [
           0.6926762491444216,
           20.211462450592887,
           0.40183606024999996
          ],
          [
           0.5776865160848734,
           15.579383886255922,
           0.41377727209166665
          ],
          [
           12.788501026694044,
           253.58718689788054,
           1.9294147713135923
          ],
          [
           1.270362765229295,
           72.42025862068965,
           0.49741421024266314
          ],
          [
           1.809719370294319,
           83.99092284417549,
           0.3943366505446579
          ],
          [
           5.336071184120465,
           188.52821959979477,
           1.400886833600056
          ],
          [
           16.73100616016427,
           252.8240058910162,
           14.987937684469474
          ],
          [
           11.345653661875428,
           221.93520752895753,
           3.9858259953862127
          ],
          [
           1.6837782340862424,
           17.223170731707317,
           1.0725010263009653
          ],
          [
           16.139630390143736,
           219.9554707379135,
           15.208435079283035
          ],
          [
           13.286789869952088,
           251.97960024726973,
           0.7481691976224615
          ],
          [
           1.270362765229295,
           88.16379310344827,
           0.48790233222946433
          ],
          [
           14.726899383983573,
           234.5368098159509,
           7.293893248114932
          ],
          [
           8.563997262149213,
           181.6908567774936,
           1.962393421410574
          ],
          [
           1.6125941136208077,
           19.843803056027163,
           0.18946049060284376
          ],
          [
           5.278576317590692,
           222.40845435684645,
           17.03079244762822
          ],
          [
           1.5058179329226558,
           223.79863636363635,
           3.6866785468023178
          ],
          [
           3.0855578370978782,
           198.66748003549245,
           4.949660880843285
          ],
          [
           16.61601642710472,
           250.9024962926347,
           25.873739062525225
          ],
          [
           9.13347022587269,
           254.55822841726618,
           100.68598993498749
          ],
          [
           3.0061601642710474,
           97.4665300546448,
           7.804037277735837
          ],
          [
           7.553730321697468,
           201.0926966292135,
           1.3036817106352507
          ],
          [
           8.16974674880219,
           200.61821380697052,
           2.6605023958281766
          ],
          [
           7.600273785078714,
           254.33294308357347,
           7.4753164442964595
          ],
          [
           7.594798083504449,
           251.61959264599858,
           11.23178534342482
          ],
          [
           1.8206707734428473,
           67.55751879699248,
           0.36274293583626016
          ],
          [
           5.281314168377824,
           215.66601866251943,
           9.706641792781413
          ],
          [
           3.077344284736482,
           160.52802491103202,
           4.2878030301391705
          ],
          [
           7.553730321697468,
           223.20097861544036,
           5.281127267262597
          ],
          [
           7.482546201232033,
           254.72612513721185,
           11.852554879438305
          ],
          [
           7.613963039014374,
           190.1769147788565,
           5.841141281160152
          ],
          [
           7.600273785078714,
           254.59609149855908,
           17.883567376122958
          ],
          [
           7.493497604380561,
           206.97944830105956,
           6.100705125447323
          ],
          [
           8.125941136208077,
           230.74250336927224,
           4.213931566197772
          ],
          [
           8.010951403148528,
           232.93113465481886,
           5.4884150471192505
          ],
          [
           16.733744010951405,
           253.85831151832457,
           28.70335689225153
          ],
          [
           7.685147159479809,
           209.62513359458495,
           13.93996566055671
          ],
          [
           8.098562628336756,
           247.94523326572008,
           27.162450810817226
          ],
          [
           7.520876112251882,
           224.70786312340738,
           3.8342135160097697
          ],
          [
           8.147843942505133,
           215.27167338709677,
           5.655785813153788
          ],
          [
           7.531827515400411,
           222.65512540894218,
           5.179971224505856
          ],
          [
           2.726899383983573,
           237.9992469879518,
           1.815709804040678
          ],
          [
           16.281998631074607,
           241.3708592567681,
           22.87509144485281
          ],
          [
           10.69678302532512,
           252.4123368313284,
           3.9947854071980653
          ],
          [
           13.062286105407255,
           254.3199538880738,
           75.92029696539397
          ],
          [
           12.955509924709103,
           254.177567624683,
           222.35237413594237
          ],
          [
           13.070499657768652,
           246.20328864683702,
           4.297305872191557
          ],
          [
           13.05681040383299,
           244.31694275529463,
           20.33351820244731
          ],
          [
           13.073237508555783,
           254.18340314136128,
           51.32768999361706
          ],
          [
           8.16974674880219,
           246.88647788203755,
           0.9448190734418352
          ],
          [
           8.16974674880219,
           252.63941018766758,
           30.518401204168825
          ],
          [
           8.574948665297741,
           248.98108237547893,
           42.141229228500265
          ],
          [
           13.533196440793978,
           254.48533279384986,
           2.593167661708251
          ],
          [
           13.522245037645447,
           253.730056691638,
           25.5700451352293
          ],
          [
           0.4106776180698152,
           172.88500000000002,
           0.8998042790196762
          ],
          [
           2.4832306639288158,
           253.29906284454245,
           23.035950726796933
          ],
          [
           1.9739904175222451,
           247.2149791955617,
           2.603462683040461
          ],
          [
           0.7145790554414785,
           18.192528735632184,
           0.32629277942884616
          ],
          [
           15.657768651608487,
           254.18692079034795,
           16.34485801495732
          ],
          [
           13.281314168377824,
           250.42702535559678,
           49.384654745902694
          ],
          [
           1.2566735112936345,
           58.88562091503268,
           0.2747263993760946
          ],
          [
           1.995893223819302,
           74.1522633744856,
           0.15418067275856082
          ],
          [
           8.572210814510608,
           218.7300383264133,
           15.75592206410091
          ],
          [
           1.3086926762491444,
           199.43566945606693,
           0.2636890920575402
          ],
          [
           15.644079397672828,
           245.7159607980399,
           2.798433362688797
          ],
          [
           15.526351813826146,
           253.7621230823488,
           3.8090396947405174
          ],
          [
           15.657768651608487,
           251.69614443084456,
           1.0261823905721272
          ],
          [
           0.813141683778234,
           142.65656565656568,
           5.518042211510129
          ],
          [
           16.145106091718002,
           253.38947770052567,
           88.77984198961089
          ],
          [
           14.726899383983573,
           253.14221974344673,
           31.035577718767687
          ],
          [
           16.314852840520192,
           253.75650276892094,
           5.0512931269686625
          ],
          [
           16.733744010951405,
           254.09734947643977,
           27.515641457423666
          ],
          [
           0.9609856262833676,
           52.02991452991453,
           3.1671578787619996
          ],
          [
           3.0691307323750854,
           97.74754683318466,
           3.4024768247274997
          ],
          [
           1.002053388090349,
           13.971311475409836,
           1.082298029989286
          ],
          [
           5.535934291581109,
           104.95066765578635,
           0.3744512804785129
          ],
          [
           3.0636550308008212,
           121.09718498659518,
           2.776744634343733
          ],
          [
           7.715263518138261,
           202.84465933286018,
           1.0931413160914192
          ],
          [
           7.189596167008898,
           201.81940213252093,
           2.643452224779741
          ],
          [
           1.9794661190965093,
           24.24896265560166,
           0.5918462478677083
          ],
          [
           5.538672142368241,
           205.82550667325754,
           0.8808851776560621
          ],
          [
           1.620807665982204,
           45.03927364864865,
           0.9611645068178083
          ]
         ],
         "hovertemplate": "<b>%{hovertext}</b><br><br>Date Oldest=%{x}<br>Data total=%{y}<br>Years Covered=%{customdata[0]}<br>Data per Year=%{customdata[1]}<br>Avg Volume (M EUR)=%{customdata[2]}<extra></extra>",
         "hovertext": [
          "MMLP.MI - Alerian Midstream Energy Dividend UCITS ETF Dis",
          "FAMSFFA.MI - AM MSCI EUR IG SRI SusExFossil CrpBd UCITS ETF",
          "FAMSF3A.MI - AM MSCI EUR IG SRI SusExFossil1-3yCrpBdUCITSETF",
          "COMH.MI - Amndi Blmbrg Eqlwght ComdtexAgrcl UCITSETF DHEUR A",
          "COMO.MI - Amundi Blbrg Equlwght Commdt ex-Agricl UCITS ETF A",
          "C40.MI - Amundi CAC 40 ESG UCITS ETF DR - EUR A",
          "DAXESG.MI - Amundi Dax 50 ESG UCITS ETF DR A ETF",
          "CG1.MI - Amundi ETF DAX UCITS ETF DR C/D",
          "CI3.MI - AMUNDI ETF Euro Inflation UCITS ETF DR C",
          "C3M.MI - Amundi ETF Govies 0-6 Mts Euro InGrd U ETF DR C",
          "CL2.MI - Amundi ETF Leveraged MSCI USA Daily UETF EUR C/D",
          "CB5.MI - Amundi ETF MSCI Europe Banks UCITS ETF C/D",
          "CU9.MI - Amundi ETF MSCI Europe Ex EMU UCITS ETF C/D",
          "CH5.MI - Amundi ETF MSCI Europe Healthcare UCITS ETF C/D",
          "CS1.MI - Amundi ETF MSCI Spain UCITS ETF C/D",
          "CU1.MI - Amundi ETF MSCI UK UCITS ETF C/D",
          "CM9.MI - Amundi ETF MSCI World Ex EMU UCITS ETF C/D",
          "C5S.MI - Amundi ETF Short Euro Stoxx 50 Daily UCITS ETF A/D",
          "C2U.MI - Amundi ETF Short MSCI USA Daily UCITS ETF A/D",
          "C13.MI - Amundi ETFGovt BdEuro Brd IG 1-3 UCITS ETF DR C",
          "C33.MI - Amundi ETFGovt BdEuro Brd IG 3-5 UCITS ETF DR C",
          "C53.MI - Amundi ETFGovt BdEuro Brd IG 5-7 UCITS ETF DR C",
          "C73.MI - Amundi ETFGovt BdEuro Brd IG 7-10 UCITS ETF DRC",
          "EBBB.MI - Amundi EUR Corporate Bond 1-5Y ESG UCITS ETF Acc",
          "CRPE.MI - Amundi EUR Corporate Bond Climate Net Zero Ambition PAB UCITS ETF Acc",
          "ECR1.MI - Amundi Euro Corp 0-1Y ESG UCITS DR A ETF",
          "CB3.MI - Amundi Euro Government Tilted Green Bd UCITS ETFAc",
          "AHYE.MI - Amundi Euro High Yield Bd ESG UCITS ETF DR EC",
          "HYBB.MI - Amundi Euro High Yield Bond ESG UCITS ETF Dist",
          "C50.MI - Amundi Euro Stoxx 50 - UCITS ETF DR - EUR (C)",
          "AFRN.MI - Amundi Float Rate Euro Corporate ESG ETF DR EUR A",
          "REEU.MI - Amundi FTSE Epra Europe Real Estate UCITS ETF (D)",
          "EPRE.MI - Amundi FTSE EPRA Europe Real Estate UCITS ETF-E(C)",
          "BUND1S.MI - Amundi German Bund Daily (-1x) Ivrs UCITS ETF Dist",
          "GASRI.MI - Amundi Global AGG SRI UCITS ETF DR A",
          "CWE.MI - Amundi Global BioEnergy ESG Scrnd UCITS ETF EUR Ac",
          "UBBB.MI - Amundi Global Corp SRI 1-5Y UCITS ETF DRC",
          "AGEB.MI - Amundi Global Emer Bd Markit iBOXX UCITS ETF USD C",
          "AM3A.MI - Amundi Gov Bd Highest Rtd Euro IG UCTS ETF-E(C)",
          "X13G.MI - Amundi Gov Bd Lwst Rtd Eur Inv Grd 1-3 UCTS ETF-EC",
          "X1G.MI - Amundi GovBd Lwst Rtd Euro Inv Grd UCTS ETF-EC",
          "SMRTA.MI - Amundi Idx Eq Gbl Mti Smt Alcn Sfc Bt UCITS ETF EC",
          "NRAM.MI - Amundi Idx MSCI NthAmrca ESG Brd CTB UCITS ETFDR C",
          "EGRI.MI - Amundi Index Euro AGG SRI - UCITS ETF DR A",
          "ECRPI.MI - Amundi Index Euro Corp SRI - UCITS ETF DR C",
          "ECRP3.MI - Amundi Index Euro Corporate SRI 0-3Y UCITSETF DR A",
          "CC4.MI - Amundi Index Euro Corporate SRI UCITS ETF 2 EUR C",
          "EPRA.MI - Amundi Index FTSE EPRA NAREIT Global UCITS ETF DRC",
          "GAGH.MI - Amundi Index Gbl Agg 500m-UCITS ETF DRH C",
          "GAGG.MI - Amundi Index Global Agg 500m-UCITS ETF DR C",
          "EGOVI.MI - Amundi Index J.P. Morgan EMU Govies IG-UCTS ETF DR",
          "GGOVI.MI - Amundi Index JP Morgan GBI Gbl Govies UCITS ETF DR",
          "GOVH.MI - Amundi Index JP Mrgn GBI Glb Gvs UCITS ETF DR H C",
          "CLEMC.MI - Amundi Index MSCI EMerging ESG Broad CTB - UCITS ETF DR (C)",
          "EMSRI.MI - Amundi Index Msci Emerging Markets Sri Pab - Ucits Etf Dr (C)",
          "CMU.MI - Amundi Index MSCI EMU ESG Leaders Select ETF C",
          "CMUSRI.MI - Amundi Index MSCI EMU SRI PAB UCITS ETF DR A",
          "CEU.MI - Amundi Index Msci Europe Esg Broad Ctb - Ucits Etf Dr - Eur (C)",
          "EUSRI.MI - Amundi Index Msci Europe Sri Pab - Ucits Etf Dr (C)",
          "EDSRI.MI - Amundi Index MSCI Europe SRI PAB - UCITS ETF DR D",
          "CEU2.MI - Amundi Index MSCI Europe UCITS ETF DR - (C)",
          "CP9.MI - Amundi Index Msci Pacific Ex Japan Sri Pab - Ucits Etf Dr - Eur (C)",
          "USRI.MI - Amundi Index Msci Usa Sri Pab - Ucits Etf Dr (C)",
          "USRIH.MI - Amundi Index MSCI USA SRI PAB UCITS ETF DR hEUR A",
          "MWSHI.MI - Amundi Index MSCI World SRI PAB - UCITS ETF DR - Hedged EUR (C)",
          "WSRI.MI - Amundi Index Msci World Sri Pab - Ucits Etf Dr (C)",
          "MWRD.MI - Amundi Index MSCI World UCITS ETF DR - (C)",
          "UCRP.MI - Amundi Index US Corp SRI UCITS ETF DR C",
          "ATIP.MI - Amundi Index US Gov Inf-Lnk Bd - UCT ETF DR",
          "FMI.MI - Amundi Italy MIB ESG UCITS ETF DR EUR (C)",
          "TPXH.MI - Amundi Japan Topix UCITS ETF - daily Hdgd EUR (C)",
          "JPHE.MI - Amundi JPX-Nikkei 400 UCITS ETF - Dly Hdgd EUR (C)",
          "JPNK.MI - Amundi JPX-Nikkei 400 UCITS ETF - EUR (C)",
          "BRZ.MI - Amundi MSCI BRAZIL - UCITS ETF (C)",
          "CC1.MI - Amundi MSCI China Tech ESG Scrnd UCITS ETF EUR Acc",
          "EBUY.MI - Amundi MSCI Dig Eco & Meta ESG Scrnd UCITS ETF Acc",
          "AASI.MI - Amundi MSCI Em Asia UCITS ETF - EUR (C)",
          "ALAT.MI - Amundi MSCI Em Latin America UCITS ETF - EUR (C)",
          "EMESG.MI - Amundi MSCI Emerging ESG Leaders - UCITS ETF DR",
          "LEMA.MI - Amundi MSCI Emerging Markets II UCITS ETF - Acc",
          "E127.MI - Amundi MSCI Emerging Markets II UCITS ETF - Dist",
          "AEEM.MI - Amundi MSCI Emerging Markets UCITS ETF - EUR (C)",
          "LWCE.MI - Amundi MSCI Eur Clim Transition CTB UCITS ETF DR A",
          "MIVO.MI - Amundi MSCI Europe Min Vol Factor UCITS ETF-EC",
          "MCEU.MI - Amundi MSCI Europe Momentum Factor UCITS ETF EUR C",
          "QCEU.MI - Amundi MSCI Europe Quality Factor UCITS ETF-EUR(C)",
          "VCEU.MI - Amundi MSCI Europe Value Factor UCITS ETF EUR (C)",
          "CI2.MI - Amundi MSCI India UCITS ETF - EUR (C)",
          "LCJP.MI - AMUNDI MSCI Japan UCITS ETF - Acc",
          "CN1.MI - Amundi MSCI Nordic UCITS ETF - EUR (C)",
          "GOAI.MI - Amundi MSCI Robotics & AI ESG Scrnd UCITS ETF Acc",
          "CHIPL.MI - Amundi MSCI Semicond ESG Screened UCITS ETF A",
          "ISAD.MI - Amundi MSCI USA ESG Leaders UCITS ETF DR USD A",
          "CU2.MI - Amundi MSCI USA UCITS ETF - EUR (C)",
          "WLDX.MI - Amundi MSCI WldExEMUSRIClNt0Ambtn PAB UCITS ETF A",
          "LWCR.MI - Amundi MSCI World Climate Transition CTB ETF EUR",
          "ESGWO.MI - Amundi MSCI World ESG Leaders UCITS (C) ETF",
          "CW8.MI - Amundi MSCI World UCITS ETF - EUR (C)",
          "ANX.MI - Amundi NASDAQ-100 UCITS ETF - EUR (C)",
          "NDXH.MI - Amundi NASDAQ-100 UCITS ETF-Daily Hedged EUR (C)",
          "AGOLD.MI - Amundi Physical Gold ETC",
          "ETFCRP.MI - Amundi Prime Euro Corporates UCITS ETF DR C",
          "ETFCOR.MI - Amundi Prime Euro Corporates UCITS ETF DR D",
          "ETFGOV.MI - Amundi Prime Euro Govies UCITS ETF DR D",
          "ETFEU.MI - Amundi Prime Europe - UCITS ETF DR (D)",
          "ETFEZ.MI - Amundi Prime Eurozone UCITS ETF DR D",
          "ETFGG.MI - Amundi Prime Global Govies UCITS ETF DR D",
          "ETFGLO.MI - Amundi Prime Global UCITS ETF DR D",
          "ETFJAP.MI - Amundi Prime Japan UCITS ETF DR D",
          "ETFUSC.MI - Amundi Prime US Corporates - UCITS ETF DR D",
          "ETFUST.MI - Amundi Prime US Treasury UCITS ETF DR D",
          "ETFUSA.MI - Amundi Prime USA UCITS ETF DR D",
          "RS2K.MI - Amundi Russell 2000 UCITS ETF - EUR (C)",
          "B500.MI - Amundi S&P 500 Buyback UCITS ETF - EUR (C)",
          "S500.MI - Amundi S&P 500 ESG UCITS ETF Acc",
          "S500H.MI - Amundi S&P 500 ESG UCITS ETF Euro Hedged Acc",
          "500H.MI - Amundi S&P 500 UCITS ETF - Daily Hedged EUR (C)",
          "A500.MI - Amundi S&P 500 UCITS ETF- EUR (C)",
          "ENERW.MI - Amundi S&P Gl Energy Carbon Reduced U DR EURAcc ETF",
          "INDGW.MI - Amundi S&P Gl Industrials ESG UCITS DR EUR Acc ETF",
          "LMATW.MI - Amundi S&P Gl Materials ESG UCITS DR EUR Acc ETF",
          "LUTIW.MI - Amundi S&P Gl Utilities ESG UCITS DR EUR Acc ETF",
          "TELEW.MI - Amundi S&P Global Communic Svcs ESG U DR EURAcc ETF",
          "LDISW.MI - Amundi S&P Global Cons Dscrtnr ESG U DR EURAcc ETF",
          "LSTAW.MI - Amundi S&P Global Cons Staples ESG U DR EURAcc ETF",
          "GLUX.MI - Amundi S&P Global Luxury UCITS ETF - EUR (C)",
          "SCITY.MI - Amundi Smart City - UCITS ETF EUR Cap",
          "SMAFY.MI - Amundi Smart Factory - UCITS ETF EUR Cap",
          "ENRG.MI - Amundi STOXX Euro 600 Engy ESG Scrnd UCITS ETF Acc",
          "US7.MI - Amundi US Treas Bd 7-10Y ETF",
          "U13H.MI - Amundi US Treas Bond 1-3Y UCITS ETF EUR Hgd Dis",
          "US10.MI - Amundi US Treasury Bond 10+Y UCITS ETF Dist",
          "US1.MI - Amundi US Treasury Bond 1-3Y UCITS ETF Acc",
          "US13.MI - Amundi US Treasury Bond 1-3Y UCITS ETF Dist",
          "US37.MI - Amundi US Treasury Bond 3-7Y UCITS ETF Dist",
          "HFRN.MI - Amundi USD Fltng Rate Corp Bd ESG UCITS ETF EUR HA",
          "USFRN.MI - Amundi USD Fltng Rate Corp Bd ESG UCITS ETF USD A",
          "C10.MI - AmundiETF Govt BdEuro Brd IG 10-15 U ETF DR C",
          "CJ1.MI - AmundiMSCIJpnESGClmtNtZroAmbtnCTBUCITSETF DR EUR C",
          "ESGO.MI - AuAg ESG Gold Mining UCITS ETF Acc",
          "ABIU.MI - AXA IM ACT Biodiversity Equity UCITS USD Acc ETF",
          "ABIEE.MI - AXA IM ACT Biodivrsty Equity UCITS ETF EUR Hdg Acc",
          "ACLEE.MI - AXA IM ACT Climate Equity UCITS ETF EUR Hdg Acc",
          "ACLU.MI - AXA IM ACT Climate Equity UCITS USD Acc ETF",
          "AIPE.MI - AXA IM Euro Credit PAB UCITS Accumulation EUR ETF",
          "ANAUE.MI - AXA IM Nasdaq 100 UCITS ETF USD Acc",
          "BBTR.MI - BetaBuilders US Treasury Bond UCITS ETF - USD Acc",
          "SRIC3.MI - BNP Paribas Easy € Corp Bond SRI PAB 1-3Y ETF D",
          "SRIC5.MI - BNP Paribas Easy € Corp Bond SRI PAB 3-5Y ETF D",
          "SRIC.MI - BNP Paribas Easy € Corp Bond SRI PAB UCITS ETF C",
          "EGRO.MI - BNP PARIBAS EASY ESG Growth Europe UCITS ETF Cap",
          "EVOE.MI - BNP Paribas Easy ESG Low Vol Europe UCITS ETF C",
          "EVOU.MI - BNP Paribas Easy ESG Low Vol US UCITS ETF C",
          "EMOM.MI - BNP Paribas Easy ESG Momentum Europe UCITS ETF C",
          "EQUA.MI - BNP Paribas Easy ESG Quality Europe UCITS ETF C",
          "EVAE.MI - BNP Paribas Easy ESG Value Europe UCITS ETF C",
          "SPEEU.MI - BNP PARIBAS EASY S&P 500 ESG UCITS ETF EUR CAP",
          "ESEE.MI - BNP Paribas Easy S&P 500 UCITS ETF EUR C",
          "ESEH.MI - BNP Paribas Easy S&P 500 UCITS ETF EUR H",
          "HYSRI.MI - BNPP Easy € HY SRI Fossil Free UCITS ETF Cap",
          "HSRID.MI - BNPP Easy € HY SRI Fossil Free UCITS ETF Dis",
          "BSRIC.MI - BNPP Easy Agg Bd SRI Fossil Free UCITS ETF C",
          "BSRID.MI - BNPP Easy Agg Bd SRI Fossil Free UCITS ETF D",
          "REUSE.MI - BNPP Easy ECPI Circular Economy Leaders UCITS ETFC",
          "EENG.MI - BNPP Easy ECPI Gbl ESG Infrastructure UCITS ETF C",
          "OCEAN.MI - BNPP Easy ECPI Global ESG Blue Economy UCITS ETF C",
          "EGEHE.MI - BNPP Easy ECPI Global ESG Hydrogen Economy ETF C",
          "EGEMT.MI - BNPP Easy ECPI Global ESG Med Tech UCITS ETF C",
          "GSCE.MI - BNPP Easy Engy&Metals Enhcd Roll UCITS ETF EUR C",
          "BIODV.MI - BNPP EASY ESG EurZn Biodvr Lead PAB ETF C",
          "EEA.MI - BNPP Easy FTSE EPRA/NAREIT Eurozone Capped ETF C",
          "ASRD.MI - BNPP Easy JPM ESG EMBI Gbl Dvsfd Cmpt ETF H EUR C",
          "GEU3C.MI - BNPP Easy JPM ESG EMU Gov Bd IG 1-3Y UCITS ETF C",
          "GEU3D.MI - BNPP Easy JPM ESG EMU Gov Bd IG 1-3Y UCITS ETF D",
          "JBEM.MI - BNPP Easy JPM ESG EMU Government Bond IG UETF C",
          "GEMU.MI - BNPP Easy JPM ESG EMU Govt Bd IG 3-5Y UCITS ETF C",
          "LCEU.MI - BNPP Easy Low Carbon 100 Europe PAB UCITS ETF C",
          "ELCEZ.MI - BNPP Easy Low Carbon 100 Eurozone PAB UCITS ETF C",
          "LCWLD.MI - BNPP Easy Low Carbon 300 World PAB UCITS ETF Cap",
          "EISR.MI - BNPP Easy MSCI EM SRI SSeries PAB 5% Cap ETF EUR D",
          "EEMK.MI - BNPP Easy MSCI Emerg ESG Filtered Min TE ETF EUR C",
          "EEMU.MI - BNPP Easy MSCI EMU ESG Filtered Min TE UCITS ETF C",
          "MUSRI.MI - BNPP Easy MSCI EMU SRI S-Series PAB 5% Cppd ETF C",
          "EEUE.MI - BNPP Easy MSCI Europe ESG Filtered Min TE ETF C",
          "SRIE.MI - BNPP Easy MSCI Europe SRI S-Srs PAB 5% Cppd ETF D",
          "EJAH.MI - BNPP Easy MSCI Jpn ESG Filtered Min TE ETF H EUR C",
          "SRIJ.MI - BNPP Easy MSCI Jpn SRI S-Srs PAB 5% Cppd ETF D",
          "ENAM.MI - BNPP Easy MSCI Nth Amer ESG Fltrd Min TE ETF C",
          "EPEJ.MI - BNPP Easy MSCI Pac ex Jpn ESG Fltrd Min TE ETF C",
          "EKUS.MI - BNPP Easy MSCI USA SRI S-Srs PAB 5% Cp ETF EUR D",
          "EMWE.MI - BNPP Easy MSCI World SRI S-Srs PAB 5% Cp ETF EUR C",
          "EGDGR.MI - BNPPE FTSE EPRA Nareit Gbl Dvlp Green CTB ETF C",
          "GREAL.MI - BNPPE FTSE EPRA NareitDvlpdEurp exUK GreenCTB ETFC",
          "EJEGSS.MI - BNPPE JPM ESG Green Social & Sust IG EUR Bd ETF C",
          "CHINE.MI - BNPPE MSCI China Sel SRI S-Srs 10% C UCITS ETFEURC",
          "EESM.MI - BNPPE MSCI Europ Sm Cp SRI SSrs PAB 5% Cppd ETF C",
          "5BTS.MI - Boost Btp 10Y 5X Short Daily ETP ETN",
          "5BUS.MI - Boost Bund 10Y 5X Short Daily ETP ETN",
          "5TYS.MI - Boost Us Treasuries 10Y 5X Sht Daily ETP ETN",
          "GREIT.MI - CSIF (IE) FTSE EPRA Nareit Dvlp Green BlueUETFAUSD",
          "CMXUS.MI - CSIF (IE) MSCI USA Blue UCITS ETF B USD",
          "USESG.MI - CSIF (IE) MSCI USA ESG Leaders BlueUCITS ETF B USD",
          "USSMC.MI - CSIF (IE) MSCI USA SmCp ESG Lds BlueUCITSETF B USD",
          "CSYU.MI - CSIF (IE) MSCI USA Tech 125 ESGUnvrslBl UETF B USD",
          "WDMVO.MI - CSIF (IE) MSCI Wld ESG Lds Min Vol BlUCITSETF BUSD",
          "WDESG.MI - CSIF (IE) MSCI World ESGLeadersBlueUCITSETF B USD",
          "WDESGE.MI - CSIF (IE) MSCI World ESGLeadersBlueUCITSETF BH EUR",
          "DIGIT.MI - Digital Infrastructure and Connectivity UETF Acc",
          "ELECT.MI - Electric Vehicle Charging Infrstr Eq UCITS ETF Acc",
          "EMQQ.MI - EMQQ Em Mkts Internet and Ecommerce UCITS ETF Acc",
          "METR.MI - ETC Group Global Metaverse UCITS ETF Acc",
          "KOIN.MI - ETC Grp Digital Assets and Blockchain Eq U ETF Acc",
          "3CFL.MI - ETFS 3X Daily Long Coffee ETC",
          "3SUL.MI - ETFS 3X Daily Long Sugar ETC",
          "3WHL.MI - ETFS 3X Daily Long Wheat ETC",
          "ECH3.MI - ETFS 3x Long CHF Short EUR",
          "EGB3.MI - ETFS 3x Long GBP Short EUR",
          "EJP3.MI - ETFS 3x Long JPY Short EUR",
          "EUS3.MI - ETFS 3x Long USD Short EUR",
          "CHE3.MI - ETFS 3x Short CHF Long EUR",
          "GBE3.MI - ETFS 3x Short GBP Long EUR",
          "JPE3.MI - ETFS 3x Short JPY Long EUR",
          "USE3.MI - ETFS 3x Short USD Long EUR",
          "EGB5.MI - ETFS 5x Long GBP Short EUR",
          "EUS5.MI - ETFS 5x Long USD Short EUR",
          "GBE5.MI - ETFS 5x Short GBP Long EUR",
          "USE5.MI - ETFS 5x Short USD Long EUR",
          "EALU.MI - ETFS EUR Daily Hedged Aluminum",
          "EBRT.MI - ETFS EUR Daily Hedged Brent Crude ETC",
          "ECOF.MI - ETFS EUR Daily Hedged Coffee",
          "ECECOP.MI - ETFS EUR Daily Hedged Copper ETC",
          "ECRN.MI - ETFS EUR Daily Hedged Corn",
          "ECTN.MI - ETFS EUR Daily Hedged Cotton",
          "EFCM.MI - ETFS EUR Daily Hedged Forward All Commodity",
          "EBUL.MI - ETFS EUR Daily Hedged Gold ETC",
          "EIMT.MI - ETFS EUR Daily Hedged Industrial Metals",
          "ENGS.MI - ETFS EUR Daily Hedged Natural Gas ETC",
          "GBSE.MI - ETFS EUR Daily Hedged Physical Gold ETC",
          "ESVR.MI - ETFS EUR Daily Hedged Silver ETC",
          "ESOY.MI - ETFS EUR Daily Hedged Soybeans",
          "ESUG.MI - ETFS EUR Daily Hedged Sugar",
          "EWAT.MI - ETFS EUR Daily Hedged Wheat ETC",
          "ECECRD.MI - ETFS EUR Daily Hedged WTI Crude Oil ET",
          "EZNC.MI - ETFS EUR Daily Hedged Zinc ETC",
          "EUAU.MI - ETFS Long AUD Short EUR",
          "EUCH.MI - ETFS Long CHF Short EUR",
          "EUGB.MI - ETFS Long GBP Short EUR",
          "EUJP.MI - ETFS Long JPY Short EUR",
          "EUNO.MI - ETFS Long NOK Short EUR",
          "EUSE.MI - ETFS Long SEK Short EUR",
          "EUUS.MI - ETFS Long USD Short EUR",
          "AUEU.MI - ETFS Short AUD Long EUR",
          "CHEU.MI - ETFS Short CHF Long EUR",
          "GBEU.MI - ETFS Short GBP Long EUR",
          "JPEU.MI - ETFS Short JPY Long EUR",
          "NOEU.MI - ETFS Short NOK Long EUR",
          "SEEU.MI - ETFS Short SEK Long EUR",
          "USEU.MI - ETFS Short USD Long EUR",
          "FRNW.MI - Fidelity Clean Energy UCITS ETF USD Acc",
          "FCLD.MI - Fidelity Cloud Computing UCITS ETF USD Acc",
          "FDHT.MI - Fidelity Digital Health UCITS ETF USD Acc",
          "FDRV.MI - Fidelity Elctrc Vhcls and Ftr Transp UETF USD Acc",
          "FEMI.MI - Fidelity Em Mkts Quality Income UCITS ETF USD Acc",
          "FEME.MI - Fidelity Em Mkts Quality Income UCITS ETF USD Inc",
          "FEQD.MI - Fidelity Europe Quality Income UCITS ETF EUR Acc",
          "FEUI.MI - Fidelity Europe Quality Income UCITS ETF EUR Inc",
          "FGGB.MI - Fidelity Gl Gov Bd Climate Aware UCITS ETF USD Inc",
          "FFGC.MI - Fidelity Global Government Bond Climate Aware UCITS - EUR Hedged Inc ETF",
          "FGEU.MI - Fidelity Global Quality Income UCITS ETF EURH Inc",
          "FGQI.MI - Fidelity Global Quality Income UCITS ETF USD Inc",
          "FMET.MI - Fidelity Metaverse UCITS ETF USD Acc",
          "FSME.MI - Fidelity Sust Gl Crp Bd PAMltfactor U ETF HEUR Acc",
          "FFGE.MI - Fidelity Sust Gl HY Bd PAR MF UCITS ETF EURH Inc",
          "FGHY.MI - Fidelity Sust Gl HY Bd PAR MF UCITS ETF USD Inc",
          "FSMF.MI - Fidelity Sust Glb Crp Bd PA Mltftr UETF USD Inc",
          "FUSR.MI - Fidelity Sust Research Enh US Eq UCITS ETF USD Acc",
          "FEMR.MI - Fidelity Sust Rsrch Enh EM Eq UCITS Acc ETF",
          "FEUR.MI - Fidelity Sust Rsrch Enh Euro Eq UCITS ETF EUR Acc",
          "FGLR.MI - Fidelity Sust Rsrch Enh Glb Eq UCITS ETF USD Acc",
          "FJPR.MI - Fidelity Sust Rsrch Enh Japan Eq UCITS ETF JPY Acc",
          "FPXR.MI - Fidelity Sust Rsrch Enh Pac ex Jp Eq UETF USD Acc",
          "FSEM.MI - Fidelity Sustainable USD EM Bond UCITS ETF USD Inc",
          "FUSU.MI - Fidelity US Quality Income UCITS ETF EUR Hdg Acc",
          "FUSA.MI - Fidelity US Quality Income UCITS ETF USD Acc",
          "FUSDQ.MI - Fidelity US Quality Income UCITS ETF USD Inc",
          "FAMMAIA.MI - Fineco AM MSCI ACWI IMI Cyber Security UCITS ETF",
          "FAMEUSA.MI - Fineco AM MSCI EUR HY SRI Sus Crp Bd UCITS ETF",
          "FAMUSSA.MI - Fineco AM MSCI USD HY SRI Sus Crp Bd UCITS ETF",
          "FAMLSSA.MI - Fineco AM MSCI USD IG Lq SRI St CBd UCITS ETFAcEUR",
          "FAMWCSA.MI - Fineco AM MSCI Wld CnsmrStpls ESG Ldrs UCITS ETF A",
          "FAMMWFA.MI - Fineco AM MSCI Wld Financials ESG Ldrs UCITS ETF A",
          "FAMTELA.MI - Fineco AM MSCI WldInfTech ESG Ldrs20% Cp UCITS ETF",
          "FAMAMWA.MI - Fineco AM MSCI Wrld MtlsMining UCITS ETF A ACC EUR",
          "FAMMWSA.MI - Fineco AM MSCIWorldSemicondEquipUCITS ETF A ACCEUR",
          "FSKY.MI - First Trust Cloud Computing UCITS ETF A USD",
          "FDNI.MI - First Trust Dow Jones Intl Internet U ETF A USD",
          "FEUZ.MI - First Trust Eurozone AlphaDex UCITS ETF A EUR",
          "BLOK.MI - First Trust Indxx Innvtv Trnsctn and Proc UETF A",
          "NXTG.MI - First Trust Indxx NextG UCITS ETF A USD",
          "EFPX.MI - First Trust IPOX Europe Equity Opp UCITS ETF A EUR",
          "GRIDG.MI - First Trust Nasdaq Clean Edge SG Infra UETF A USD",
          "CIBR.MI - First Trust Nasdaq Cybersecurity UCITS ETF A USD",
          "FBTA.MI - First Trust NYSE Arca Biotech UCITS ETF A USD",
          "UNCA.MI - First Trust US Equity Income UCITS ETF B USD",
          "FMQQ.MI - FMQQ Next Frontier Internet and Ecom ESGS UETF Acc",
          "FLQA.MI - Franklin AC Asia ex Japan UCITS ETF",
          "CATHEM.MI - Franklin Catholic Principles EM Sov Dbt UCITS ETF",
          "FLXE.MI - Franklin Emerging Markets UCITS ETF",
          "FLRG.MI - Franklin Euro Green Bond UCITS ETF",
          "FLESA.MI - Franklin Euro Short Maturity UCITS ETF",
          "FLESAA.MI - Franklin Euro Short Maturity UCITS ETF EUR (Acc)",
          "FLEQ.MI - Franklin European Equity UCITS ETF",
          "FLXB.MI - Franklin FTSE Brazil UCITS ETF",
          "FLXC.MI - Franklin FTSE China UCITS ETF",
          "FLXIG.MI - Franklin FTSE India UCITS ETF",
          "FLXK.MI - Franklin FTSE Korea UCITS ETF",
          "FLXT.MI - Franklin FTSE Taiwan UCITS ETF",
          "FOFD.MI - Franklin Future of Food UCITS ETF",
          "FOHW.MI - Franklin Future of Health and Wellness UCITS ETF",
          "FLXG.MI - Franklin Global Equity SRI UCITS ETF",
          "METE.MI - Franklin Metaverse UCITS ETF",
          "FRCP.MI - Franklin MSCI China Paris Algnd Climate UCITS ETF",
          "FREP.MI - Franklin MSCI Emerging Markets PrsAlgCmt UCITS ETF",
          "USPA.MI - Franklin S&P 500 Paris Aligned Climate UCITS ETF",
          "EUPA.MI - Franklin STOXX Europe 600 Prs Algnd Clmt UCITS ETF",
          "FLXD.MI - Franklin Templeton ICAV - Franklin European Quality Dividend UCITS ETF",
          "FLXX.MI - Franklin Templeton ICAV - Franklin Global Quality Dividend UCITS ETF",
          "FLXU.MI - Franklin U.S. Equity UCITS ETF",
          "FLUC.MI - Franklin USD Inv Grade Corpo Bd UCITS ETF",
          "NATO.MI - Future of Defence UCITS ETF USD Acc",
          "CROP.MI - Global X Agtech and Food Innvtn UCITS ETF USD Acc",
          "DRVE.MI - Global X Autonomous and Elec Vhc UCITS ETF USD Acc",
          "BKCH.MI - Global X Blockchain UCITS ETF USD Acc",
          "CBIO.MI - Global X China Biotech UCITS ETF USD Acc",
          "CCLN.MI - Global X China Clean Energy UCITS ETF USD Acc",
          "CCLD.MI - Global X China Cloud Computing UCITS ETF USD Acc",
          "CAUT.MI - Global X China Electric Vhcl and Bttr UETF USD Acc",
          "AQWA.MI - Global X Clean Water UCITS ETF USD Acc",
          "CTEKH.MI - Global X Cleantech UCITS ETF USD Acc",
          "CLOU.MI - Global X Cloud Computing UCITS ETF USD Acc",
          "COPX.MI - Global X Copper Miners UCITS ETF USD Acc",
          "BUG.MI - Global X Cybersecurity UCITS ETF USD Acc",
          "VPN.MI - Global X Data Cetr Reits and Digi Infr UETF USDAcc",
          "DMAT.MI - Global X Disruptive Materials UCITS ETF USD Acc",
          "EBIZ.MI - Global X E Commerce UCITS ETF USD Acc",
          "FINX.MI - Global X FinTech UCITS ETF USD Acc",
          "GNOM.MI - Global X Genomics & Biotechnology UCITS ETF USDAcc",
          "HYGN.MI - Global X Hydrogen UCITS ETF USD Acc",
          "SNSR.MI - Global X Internet of Things UCITS ETF USD Acc",
          "LITU.MI - Global X Lithium and Battery Tech UCITS ETF USDAcc",
          "QYLD.MI - Global X NASDAQ 100 Covered Call UCITS ETF USD Dis",
          "RNRG.MI - Global X Renewable Energy Prod UCITS ETF USD Acc",
          "BOTZ.MI - Global X Robotics and AI UCITS ETF USD Acc",
          "XYLE.MI - Global X S&P 500 Covered Call UCITS ETF Dist",
          "SPQB.MI - Global X S&P 500 Qtr Buffer UCITS ETF USD Acc",
          "SPQH.MI - Global X S&P 500 Qtr Tail Hedge UCITS ETF USD Acc",
          "SILV.MI - Global X Silver Miners UCITS ETF USD Acc",
          "RAYZ.MI - Global X Solar UCITS ETF USD Acc",
          "SDIV.MI - Global X Superdividend UCITS ETF USD Dist",
          "EDOCI1.MI - Global X Telemedicine & Digital Hlth U ETF USD Acc",
          "URNU.MI - Global X Uranium UCITS ETF USD Acc",
          "PAVE.MI - Global X US Infras Developments UCITS ETF USD Acc",
          "HERUI1.MI - Global X Video Games & Esports UCITS ETF USD Acc",
          "WNDY.MI - Global X Wind Energy UCITS ETF USD Acc",
          "GBS.MI - Gold Bullion Securities ETC",
          "CBND.MI - Goldman Sachs Access China Govt Bd UETF USD Dist",
          "GSEM.MI - Goldman Sachs Acitvebeta EM Eq UCITS ETF USD Acc",
          "GSLC.MI - Goldman Sachs Activebeta US LC EqUCITS ETF USD Acc",
          "SFNG.MI - Graniteshares 1X Short Faang Daily ETP",
          "SFTG.MI - Graniteshares 1X Short Fatang Daily ETP",
          "SGFM.MI - Graniteshares 1X Short Gafam Daily ETP",
          "2LZM.MI - GraniteShares 2x Long Zoom Daily ETP",
          "2SZM.MI - GraniteShares 2x Short Zoom Daily ETP",
          "3LAA.MI - GraniteShares 3x Long Alibaba Daily ETP",
          "3LAL.MI - Graniteshares 3X Long Alphabet Daily ETP",
          "3LZN.MI - Graniteshares 3X Long Amazon Daily ETP",
          "3LAM.MI - GraniteShares 3x Long AMD Daily ETP",
          "3LAP.MI - Graniteshares 3X Long Apple Daily ETP",
          "3LCO.MI - GraniteShares 3x Long Coinbase Daily ETP",
          "3LNL.MI - GraniteShares 3x Long Enel Daily ETP",
          "3LEN.MI - GraniteShares 3x Long Eni Daily ETP",
          "3FNG.MI - Graniteshares 3X Long Faang Daily ETP",
          "3LFB.MI - Graniteshares 3X Long Facebook Daily ETP",
          "3FTG.MI - Graniteshares 3X Long Fatang Daily ETP",
          "3GFM.MI - Graniteshares 3X Long Gafam Daily ETP",
          "3LSP.MI - GraniteShares 3x Long Intesa Sanpaol ETP",
          "3MIB.MI - GraniteShares 3x Long MIB Daily ETP",
          "3LMI.MI - GraniteShares 3x Long MicroStrategy ETP",
          "3LMO.MI - GraniteShares 3x Long Moderna Daily ETP",
          "3LMS.MI - Graniteshares 3X Long Msft Daily ETP",
          "3LNF.MI - Graniteshares 3X Long Netflix Daily ETP",
          "3LNI.MI - Graniteshares 3X Long Nio Daily ETP",
          "3LNV.MI - Graniteshares 3X Long Nvidia Daily ETP",
          "3LPA.MI - GraniteShares 3x Long Palantir Daily ETP",
          "3LPP.MI - GraniteShares 3x Long PayPal Daily ETP",
          "3LPO.MI - GraniteShares 3x Long Spotify Daily ETP",
          "3LSQ.MI - GraniteShares 3x Long Square Daily ETP",
          "3LTS.MI - Graniteshares 3X Long Tesla Daily ETP",
          "3LUB.MI - Graniteshares 3X Long Uber Daily ETP",
          "3LCR.MI - GraniteShares 3x Long UniCredit Dail ETP",
          "3SAA.MI - GraniteShares 3x Short Alibaba Daily ETP",
          "3SZN.MI - Graniteshares 3X Short Amazon Daily ETP",
          "3SAM.MI - GraniteShares 3x Short AMD Daily ETP",
          "3SAP.MI - Graniteshares 3X Short Apple Daily ETP",
          "3SNL.MI - GraniteShares 3x Short Enel Daily ETP",
          "3SEN.MI - GraniteShares 3x Short Eni Daily ETP",
          "3SFG.MI - Graniteshares 3X Short Faang Daily ETP",
          "3SFT.MI - Graniteshares 3X Short Fatang Daily ETP",
          "3SFB.MI - Graniteshares 3X Short Fb Daily ETP",
          "3SGF.MI - Graniteshares 3X Short Gafam Daily ETP",
          "3SSP.MI - GraniteShares 3x Short Intesa Sanpao ETP",
          "3SIT.MI - GraniteShares 3x Short MIB Daily ETP",
          "3SMI.MI - GraniteShares 3x Short MicroStrategy ETP",
          "3SMO.MI - GraniteShares 3x Short Moderna Daily ETP",
          "3SMS.MI - Graniteshares 3X Short Msft Daily ETP",
          "3SNF.MI - Graniteshares 3X Short Netflix Daily ETP",
          "3SNI.MI - Graniteshares 3X Short Nio Daily ETP",
          "3SNV.MI - Graniteshares 3X Short Nvidia Daily ETP",
          "3SPA.MI - GraniteShares 3x Short Palantir Daily ETP",
          "3SPP.MI - GraniteShares 3x Short PayPal Daily ETP",
          "3SPO.MI - GraniteShares 3x Short Spotify Daily ETP",
          "3SSQ.MI - GraniteShares 3x Short Square Daily ETP",
          "3STS.MI - Graniteshares 3X Short Tesla Daily ETP",
          "3SUB.MI - Graniteshares 3X Short Uber Daily ETP",
          "3SCR.MI - GraniteShares 3x Short UniCredit Dai ETP",
          "3SAL.MI - Graniteshares 3Xshort Alphabet Daily ETP",
          "5MIB.MI - GraniteShares 5x Long MIB Daily ETP",
          "5SIT.MI - GraniteShares 5x Short MIB Daily ETP",
          "GRFANG.MI - Graniteshares Faang ETP",
          "FTNG.MI - Graniteshares Fatang ETP",
          "GFAM.MI - Graniteshares Gafam ETP",
          "GFOF.MI - Grayscale Future of Finance UCITS ETF Acc",
          "ZERO.MI - HANetf S&P Gl Clean Energy Sel HANzero U ETF Acc",
          "SKYY.MI - HAN-GINS Cloud Technology Equal Weight U ETF Acc",
          "WELL.MI - HAN-GINS Indxx Hlthcr Megatrend Eql Wgt U ETF Acc",
          "ITEK.MI - HAN-GINS Tech Megatrend Equal Weight UCITS ETF Acc",
          "HSXD.MI - HSBC APac Ex Japan Sustainable Eq UCITS ETF USD",
          "HAGGH.MI - HSBC Bloomberg Gl Sust Aggregate 1-3 Y Bd UETF USD",
          "HSWD.MI - HSBC Developed World Sustainable Eq UCITS ETF USD",
          "HSEM.MI - HSBC Emerging Market Sustainable Eq UCITS ETF USD",
          "H50E.MI - HSBC Euro Stoxx 50 UCITS ETF EUR",
          "H50A.MI - HSBC Euro Stoxx 50 UCITS ETF EUR Acc",
          "HSEU.MI - HSBC Europe Sustainable Equity UCITS ETF EUR",
          "HPRD.MI - HSBC FTSE EPRA NAREIT Developed UCITS ETF USD",
          "HGVU.MI - HSBC Global Government Bond UCITS ETF ETFCH",
          "HSGE.MI - HSBC Global Sustainable Govt Bd UCITS ETF ETFCHEUR",
          "HSTE.MI - HSBC Hang Seng Tech UCITS ETF HKD",
          "HSJD.MI - HSBC Japan Sustainable Equity UCITS ETF USD",
          "HPAJ.MI - HSBC MSCI AC APac exJp Clmt Prs Algnd UCITSETF USD",
          "HMAF.MI - HSBC MSCI AC Far East ex Japan UCITS ETF USD",
          "HMCA.MI - HSBC MSCI China A UCITS ETF USD",
          "HCAA.MI - HSBC MSCI China A UCITS ETF USD Acc",
          "HMCH.MI - HSBC MSCI China UCITS ETF USD",
          "HCHA.MI - HSBC MSCI China UCITS ETF USD Acc",
          "HPEM.MI - HSBC MSCI EM Climate Paris Aligned UCITS ETF USD",
          "HEMV.MI - HSBC MSCI Em Mkts Value ESG UCITS ETF USD Acc",
          "HMEM.MI - HSBC MSCI Emerging Markets UCITS ETF USD",
          "HEMA.MI - HSBC MSCI Emerging Markets UCITS ETF USD Acc",
          "HPAE.MI - HSBC MSCI Europe Clim Paris Aligned UCITS ETF EUR",
          "HMEU.MI - HSBC MSCI Europe UCITS ETF EUR",
          "HMEA.MI - HSBC MSCI Europe UCITS ETF EUR Acc",
          "HIDD.MI - HSBC MSCI Indonesia UCITS ETF USD",
          "HPJP.MI - HSBC MSCI Japan Clim Paris Aligned UCITS ETF USD",
          "HMJD.MI - HSBC MSCI Japan UCITS ETF USD",
          "HKOR.MI - HSBC MSCI Korea Capped UCITS ETF USD",
          "HMXJ.MI - HSBC MSCI Pacific ex Japan UCITS ETF USD",
          "HTWN.MI - HSBC MSCI Taiwan Capped UCITS ETF USD",
          "HPAU.MI - HSBC MSCI USA Climate Paris Aligned UCITS ETF USD",
          "HPAW.MI - HSBC MSCI World Clim Paris Aligned UCITS ETF USD",
          "HWDE.MI - HSBC MSCI World UCITS ETF EUR Hgd Acc",
          "HMWD.MI - HSBC MSCI World UCITS ETF USD",
          "HMWA.MI - HSBC MSCI World UCITS ETF USD Acc",
          "HWVL.MI - HSBC MSCI World Value ESG UCITS ETF USD Acc",
          "HNSC.MI - HSBC Nasdaq Global Semiconductor UCITS ETF USD",
          "HSPD.MI - HSBC S&P 500 UCITS ETF USD",
          "HSPA.MI - HSBC S&P 500 UCITS ETF USD Acc",
          "HSUD.MI - HSBC USA Sustainable Equity UCITS ETF USD",
          "HBDV.MI - HSBC World ESG Biodiversity Scrnd Eq UCITS ETF USD",
          "WTCHIN.MI - ICBCCS S&P China500 UCITS ETF B USD Dis",
          "CLMA.MI - iClima Glo Decarbonisation Enablers UCITS ETF Acc",
          "IQEC.MI - IndexIQ Factors Sust Corporate Euro Bond ETF EUR",
          "IQEE.MI - IndexIQ Factors Sust Europe Equity UCITS ETF EUR",
          "IQJP.MI - IndexIQ Factors Sust Japan Equity UCITS ETF EUR",
          "IQEG.MI - IndexIQ Factors Sust Sovereign Euro Bond ETF EUR",
          "IQMU.MI - IndexIQ Factors Sustainable EMU Equity UCITS ETF A",
          "IAT1.MI - Invesco AT1 Capital Bond UCITS ETF Acc",
          "AT1D.MI - Invesco AT1 Capital Bond UCITS ETF Dist",
          "XAT1.MI - Invesco AT1 Capital Bond UCITS ETF EUR Hdg Dist ETF",
          "CMOCT.MI - Invesco Blmbrg Comdt Carbon Tilted U ETF USD Acc",
          "CMOE.MI - Invesco Bloomberg Commodity UCITS ETF EUR Hdg",
          "CMOD.MI - Invesco Bloomberg Commodity UCITS ETF USD",
          "XLPS.MI - Invesco Cnsmr Staples S&P US Sel Sec UCITS ETF Acc",
          "XLCS.MI - Invesco Communications S&P US Sel Sec UCITS ETFAcc",
          "XLYS.MI - Invesco Consumer Discr S&P US Sel Sec UCITS ETFAcc",
          "PEMD.MI - Invesco Emerging Markets USD Bond UCITS ETF Dist",
          "XLES.MI - Invesco Energy S&P US Select Sector UCITS ETF Acc",
          "EQAC.MI - Invesco EQQQ NASDAQ-100 UCITS ETF Acc",
          "EQQQ.MI - Invesco EQQQ NASDAQ-100 UCITS ETF Dist",
          "EQEU.MI - Invesco EQQQ NASDAQ-100 UCITS ETF EUR Hgd Acc",
          "ECMA.MI - Invesco EUR Corp Bd ESG Multi Factor UCITS ETF Acc",
          "ECMF.MI - Invesco EUR Corp Bd ESG Multi Factor UCITS ETF Dis",
          "ECMS.MI - Invesco EUR Corp Bd ESG Sh Dur MFctr UCITS ETF Acc",
          "ECMD.MI - Invesco EUR Corporate Bond ESG Short Duration Multi-Factor UCITS - Dist ETF",
          "EGTD.MI - Invesco EUR Gv & Rltd Green Trnstn U ETF EUR Dist",
          "PSFE.MI - Invesco EUR IG Corporate Bond ESG UCITS ETF Dist",
          "PPEU.MI - Invesco Euro Cash 3 Months UCITS ETF Acc",
          "EHBA.MI - Invesco Euro Corporate Hybrid Bond UCITS ETF Acc",
          "EHYB.MI - Invesco Euro Corporate Hybrid Bond UCITS ETF Dist",
          "EIB3.MI - Invesco Euro Government Bd 1-3 Year UCITS ETF Dist",
          "EIB5.MI - Invesco Euro Government Bd 3-5 Year UCITS ETF Dist",
          "EIB7.MI - Invesco Euro Government Bd 5-7 Year UCITS ETF Dist",
          "EIBX.MI - Invesco Euro Government Bd 7-10 Year UCITS ETF Dis",
          "EIBB.MI - Invesco Euro Government Bond UCITS ETF Dist",
          "SDJE50.MI - Invesco EURO STOXX 50 UCITS ETF Acc",
          "SDJE5D.MI - Invesco EURO STOXX 50 UCITS ETF Dist",
          "EUHD.MI - Invesco EURO STOXX H Div L Vol UCITS ETF Dist",
          "XLFS.MI - Invesco Financials S&P US Sel Sector UCITS ETF Acc",
          "FWRA.MI - Invesco FTSE All World UCITS ETF Acc",
          "FWEA.MI - Invesco FTSE All World UCITS ETF EUR PfHdg Acc",
          "EMHD.MI - Invesco FTSE EM High Div Low Vol UCITS ETF Dist",
          "PSRW.MI - Invesco FTSE RAFI All-World 3000 UCITS ETF Dist",
          "PSDE.MI - Invesco FTSE RAFI EmergMarkets UCITS ETF Dist",
          "PSRE.MI - Invesco FTSE RAFI Europe UCITS ETF Dist",
          "PSRF.MI - Invesco FTSE RAFI US 1000 UCITS ETF Dist",
          "GBHE.MI - Invesco Gl Hi Yld Corp Bd ESG U ETF EUR PfHdg Acc",
          "BUYB.MI - Invesco Global Buyback Achievers UCITS ETF Dist",
          "GCLE.MI - Invesco Global Clean Energy UCITS ETF Acc",
          "GBHYC.MI - Invesco Global Hi Yld Corp Bond ESG UCITS ETF Dist",
          "XLVS.MI - Invesco Health Care S&P US Sel Sect UCITS ETF Acc",
          "HYDE.MI - Invesco Hydrogen Economy UCITS ETF Acc",
          "XLIS.MI - Invesco Industrials S&P US Sel Sect UCITS ETF Acc",
          "N400.MI - Invesco JPX-Nikkei 400 UCITS ETF Acc",
          "XLBS.MI - Invesco Materials S&P US Sel Sector UCITS ETF Acc",
          "MLPS.MI - Invesco Morningstar US Engy Infra MLP UETF Acc",
          "MLPD.MI - Invesco Morningstar US Engy Infra MLP UETF Dist",
          "MCHIN.MI - Invesco MSCI China All Shs Stk Connect U ETF Acc",
          "MCHT.MI - Invesco MSCI China Tech All Shs Stk Con U ETF Acc",
          "PAEM.MI - Invesco MSCI Em Mkts ESG Cl Prs Algnd UCITS ETFAcc",
          "MXFS.MI - Invesco MSCI Emerging Markets UCITS ETF Acc",
          "ICFP.MI - Invesco MSCI EU ESG Lds Cath Princpl UCITS ETF Dis",
          "PAEU.MI - Invesco MSCI Europe ESG Clim Par Al UCITS ETF Acc",
          "EEUR.MI - Invesco MSCI Europe ESG Univ Screened UCITS ETFAcc",
          "SMSEUR.MI - Invesco MSCI Europe UCITS ETF Acc",
          "PAJP.MI - Invesco MSCI Japan ESG Clim Par Al UCITS ETF Acc",
          "SMSJPN.MI - Invesco MSCI Japan UCITS ETF Acc",
          "PAUS.MI - Invesco MSCI USA ESG Clim Par Al UCITS ETF Acc",
          "ESGU.MI - Invesco MSCI USA ESG Unvsl Screened UCITS ETF Acc",
          "MXUS.MI - Invesco MSCI USA UCITS ETF Acc",
          "MXUD.MI - Invesco Msci USA Ucits ETF Dist",
          "PAWD.MI - Invesco MSCI World ESG Clim Par Al UCITS ETF Acc",
          "ESGW.MI - Invesco MSCI World ESG Unvsl Screened UCITS ETFAcc",
          "SMSWLD.MI - Invesco MSCI World UCITS ETF Acc",
          "NESG.MI - Invesco NASDAQ 100 ESG UCITS ETF Acc",
          "SBIO.MI - Invesco Nasdaq Biotech UCITS ETF Acc",
          "EQQJ.MI - Invesco NASDAQ Next Generation 100 UCITS ETF Acc",
          "SGLE.MI - Invesco Physcial Gold EUR Hedged ETC",
          "SGLD.MI - Invesco Physical Gold ETC",
          "PRFD.MI - Invesco Preferred Shares UCITS ETF Dist",
          "PRFE.MI - Invesco Preferred Shares UCITS ETF EUR Hdg Dist",
          "IQSE.MI - Invesco Quant Stgs ESG GlEq MF ETF EUR PfH Acc",
          "IQSA.MI - Invesco Quant Stgs ESG GlEq MF UCITS ETF Acc",
          "LVLE.MI - Invesco Quant Stgs GlEq LwVolLwCr UETF EUR PfH Acc",
          "LVLC.MI - Invesco Quant Stgs GlEq LwVolLwCr UETF USD Acc",
          "IQSD.MI - Invesco Quantitative Strategies ESG Global Equity Multi-Factor UCITS - EUR PfHdg Dist ETF",
          "XRES.MI - Invesco Real Estate S&P US Sel Sect UCITS ETF Acc",
          "SR2000.MI - Invesco Russell 2000 UCITS ETF Acc",
          "SPEQ.MI - Invesco S&P 500 Equal Weight UCITS ETF Acc",
          "5ESGU.MI - Invesco S&P 500 ESG UCITS ETF Acc",
          "5ESE.MI - Invesco S&P 500 ESG UCITS ETF EUR Hdg Acc",
          "HDLV.MI - Invesco S&P 500 High Div Low Vol UCITS ETF Dis",
          "SPLW.MI - Invesco S&P 500 Low Volatility UCITS ETF Acc",
          "PQVM.MI - Invesco S&P 500 QVM UCITS ETF Dist",
          "SPXS.MI - Invesco S&P 500 UCITS ETF Acc",
          "SPXD.MI - Invesco S&P 500 UCITS ETF Dist",
          "E500.MI - Invesco S&P 500 UCITS ETF EUR Hdg Acc",
          "C300.MI - Invesco S&P China A 300 UCITS ETF Acc",
          "C500.MI - Invesco S&P China A MidCap 500 Swap UCITS ETF Acc",
          "WDTE.MI - Invesco S&P Wld Information Tech ESG UCITS ETF Acc",
          "WDEE.MI - Invesco S&P World Energy ESG UCITS ETF Acc",
          "WDFE.MI - Invesco S&P World Financials ESG UCITS ETF Acc",
          "WDHE.MI - Invesco S&P World Health Care ESG UCITS ETF Acc",
          "SOLR.MI - Invesco Solar Energy UCITS ETF USD Acc",
          "X7PS.MI - Invesco STOXX Europe 600 Optimised Banks ETF Acc",
          "SDJ600.MI - Invesco STOXX Europe 600 UCITS ETF Acc",
          "XLKS.MI - Invesco Technology S&P US Sel Sector UCITS ETF Acc",
          "HYFA.MI - Invesco US High Yield Fallen Angels UCITS ETF Dist",
          "FAEU.MI - Invesco US HY Fall Angel UCITS ETF EUR Hgd Acc",
          "MUNI.MI - Invesco US Municipal Bond UCITS ETF Dist",
          "TRE3.MI - Invesco US Treas Bd 1-3 Year UCITS ETF Dist",
          "TRE7.MI - Invesco US Treas Bd 3-7 Year UCITS ETF Dist",
          "TREX.MI - Invesco US Treas Bd 7-10 Year UCITS ETF Dist",
          "TRXE.MI - Invesco US Treas Bd 7-10 Year UCITS ETF EUR H Dist",
          "TREI.MI - Invesco US Treasury Bond 0-1 Year UCITS ETF Dist",
          "TRUD.MI - Invesco US Treasury Bond 10+ Y UCITS ETF EURH Dis",
          "TREL.MI - Invesco US Treasury Bond 10+ Year UCITS ETF Dist",
          "TRES.MI - Invesco US Treasury Bond UCITS ETF Dist",
          "UHYE.MI - Invesco USD HY Corp Bond ESG UCITS ETF Dist",
          "PUIG.MI - Invesco USD IG Corporate Bond ESG UCITS ETF Dist",
          "XLUS.MI - Invesco Utilities S&P US Sel Sector UCITS ETF Acc",
          "VRPS.MI - Invesco Variable Rate Preferred Shs UCITS ETF Dist",
          "WNDE.MI - Invesco Wind Energy UCITS ETF Acc",
          "LINXB.MI - Investlinx Balanced Income UCITS ETF A",
          "LINXC.MI - Investlinx Capital Appreciation UCITS ETF A",
          "IU0E.MI - iShares $ Corp Bond 0-3yr ESG UCITS ETF EUR H Acc",
          "SUOU.MI - iShares $ Corp Bond ESG UCITS ETF USD Dis",
          "LQDE.MI - iShares $ Corp Bond UCITS ETF USD Dist",
          "ISFLOE.MI - iShares $ Floating Rate Bd UCITS ETF EUR Hgd Dist",
          "ISFLTR.MI - iShares $ Floating Rate Bd UCITS ETF USD Dist",
          "IHYE.MI - iShares $ High Yield Corp Bond UCITS ETF EUR Hgd D",
          "IHYU.MI - iShares $ High Yield Corp Bond UCITS ETF USD D",
          "SDHY.MI - iShares $ Sht Duration HY Crp Bd UCITS ETF USD D",
          "ITPS.MI - iShares $ TIPS UCITS ETF USD (Acc)",
          "ITPD.MI - iShares $ TIPS UCITS ETF USD (Dist)",
          "IBTS.MI - iShares $ Treasury Bd 1-3yr UCITS ETF USD Dist",
          "IBTM.MI - iShares $ Treasury Bd 7-10y UCITS ETF USD Dist",
          "CSBGU3.MI - iShares $ Treasury Bond 1-3yr UCITS ETF USD Acc B",
          "CSBGU7.MI - iShares $ Treasury Bond 3-7yr UCITS ETF USD A",
          "INXGI.MI - iShares £ Index-Linked Gilts UCITS ETF GBP Dist",
          "IEAG.MI - iShares € Aggregate Bond ESG UCITS ETF EUR (Dist)",
          "IE3E.MI - iShares € Corp Bond 0-3y ESG UCITS ETF EUR Acc",
          "SUSE.MI - iShares € Corp Bond 0-3y ESG UCITS ETF EUR Dist",
          "SE15.MI - iShares € Corp Bond 1-5 yr UCITS ETF EUR (Dist)",
          "IEBB.MI - iShares € Corp Bond BBB-BB UCITS ETF EUR (Dist)",
          "SUA0.MI - iShares € Corp Bond ESG UCITS ETF EUR Acc",
          "SUOE.MI - iShares € Corp Bond ESG UCITS ETF EUR Dist",
          "IEXF.MI - iShares € Corp Bond ex-Financials UCITS ETF EUR D",
          "IBCX.MI - iShares € Corp Bond Large Cap UCITS ETF EUR Dist",
          "ICOV.MI - iShares € Covered Bond UCITS ETF EUR (Dist)",
          "IEGE.MI - iShares € Govt Bond 0-1yr UCITS ETF EUR D",
          "IBGZ.MI - iShares € Govt Bond 10-15yr UCITS ETF EUR (Dist)",
          "IBGS.MI - iShares € Govt Bond 1-3yr UCITS ETF EUR Dist",
          "IBGX.MI - iShares € Govt Bond 3-5yr UCITS ETF EUR (Dist)",
          "IBGY.MI - iShares € Govt Bond 5-7yr UCITS ETF EUR (Dist)",
          "IBGM.MI - iShares € Govt Bond 7-10yr UCITS ETF EUR (Dist)",
          "SECA.MI - iShares € Govt Bond Climate UCITS ETF EUR (Acc)",
          "GRON.MI - iShares € Green Bond UCITS ETF EUR (Dist)",
          "IHYG.MI - iShares € High Yield Corp Bond UCITS ETF EUR D",
          "EHYA.MI - iShares € HighYield CorpBond ESG UCITS ETF EUR Acc",
          "IBCI.MI - iShares € Inflation Linked Govt Bd UCITS ETF EUR A",
          "EUES.MI - iShares € Ultrashort Bond ESG UCITS ETF EUR A",
          "ERNE.MI - iShares € Ultrashort Bond UCITS ETF EUR (Dist)",
          "AGED.MI - iShares Ageing Population UCITS ETF USD (Acc)",
          "ISAG.MI - iShares Agribusiness UCITS ETF USD (Acc)",
          "IAPD.MI - iShares Asia Pacific Dividend UCITS ETF USD (Dist)",
          "IASP.MI - iShares Asia Property Yield UCITS ETF USD Dist",
          "RBOT.MI - iShares Automation & Robotics UCITS ETF USD A",
          "BRIC.MI - iShares BIC 50 UCITS ETF USD (Dist)",
          "BLTH.MI - iShares Blockchain Technology UCITS ETF (Acc)",
          "CNYB.MI - iShares China CNY Bond UCITS ETF USD (Dist)",
          "FXC.MI - iShares China Large Cap UCITS ETF USD (Dist)",
          "IEAC.MI - iShares Core € Corp Bond UCITS ETF EUR D",
          "SEGA.MI - iShares Core € Govt Bond UCITS ETF EUR D",
          "GDAXIEX.MI - iShares Core DAX UCITS (DE) ETF",
          "CSSX5E.MI - iShares Core EURO STOXX 50 UCITS ETF EUR (Acc)",
          "EUE.MI - iShares Core EURO STOXX 50 UCITS ETF EUR Dist",
          "ISF.MI - iShares Core FTSE 100 UCITS ETF GBP Dist",
          "AGGH.MI - iShares Core Gl Aggregate Bd UCITS ETF EUR Hgd Acc",
          "EIMI.MI - iShares Core MSCI EM IMI UCITS ETF USD Acc",
          "CSEMU.MI - iShares Core MSCI EMU UCITS ETF EUR (Acc)",
          "CEUDIM.MI - iShares Core MSCI EMU UCITS ETF EUR (Dist)",
          "SMEA.MI - iShares Core MSCI Europe UCITS ETF EUR (Acc)",
          "IMEU.MI - iShares Core MSCI Europe UCITS ETF EUR Dist",
          "SJPA.MI - iShares Core MSCI Japan IMI UCITS ETF USD Acc",
          "CSPXJ.MI - iShares Core MSCI Pacific ex-Japan UCITS ETF USD A",
          "SWDA.MI - iShares Core MSCI World UCITS ETF USD (Acc)",
          "CSSPX.MI - iShares Core S&P 500 UCITS ETF USD (Acc)",
          "IUSA.MI - iShares Core S&P 500 UCITS ETF USD (Dist)",
          "IGLT.MI - iShares Core UK Gilts UCITS ETF GBP (Dist)",
          "LOCK.MI - iShares Digital Security UCITS ETF USD (Acc)",
          "DGTL.MI - iShares Digitalisation UCITS ETF USD (Acc)",
          "DJCOMEX.MI - iShares Diversified Commodity Swap (DE)",
          "DJDVPEX.MI - iShares Dow Jones U.S. Select Dividend (DE)",
          "IWDP.MI - iShares Dvlp Mrkts Prop Yld UCITS ETF USD Dist",
          "EBMMEX.MI - iShares eb.rexx Gov Germany 0-1yr UCITS ETF EUR D",
          "ISEMV.MI - iShares Edge MSCI EM Min Vol UCITS ETF USD A",
          "MVEU.MI - iShares Edge MSCI Europe Min Vol UCITS ETF EUR Acc",
          "IFSE.MI - iShares Edge MSCI Europe Multifctr UCITS ETF EUR A",
          "IEQU.MI - iShares Edge MSCI Europe Qual Fctr UCITS ETF EUR A",
          "IEVL.MI - iShares Edge MSCI Europe Val Fctr UCITS ETF EUR A",
          "IFSU.MI - iShares Edge MSCI USA Multifctr UCITS ETF USD A",
          "MVOL.MI - iShares Edge MSCI Wld Min Vol UCITS ETF USD A",
          "IWMO.MI - iShares Edge MSCI Wld Mntm Fctr UCITS ETF USD A",
          "IFSW.MI - iShares Edge MSCI Wld Multifctr UCITS ETF USD A",
          "IWQU.MI - iShares Edge MSCI Wld Qual Fctr UCITS ETF USD A",
          "IWSZ.MI - iShares Edge MSCI Wld Size Factor UCITS ETF USD A",
          "IWVL.MI - iShares Edge MSCI Wld Val Fctr UCITS ETF USD A",
          "ISMVUS.MI - iShares Edge S&P 500 Min Vol UCITS ETF USD A",
          "ECAR.MI - iShares Elctrc Vhcls and Drvng Tech UCITS ETF USDA",
          "IDVY.MI - iShares Euro Dividend UCITS ETF EUR Dist",
          "CSBGE3.MI - iShares Euro Govt Bond 1-3yr UCITS ETF EUR (Acc)",
          "CSBGE7.MI - iShares Euro Govt Bond 3-7yr UCITS ETF EUR (Acc)",
          "DJMC.MI - iShares EURO STOXX Mid UCITS ETF EUR (Dist)",
          "DJSC.MI - iShares EURO STOXX Small UCITS ETF EUR (Dist)",
          "STOXXEEX.MI - iShares EURO STOXX UCITS ETF (DE)",
          "IPRP.MI - iShares European Property Yield UCITS ETF EUR D",
          "ISWING.MI - iShares Fallen Angels HY Corp Bd UCITS ETF USD D",
          "IPIR.MI - iShares FTSE Italia Mid-Small Cap UCITS ETF EUR A",
          "CSMIB.MI - iShares FTSE MIB UCITS ETF EUR (Acc)",
          "IMIB.MI - iShares FTSE MIB UCITS ETF EUR (Dist)",
          "AEGE.MI - iShares Global Aggregate Bd ESG UCITS ETF EUR H A",
          "INRG.MI - iShares Global Clean Energy UCITS ETF USD (Dist)",
          "CORP.MI - iShares Global Corp Bond UCITS ETF USD Dist",
          "HYLD.MI - iShares Global HY Corp Bond UCITS ETF USD Dist",
          "INFR.MI - iShares Global Infrastructure UCITS ETF USD (Dist)",
          "IH2O.MI - iShares Global Water UCITS ETF USD (Dist)",
          "IBGL.MI - iShares Govt Bond 15-30yr UCITS ETF EUR (Dist)",
          "HEAL.MI - iShares Healthcare Innovation UCITS ETF USD A",
          "IB25.MI - iShares iBond Dec 2025 Term € Corp UCITS ETF EUR A",
          "IB27.MI - iShares iBond Dec 2027 Term € Corp UCITS ETF EUR A",
          "IB26.MI - iShares iBonds Dec 2026 Term € Corp UCITS - EUR Dist ETF",
          "IB28.MI - iShares iBonds Dec 2028 Term € Corp UCITS - EUR Dist ETF",
          "IITA.MI - iShares Italy Govt Bond UCITS ETF EUR (Acc)",
          "IITB.MI - iShares Italy Govt Bond UCITS ETF EUR (Dist)",
          "EMBE.MI - iShares J.P. Morgan $ EM Bond EUR Hgd UCITS ETF D",
          "EMCR.MI - iShares J.P. Morgan $ EM Corp Bd UCITS ETF USD D",
          "IEMB.MI - iShares JP Morgan $ EM Bond UCITS ETF USD Dis",
          "SEML.MI - iShares JPM EM Local Govt Bond UCITS ETF USD D",
          "EMSA.MI - iShares JPM ESG $ EM Bond UCITS ETF USD Acc",
          "EXS3.MI - iShares MDAX® UCITS ETF (DE)",
          "MTAV.MI - iShares Metaverse UCITS ETF USD (Acc)",
          "IFFF.MI - iShares MSCI AC Far East ex-Jpn UCITS ETF USD D",
          "SAUS.MI - iShares MSCI Australia UCITS ETF USD (Acc)",
          "IBZL.MI - iShares MSCI Brazil UCITS ETF USD (Dist)",
          "CSCA.MI - iShares MSCI Canada UCITS ETF USD (Acc)",
          "CNYE.MI - iShares MSCI China A UCITS ETF EUR Hedged (Acc)",
          "CSEMAS.MI - iShares MSCI EM Asia UCITS ETF USD (Acc)",
          "EMEG.MI - iShares MSCI EM ESG Enhanced UCITS ETF USD (Acc)",
          "LTAM.MI - iShares MSCI EM Latin America UCITS ETF USD D",
          "SUSM.MI - iShares MSCI EM SRI UCITS ETF USD (Acc)",
          "SEMA.MI - iShares MSCI EM UCITS ETF USD (Acc)",
          "IEEM.MI - iShares MSCI EM UCITS ETF USD (Dist)",
          "ENMU.MI - iShares MSCI EMU ESG Enhanced UCITS ETF EUR (Acc)",
          "EMUL.MI - iShares MSCI EMU Large Cap UCITS ETF EUR (Acc)",
          "ESEG.MI - iShares MSCI Europe ESG Enhanced UCITS ETF EUR Acc",
          "IEUX.MI - iShares MSCI Europe ex-UK UCITS ETF EUR (Dist)",
          "IESE.MI - iShares MSCI Europe SRI UCITS ETF EUR (Acc)",
          "SEME.MI - iShares MSCI Global Semiconductors UCITS ETF USD A",
          "EJPY.MI - iShares MSCI Japan ESG Enhanced UCITS ETF USD Acc",
          "IJPE.MI - iShares MSCI Japan EUR Hedged UCITS ETF (Acc)",
          "ISJP.MI - iShares MSCI Japan Small Cap UCITS ETF USD (Dist)",
          "SUJP.MI - iShares MSCI Japan SRI UCITS ETF USD (Acc)",
          "CSJP.MI - iShares MSCI Japan UCITS ETF USD (Acc)",
          "IJPN.MI - iShares MSCI Japan UCITS ETF USD (Dist)",
          "CSKR.MI - iShares MSCI Korea UCITS ETF USD (Acc)",
          "IKOR.MI - iShares MSCI Korea UCITS ETF USD (Dist)",
          "CSMXCP.MI - iShares MSCI Mexico Capped UCITS ETF USD (Acc)",
          "INAA.MI - iShares MSCI North America UCITS ETF USD (Dist)",
          "SPXJ.MI - iShares MSCI Pacific ex-Japan UCITS ETF USD (Dist)",
          "SRSA.MI - iShares MSCI South Africa UCITS ETF USD (Acc)",
          "ITWN.MI - iShares MSCI Taiwan UCITS ETF USD (Dist)",
          "ITKY.MI - iShares MSCI Turkey UCITS ETF USD (Dist)",
          "CSUK.MI - iShares MSCI UK UCITS ETF GBP (Acc)",
          "EDME.MI - iShares MSCI USA ESG Enhanced UCITS ETF USD (Acc)",
          "SAUA.MI - iShares MSCI USA ESG Screened UCITS ETF EUR Hgd A",
          "CSUSS.MI - iShares MSCI USA Small Cap ESG Enhanced UCITS ETF",
          "3SUR.MI - iShares MSCI USA SRI UCITS ETF EUR Hedged (Dist)",
          "SUAS.MI - iShares MSCI USA SRI UCITS ETF USD (Acc)",
          "CSUS.MI - iShares MSCI USA UCITS ETF USD (Acc)",
          "WENE.MI - iShares MSCI Wld Energy Sector ESG UCITS ETF USD D",
          "WHCS.MI - iShares MSCI Wld Hlth Care Sctr ESG UCITS ETF USDD",
          "WITS.MI - iShares MSCI Wld Info Tech Sctr ESG UCITS ETF USDD",
          "WMTS.MI - iShares MSCI Wld Materials Sctr ESG UCITS ETF USDD",
          "ENWD.MI - iShares MSCI World ESG Enhanced UCITS ETF USD Acc",
          "SAWD.MI - iShares MSCI World ESG Screened UCITS ETF USD Acc",
          "IWDE.MI - iShares MSCI World EUR Hedged UCITS ETF (Acc)",
          "IWQE.MI - iShares MSCI World Qlty Factor ESG UCITS ETF USD A",
          "ISSUSW.MI - iShares MSCI World SRI UCITS ETF EUR (Acc)",
          "IWRD.MI - iShares MSCI World UCITS ETF USD (Dist)",
          "CSNDX.MI - iShares NASDAQ 100 UCITS ETF USD (Acc)",
          "CSNKY.MI - iShares Nikkei 225 UCITS ETF JPY (Acc)",
          "R1JKEX.MI - iShares Pfandbriefe UCITS ETF (DE)",
          "IUES.MI - iShares S&P 500 EUR Hedged UCITS ETF (Acc)",
          "CITYY.MI - iShares Smart City Infrastructure UCITS ETF USDAcc",
          "EUN.MI - iShares STOXX Europe 50 UCITS ETF EUR (Dist)",
          "STOXXIEX.MI - iShares STOXX Europe 600 UCITS ETF (DE)",
          "SD3PEX.MI - iShares STOXX Europe Select Dividend 30 (DE)",
          "IUKD.MI - iShares UK Dividend UCITS ETF GBP (Dist)",
          "IUKP.MI - iShares UK Property UCITS ETF GBP (Dist)",
          "IUSP.MI - iShares US Property Yield UCITS ETF USD (Dist)",
          "CSEMUS.MI - Ishares Vii Ishares Msci Emu Small Cap Ucits Etf",
          "IPAB.MI - iShs € Crp Bd ESG Paris-Algnd Clmt UCITS ETF EUR A",
          "IRCP.MI - iShs € Crp Bd Intrst Rt Hgd ESG UCITS ETF EUR D",
          "IEMO.MI - iShs Edge MSCI Europ Mmntm Fctr UCITS ETF EUR A",
          "IESZ.MI - iShs Edge MSCI Europ Size Fctr UCITS ETF EUR A",
          "CEBE.MI - iShs V-iBds Dec 2026 Term EO CReg.Shs () EUR Dis. oN",
          "IVOA.MI - iShs V-iBds Dec 2028 Term EO CReg.Shs () EUR Dis. oN",
          "INBCHN.MI - Ivz Coinshares Blockchain Ucits ETF GBX",
          "IEWQ.MI - IVZ NASDAQ-100 EW Acc ETF",
          "JREA.MI - JPM AC As Pc ex Jpn Rsrch Ehd Idx Eq ESG ETF USD A",
          "JCHA.MI - JPM BB China Agg Bond Ucits Etf Acc",
          "JCHE.MI - JPM BetaBuilders China Aggrgte Bd UCITS ETF EUR HA",
          "JE13.MI - JPM BetaBuilders EUR Gov Bd 1-3 yr UCITS ETF EUR A",
          "BBEG.MI - JPM BetaBuilders EUR Gvt Bnd UCITS ETF - EUR (acc)",
          "BBUS.MI - JPM BetaBuilders US Equity UCITS ETF USD Acc",
          "BBSC.MI - JPM BetaBuilders US Small Cap Eq UCITS ETF USD Acc",
          "BBIL.MI - JPM BetaBuilders US Treasury Bd 0-1 yr ETF USD A",
          "JU13.MI - JPM BetaBuilders US Treasury Bd 1-3 yr ETF USD A",
          "JCCT.MI - JPM Carbon Transition Cn Eqt CTB UCITS ETF USD Ac",
          "JPCE.MI - JPM Carbon Transition Global Equity (CTB) UCITS - EUR Hedged (acc) ETF",
          "JPCT.MI - JPM Carbon Transition Global Equity (CTB) UCITS - USD (acc) ETF",
          "JREC.MI - JPM China A Rsrch Enh Idx Eq ESG UCITS ETF USD Acc",
          "TEMP.MI - JPM Climate Change Solutions UCITS ETF - USD (acc)",
          "JREB.MI - JPM EUR Corpo Bd Research Enhcd Idx ESG ETF EUR A",
          "JR15.MI - JPM EUR Crp Bd 1-5yr Rsrch Enhcd Idx ESG ETF EUR A",
          "JEST.MI - JPM EUR Ultra-Short Income UCITS ETF - EUR (acc)",
          "JREE.MI - JPM Europe Rsrch Enhcd Idx Eq ESG UCITS ETF EUR A",
          "JREZ.MI - JPM EurZone Rsrch Enhcd Idx Eq ESG UCITS ETF EUR A",
          "JREM.MI - JPM Gbl EM Rsrch Enhcd Idx Eq ESG UCITS ETF USD A",
          "JYEH.MI - JPM Gbl HY Corpo Bd Multi-Fctr UCITS ETF EUR Hgd D",
          "JGHY.MI - JPM Gbl HY Corpo Bd Multi-Fctr UCITS ETF USD A",
          "JREG.MI - JPM Gbl Research Enhcd Idx Eq ESG UCITS ETF USD A",
          "JRGE.MI - JPM Gbl Resrch Enhncd Idx Eq ESG UCITS ETF EUR H A",
          "JSEG.MI - JPM Gbl Rsrch EnhIdx EqtSRI PrsAln UCITS ETF USD A",
          "JPGL.MI - JPM Global Equity Multi-Factor UCITS ETF - USD acc",
          "JGSE.MI - JPM Global Research Enhanced Index Equity SRI Paris Aligned UCITS - EUR Hedged (acc) ETF",
          "JEGN.MI - JPM Green Social Sust Bd UCITS ETF EUR Hgd acc",
          "JGRN.MI - JPM Green Social Sustainable Bd UCITS ETF USD acc",
          "JJEH.MI - JPM Japan Rsrch Enhcd Idx Eq ESG UCITS ETF EUR H A",
          "JREJ.MI - JPM Japan Rsrch Enhcd Idx Eq ESG UCITS ETF USD A",
          "JCSA.MI - JPM RMB Ultra-Short Income UCITS ETF - USD (acc)",
          "JSHE.MI - JPM US Research Enhanced Index Equity SRI Paris Aligned UCITS - EUR Hedged (acc) ETF",
          "JREU.MI - JPM US Research Enhncd Idx Eq ESG UCITS ETF USD A",
          "JSEU.MI - JPM US Rsrch EnhIdx EqtSRI PrsAln UCITS ETF USD A",
          "JUHE.MI - JPM US Rsrch Enhncd Idx Eq ESG UCITS ETF EUR Hgd A",
          "JRUE.MI - JPM USD Crp Bd Rsrch Ehcd Idx ESG UCITS ETF EUR HA",
          "JRUB.MI - JPM USD Crp Bd Rsrch Enhcd Idx ESG UCITS ETF USD A",
          "JMBE.MI - JPM USD Em Mkts Sovereign Bond UCITS ETF EUR Hgd A",
          "JMBA.MI - JPM USD Em Mkts Sovereign Bond UCITS ETF USD A",
          "JPMB.MI - JPM USD Em Mkts Sovereign Bond UCITS ETF USD D",
          "JPSA.MI - JPM USD Ultra-Short Income UCITS ETF - USD (acc)",
          "JPST.MI - JPM USD Ultra-Short Income UCITS ETF - USD (dist)",
          "KWBEA.MI - KraneShares CSI China Internet UCITS ETF EUR",
          "KARS.MI - KraneShares Elctrc Vhcls & Ftr Mb ESG Scr UETFUSD",
          "KSTRA.MI - KraneShares ICBCCS SSE Star Market 50 Idx UETF EUR",
          "KUREA.MI - KraneShares MSCI All China Hlth Care Idx U ETF USD",
          "KA50A.MI - KraneShares MSCI China A 50 Connect UCITS ETF USD",
          "KESGA.MI - KraneShares MSCI China ESG Leaders UCITS ETF USD",
          "LGAIAI.MI - L&G Artificial Intelligence UCITS ETF USD Acc",
          "LGAP.MI - L&G Asia Pacific Ex Japan Equity UCITS ETF USD Acc",
          "BATT.MI - L&G Battery Value-Chain UCITS ETF USD Acc",
          "DRGN.MI - L&G China CNY Bond UCITS ETF USD Dist",
          "RENW.MI - L&G Clean Energy UCITS ETF USD Acc",
          "LGGLUG.MI - L&G Clean Water UCITS ETF USD Acc",
          "ISPY.MI - L&G Cyber Security UCITS ETF USD Acc",
          "DEL2.MI - L&G DAX Daily 2x Long UCITS ETF EUR Acc",
          "DES2.MI - L&G DAX Daily 2x Short UCITS ETF EUR Acc",
          "DPAY.MI - L&G Digital Payments UCITS ETF USD Acc",
          "CASH.MI - L&G E Fund MSCI China A UCITS ETF USD Acc",
          "ECECOM.MI - L&G Ecommerce Logistics UCITS ETF USD Acc",
          "ESPYY.MI - L&G EM CYBER SECURITY ESG EXCL UCITS ETF",
          "EMGH.MI - L&G ESG EM Govt Bond (USD) 0-5 Year U ETF EURH Acc",
          "EMD5.MI - L&G ESG EM Govt Bond (USD) 0-5 Year U ETF USD Dis",
          "EMUSA.MI - L&G ESG Em Mkts Corp Bd (USD) UCITS ETF USD Dis",
          "USDC.MI - L&G ESG USD Corporate Bond UCITS ETF USD Dist",
          "RIEU.MI - L&G Europe ESG Excl Prs Aligned UCITS ETF EUR Acc",
          "LGEU.MI - L&G Europe Ex UK Equity UCITS ETF EUR Acc",
          "LABL.MI - L&G Global Brands UCITS ETF USD Acc",
          "LGGL.MI - L&G Global Equity UCITS ETF USD Acc",
          "THMZZ.MI - L&G GLOBAL THEMATIC ESG EXCL UCITS ETF",
          "AUCO.MI - L&G Gold Mining UCITS ETF USD Acc",
          "LGDOCT.MI - L&G Healthcare Breakthrough UCITS ETF USD Acc",
          "HTWO.MI - L&G Hydrogen Economy UCITS ETF USD Acc",
          "TIGA.MI - L&G India INR Government Bond UCITS ETF USD Acc",
          "TIGR.MI - L&G India INR Government Bond UCITS ETF USD Dis",
          "LGJP.MI - L&G Japan Equity UCITS ETF USD Acc",
          "COMF.MI - L&G Longer Dated All Commodities UCITS ETF USD Acc",
          "MTVS.MI - L&G METAVERSE ESG EXCLUSIONS UCITS ETF",
          "ENCO.MI - L&G Multi-Strategy Enh Commodities U ETF USD Acc",
          "LAZRR.MI - L&G OPTIC TECH&PHOTON ESG EXCL UCITS ETF",
          "ECBIOT.MI - L&G Pharma Breakthrough UCITS ETF USD Acc",
          "LDAP.MI - L&G Ql Eq Div ESG Excl Asia Pac exJap UETF USD Dis",
          "LDEU.MI - L&G Qlty Eq Div ESG Excl Europe exUK UETF EUR Dis",
          "ROBO.MI - L&G ROBO Gl Robotics and Automation U ETF USD Acc",
          "RTWO.MI - L&G Russell 2000 US Small Cap Qlty U ETF USD Acc",
          "MLPI.MI - L&G US Energy Infrastructure MLP UCITS ETF USD Dis",
          "LGUS.MI - L&G US Equity UCITS ETF USD Acc",
          "RIUS.MI - L&G US ESG Excl Paris Aligned UCITS ETF USD Acc",
          "SPX3L.MI - LEVERAGE SGA SPXNTR Long x3",
          "SPX3S.MI - LEVERAGE SGA SPXTR Short x3",
          "3BAB.MI - LEVERAGE SHARES 3x ALIBABA ETP",
          "3BID.MI - Leverage Shares 3x Baidu ETP",
          "3PLT.MI - Leverage Shares 3x Palantir ETP",
          "TSLQ.MI - Leverage Shares -3x Short Tesla ETP",
          "3GOO.MI - Levshares 3X Alphabet Etp",
          "3AMZ.MI - Levshares 3X Amazon Etp",
          "3AAP.MI - Levshares 3X Apple Etp",
          "3FBL.MI - Levshares 3X Facebook Etp",
          "3MSF.MI - Levshares 3X Microsoft Etp",
          "3NVD.MI - Levshares 3X Nvidia Etp",
          "3PYP.MI - Levshares 3X Paypal ETP",
          "3TSL.MI - Levshares 3X Tesla ETP",
          "3CON.MI - Ls 3X Long Coinbase ETP",
          "3RAC.MI - Ls 3X Long Ferrari Race ETP",
          "3MRN.MI - Ls 3X Long Moderna ETP",
          "3NIO.MI - Ls 3X Long Nio ETP",
          "3SRA.MI - Ls -3X Short Ferrari Race ETP",
          "PABUS.MI - Lyx NetZero2050 SP 500 Clim PAB DR UCITS ETF A USD",
          "FLOTH.MI - Lyxor $ Floating Rate Note UCITS ETF MHgd to EUR D",
          "DSUS.MI - Lyxor 10Y US Treasury Daily-2X Inverse UCITS ETF A",
          "AUST.MI - Lyxor Australia (S&P/ASX 200) UCITS ETF - Dist",
          "HYS.MI - Lyxor BofAML € Short Term Hgh Yield Bd UCITS ETF D",
          "BTP2S.MI - Lyxor BTP Daily (-2X) Inverse UCITS ETF - Acc",
          "BUND2S.MI - Lyxor Bund Daily (-2X) Inverse UCITS ETF - Acc",
          "MTI.MI - Lyxor Core Euro Govt Infl Lnkd Bd (DR) UCITS ETF A",
          "GIST.MI - Lyxor Core Gbl Infl-Lnkd 1-10Y Bnd(DR)UCTS ETF DU",
          "GISE.MI - Lyxor Core Gbl Infl-Lnkd 1-10Y Bnd(DR)UCTSETF MHED",
          "GOVG.MI - Lyxor Core Global Gov Bond DR UCITS ETF MH EUR D",
          "JAPB.MI - Lyxor Core Japanese Govt Bd (DR) UCITS ETF - Acc",
          "LXEMU.MI - Lyxor Core MSCI EMU (DR) UCITS ETF - Dist",
          "LCWD.MI - Lyxor Core MSCI World (DR) UCITS ETF - Acc",
          "MEUD.MI - Lyxor Core STOXX Europe 600 (DR) - UCITS ETF Acc",
          "LCUK.MI - Lyxor Core UK Equity All Cap (DR) UCITS ETF - Dist",
          "LCUS.MI - Lyxor Core US Equity (DR) UCITS ETF - Dist",
          "TIPU.MI - Lyxor Core US TIPS (DR) UCITS ETF - Dist",
          "TIPE.MI - Lyxor Core US TIPS (DR) UCITS ETF Mthly Hgd EUR D",
          "PLANT.MI - Lyxor Corporate Green Bond (DR) UCITS ETF - Acc",
          "DAXLEV.MI - Lyxor Daily LevDAX UCITS ETF - Acc",
          "LDAX2S.MI - Lyxor Daily ShortDAX X2 UCITS ETF - Acc",
          "DAXX.MI - Lyxor DAX (DR) UCITS ETF - Acc",
          "MGT.MI - Lyxor DJ Global Titans 50 UCITS ETF - Dist",
          "DJE.MI - Lyxor Dow Jones Industrial Average UCITS ETF Dist",
          "CBEF.MI - Lyxor ESG Eur Corporate Bond Ex Fin DR UCITS ETF A",
          "HYC.MI - Lyxor ESG Euro High Yield (DR) UCITS ETF - Acc",
          "HY.MI - Lyxor ESG Euro High Yield (DR) UCITS ETF - Dist",
          "USIH.MI - Lyxor ESG USD Corporate Bd (DR) UCITS ETF MH EUR D",
          "USIC.MI - Lyxor ESG USD Corporate Bond (DR) UCITS ETF - Acc",
          "USIG.MI - Lyxor ESG USD Corporate Bond DR ETF",
          "USHYC.MI - Lyxor ESG USD High Yield (DR) UCITS ETF - Acc",
          "USHY.MI - Lyxor ESG USD High Yield (DR) UCITS ETF - Dist",
          "USYH.MI - Lyxor ESG USD High Yield (DR) UCITS ETF MHg EUR D",
          "INFL.MI - Lyxor EUR 2-10Y Inflation Expectations UCITS ETF A",
          "FLOT.MI - Lyxor Euro Floating Rate Note UCITS ETF Acc",
          "MTX.MI - Lyxor Euro Government Bond (DR) UCITS ETF - Acc",
          "MTIG.MI - Lyxor Euro Government Bond (DR) UCITS ETF - Dist",
          "EM1015.MI - Lyxor Euro Government Bond 10-15Y (DR) UCITS ETF A",
          "EM13.MI - Lyxor Euro Government Bond 1-3Y (DR) UCITS ETF A",
          "EM15.MI - Lyxor Euro Government Bond 15+Y (DR) UCITS ETF A",
          "EM35.MI - Lyxor Euro Government Bond 3-5Y (DR) UCITS ETF A",
          "EM57.MI - Lyxor Euro Government Bond 5-7Y (DR) UCITS ETF Acc",
          "EM710.MI - Lyxor Euro Government Bond 7-10Y (DR) UCITS ETF A",
          "ERTH.MI - Lyxor Euro Government Green Bond (DR) UCITS ETF A",
          "LEONIA.MI - Lyxor Euro Overnight Return UCITS ETF - Acc",
          "MSE.MI - Lyxor EURO STOXX 50 (DR) UCITS ETF - Acc",
          "BSX.MI - Lyxor Euro Stoxx 50 Daily -1X Inverse UCITS ETF A",
          "BXX.MI - Lyxor Euro Stoxx 50 Daily -2X Inverse UCITS ETF A",
          "DJLEV.MI - Lyxor EURO STOXX 50 Daily 2x Leveraged UCITS ETF A",
          "BNKE.MI - Lyxor EURO STOXX Banks (DR) UCITS ETF - Acc",
          "BTP10.MI - Lyxor EuroMTS 10Y Italy BTP Gov Bd DR UCITS ETF A",
          "BTP13.MI - Lyxor EuroMTS 1-3Y Italy BTP Gov Bd DR UCITS ETF D",
          "AAA13.MI - Lyxor EuroMTS Hgt Rtd Mcr-Wgd Gvt Bd 1-3Y DR ETF A",
          "AAA35.MI - Lyxor EuroMTS Hgt Rtd Mcr-Wgd Gvt Bd 3-5Y DR ETF A",
          "EMAAA.MI - Lyxor EuroMTS Hgt Rtd Mcr-Wgd Gvt Bd DR UCTS ETF A",
          "FEDF.MI - Lyxor Fed Funds US Dollar Cash UCITS ETF - Acc",
          "FTS100.MI - Lyxor FTSE 100 UCITS ETF - Acc",
          "REWLD.MI - Lyxor FTSE EPRA/NAREIT Global Dev UCITS ETF D EUR",
          "ITAPIR.MI - Lyxor FTSE Italia All Cap PIR 2020 DR UCITS ETF A",
          "ITAMID.MI - Lyxor FTSE Italia PMI PIR 2020 (DR) UCITS ETF Acc",
          "MIBA.MI - Lyxor FTSE MIB (DR) UCITS ETF - Acc",
          "ETFMIB.MI - Lyxor FTSE MIB (DR) UCITS ETF - Dist",
          "LEVMIB.MI - Lyxor FTSE MIB Daily (2x) Leveraged UCITS ETF Dist",
          "BERMIB.MI - Lyxor FTSE MIB Daily(-1x) Inverse Bear UCITS ETF A",
          "XBRMIB.MI - Lyxor FTSE MIB Dly (-2X) Inverse Xbear UCITS ETF A",
          "XCO2E.MI - Lyxor Global Green Bd 1-10Y DR UCITS ETF MH EUR A",
          "GHYE.MI - Lyxor Global HY Sust Exposure UCITS ETF A",
          "GHYEH.MI - Lyxor Global HY Sust Exposure UCITS ETF MH EUR A",
          "CLIM.MI - Lyxor Green Bond (DR) UCITS ETF - Acc",
          "CLMD.MI - Lyxor Green Bond (DR) UCITS ETF - Dist",
          "EMKTB.MI - Lyxor iBoxx $ Liquid EM Sovereigns UCITS ETF D",
          "EMBH.MI - Lyxor iBoxx $ Liquid EM Sovrgns UCITS ETF MH EUR D",
          "UINE.MI - Lyxor Inverse US$ 10Y Inflation Expect UCITS ETF A",
          "JPN.MI - Lyxor Japan (TOPIX) (DR) UCITS ETF - Dist EUR",
          "JPNH.MI - Lyxor Japan (TOPIX) (DR) UCITS ETF Dly Hdg EUR Dis",
          "LAPEX.MI - Lyxor MSCI AC Asia Ex Japan UCITS ETF - Acc",
          "AEJ.MI - Lyxor MSCI AC Asia Pacific Ex Japan UCITS ETF Acc",
          "LYACWI.MI - Lyxor MSCI All Country World UCITS ETF - Acc (EUR)",
          "BRA.MI - Lyxor MSCI Brazil UCITS ETF - Acc",
          "CNAA.MI - Lyxor MSCI China A (DR) UCITS ETF - Acc",
          "HK.MI - Lyxor MSCI China ESG Ldrs Extra DR UCITS Dist ETF",
          "CINA.MI - Lyxor MSCI China ESG Ldrs Extra DR UCITS ETF Acc",
          "LCCN.MI - Lyxor MSCI China UCITS ETF - Acc",
          "UNIC.MI - Lyxor MSCI Disruptive Techn ESG Fltrd DR UCTS ETFA",
          "LYEE.MI - Lyxor MSCI Eastern Europe Ex Russia UCITS ETF A",
          "LCAS.MI - Lyxor MSCI EM Asia UCITS ETF - Acc",
          "EMXC.MI - Lyxor MSCI Emerging Markets Ex China UCITS ETF A",
          "EMKT.MI - Lyxor MSCI Emerging Markets UCITS ETF Acc EUR",
          "MFDD.MI - Lyxor MSCI EMU ESG Broad CTB (DR) - UCITS ETF Dis",
          "MSGW.MI - Lyxor MSCI EMU Growth (DR) UCITS ETF - Dist",
          "MSSM.MI - Lyxor MSCI EMU Small Cap (DR) UCITS ETF - Dist",
          "LEMU.MI - Lyxor MSCI EMU Value (DR) UCITS ETF - Dist",
          "CLEUR.MI - Lyxor MSCI Europ ESG Climt Transtn CTB DR ETF A",
          "MEU.MI - Lyxor MSCI Europe (DR) UCITS ETF - Acc",
          "ESGE.MI - Lyxor MSCI Europe ESG Leaders (DR) UCITS ETF A",
          "ESGH.MI - Lyxor MSCI Europe ESG Leadrs DR UCITS ETF MH EUR A",
          "ELCR.MI - Lyxor MSCI Future Mobilit ESG Fltrd DR UCITS ETF A",
          "LGRE.MI - Lyxor MSCI Greece UCITS ETF - Dist",
          "INDI.MI - Lyxor MSCI India UCITS ETF - Acc (EUR)",
          "INDO.MI - Lyxor MSCI Indonesia UCITS ETF - Acc",
          "KOR.MI - Lyxor MSCI Korea UCITS ETF - Acc",
          "MILLE.MI - Lyxor MSCI Millennials ESG Filtered DR UCITS ETF A",
          "NRJC.MI - Lyxor MSCI New Energy ESG Filtered DR UCITS ETF A",
          "ENY.MI - Lyxor MSCI New Energy ESG Filtered DR UCITS ETF D",
          "IQCT.MI - Lyxor MSCI Smart Cities ESG Filterd DR UCITS ETF A",
          "LTUR.MI - Lyxor MSCI Turkey UCITS ETF - Acc",
          "LUSA.MI - Lyxor MSCI USA ESG Broad CTB (DR) UCITS ETF - Dist",
          "CLUSA.MI - Lyxor MSCI USA ESG Climate Tran CTB DR UCITS ETF A",
          "UESG.MI - Lyxor MSCI USA ESG Leaders Extra (DR) UCITS ETF A",
          "WATC.MI - Lyxor MSCI Water ESG Filtered (DR) UCITS ETF - Acc",
          "H2O.MI - Lyxor MSCI Water ESG Filtered (DR) UCITS ETF - Dis",
          "CATHP.MI - Lyxor MSCI Wld Catholic Princip ESG DR UCITS ETF A",
          "WESGH.MI - Lyxor MSCI Wld ESG Ldrs Extra DR UCITS ETF MH EURA",
          "LTNOW.MI - Lyxor MSCI Wld Info Technology TR UCITS ETF A EUR",
          "CLWD.MI - Lyxor MSCI World Climate Change (DR) UCITS ETF A",
          "WESGL.MI - Lyxor MSCI World ESG Leaders Extra DR UCITS ETF A",
          "LHLTW.MI - Lyxor MSCI World Health Care TR UCITS ETF A EUR",
          "WLDC.MI - Lyxor MSCI World UCITS ETF - Acc",
          "WLD.MI - Lyxor MSCI World UCITS ETF - Dist",
          "WLDH.MI - Lyxor MSCI World UCITS ETF Monthly Hedged EUR Dist",
          "LQQA.MI - Lyxor Nasdaq-100 Daily (2x) Leveraged UCITS ETF A",
          "USTE.MI - Lyxor Nasdaq-100 UCITS ETF - Acc",
          "USTH.MI - Lyxor Nasdaq-100 UCITS ETF - Daily Hedged to EUR A",
          "PABWD.MI - Lyxor NetZero2050 S&P Wrld Clim PAB DR UCITS ETF A",
          "PABEU.MI - Lyxor NetZero2050 SP Europ Clim PAB DR UCITS ETF A",
          "PABEZ.MI - Lyxor NetZero2050 SP Eurozon Clim PAB DR ETF A",
          "LAFRI.MI - Lyxor Pan Africa UCITS ETF - Acc",
          "SPX2S.MI - Lyxor S&P 500 Daily (-2x) Inverse UCITS ETF - Acc",
          "SPHC.MI - Lyxor S&P 500 UCITS ETF - Daily Hedged EUR - Acc",
          "SPXH.MI - Lyxor S&P 500 UCITS ETF - Daily Hedged EUR - Dist",
          "LYXSP.MI - Lyxor S&P 500 UCITS ETF - Dist (EUR)",
          "LVO.MI - Lyxor S&P 500 VIX Futures Enhcd Roll UCITS ETF A",
          "LYSMART.MI - Lyxor Smart Overnight Return - UCITS ETF C-EUR",
          "SMARTU.MI - Lyxor Smart Overnight Return - UCITS ETF C-USD",
          "LYXPER.MI - Lyxor STOXX Eupe 600 Prsnl&Hshld Goods UCITS ETF A",
          "INDG.MI - Lyxor STOXX Europ600 Indust Goods&Svcs UCITS ETF A",
          "AUTP.MI - Lyxor STOXX Europe 600 Automobils&Prts UCITS ETF A",
          "LYXBNK.MI - Lyxor STOXX Europe 600 Banks UCITS ETF - Acc",
          "BRES.MI - Lyxor STOXX Europe 600 Basic Resources UCITS ETF A",
          "CHM.MI - Lyxor STOXX Europe 600 Chemicals UCITS ETF - Acc",
          "DJST.MI - Lyxor STOXX Europe 600 Constrn&Materls UCITS ETF A",
          "FINS.MI - Lyxor Stoxx Europe 600 Financial Srvcs UCITS ETF A",
          "DJFOO.MI - Lyxor STOXX Europe 600 Food & Beverage UCITS ETF A",
          "LYXHEA.MI - Lyxor STOXX Europe 600 Healthcare UCITS ETF - Acc",
          "LYYQ.MI - Lyxor STOXX Europe 600 Insurance UCITS ETF - Acc",
          "MDA.MI - Lyxor STOXX Europe 600 Media UCITS ETF - Acc",
          "RTA.MI - Lyxor STOXX Europe 600 Retail UCITS ETF - Acc",
          "LYXTNO.MI - Lyxor STOXX Europe 600 Technology UCITS ETF - Acc",
          "TELE.MI - Lyxor Stoxx Europe 600 Telecom UCITS ETF - Acc",
          "TRVL.MI - Lyxor Stoxx Europe 600 Travel&Leisure UCITS ETF A",
          "LYXUTI.MI - Lyxor STOXX Europe 600 Utilities UCITS ETF - Acc",
          "SEL.MI - Lyxor STOXX Europe Select Dividend 30 UCITS ETF D",
          "LFINSW.MI - Lyxor UCITS ETF MSCI World Financials TR C-EUR",
          "STPU.MI - Lyxor US Curve Steepening 2-10 UCITS ETF - Acc",
          "US10C.MI - Lyxor US Treasury 10+Y (DR) UCITS ETF - Acc",
          "U10H.MI - Lyxor US Treasury 10+Y (DR) UCITS ETF MHgd EUR D",
          "INFU.MI - Lyxor US$ 10Y Inflation Expectations UCITS ETF A",
          "INFHL.MI - Lyxor US$ 10Y Infltn Expectatns UCITS ETF H EUR D",
          "BTCN.MI - MELANION BITCOIN EQUITIES UCITS ETF",
          "WEMT2.MI - MSCI World ESG Filtered Min TE UCITS ETF EUR Cap",
          "5HEE.MI - Ossiam ESG Lw Cbr Shillr Brcls CAPE USSec UE 1AEUR",
          "5HGE.MI - Ossiam ESG Shiller Barclays CAPE Gl Sec UETF 1AEUR",
          "EUMV.MI - Ossiam Eur ESG Machine Learning UCITS ETF 1C/A EUR",
          "OG35.MI - Ossiam Eur Gov Bd 3-5Y Carb Red UCITS ETF 1C EUR C ETF",
          "F4DE.MI - Ossiam Food for Biodiversity UCITS ETF 1A EUR",
          "CAPU.MI - Ossiam Shiller Barclays CAPE US Sector Val TR 1CE",
          "CAPE.MI - Ossiam ShillerBarclaysCAPE EuSectValTR UCITSETF1CE",
          "S6EW.MI - Ossiam Stoxx Europe 600 ESGEqualWeightNRUCITSETF1C",
          "OUFE.MI - Ossiam US ESG Low Carbon Eq Fact UCITS ETF 1A EUR",
          "SPMVV.MI - Ossiam US Minimum Variance ESG NR UCITS ETF 1A EUR",
          "5OGE.MI - OssiamShillerBarclaysCapeGlbSectValueUctETF1CEURD",
          "EMLI.MI - PIMCO EM Advantage Local Bd Idx UCITS ETF USD Inc",
          "LDCE.MI - PIMCO Euro Low Dur Corp Bd UCITS ETF EUR Inc",
          "PJS1.MI - PIMCO Euro Short Maturity UCITS ETF EUR Inc",
          "PSEUHI.MI - PIMCO Euro ShTrm HY C Bd Idx UCITS ETF EUR Inc",
          "MINT.MI - PIMCO US Dollar Short Maturity UCITS ETF USD Inc",
          "LDCU.MI - PIMCO US Low Duration Corp Bd UCITS ETF USD Inc",
          "STHE.MI - PIMCO US ShTrm HY C Bd Idx UCITS ETF EUR Hgd Inc",
          "STHY.MI - PIMCO US ShTrm HY C Bd Idx UCITS ETF USD Inc",
          "YODA.MI - Procure Space UCITS ETF Acc",
          "CYBR.MI - Rize Cybersecurity and Data Privacy UETF USD Acc",
          "PMNT.MI - Rize Digital Payments Economy UCITS ETF USD Acc",
          "LERN.MI - Rize Edctn Tech and Digital Learning UETF USD Acc",
          "EMRJ.MI - Rize EM Internet and Ecommerce UCITS ETF USD Acc",
          "VITA.MI - Rize Environmental Impact 100 UCITS ETF USD Acc",
          "PETZ.MI - Rize Pet Care UCITS ETF USD Acc",
          "FOOD.MI - Rize Sustainable Future of Food UCITS ETF USD Acc",
          "AMALI.MI - Saturna Al Kawthar Global Focused Eq UCITS ETF Acc",
          "CO2L1.MI - SG ETC CARBON FUTURE ETC",
          "BRE2L.MI - SG ETC DAILY LONG +2X BRENT OIL FUTURE",
          "NGA2L.MI - SG ETC DAILY LONG +2X NATURAL GAS FUTURE",
          "WTI2L.MI - SG ETC DAILY LONG +2X WTI OIL FUTURE",
          "BRE3L.MI - SG ETC DAILY LONG +3X BRENT OIL FUTURE",
          "RAM3L.MI - SG ETC DAILY LONG +3X COPPER FUTURE",
          "GOL3L.MI - SG ETC DAILY LONG +3X GOLD FUTURE",
          "NGA3L.MI - SG ETC DAILY LONG +3X NATURAL GAS FUTURE",
          "SIL3L.MI - SG ETC DAILY LONG +3X SILVER FUTURE",
          "WTI3L.MI - SG ETC DAILY LONG +3X WTI OIL FUTURE",
          "BRES1.MI - SG ETC DAILY SHORT -1X BRENT OIL FUTURE",
          "GOL1S.MI - SG ETC DAILY SHORT -1X GOLD FUTURE",
          "GAS1S.MI - SG ETC DAILY SHORT -1X NATUR GAS FUTURE ETC",
          "SIL1S.MI - SG ETC DAILY SHORT -1X SILVER FUTURE",
          "WTIS1.MI - SG ETC DAILY SHORT -1X WTI OIL FUTURE",
          "BRE2S.MI - SG ETC DAILY SHORT -2X BRENT OIL FUTURE ETC",
          "GAS2S.MI - SG ETC DAILY SHORT -2X NATUR GAS FUTURE ETC",
          "WTI2S.MI - SG ETC DAILY SHORT -2X WTI OIL FUTURE ETC",
          "BRE3S.MI - SG ETC DAILY SHORT -3X BRENT OIL FUTURE",
          "RAM3S.MI - SG ETC DAILY SHORT -3X COPPER FUTURE",
          "GOL3S.MI - SG ETC DAILY SHORT -3X GOLD FUTURE",
          "NGA3S.MI - SG ETC DAILY SHORT -3X NATURL GAS FUTURE",
          "SIL3S.MI - SG ETC DAILY SHORT -3X SILVER FUTURE",
          "WTI3S.MI - SG ETC DAILY SHORT -3X WTI OIL FUTURE",
          "DAX3L.MI - SG ETC DAX +3X DAILY LEVER COLLATERAL ETN",
          "DAX3S.MI - SG ETC DAX -3X DAILY SHORT COLLATERAL ETN",
          "SX5E3L.MI - SG ETC EUSTOXX 50 +3X DAILY LEVER COLLAT ETN",
          "SX5E3S.MI - SG ETC EUSTOXX 50 -3X DAILY SHORT COLLAT ETN",
          "MIB3L.MI - SG ETC FTSE MIB +3X DAILY LEV COLLATERAL ETN",
          "MIB3S.MI - SG ETC FTSE MIB -3X DAILY SHT COLLATERAL ETN",
          "GAS3L.MI - SG ETC NATURAL GAS +3X DAILY LEV COLLAT ETC",
          "GAS3S.MI - SG ETC NATURAL GAS -3X DAILY SHT COLLAT ETC",
          "NGA1L.MI - SG ETC NATURAL GAS FUTURE",
          "OIL1L.MI - SG ETC WTI OIL COLLATERALIZED ETC",
          "WTI1L.MI - SG ETC WTI OIL FUTURE",
          "NDQ3L.MI - SG ETN DAILY LONG +3X NASDAQ 100 ETN",
          "BUNDL5.MI - SG ETN DAILY LONG +5X BUND FUTURE X",
          "OATL5.MI - SG ETN DAILY LONG +5X OAT FUTURE ETN",
          "UST5L.MI - SG ETN DAILY LONG +5X US TREA 10Y FUTURE",
          "BTPL5.MI - SG ETN DAILY LONG 5X BTP FUTURE",
          "UST5S.MI - SG ETN DAILY SHO -5X US TREAS 10Y FUTURE",
          "BTPS1.MI - SG ETN DAILY SHORT -1X BTP FUTURE ETN",
          "VIX1S.MI - SG ETN DAILY SHORT -1X VIX FUTURE ETN",
          "NDQ3S.MI - SG ETN DAILY SHORT -3X NASDAQ 100 ETN",
          "BTPS5.MI - SG ETN DAILY SHORT -5X BTP FUTURE",
          "BUNDS5.MI - SG ETN DAILY SHORT -5X BUND FUTURE",
          "OATS5.MI - SG ETN DAILY SHORT -5X OAT FUTURE ETN",
          "ERIX.MI - SG ETN EUROPEAN RENEWABLE ENERGY ETN",
          "INFLA.MI - SG ETN INFLATION PROXY ETN",
          "ECARS.MI - SG ETN SMART MOBILITY ETN",
          "VIX1L.MI - SG ETN VIX FUTURE",
          "GASL3.MI - Sg Natural Gas +3x Dai Lever Collat ETC",
          "SGIOIL2L.MI - SG WTI +2x Daily Leveraged Collat ETC",
          "TANN.MI - Solar Energy UCITS ETF Acc",
          "CO2.MI - Sparkchange Physical Carbon Eua ETC",
          "SESR.MI - SPDR Blmbrg SASB 0-3 Y Euro Corp ESG UCITS ETF Acc",
          "SUSC.MI - SPDR Bloomberg 0-3 Y U.S. Corp Bond UCITS ETF Dist",
          "SEUC.MI - SPDR Bloomberg 0-3 Year Euro Corp Bd UCITS ETF Dis",
          "LGOV.MI - SPDR Bloomberg 10+ Y Euro Govt Bond UCITS ETF Dist",
          "LUTR.MI - SPDR Bloomberg 10+ Y U.S. Treas Bond UCITS ETF Dis",
          "LUSC.MI - SPDR Bloomberg 10+ Year U.S. Corp Bd UCITS ETF Dis",
          "IUCB.MI - SPDR Bloomberg 1-10 Y U.S. CB UCITS ETF Dist",
          "GOVS.MI - SPDR Bloomberg 1-3 Year Euro Govt Bd UCITS ETF Dis",
          "TRS3.MI - SPDR Bloomberg 1-3Y U.S. Treas Bond UCITS ETF Dist",
          "EU35.MI - SPDR Bloomberg 3-5 Y Euro Govt Bond UCITS ETF Dist",
          "TRS5.MI - SPDR Bloomberg 3-7 Y US Treas Bond UCITS ETF Dist",
          "TRSX.MI - SPDR Bloomberg 7-10 Y U.S. Treas Bd UCITS ETF Dist",
          "CHNT.MI - SPDR Bloomberg China Treas Bond UCITS ETF Acc",
          "EMDE.MI - SPDR Bloomberg Em Mkts Local Bd UCITS ETF EURH Acc",
          "EMLAA.MI - SPDR Bloomberg Em Mkts Local Bond UCITS ETF Acc",
          "EMLD.MI - SPDR Bloomberg Em Mkts Local Bond UCITS ETF Dist",
          "EUAG.MI - SPDR Bloomberg Euro Aggregate Bond UCITS ETF Dist",
          "EUCO.MI - SPDR Bloomberg Euro Corporate Bond UCITS ETF Dist",
          "GOVA.MI - SPDR Bloomberg Euro Government Bond UCITS ETF Acc",
          "GOVY.MI - SPDR Bloomberg Euro Government Bond UCITS ETF Dist",
          "JNKE.MI - SPDR Bloomberg Euro High Yield Bond UCITS ETF Dist",
          "GLAG.MI - SPDR Bloomberg Global Aggrt Bd UCITS ETF Dist",
          "GLAE.MI - SPDR Bloomberg Global Aggrt Bd UCITS ETF EURH Dist",
          "EUCR.MI - SPDR Bloomberg SASB Euro Corporate ESG U ETF Acc",
          "SJNK.MI - SPDR Bloomberg SASB U.S. High Yield Corporate ESG UCITS ETF",
          "USCO.MI - SPDR Bloomberg SASB US Corporate ESG UCITS ETF Acc",
          "USCE.MI - SPDR Bloomberg SASB US Crp ESG UCITS ETF EURH Acc",
          "SJNE.MI - SPDR Bloomberg SASB US HY Corp ESG U ETF EURH Acc",
          "BRTIPS.MI - SPDR Bloomberg U.S. TIPS UCITS ETF Dist",
          "TRSY.MI - SPDR Bloomberg U.S. Treasury Bond UCITS ETF Dist",
          "GLRE.MI - SPDR Dow Jones Global Real Estate UCITS ETF Dist",
          "ELOW.MI - SPDR Euro Stoxx Low Volatility UCITS ETF Acc",
          "SPEMHE.MI - SPDR ICE BofA 0-5 Y EM USD Govt Bd U ETF EURH Acc",
          "EMH5.MI - SPDR ICE BofA 0-5 Y EM USD Govt Bond UCITS ETF Dis",
          "MGIN.MI - SPDR Morningstar Mlt Asst Glbl Infrastr U ETF Dist",
          "AWPA.MI - SPDR MSCI ACWI Climate Paris Aligned UCITS ETF Acc",
          "IMIE.MI - SPDR MSCI ACWI IMI UCITS ETF",
          "ACWE.MI - SPDR MSCI ACWI UCITS ETF Acc",
          "EACW.MI - SPDR MSCI ACWI UCITS ETF EUR Hdg Acc",
          "EMAE.MI - SPDR MSCI EM Asia UCITS ETF",
          "MCPA.MI - SPDR MSCI EM Climate Paris Aligned UCITS ETF Acc",
          "EMRG.MI - SPDR MSCI Emerging Markets UCITS ETF",
          "EURO.MI - SPDR MSCI EMU UCITS ETF",
          "ECPA.MI - SPDR MSCI Europe Clmt Paris Aligned UCITS ETF Acc",
          "EXCPA.MI - SPDR MSCI Europe Clmt Paris Aligned UCITS ETF Acc",
          "STTX.MI - SPDR MSCI Europe Communication Services UCITS ETF",
          "STRX.MI - SPDR MSCI Europe Consumer Discr UCITS ETF",
          "STSX.MI - SPDR MSCI Europe Consumer Staples UCITS ETF",
          "STNX.MI - SPDR MSCI Europe Energy UCITS ETF",
          "STZX.MI - SPDR MSCI Europe Financials UCITS ETF",
          "STWX.MI - SPDR MSCI Europe Health Care UCITS ETF",
          "STQX.MI - SPDR MSCI Europe Industrials UCITS ETF",
          "STPX.MI - SPDR MSCI Europe Materials UCITS ETF",
          "SMCX.MI - SPDR MSCI Europe Small Cap UCITS ETF",
          "STKX.MI - SPDR MSCI Europe Technology UCITS ETF",
          "EROX.MI - SPDR MSCI Europe UCITS ETF",
          "STUX.MI - SPDR MSCI Europe Utilities UCITS ETF",
          "JPEH.MI - SPDR MSCI Japan UCITS ETF EUR Hgd",
          "UCPA.MI - SPDR MSCI USA Climate Paris Aligned UCITS ETF Acc",
          "WCPA.MI - SPDR MSCI World Clmt Paris Aligned UCITS ETF Acc",
          "SPWNRG.MI - SPDR MSCI World Energy UCITS ETF",
          "WFIN.MI - SPDR MSCI World Financials UCITS ETF",
          "WHEA.MI - SPDR MSCI World Health Care UCITS ETF",
          "SWTEC.MI - SPDR MSCI World Technology UCITS ETF",
          "SWRE.MI - SPDR MSCI World UCITS ETF EUR Hdg Acc",
          "SWRD.MI - SPDR MSCI World UCITS ETF USD",
          "GCVE.MI - SPDR Refinitiv Gl Cnvtb Bd UCITS ETF EUR Hgd Acc",
          "CONV.MI - SPDR Refinitiv Global Convertible Bd UCITS ETF Dis",
          "R2US.MI - SPDR Russell 2000 US Small Cap UCITS ETF Acc",
          "SPY4.MI - SPDR S&P 400 US Mid Cap UCITS ETF Acc",
          "500X.MI - SPDR S&P 500 ESG Leaders UCITS ETF Acc",
          "LOWV.MI - SPDR S&P 500 Low Volatility UCITS ETF Acc",
          "SPY5.MI - SPDR S&P 500 UCITS ETF Dist",
          "SPXE.MI - SPDR S&P 500 UCITS ETF EUR Hgd Acc",
          "EMDV.MI - SPDR S&P Em Mkts Div Aristocrats UCITS ETF Dis",
          "EUDV.MI - SPDR S&P Euro Dividend Aristocrats UCITS ETF Dist",
          "GLDV.MI - SPDR S&P Gbl Dividend Aristocrats UCITS ETF Dist",
          "PADV.MI - SPDR S&P Pan Asia Dividend Aristocrats U ETF Dist",
          "SXLC.MI - SPDR S&P US Communic Services Sel Sector UETF Acc",
          "SXLY.MI - SPDR S&P US Cons Discrete Sel Sect UCITS ETF Acc",
          "SXLP.MI - SPDR S&P US Cons Staples Sel Sector UCITS ETF Acc",
          "USDE.MI - SPDR S&P US Div Aristocrats UCITS ETF EUR Hgd Dist",
          "UEDV.MI - SPDR S&P US Dividend Aristocrats ESG UCITS ETF Dis",
          "USDV.MI - SPDR S&P US Dividend Aristocrats UCITS ETF Dist",
          "SXLE.MI - SPDR S&P US Energy Select Sector UCITS ETF Acc",
          "SXLF.MI - SPDR S&P US Financials Select Sector UCITS ETF Acc",
          "SXLV.MI - SPDR S&P US Health Care Sel Sector UCITS ETF Acc",
          "SXLI.MI - SPDR S&P US Industrial Select Sector UCITS ETF Acc",
          "SXLB.MI - SPDR S&P US Materials Select Sector UCITS ETF Acc",
          "SXLK.MI - SPDR S&P US Technology Select Sector UCITS ETF Acc",
          "SXLU.MI - SPDR S&P US Utilities Select Sector UCITS ETF Acc",
          "600X.MI - SPDR STOXX Europe 600 SRI UCITS ETF Acc",
          "SETM.MI - Sprott Energy Transition Mtrls UCITS ETF USD Acc",
          "U3O8.MI - Sprott Uranium Miners UCITS ETF Acc",
          "THEP.MI - Tabula EUR HY Bd Paris Aligned Clmt U ETF EUR Acc",
          "COOLT.MI - Tabula EUR IG Bd Paris Aligned Clmt U ETF EUR Acc",
          "TAEH.MI - Tabula Haitong AsexJp HY Corp USD Bd ESG UE EURH D",
          "TINE.MI - Tabula US Enhanced Inflation UCITS ETF HEUR Acc",
          "TRYP.MI - The Travel UCITS ETF Acc",
          "BRE1L.MI - TRA SGA BRENT Long x1",
          "GOL1L.MI - TRA SGA I GOLD Long x1",
          "MIBESG.MI - TRA SGA MESGN Long x1",
          "SIL1L.MI - TRA SGA SILVER F Long x1",
          "H1DRO.MI - TRA SGA SOLHYDCN Long x1",
          "URAM.MI - TRA SGA SOLURMCN Long x1",
          "METAV.MI - TRA SGA SOMETA2 Long x1",
          "RMAU.MI - TRM Responsibly Sourced Phys Gold Etc",
          "GENDED.MI - UBS (Irl) ETF plc Glbl Gndr Equal UCITS ETF USD Ad",
          "GENDEE.MI - UBS (Irl) ETF plc Glbl Gndr EqualUCITS ETF HEUR Aa",
          "AWSRIA.MI - UBS (Irl) ETF plc MSCI ACWI Soc Rsp UETF USD Aa",
          "AUSAUW.MI - UBS (Irl) ETF plc MSCI Australia UCITS ETF AUD Aa",
          "AUHEUA.MI - UBS (Irl) ETF plc MSCI Australia UCITS ETF HEUR Aa",
          "USEUWH.MI - UBS (Irl) ETF plc MSCI USA Hgd EUR A acc",
          "USMUFE.MI - UBS (Irl) ETF plc MSCI USA SelFacMix U ETF HEUR Aa",
          "USFMD.MI - UBS (Irl) ETF plc MSCI USA SelFacMix U ETF USD Ad",
          "USAUSW.MI - UBS (Irl) ETF plc MSCI USA UCITS ETF USD A acc",
          "USAEUY.MI - UBS (Irl) ETF plc MSCI USA UCITS ETF USD A dis",
          "USVEUY.MI - UBS (Irl) ETF plc MSCI USA Value UCITS ETF USD Ad",
          "WSCE.MI - UBS (Irl) ETF plc MSCI Wld Sm CpSocRspUETF HEUR Aa",
          "WSC.MI - UBS (Irl) ETF plc MSCI Wld Sm CpSocRspUETF USD Aa",
          "SPELE.MI - UBS (Irl) ETF plc S&P 500 ESG ELITE U ETF HEUR Aa",
          "SPEL.MI - UBS (Irl) ETF plc S&P 500 ESG ELITE U ETF USD Aa",
          "5ESGE.MI - UBS (Irl) ETF plc S&P 500 ESG UCITS ETF HEUR A Acc",
          "SPESGU.MI - UBS (Irl) ETF plc S&P 500 ESG UCITS ETF USD A Acc",
          "SP5EUY.MI - UBS (Irl) ETF plc S&P 500 UCITS ETF USD A dis",
          "GLDVD.MI - UBS (Irl) ETF plc S&P Div Arst ESG Elt UETF USD Ad",
          "GLDVDE.MI - UBS (Irl) ETF plc S&P Div ArstESG Elt UETF HEUR Ad",
          "UT1EUA.MI - UBS (Lux) Fund Solutions – Bloomberg Barclays US 1-3 Year Treasury Bond UCITS ETF (USD) A-dis ETF",
          "UT7EUA.MI - UBS (Lux) Fund Solutions – Bloomberg Barclays US 7-10 Year Treasury Bond UCITS ETF (USD) A-dis ETF",
          "E50ESG.MI - UBS (Lux) Fund Solutions – EURO STOXX 50 ESG UCITS ETF (EUR) A-dis ETF",
          "ELOVD.MI - UBS (Lux) Fund Solutions – Factor MSCI EMU Low Volatility UCITS ETF (EUR) A-dis ETF",
          "CIB.MI - UBS (Lux) Fund Solutions – J.P. Morgan CNY China Government 1-10 Year Bond UCITS ETF (USD) A-acc ETF",
          "SHEME.MI - UBS (Lux) Fund Solutions – J.P. Morgan USD EM Diversified Bond 1-5 UCITS ETF (hedged to EUR) A-acc ETF",
          "SHEMB.MI - UBS (Lux) Fund Solutions – J.P. Morgan USD EM Diversified Bond 1-5 UCITS ETF (USD) A-dis ETF",
          "EMIGE.MI - UBS (Lux) Fund Solutions – J.P. Morgan USD EM IG ESG Diversified Bond UCITS ETF (hedged to EUR) A-acc ETF",
          "EMIG.MI - UBS (Lux) Fund Solutions – J.P. Morgan USD EM IG ESG Diversified Bond UCITS ETF (USD) A-acc ETF",
          "MSRUSB.MI - UBS (Lux) Fund Solutions – MSCI Emerging Markets Socially Responsible UCITS ETF (USD) A-acc  ETF",
          "MSRUSA.MI - UBS (Lux) Fund Solutions – MSCI Emerging Markets Socially Responsible UCITS ETF (USD) A-dis  ETF",
          "EUFM.MI - UBS (Lux) Fund Solutions – MSCI EMU Select Factor Mix UCITS ETF (EUR) A-acc ETF",
          "ESREUA.MI - Ubs (Lux) Fund Solutions - Msci Emu Socially Responsible Ucits Etf (Eur) A-Dis ETF",
          "EMUEUA.MI - UBS (Lux) Fund Solutions – MSCI EMU UCITS ETF (EUR) A-dis ETF",
          "EURSRI.MI - UBS (Lux) Fund Solutions – MSCI Europe Socially Responsible UCITS ETF (EUR) A-acc ETF",
          "EUESRI.MI - UBS (Lux) Fund Solutions – MSCI Europe Socially Responsible UCITS ETF (hedged to EUR) A-acc ETF",
          "EUEUA.MI - UBS (Lux) Fund Solutions – MSCI Europe UCITS ETF (hedged to EUR) A-acc ETF",
          "JPSR.MI - UBS (Lux) Fund Solutions – MSCI Japan Socially Responsible UCITS ETF (JPY) A-dis ETF",
          "JAPNE.MI - UBS (Lux) Fund Solutions – MSCI Japan UCITS ETF (hedged to EUR) A-acc ETF",
          "JPNEUA.MI - UBS (Lux) Fund Solutions – MSCI Japan UCITS ETF (JPY) A-dis ETF",
          "PSREUA.MI - UBS (Lux) Fund Solutions – MSCI Pacific Socially Responsible UCITS ETF (USD) A-dis ETF",
          "UKE.MI - UBS (Lux) Fund Solutions – MSCI United Kingdom UCITS ETF (hedged to EUR) A-acc ETF",
          "WSRUS.MI - UBS (Lux) Fund Solutions – MSCI World Socially Responsible UCITS ETF (USD) A-acc ETF",
          "WSREUA.MI - UBS (Lux) Fund Solutions – MSCI World Socially Responsible UCITS ETF (USD) A-dis ETF",
          "CITEE.MI - UBS (Lux) Fund Solutions – Solactive China Technology UCITS ETF (hedged to EUR) A-acc ETF",
          "CIT.MI - UBS (Lux) Fund Solutions – Solactive China Technology UCITS ETF (USD) A-acc ETF",
          "MDBE.MI - UBS (Lux) Fund Solutions – Sustainable Development Bank Bonds UCITS ETF (hedged to EUR) A-acc ETF",
          "MDBA.MI - UBS (Lux) Fund Solutions – Sustainable Development Bank Bonds UCITS ETF (USD) A-acc ETF",
          "GGB.MI - UBS ETF Global Green Bond ESG ETF",
          "GGE.MI - UBS Gl Green Bond ESG 1�10 UCITS ETF H",
          "EMLOC.MI - UBS JPM EM MF Enhanced LC Bd UCITS ETF USD A-dis",
          "E50EUA.MI - UBS LFS - EURO STOXX 50 UCITS ETF (EUR) A-dis",
          "100EUA.MI - UBS LFS - FTSE 100 UCITS ETF (GBP) A-dis",
          "CAHEUA.MI - UBS LFS - MSCI Canada UCITS ETF (hedged to EUR) Aa",
          "EMUSRI.MI - UBS LFS - MSCI EMU Soc Responsible U ETF (EUR) Aa",
          "EMUAA.MI - UBS LFS - MSCI EMU UCITS ETF (EUR) A-acc",
          "JT13E.MI - UBS LFS Bl Jap Treas 1-3Y Bd UCITS ETF hEUR A-acc",
          "JT13.MI - UBS LFS Bl Jap Treas 1-3Y Bd UCITS ETF JPY Aac",
          "E15S.MI - UBS LFS BlmbrgMSCIEURAreaLiqCorp1-5YSustUCIETFEURA",
          "ECEG.MI - UBS LFS Bloom MSCI Glbl Liq Corp Sust hEUR Ac",
          "ECCO.MI - UBS LFS Bloom MSCI Glbl Liq Corp Sust USD Aac",
          "ECOEUA.MI - UBS LFS Bloomberg EuroAreaLiqCrpUCITS ETF(EUR)Adis",
          "TIP10E.MI - UBS LFS Bloomberg TIPS 10+ ETF A EUR Hg C",
          "TIP10D.MI - UBS LFS Bloomberg TIPS 10+ UCI ETF(USD)Ad",
          "TIP1D.MI - UBS LFS Bloomberg TIPS 1-10 UCI ETF(USD)Ad",
          "TIP1E.MI - UBS LFS Bloomberg TIPS 1-10UCI ETF(EURh)Aa",
          "GEBE.MI - UBS LFS JPM EMU Gov ESG Liq Bond UCITS ETF EUR Ac",
          "EGO.MI - UBS LFS JPM GBL GOV ESG LD BD A USD ACC",
          "EGE.MI - UBS LFS JPM Gbl Gov ESG Liq Bd ETF hdg EUR A-ac",
          "CANA.MI - UBS LFS MSCI Canada UCITS ETF (CAD) A-acc",
          "CANEUA.MI - UBS LFS MSCI Canada UCITS ETF (CAD) Adis",
          "CINESG.MI - UBS LFS MSCI China ESG Universal Low Carbon Sel Ad",
          "EMMUSC.MI - UBS LFS MSCI Emerging Markets UCITS ETF (USD) Aa",
          "EMMEUA.MI - UBS LFS MSCI Emerging Markets UCITS ETF (USD)Ad",
          "EMVEUA.MI - UBS LFS MSCI EMU Value UCITS ETF (EUR) Adis",
          "EUREUA.MI - UBS LFS MSCI Europe UCITS ETF (EUR) Adis",
          "JPNA.MI - UBS LFS MSCI Japan UCITS ETF (JPY) A-acc",
          "PACEUA.MI - UBS LFS MSCI Pacific (ex Japan) UCITS ETF(USD)Ad",
          "SIVE.MI - UBS LFS MSCI Switzerland 20/35 UCITS ETF hEUR Aacc",
          "USAEUA.MI - UBS LFS MSCI USA UCITS ETF (USD) Adis",
          "WRDEUA.MI - UBS LFS MSCI World UCITS ETF (USD) Adis",
          "SF1EUA.MI - UBS LFS SBI® Foreign AAA-BBB 1-5 ESG UCITS CHF Ad",
          "SF5EUA.MI - UBS LFS SBI® Foreign AAA-BBB 5-10 ESG UCITS CHF Ad",
          "U15S.MI - UBS LFS-Bl MSCI US LqCorp 1-5YSust UCITS ETF USD A",
          "U15E.MI - UBS LFS-Bl MSCI US LqCorp1-5YSust UCITS ETF hEUR A",
          "UST10F.MI - UBS LFS-Blmbrg Brcls US10+ Yr TrBd UCIETF(EURh)Ad",
          "INFL10.MI - UBS LFS-Blmbrg Eur InflLnk10+ UCIT ETF(EUR)Ad",
          "INFL1.MI - UBS LFS-Blmbrg Eur InflLnk1-10 UCI ETF(EUR)Ad",
          "CBSEU.MI - UBS LFSBlmbrg MSCIEurAr LCrpSu UCI ETF(EUR)Ad",
          "CBUS5.MI - UBS LFSBlmbrg US LiqCorp1-5 Yr ETF(USD)Ad",
          "CBUS5E.MI - UBS LFSBlmbrg US LiqCorp1-5Yr UCI ETF(EURh)Aa",
          "SS1EUA.MI - UBS LFSBloomberg BrclsEUR Trsry1-10 UCI ETF(EUR)Ad",
          "CBUS.MI - UBS LFS-Bloomberg US Liq Corp UCI ETF(USD)Ad",
          "CBUSE.MI - UBS LFS-Bloomberg US LiqCorp UCI ETF(EURh)Aa",
          "UST1F.MI - UBS LFSBloomberg US1-3Yr TrsBd UCIETF(EURh)Ad",
          "SBEME.MI - UBS LFS-Bloomberg USD EM Sov UCI ETF(EURh)Aa",
          "SBEM.MI - UBS LFS-Bloomberg USD EM Sov UCI ETF(USD)Ad",
          "CBEU5.MI - UBS LFSBloombergEA LiqCorp1-5YrUCI ETF(EUR)Ad",
          "CBSUS.MI - UBS LFSBloombergMSCIUS LCrpSustUCI ETF(USD)Ad",
          "CBSUSE.MI - UBS LFSBloombergMSCIUS LCSustUCI ETF(EURh)Aa",
          "EPVLD.MI - UBS LFS-Factor MSCI EMU Prime Value ESG U (EUR) Ad",
          "EQLTD.MI - UBS LFS-Factor MSCI EMU Quality ESG UCITS (EUR) Ad",
          "JPSRE.MI - UBS LFS-MSCI Japan Soc Responsible U ETF (EURh) Ac",
          "SW2CHB.MI - UBS LFS-MSCI Switzerland 20/35 UCITS ETF (CHF) A-a",
          "UKGBPB.MI - UBS LFS-MSCI United Kingdom UCITS ETF (GBP) A-acc",
          "CBSUSA.MI - UBS LFS-MSCI US Liq CorpSust U ETF(USD)Aa",
          "ASREUA.MI - UBS LFS-MSCI USA Socially Responsible (USD)Ad",
          "USSRF.MI - UBS LFS-MSCI USA Socially Responsible U (htoEUR)Ad",
          "SPDA.MI - UBS S&P USA Dividend ESG ETF",
          "EMUESG.MI - UBS(Irl)ETF plc MSCI EMU ESG UnvLowCarbSelUEEURAa",
          "EURESG.MI - UBS(Irl)ETF plc MSCI Euro ESG UnvLowCarbSelUEEURAa",
          "JPESG.MI - UBS(Irl)ETF plc MSCI Jpn ESG UnvLowCarbSelUEJPYAa",
          "USESGA.MI - UBS(Irl)ETF plc MSCI USA ESG UnvLowCarbSelUEUSDAa",
          "UQLTE.MI - UBS(Irl)ETFplc Factor MSCI USA Qlt ESG UE HEUR Aa",
          "UQLTD.MI - UBS(Irl)ETFplc Factor MSCI USA Qlt ESG UETF USD Ad",
          "ULOVE.MI - UBS(Irl)ETFplc Fctr MSCI USA Low Vltlt UE HEUR Aa",
          "ULOVD.MI - UBS(Irl)ETFplc Fctr MSCI USA Low Vltlt UE USD Ad",
          "UPVLD.MI - UBS(Irl)ETFplc Fctr MSCI USA PrVal ESG UETF USD Ad",
          "ACPAR.MI - UBS(Irl)ETFplc MSCI ACWI ClimParAl UCITS ETF USDAa",
          "AWESG.MI - UBS(Irl)ETFplc MSCI ACWI ESG Unv LCar Sel UE USDAd",
          "AWSRIE.MI - UBS(Irl)ETFplc MSCI ACWI Soc Rsp UCITS ETF HEUR Aa",
          "EMPAB.MI - UBS(Irl)ETFplc MSCI EM ClimParAl UCITS ETF USD Aa",
          "EMUPA.MI - UBS(Irl)ETFplc MSCI EMU ClimParAl UCITS ETF EURAA",
          "EURPA.MI - UBS(Irl)ETFplc MSCI EuropeClimParAlUCITS ETF EURAA",
          "JPA.MI - UBS(Irl)ETFplc MSCI JapanClimParAl UCITS ETF JPYAA",
          "JPEUB.MI - UBS(Irl)ETFplc MSCI JpnClimParAl U ETF ir HEURAA",
          "PEXE.MI - UBS(Irl)ETFplc MSCI PaceJpn IMI SllRsp UETF HEURAa",
          "PEX.MI - UBS(Irl)ETFplc MSCI PaceJpn IMI SllRsp UETF USD Aa",
          "USAPA.MI - UBS(Irl)ETFplc MSCI USA ClimParAl UCITS ETF USDAA",
          "USSRIE.MI - UBS(Irl)ETFplc MSCI USA Soc Rsp UCITS ETF HEUR Aa",
          "USSRI.MI - UBS(Irl)ETFplc MSCI USA Soc Rsp UCITS ETF USD Aa",
          "WSRIE.MI - UBS(Irl)ETFplc MSCI Wld Soc Rsp UCITS ETF HEUR Aa",
          "WSRIA.MI - UBS(Irl)ETFplc MSCI World Soc Rsp UCITS ETF USD Aa",
          "WOPA.MI - UBS(Irl)ETFplc MSCI WorldClimParAl UCITS ETF USDAA",
          "SPDE.MI - UBS(Irl)ETFplc S&P US Div ArstESG Elt UETF HEUR Ad",
          "CLIMA.MI - UBS(Irl)ETFplc UBS ClimAwareGlbDevEqCTBU ETF USDAa",
          "CCEUAS.MI - UBS(Irl)FdSltnsplc CMCI Comp SF UCITS ETF HEUR Aa",
          "CCUSAS.MI - UBS(Irl)FdSltnsplc CMCI Comp SF UCITS ETF USD Aa",
          "AJEUAS.MI - UBS(Irl)FdSltnsplc MSCI AC As ex Jp SF U ETF USDAa",
          "ACWIE.MI - UBS(Irl)FdSltnsplc MSCI ACWI SF UCITS ETF HEUR Aa",
          "ACWIA.MI - UBS(Irl)FdSltnsplc MSCI ACWI SF UCITS ETF USD Aacc",
          "CHINA.MI - UBS(Irl)FdSltnsplc MSCI China A SF U ETF USD Acc",
          "EMGEAS.MI - UBS(Irl)FdSltnsplc MSCI Em Mkts SF U ETF USD Aacc",
          "JETS.MI - US Global Jets UCITS ETF Acc",
          "CYBO.MI - VanEck Bionic Engineering UCITS ETF USD A",
          "REUS.MI - VanEck Circular Economy UCITS ETF USD A",
          "DAPP.MI - VanEck Crypto and Blckchn Innvtrs UCITS ETF USD A",
          "DFNS.MI - VanEck Defense UCITS ETF USD A",
          "HYEM.MI - VanEck Em Mkts High Yield Bond UCITS ETF USD A",
          "CURGE.MI - VanEck Genomics & Hlthcare Innvtrs UCITS ETF USD A",
          "GFA.MI - VanEck Global Fallen Angel High Yield Bond UCITS ETF",
          "GDIG.MI - VanEck Global Mining UCITS ETF",
          "TRET.MI - VanEck Global Real Estate UCITS ETF",
          "GDX.MI - VanEck Gold Miners UCITS ETF USD A",
          "HDRO.MI - VanEck Hydrogen Economy UCITS ETF USD A",
          "TCBT.MI - VanEck iBoxx EUR Corporates UCITS ETF",
          "TAT.MI - VanEck iBoxx EUR Sov Cp AAA-AA 1-5 UC ETF",
          "TGBT.MI - VanEck iBoxx EUR Sovereign Diversifi 1-10",
          "EMLC.MI - VanEck J.P. Morgan EM Loc Curr Bd UCITS ETF USD A",
          "GDXJ.MI - VanEck Junior Gold Miners UCITS ETF USD A",
          "GOAT.MI - VanEck Morningstar Gl Wide Moat UCITS ETF USD A",
          "MOAT.MI - VanEck Morningstar US Sustainable Wide Moat UCITS ETF",
          "TDIV.MI - VanEck Ms Developed Markets Div Lead UCITS ETF",
          "CNEW.MI - VanEck New China ESG UCITS ETF",
          "OIH.MI - VanEck Oil Services UCITS ETF USD A",
          "REMX.MI - VanEck Rare Earth and Strategic Metals UCITS ETF",
          "SMH.MI - VanEck Semiconductor UCITS ETF USD A",
          "CAVE.MI - VanEck Smart Home Active UCITS ETF",
          "JEDII.MI - VANECK SPACE INNOVATORS UCITS ETF",
          "VEGII.MI - VANECK SUST FUTURE OF FOOD UCITS ETF",
          "TEET.MI - VanEck Sustainable European Equal Weight UCITS ETF",
          "TSWE.MI - VanEck Sustainable World Equal Weight ETF",
          "NUCL.MI - VanEck Uranium and Nuclear Technlgs U ETF USD A",
          "VDTM.MI - VANECK VDTM EUR",
          "ESPO.MI - VanEck Video Gaming and eSports UCITS ETF USD A",
          "VNTM.MI - VANECK VNTM EUR",
          "VTOF.MI - VANECK VTOF EUR",
          "V3EA.MI - Vanguard ESG Dev Europe All Cap UCITS ETF EUR Acc",
          "V3EL.MI - Vanguard ESG Dev Europe All Cap UCITS ETF EUR Dist",
          "V3PAA.MI - Vanguard ESG DevAsiaPacific AC UCITS ETF Acc",
          "V3PLA.MI - Vanguard ESG DevAsiaPacific AC UCITS ETF Dis",
          "V3MAA.MI - Vanguard ESG Emg Markets All Cap UCITS ETF USD Acc",
          "V3MLA.MI - Vanguard ESG Emg Markets All Cap UCITS ETF USD Dis",
          "V3REV.MI - Vanguard ESG EUR Corporate Bond UCITS ETF EUR Acc",
          "V3RFV.MI - Vanguard ESG EUR Corporate Bond UCITS ETF EUR Dist",
          "V3AA.MI - Vanguard ESG Global All Cap UCITS ETF (USD) Acc",
          "V3AL.MI - Vanguard ESG Global All Cap UCITS ETF (USD) Dist",
          "V3GF.MI - Vanguard ESG Global Corp Bond UCITS ETF EUR Hgd A",
          "V3GE.MI - Vanguard ESG Global Corp Bond UCITS ETF EUR Hgd D",
          "V3NA.MI - Vanguard ESG N America All Cap UCITS ETF USD Acc",
          "V3NL.MI - Vanguard ESG N America All Cap UCITS ETF USD Dist",
          "V3SE.MI - Vanguard ESG USD Corporate Bond UCITS ETF EUR Hgd Acc",
          "V3SDV.MI - Vanguard ESG USD Corporate Bond UCITS ETF USD Acc",
          "V3SUV.MI - Vanguard ESG USD Corporate Bond UCITS ETF USD Dist",
          "VECA.MI - Vanguard EUR Corporate Bond UCITS ETF EUR Acc",
          "VECP.MI - Vanguard EUR Corporate Bond UCITS ETF EUR Dis",
          "VGEA.MI - Vanguard EUR Eurozone Gvt Bd UCITS ETF EUR Acc",
          "VETY.MI - Vanguard EUR Eurozone Gvt Bd UCITS ETF EUR Dis",
          "VUKE.MI - Vanguard FTSE 100 UCITS ETF GBP Dis",
          "VMIG.MI - Vanguard FTSE 250 UCITS ETF GBP Acc",
          "VWCE.MI - Vanguard FTSE All-World UCITS ETF USD Acc",
          "VWRL.MI - Vanguard FTSE All-World UCITS ETF USD Dis",
          "VWCG.MI - Vanguard FTSE Developed Europe UCITS ETF EUR A",
          "VEUR.MI - Vanguard FTSE Developed Europe UCITS ETF EUR D",
          "VHVE.MI - Vanguard FTSE Developed World UCITS ETF USD A",
          "VEVE.MI - Vanguard FTSE Developed World UCITS ETF USD D",
          "VAPX.MI - Vanguard FTSE Dvlp Asia Pac ex Jpn ETF USD Dis",
          "VERE.MI - Vanguard FTSE Dvlp Eurp exUK UCITS ETF EUR Acc",
          "VFEA.MI - Vanguard FTSE Emerging Mkts UCITS ETF USD Acc",
          "VFEM.MI - Vanguard FTSE Emerging Mkts UCITS ETF USD Dis",
          "VJPE.MI - Vanguard FTSE Japan UCITS ETF EUR Hedged Acc",
          "VJPA.MI - Vanguard FTSE Japan UCITS ETF USD Acc",
          "VJPN.MI - Vanguard FTSE Japan UCITS ETF USD Dist",
          "VNRA.MI - Vanguard FTSE North America UCITS ETF USD Acc",
          "VAGF.MI - Vanguard Global Aggregate Bd UCITS ETF EUR Hgd Acc",
          "VNGA20.MI - Vanguard LifeStrategy 20% Equity UCITS ETF EUR Acc",
          "VNGD20.MI - Vanguard LifeStrategy 20% Equity UCITS ETF EUR Dis",
          "VNGA40.MI - Vanguard LifeStrategy 40% Equity UCITS ETF EUR Acc",
          "VNGD40.MI - Vanguard LifeStrategy 40% Equity UCITS ETF EUR Dis",
          "VNGA60.MI - Vanguard LifeStrategy 60% Equity UCITS ETF EUR Acc",
          "VNGD60.MI - Vanguard LifeStrategy 60% Equity UCITS ETF EUR Dis",
          "VNGA80.MI - Vanguard LifeStrategy 80% Equity UCITS ETF EUR Acc",
          "VNGD80.MI - Vanguard LifeStrategy 80% Equity UCITS ETF EUR Dis",
          "VUAA.MI - Vanguard S&P 500 UCITS ETF USD Acc",
          "VUSA.MI - Vanguard S&P 500 UCITS ETF USD Dis",
          "VDST.MI - Vanguard US Treasury 0-1Y Bd UCITS ETF USD Acc",
          "VDCA.MI - Vanguard USD Corpo 1-3 Year Bd UCITS ETF USD A",
          "VUSC.MI - Vanguard USD Corpo 1-3 Year Bd UCITS ETF USD D",
          "VDCE.MI - Vanguard USD Corporate Bond UCITS ETF EUR Hdg Acc",
          "VUCE.MI - Vanguard USD Corporate Bond UCITS ETF USD Acc",
          "VUCP.MI - Vanguard USD Corporate Bond UCITS ETF USD Dis",
          "VDEA.MI - Vanguard USD Em Mkts Govt Bd UCITS ETF USD Acc",
          "VEMT.MI - Vanguard USD Em Mkts Govt Bd UCITS ETF USD Dis",
          "VDTA.MI - Vanguard USD Treasury Bond UCITS ETF Acc",
          "VUTY.MI - Vanguard USD Treasury Bond UCITS ETF Dis",
          "VDTE.MI - Vanguard USD Treasury Bond UCITS ETF EUR Hdg Acc",
          "VHYL.MI - Vngrd FTSE All-Wld Hgh Div Yld UCITS ETF USD D",
          "FCRU.MI - Wisdometree WTI Crude Oil ETC",
          "LBUL.MI - Wisdomtree 2X Daily Long Gold ETC",
          "AIGA.MI - WisdomTree Agriculture ETC",
          "LAGR.MI - Wisdomtree Agriculture Leverage ETC",
          "LALU.MI - WisdomTree Aluminium 2X Daily Leveraged ETC",
          "WTAI.MI - WisdomTree Artificial Intelligence UCITS ETF USD Acc",
          "COBO.MI - WisdomTree AT1 CoCo Bond UCITS ETF EUR Hedged",
          "CCBO.MI - WisdomTree AT1 CoCo Bond UCITS ETF USD",
          "WATT.MI - WisdomTree Battery Metals Securities ETC",
          "VOLT.MI - WisdomTree Battery Solutions UCITS ETF USD Acc",
          "WDNA.MI - WisdomTree Biorevolution UCITS ETF USD Acc",
          "WBLK.MI - WisdomTree Blockchain UCITS USD Acc ETF",
          "BRND.MI - WisdomTree Bloomberg Brent Crude Oil",
          "WTID.MI - WisdomTree Bloomberg WTI Crude Oil",
          "BRNT.MI - Wisdomtree Brent Crude ETC",
          "LBRT.MI - WisdomTree Brent Crude Oil 2X Daily Lev",
          "3BRL.MI - Wisdomtree Brent Crude Oil 3X Daily Lev",
          "3BRS.MI - Wisdomtree Brent Crude Oil 3X Daily Shor",
          "SALL.MI - WisdomTree Broad Com 1X Dly Shrt ETC",
          "AIGC.MI - WisdomTree Broad Commodities ETC",
          "PCOM.MI - WisdomTree Broad Commodities UCITS ETF USD Acc",
          "3BTL.MI - Wisdomtree Btp 10Y 3X Daily Leveraged",
          "3BTS.MI - Wisdomtree Btp 10Y 3X Daily Short",
          "3BUL.MI - Wisdomtree Bund 10Y 3X Daily Leveraged",
          "3BUS.MI - Wisdomtree Bund 10Y 3X Daily Short",
          "3UBS.MI - WisdomTree Bund 30Y 3x Short Daily ETP",
          "WCCA.MI - Wisdomtree California Carbon",
          "CARB.MI - Wisdomtree Carbon ETC",
          "WCLD.MI - WisdomTree Cloud Computing UCITS ETF USD Acc",
          "COCO.MI - Wisdomtree Cocoa ETC",
          "LCOC.MI - Wisdomtree Cocoa Leveraged ETC",
          "LCFE.MI - WisdomTree Coffee 2X Daily Leveraged ETC",
          "COFF.MI - Wisdomtree Coffee ETC",
          "COTN.MI - Wisdomtree Commodity Cotton ETC",
          "LOIL.MI - Wisdomtree Commodity Securities ETC",
          "COPA.MI - Wisdomtree Commodity Securities ETC",
          "ALMN.MI - Wisdomtree Commodity Securities ETC",
          "NICK.MI - Wisdomtree Commodity Securities ETC",
          "SLVR.MI - Wisdomtree Commodity Securities ETC",
          "CORN.MI - Wisdomtree Commodity Securities ETC",
          "BULL.MI - Wisdomtree Commodity Securities ETC",
          "SOYO.MI - Wisdomtree Commodity Securities ETC",
          "AIGO.MI - Wisdomtree Commodity Securities ETC",
          "LCOP.MI - WisdomTree Copper 2X Daily Leveraged ETC",
          "3HCL.MI - Wisdomtree Copper 3X Daily Leveraged",
          "3HCS.MI - Wisdomtree Copper 3X Daily Short",
          "WGLDA.MI - WisdomTree Core Physical Gold ETC",
          "LCOR.MI - WisdomTree Corn 2X Daily Leveraged ETC",
          "WCBR.MI - WisdomTree Cybersecurity UCITS ETF USD Acc",
          "SBRT.MI - Wisdomtree Daily Brent Crude ETC",
          "SCOP.MI - Wisdomtree Daily Copper ETC",
          "SSIL.MI - Wisdomtree Daily Silver ETC",
          "3DEL.MI - Wisdomtree Dax 3X Daily Leveraged",
          "3DES.MI - Wisdomtree Dax 3X Daily Short",
          "XSOE.MI - WisdomTree EM ex State Owd Entp ESG Scd U ETF Acc",
          "WTDEM.MI - WisdomTree Em Mkts Equity Income UCITS ETF",
          "DEMR.MI - WisdomTree Em Mkts Equity Income UCITS ETF Acc",
          "WTDGSE.MI - WisdomTree Em Mkts SmallCap Dividend UCITS ETF",
          "3EML.MI - Wisdomtree Emerging Markets 3X Daily Lev",
          "3EMS.MI - Wisdomtree Emerging Markets 3X Daily Sho",
          "BTBENE.MI - Wisdomtree Energy Enhanced",
          "AIGE.MI - WisdomTree Energy ETC",
          "WENT.MI - WisdomTree Energy Transition Metals Securities ETC",
          "WCOE.MI - WisdomTree Enhanced Commodity UCITS ETF EUR HgdAcc",
          "WCOA.MI - WisdomTree Enhanced Commodity UCITS ETF USD Acc",
          "3EUL.MI - Wisdomtree Euro Stoxx 50 3X Daily Lever",
          "3EUS.MI - Wisdomtree Euro Stoxx 50 3X Daily Short",
          "WS5X.MI - WisdomTree EURO STOXX 50 ETN",
          "3BAL.MI - Wisdomtree Euro Stoxx Banks 3X Daily Lev",
          "3BAS.MI - WisdomTree EURO STOXX Banks 3x Daily Short ETN",
          "WTEEI.MI - WisdomTree Europe Equity Income UCITS ETF",
          "EEIA.MI - WisdomTree Europe Equity Income UCITS ETF Acc",
          "HEDF.MI - WisdomTree Europe Equity UCITS ETF EUR Acc",
          "HEDJ.MI - WisdomTree Europe Equity UCITS ETF USD Hdg",
          "DFE.MI - WisdomTree Europe Small Cap Dividend UCITS ETF",
          "DFEA.MI - WisdomTree Europe Small Cap Dividend UCITS ETF Acc",
          "EGRA.MI - WisdomTree Eurozone Qual Div Gro UCITS ETF EUR Acc",
          "3ITL.MI - Wisdomtree Ftse Mib 3X Daily Leveraged",
          "3ITS.MI - Wisdomtree Ftse Mib 3X Daily Short",
          "ITBL.MI - Wisdomtree Ftse Mib Banks",
          "WMIB.MI - WisdomTree FTSE MIB ETN",
          "UGAS.MI - WisdomTree Gasoline ETC",
          "WCAR.MI - WisdomTree Gl Automotive Innvtrs UCITS ETF USD Acc",
          "GGRE.MI - WisdomTree Global Qual Div Gro UCITS ETF EURH Acc",
          "GGRA.MI - WisdomTree Global Qual Div Gro UCITS ETF USD Acc",
          "3GOL.MI - Wisdomtree Gold 3X Daily Leveraged",
          "3GOS.MI - Wisdomtree Gold 3X Daily Short",
          "SBUL.MI - Wisdomtree Gold Daily Short ETC",
          "GRNS.MI - WisdomTree Grains ETC",
          "META.MI - Wisdomtree Industrial Metals Enhanced",
          "AIGI.MI - WisdomTree Industrial Metals ETC",
          "SIMT.MI - Wisdomtree Industrial Metals ETC",
          "DXJF.MI - WisdomTree Japan Equity UCITS ETF EUR Hedged Acc",
          "DXJZ.MI - WisdomTree Japan Equity UCITS ETF JPY Acc",
          "DXJ.MI - WisdomTree Japan Equity UCITS ETF USD Hedged",
          "LEAD.MI - Wisdomtree Lead ETC",
          "HOGS.MI - Wisdomtree Lean Hogs ETC",
          "AIGL.MI - Wisdomtree Livestock ETC",
          "QQQ3.MI - Wisdomtree Nasdaq 100 3X Daily Leveraged",
          "QQQS.MI - Wisdomtree Nasdaq 100 3X Daily Short",
          "SNGA.MI - WisdomTree Natural Gas 1X Daily Short ETC",
          "3NGL.MI - Wisdomtree Natural Gas 3X Daily Leverage",
          "3NGS.MI - Wisdomtree Natural Gas 3X Daily Short",
          "NGAS.MI - WisdomTree Natural Gas ETC",
          "LNGA.MI - Wisdomtree Natural Gas Leverage ETC",
          "WTRE.MI - WisdomTree New Economy Real Est UCITS ETF USD Acc",
          "WNER.MI - WisdomTree New Economy Real Estate UCITS ETF USD",
          "SNIK.MI - Wisdomtree Nickel Daily ETC",
          "LNIK.MI - Wisdomtree Nickel Leveraged ETC",
          "1PAS.MI - Wisdomtree Palladium 1X Daily Short",
          "2PAL.MI - Wisdomtree Palladium 2X Daily Leveraged",
          "LPET.MI - Wisdomtree Petroleum Leveraged ETC",
          "PHAU.MI - WisdomTree Physical Gold Individual Securities ETC",
          "PHPD.MI - WisdomTree Physical Palladium ETC",
          "PHPT.MI - WisdomTree Physical Platinum ETC",
          "PHPM.MI - WisdomTree Physical Precious Metals ETC",
          "PHAG.MI - WisdomTree Physical Silver Individual Securities ETC",
          "SGBS.MI - WisdomTree Physical Swiss Gold ETC",
          "LPLA.MI - Wisdomtree Platinum Leveraged ETC",
          "AIGP.MI - Wisdomtree Precious Metals ETC",
          "WRCY.MI - WisdomTree Recycling Dcrbnstn UCITS ETF USD Acc",
          "WRNW.MI - WisdomTree Renewable Energy UCITS ETF USD Acc",
          "3USL.MI - Wisdomtree S&P 500 3X Daily Leveraged",
          "3USS.MI - Wisdomtree S&P 500 3X Daily Short",
          "WSPX.MI - WisdomTree S&P 500 ETN",
          "VIXL.MI - Wisdomtree S&P 500 Vix Short-Term Future",
          "SOIL.MI - Wisdomtree Short WTI Crude Oil ETC",
          "LSIL.MI - WisdomTree Silver 2X Daily Leveraged ETC",
          "3SIL.MI - Wisdomtree Silver 3X Daily Leveraged",
          "3SIS.MI - Wisdomtree Silver 3X Daily Short",
          "AIGS.MI - Wisdomtree Softs ETC",
          "SOYB.MI - WisdomTree Soybeans ETC",
          "2CAR.MI - WisdomTree STOXX Europe Automobiles 2x Daily Leveraged ETN",
          "2OIG.MI - WisdomTree STOXX Europe Oil & Gas 2x Daily Short ETN",
          "2TRV.MI - WisdomTree STOXX Europe Travel & Leisure 2x Daily Leveraged ETN",
          "2STR.MI - WisdomTree STOXX Europe Travel & Leisure 2x Daily Short ETN",
          "LSUG.MI - WisdomTree Sugar 2X Daily Leveraged ETC",
          "SUGA.MI - Wisdomtree Sugar ETC",
          "TINM.MI - Wisdomtree Tin ETC",
          "DHS.MI - WisdomTree US Equity Income UCITS ETF",
          "DHSA.MI - WisdomTree US Equity Income UCITS ETF Acc",
          "DHSF.MI - WisdomTree US Equity Income UCITS ETF EUR Hdg Acc",
          "DGRA.MI - WisdomTree US Quality Div Growth UCITS ETF USD Acc",
          "DGRE.MI - WisdomTree US Quality Dividend Growth UCITS - EUR Hedged Acc ETF",
          "3TYL.MI - Wisdomtree Us Treasuries 10Y 3X Daily Le",
          "3TYS.MI - Wisdomtree Us Treasuries 10Y 3X Daily Sh",
          "UL3S.MI - Wisdomtree Us Treasuries 30Y 3X Daily Sh",
          "TFRN.MI - WisdomTree USD Float Rate Tr Bd UCITS ETF USD Acc",
          "WEAT.MI - Wisdomtree Wheat ETC",
          "LWEA.MI - Wisdomtree Wheat Leveraged ETC",
          "3OIL.MI - Wisdomtree Wti Crude Oil 3X Daily Lev",
          "3OIS.MI - Wisdomtree Wti Crude Oil 3X Daily Short",
          "CRUD.MI - WisdomTree WTI Crude Oil ETC",
          "ZINC.MI - Wisdomtree Zinc ETC",
          "XUTD.MI - X Usd Treasuries",
          "XSLE.MI - Xtrack. Silber 79 ETC",
          "XAIX.MI - Xtrackers Artific Intellig and BigDataUCITS ETF 1C",
          "XDBC.MI - Xtrackers Blo Comm ex-Agricul Livest Swap 1C EUR H",
          "XCHA.MI - Xtrackers CSI300 Swap UCITS ETF 1C",
          "XDAX.MI - Xtrackers DAX UCITS ETF 1C",
          "XEMN.MI - XTRACKERS EM MKT NETZERO PARIS UCITS ETF",
          "XNZE.MI - Xtrackers EMU Net Zero Pway Par Algnd UCITS ETF 1C",
          "XZHE.MI - Xtrackers ESG EUR High Yield Corp Bd UCITS 1C ETF",
          "XQUE.MI - Xtrackers ESG USD EM Bd Ql Weighted U ETF 2D EURH",
          "XQUA.MI - Xtrackers ESG USD EM Bd Quality Weighted U ETF 1D",
          "XZHY.MI - Xtrackers ESG USD High Yield Corp Bd UCITS ETF 1C",
          "XGBE.MI - Xtrackers EUR Corporate Green Bond UCITS ETF 1C",
          "XSSX.MI - Xtrackers Euro Stoxx 50 Shrt Daly Swp Ucits ETF",
          "XESC.MI - Xtrackers Euro Stoxx 50 UCITS ETF 1C",
          "XESX.MI - Xtrackers Euro Stoxx 50 UCITS ETF 1D",
          "XD3E.MI - Xtrackers Euro Stoxx Quality Dvdend UCITS ETF 1D",
          "XEPA.MI - Xtrackers Europe Net Zero Pathway Paris Aligned Ucits - 1c ETF",
          "XGEXX.MI - XTRACKERS EUROZ GOV GREEN BOND UCITS ETF",
          "XEZBX.MI - XTRACKERS EUROZ GOVER ESG TILT UCITS ETF",
          "XX25.MI - Xtrackers FTSE China 50 UCITS ETF",
          "XDER.MI - Xtrackers FTSE Develpd Europe Restate UCITS ETF 1C",
          "XMIB.MI - Xtrackers FTSE MIB UCITS ETF 1D",
          "XFVT.MI - Xtrackers FTSE Vietnam Swap UCITS ETF 1C",
          "XMOV.MI - Xtrackers Future Mobility UCITS ETF 1C",
          "RQFI.MI - Xtrackers Harvest CSI300 UCITS ETF",
          "XCTE.MI - Xtrackers Harvest MSCI China Tech 100 UCITS ETF 1C",
          "XDEP.MI - Xtrackers iBoxx EUR Corp Bond YP UCITS ETF 1D",
          "XGDU.MI - Xtrackers Ie Physical Gold ETC",
          "XGDE.MI - Xtrackers IE Physical Gold EUR Hedged Securities ETC",
          "XPPE.MI - Xtrackers IE Physical Platinum EUR Hedged Securities ETC",
          "XSLR.MI - Xtrackers Ie Physical Silver ETC",
          "XCS2.MI - Xtrackers II Australia Government Bnd UCITS ETF 1C",
          "XZEB.MI - Xtrackers II ESG Eurozone Gov. Bond UCITS 1C ETF",
          "XBAG.MI - Xtrackers II ESG Global Agg Bond UCITS ETF 1D",
          "XBAE.MI - Xtrackers II ESG Global Agg Bond UCITS ETF 5C HEUR",
          "XZWG.MI - Xtrackers II ESG Global Gov Bond UCITS ETF 1D",
          "XZEG.MI - Xtrackers II ESG Global Gov Bond UCITS ETF hEUR 4D",
          "XB4F.MI - Xtrackers II EUR Corp Bond SRI PAB UCITS ETF 1D",
          "XBLC.MI - Xtrackers II EUR Corporate Bond UCITS ETF 1C",
          "XHYG.MI - Xtrackers II EUR High Yield Corp Bond UCITS ETF 1D",
          "XHY1.MI - Xtrackers II EUR HY Corp Bond 1-3 Swp UCITS ETF 1D",
          "XEON.MI - Xtrackers II EUR Overnight Rate Swap UCITS ETF 1 C",
          "XZE5.MI - Xtrackers II EURCorpBdShortDurSRI PAB UCITS ETF 1C",
          "XEIN.MI - Xtrackers II Eurozn Infl-Linkd Bond UCITS ETF 1C",
          "X13E.MI - Xtrackers II Eurozone Gov Bond 1-3 UCITS ETF 1C",
          "X15E.MI - Xtrackers II Eurozone Gov Bond 15-30 UCITS ETF 1C",
          "X25E.MI - Xtrackers II Eurozone Gov Bond 25+ UCITS ETF 1C",
          "X35E.MI - Xtrackers II Eurozone Gov Bond 3-5 UCITS ETF 1C",
          "X57E.MI - Xtrackers II Eurozone Gov Bond 5-7 UCITS ETF 1C",
          "X710.MI - Xtrackers II Eurozone Gov Bond 7-10 UCITS ETF 1C",
          "XGLE.MI - Xtrackers II Eurozone Government Bond UCITS ETF 1C",
          "XSTR.MI - Xtrackers II GBP Overnight Rate Swap UCITS ETF 1 D",
          "XGSH.MI - Xtrackers II Glbal Governmnt Bnd UCITS ETF 1C HEUR",
          "XGVD.MI - Xtrackers II Glbal Governmnt Bnd UCITS ETF 1D HEUR",
          "XGIN.MI - Xtrackers II Glbal Infl-Lnkd Bnd UCITS ETF 1C HEUR",
          "XGII.MI - Xtrackers II Glbal Infl-Lnkd Bnd UCITS ETF 1D HEUR",
          "XG7S.MI - Xtrackers II Global Government Bond UCITS ETF 5C",
          "XGIU.MI - Xtrackers II Global InfL-Linkd Bond UCITS ETF 5C",
          "CGB.MI - Xtrackers II Harvest China Gvrnmnt Bd UCITS ETF 1D",
          "XYP1.MI - Xtrackers II iBoxx Eurzn Gv Bd YP 1-3 UCITS ETF 1C",
          "XY4P.MI - Xtrackers II iBxx Euzn Gv BY Plus UCITS ETF 1C",
          "XBOT.MI - Xtrackers II Italy Gov Bond 0-1 Swap UCITS ETF 1C",
          "XTC5.MI - Xtrackers II iTrxx Xover Shrt Daily Swap UCITS ETF",
          "XEML.MI - Xtrackers II J.P. Morgan EM Local Government Bond UCITS - 1D USD ETF",
          "XJSE.MI - Xtrackers II Japan Government Bond UCITS ETF 1C",
          "XUTE.MI - Xtrackers II US Treasuries UCITS ETF 2D HEUR",
          "XEMB.MI - Xtrackers II USD EM Bond UCITS ETF 1C EUR Hedged",
          "XUEM.MI - Xtrackers II USD Emerging Markets Bnd UCITS ETF 2D",
          "XFFE.MI - Xtrackers II USD Overnight Rate Swap UCITS ETF 1 C",
          "XIGB.MI - Xtrackers India Government Bond UCITS - 1C ETF",
          "XNJPN.MI - Xtrackers Japan Net Zero Pathway Paris Aligned Ucits - 1C ETF",
          "XLPE.MI - Xtrackers LPX Private Equity Swap UCITS ETF",
          "XAXJ.MI - Xtrackers MSCI AC Asia ex Japan ESG UCITS ETF",
          "XMAE.MI - Xtrackers MSCI AC Wld ESG Scrnd UCITS ETF 2C EURH",
          "XMAW.MI - Xtrackers MSCI AC World ESG Screened UCITS ETF 1C",
          "XMBR.MI - Xtrackers MSCI Brazil UCITS ETF 1C",
          "XCAN.MI - Xtrackers MSCI Canada ESG Screened UCITS ETF 1C",
          "XCNA.MI - Xtrackers MSCI China A ESG Scrnd Swap UCITS ETF 1C",
          "XCS6.MI - Xtrackers MSCI China UCITS ETF 1C",
          "XCS7.MI - Xtrackers MSCI China UCITS ETF 1D",
          "XMAS.MI - Xtrackers MSCI EM Asia ESG Screened UCITS ETF",
          "XDEX.MI - Xtrackers MSCI Em ESG Screened UCITS ETF",
          "XMEA.MI - Xtrackers MSCI EM Europe, Middle East & Africa ESG UCITS ETF",
          "XZEME.MI - Xtrackers MSCI Emerging Markets ESG UCITS ETF 1C",
          "XMEM.MI - Xtrackers MSCI Emerging Markets Swap UCITS ETF 1C",
          "XMME.MI - Xtrackers MSCI Emerging Markets UCITS ETF 1C",
          "XMVE.MI - Xtrackers MSCI EMU ESG Screened UCITS ETF 1D",
          "XZEZ.MI - Xtrackers MSCI EMU ESG UCITS ETF 1C",
          "XD5E.MI - Xtrackers MSCI EMU UCITS ETF 1D",
          "XEUM.MI - Xtrackers MSCI Europe ESG Screened UCITS ETF 1C",
          "XZEU.MI - Xtrackers MSCI Europe ESG UCITS ETF 1C",
          "XXSC.MI - Xtrackers MSCI Europe Small Cap UCITS ETF 1C",
          "XMEU.MI - Xtrackers MSCI Europe UCITS ETF 1C",
          "XFNT.MI - Xtrackers Msci Fintech Innovation Ucits 1C ETF",
          "XGEN.MI - Xtrackers Msci Genomic Healthcare Innovation Ucits 1C ETF",
          "XG12.MI - Xtrackers MSCI GL SDG 12 Circular Eco UCITS ETF 1C",
          "XDG3.MI - Xtrackers MSCI Gl SDG 3 Good Health UCITS ETF 1C",
          "XDG6.MI - Xtrackers MSCI Gl SDG 6 Cln Water & Snttn UETF 1C",
          "XDG7.MI - Xtrackers MSCI Gl SDG 7 Affrd & Clean Engy UETF 1C",
          "SDG9.MI - Xtrackers MSCI Gl SDG 9 Ind Innvtn & Infra UETF 1C ETF",
          "XG11.MI - Xtrackers MSCI Global SDG 11 Sstnbl Cities UETF 1C",
          "XDGI.MI - Xtrackers MSCI Global SDGs UCITS ETF 1C",
          "XMIN.MI - Xtrackers MSCI Indonesia Swap UCITS ETF 1C",
          "XNNV.MI - Xtrackers Msci Innovation Ucits 1C ETF",
          "XDNY.MI - Xtrackers MSCI Japan ESG Screened UCITS ETF 1D",
          "XZMJ.MI - Xtrackers MSCI Japan ESG UCITS ETF 1C",
          "XMJP.MI - Xtrackers MSCI Japan UCITS ETF 1C",
          "XMK9.MI - Xtrackers MSCI Japan UCITS ETF 4C HEUR",
          "XDNE.MI - Xtrackers MSCI Jpn ESG Screened UCITS ETF 3C EURH",
          "XMKO.MI - Xtrackers MSCI Korea UCITS ETF 1C",
          "XMEX.MI - Xtrackers MSCI Mexico UCITS ETF 1C",
          "XNGI.MI - Xtrackers Msci Next Generation Internet Innovation Ucits 1C ETF",
          "XPXJ.MI - Xtrackers MSCI Pacific exJpn ESG Scrnd UCITSETF 1C",
          "XRSM.MI - Xtrackers MSCI USA ESG Screened UCITS ETF 1C",
          "XRME.MI - Xtrackers MSCI USA ESG Screened UCITS ETF 2C HEUR ETF",
          "XZMU.MI - Xtrackers MSCI USA ESG UCITS ETF 1C",
          "XZME.MI - Xtrackers MSCI USA ESG UCITS ETF 2C EUR Hgd",
          "XUTCI.MI - Xtrackers MSCI USA Information Tech UCITS ETF 1D",
          "XMUS.MI - Xtrackers MSCI USA Swap UCITS ETF 1C",
          "XD9U.MI - Xtrackers MSCI USA UCITS ETF 1C",
          "XD9EU.MI - Xtrackers MSCI USA UCITS ETF 2C EUR hedged",
          "XWTS.MI - Xtrackers MSCI Wld Communic Services UCITS ETF 1C",
          "XDEB.MI - Xtrackers MSCI Wld Minimum Volatility UCITS ETF 1C",
          "XDWS.MI - Xtrackers MSCI World Consumer Staples UCITS ETF 1C",
          "XDW0.MI - Xtrackers MSCI World Energy UCITS ETF 1C",
          "XDWY.MI - Xtrackers MSCI World ESG Screened UCITS ETF 1D",
          "XZW0.MI - Xtrackers MSCI World ESG UCITS ETF 1C",
          "XZWEM.MI - Xtrackers MSCI World ESG UCITS ETF 2C EUR Hdg",
          "XDWF.MI - Xtrackers MSCI World Financials UCITS ETF 1C",
          "XDWH.MI - Xtrackers MSCI World Health Care UCITS ETF 1C",
          "XDWI.MI - Xtrackers MSCI World Industrials UCITS ETF 1C",
          "XDWT.MI - Xtrackers MSCI World Information Tech UCITS ETF 1C",
          "XDWM.MI - Xtrackers MSCI World Materials UCITS ETF 1C",
          "XDEM.MI - Xtrackers MSCI World Momentum UCITS ETF 1C",
          "XDEQ.MI - Xtrackers MSCI World Quality UCITS ETF 1C",
          "XMWO.MI - Xtrackers MSCI World Swap UCITS ETF 1C",
          "XWEH.MI - Xtrackers MSCI World Swap UCITS ETF 4C HEUR",
          "XDWD.MI - Xtrackers MSCI World UCITS ETF 1C",
          "XDWU.MI - Xtrackers MSCI World Utilities UCITS ETF 1C",
          "XDEV.MI - Xtrackers MSCI World Value UCITS ETF 1C",
          "XDWC.MI - Xtrackers MSCI Wrd Cons Discretionary UCITS ETF 1C",
          "XNAS.MI - Xtrackers NASDAQ 100 UCITS ETF 1C",
          "XNIF.MI - Xtrackers Nifty 50 Swap UCITS ETF 1C",
          "XDJP.MI - Xtrackers Nikkei 225 1D JPY UCITS ETF",
          "XAD5.MI - Xtrackers Physical Gold (EUR) ETC",
          "XAD1.MI - Xtrackers Physical Gold Euro Hedged ETC",
          "XAD3.MI - Xtrackers Physical Platinum Euro Hedged ETC",
          "XAD6.MI - Xtrackers Physical Silver (EUR) ETC",
          "XAD2.MI - Xtrackers Physical Silver Euro Hedged ETC",
          "XS7W.MI - Xtrackers Portfolio Income UCITS ETF 1D",
          "XQUI.MI - Xtrackers Portfolio UCITS ETF 1C",
          "XRS2.MI - Xtrackers Russell 2000 UCITS ETF 1C",
          "XT21.MI - Xtrackers S&P 500 2x Inverse Dly Swap UCITS ETF 1C",
          "XS2L.MI - Xtrackers S&P 500 2x Lev Daily Swap UCITS ETF 1C",
          "XEWE.MI - Xtrackers S&P 500 Eql Wght ESG U 2C HEUR ETF",
          "XDEW.MI - Xtrackers S&P 500 Equal Weight UCITS ETF 1C",
          "XDEE.MI - Xtrackers S&P 500 Equal Weight UCITS ETF 2C HEUR",
          "XZSP.MI - XTRACKERS S&P 500 ESG UCITS ETF",
          "XSPS.MI - Xtrackers S&P 500 Inverse Daily Swap Ucits Etf 1C ETF",
          "XSPX.MI - Xtrackers S&P 500 Swap UCITS ETF 1C",
          "XSXD.MI - Xtrackers S&P 500 Swap UCITS ETF 1D",
          "XS5E.MI - Xtrackers S&P 500 Swap UCITS ETF 5C hEUR",
          "XDPE.MI - Xtrackers S&P 500 UCITS ETF 1C EUR Hgd",
          "XDPU.MI - Xtrackers S&P 500 UCITS ETF 4C",
          "XAUS.MI - Xtrackers S&P ASX 200 UCITS ETF 1D",
          "XSGI.MI - Xtrackers S&P Glbal Infrastructre Swp UCITS ETF 1C",
          "XSFR.MI - Xtrackers S&P Select Frontier Swap UCITS ETF 1C",
          "XZEW.MI - XTRACKERS S&P500 EQ WEIGHT ESG UCITS ETF",
          "XSDX.MI - Xtrackers Shortdax Daily Swap Ucits ETF",
          "XSX6.MI - Xtrackers Stoxx Europe 600 UCITS ETF 1C",
          "XGSD.MI - Xtrackers Stoxx Global Sel Div 100 Swap UCITS ETF",
          "XSMI.MI - Xtrackers Switzerland UCITS ETF 1D",
          "XTIPX.MI - XTRACKERS TIPS US INFLATI LINK UCITS ETF",
          "XT01U.MI - Xtrackers US Treasuries Ultrashort Bd UCITS ETF1C",
          "XNUS.MI - Xtrackers USA Net Zero Pathway Paris Aligned Ucits - 1c ETF",
          "XYLD.MI - Xtrackers USD Corporate Bond Short Duration SRI PAB UCITS ETF",
          "XZBUC.MI - Xtrackers USD Corporate Bond SRI PAB UCITS ETF",
          "XDGU.MI - Xtrackers USD Corporate Bond UCITS ETF 1D",
          "XDGE.MI - Xtrackers USD Corporate Bond UCITS ETF 2D EUR Hgd",
          "XGBU.MI - Xtrackers USD Corporate Green Bond UCITS ETF 2C",
          "XUHY.MI - Xtrackers USD High Yld Corporate Bond UCITS ETF 1D",
          "XNZW.MI - Xtrackers Wld Net Zero Pway Par Algnd UCITS ETF 1C"
         ],
         "legendgroup": "",
         "marker": {
          "color": "#636efa",
          "symbol": "circle"
         },
         "mode": "markers",
         "name": "",
         "showlegend": false,
         "type": "scattergl",
         "x": [
          "2020-08-07",
          "2022-10-10",
          "2022-10-10",
          "2019-04-15",
          "2006-06-01",
          "2018-02-14",
          "2021-05-19",
          "2010-09-10",
          "2010-05-05",
          "2010-10-12",
          "2010-03-09",
          "2010-05-10",
          "2023-07-10",
          "2010-04-26",
          "2023-07-10",
          "2012-01-30",
          "2010-04-22",
          "2010-03-09",
          "2010-03-09",
          "2010-10-20",
          "2010-09-22",
          "2010-09-30",
          "2010-09-22",
          "2017-04-06",
          "2009-06-15",
          "2021-06-23",
          "2010-09-16",
          "2013-11-29",
          "2015-06-22",
          "2018-02-14",
          "2015-02-24",
          "2010-03-08",
          "2018-01-31",
          "2023-03-06",
          "2022-07-14",
          "2018-01-31",
          "2017-04-06",
          "2011-03-24",
          "2011-03-23",
          "2014-10-03",
          "2010-09-10",
          "2018-02-14",
          "2017-05-16",
          "2021-06-16",
          "2017-04-06",
          "2019-12-12",
          "2010-04-26",
          "2017-04-18",
          "2021-06-09",
          "2017-04-06",
          "2017-04-24",
          "2017-04-06",
          "2021-06-24",
          "2020-11-10",
          "2019-04-10",
          "2018-02-15",
          "2021-05-13",
          "2010-03-09",
          "2019-01-11",
          "2020-12-16",
          "2017-04-12",
          "2018-02-14",
          "2019-01-14",
          "2020-06-25",
          "2021-02-23",
          "2018-11-29",
          "2017-04-11",
          "2018-08-23",
          "2017-04-07",
          "2018-01-31",
          "2013-03-21",
          "2023-07-10",
          "2023-07-10",
          "2016-12-14",
          "2010-03-09",
          "2020-05-04",
          "2011-07-21",
          "2011-08-03",
          "2021-05-13",
          "2023-04-03",
          "2023-04-03",
          "2011-03-24",
          "2021-05-11",
          null,
          "2023-07-10",
          "2016-09-08",
          "2017-03-17",
          "2010-03-09",
          "2018-04-10",
          "2011-03-22",
          "2018-11-21",
          "2008-04-03",
          null,
          "2010-03-09",
          "2016-11-25",
          "2018-02-16",
          "2021-05-13",
          "2010-09-10",
          "2010-09-08",
          "2013-05-10",
          "2023-03-17",
          "2021-06-21",
          "2019-03-20",
          "2019-03-28",
          "2019-03-21",
          "2019-03-22",
          "2019-03-21",
          "2019-03-20",
          "2019-03-22",
          "2019-10-11",
          "2019-03-25",
          "2019-03-25",
          "2014-05-20",
          "2018-01-31",
          "2017-05-05",
          "2021-05-25",
          "2012-05-28",
          "2010-09-08",
          "2010-10-07",
          "2010-09-28",
          "2010-10-01",
          "2010-10-08",
          "2010-10-04",
          "2010-10-04",
          "2010-09-29",
          "2018-01-31",
          "2019-11-29",
          "2019-11-29",
          "2007-01-05",
          "2016-09-19",
          "2017-04-18",
          "2011-01-17",
          "2016-09-16",
          "2011-01-13",
          "2011-01-17",
          "2016-06-07",
          "2015-09-09",
          "2011-01-27",
          "2018-02-14",
          "2021-07-21",
          "2023-02-09",
          "2023-02-21",
          "2023-06-08",
          "2023-02-09",
          "2023-09-06",
          "2023-02-22",
          "2019-05-20",
          "2020-01-06",
          "2020-01-06",
          "2019-04-03",
          "2021-09-07",
          "2017-09-07",
          "2017-10-20",
          "2017-07-04",
          "2017-06-28",
          "2017-07-07",
          "2023-07-28",
          "2019-04-01",
          "2019-04-01",
          "2021-04-09",
          "2021-04-12",
          "2023-05-03",
          "2023-05-02",
          "2019-06-27",
          "2017-06-27",
          "2020-11-10",
          "2022-07-28",
          "2022-06-21",
          "2019-12-30",
          "2022-10-27",
          "2017-06-29",
          "2021-04-13",
          "2023-03-28",
          "2023-03-20",
          "2019-07-02",
          "2021-05-20",
          "2019-04-05",
          "2022-06-30",
          "2021-09-08",
          "2017-12-28",
          "2017-07-11",
          "2017-06-22",
          "2020-05-19",
          "2017-06-23",
          "2019-04-24",
          "2017-06-30",
          "2019-07-30",
          "2017-07-07",
          "2017-10-18",
          "2018-05-11",
          "2020-02-11",
          "2022-09-09",
          "2020-01-02",
          "2022-06-28",
          "2021-09-07",
          "2020-01-31",
          "2015-07-16",
          "2015-07-21",
          "2015-07-16",
          "2020-07-01",
          "2020-03-16",
          "2020-03-17",
          "2020-06-29",
          "2022-03-02",
          "2020-07-31",
          "2020-03-17",
          "2020-03-20",
          "2020-10-21",
          "2022-04-28",
          "2018-10-09",
          "2022-04-08",
          "2021-12-06",
          "2015-11-02",
          "2015-11-02",
          "2015-11-02",
          "2011-02-14",
          "2011-02-14",
          "2011-02-14",
          "2011-02-11",
          "2011-02-11",
          "2011-03-01",
          "2011-02-11",
          "2011-02-11",
          "2014-10-03",
          "2014-09-25",
          "2015-02-18",
          "2014-09-30",
          "2012-09-26",
          "2012-09-10",
          "2012-09-05",
          "2012-07-25",
          "2012-08-16",
          "2012-09-10",
          "2012-08-10",
          "2012-07-11",
          "2012-08-10",
          "2012-09-05",
          "2013-05-20",
          "2012-09-05",
          "2012-11-23",
          "2012-07-18",
          "2012-08-09",
          "2012-10-04",
          "2013-08-23",
          "2014-01-22",
          "2014-03-21",
          "2014-03-31",
          "2014-03-31",
          "2014-04-02",
          "2014-01-20",
          "2014-02-11",
          "2014-01-16",
          "2014-01-16",
          "2014-04-29",
          "2014-02-10",
          "2014-03-27",
          "2014-03-20",
          "2014-01-16",
          "2022-11-02",
          "2022-12-08",
          "2022-09-28",
          "2023-01-06",
          "2021-10-11",
          "2021-11-12",
          "2021-10-04",
          "2021-11-22",
          "2023-04-06",
          "2023-09-04",
          "2021-10-05",
          "2021-10-04",
          "2022-09-21",
          "2023-01-30",
          "2023-03-20",
          "2023-01-30",
          "2021-10-07",
          "2021-10-18",
          "2021-10-04",
          "2021-10-06",
          "2021-10-04",
          "2021-10-04",
          "2021-11-19",
          "2021-10-04",
          "2021-10-11",
          "2021-10-07",
          "2021-10-04",
          "2022-10-10",
          "2022-10-10",
          "2022-10-10",
          "2022-10-10",
          "2022-10-10",
          "2022-10-10",
          "2022-10-10",
          "2022-10-10",
          "2022-10-10",
          "2020-03-10",
          "2021-03-02",
          "2018-10-02",
          "2018-05-15",
          "2021-03-01",
          "2021-06-25",
          "2022-05-02",
          "2020-06-08",
          "2020-06-08",
          "2017-05-17",
          null,
          "2018-10-02",
          "2022-06-30",
          "2018-01-31",
          "2019-05-02",
          "2018-10-10",
          "2023-05-05",
          "2018-09-14",
          "2019-06-17",
          "2019-06-11",
          "2019-07-02",
          "2019-06-11",
          "2022-03-24",
          "2023-08-01",
          "2023-07-20",
          "2018-02-01",
          "2022-09-13",
          "2022-07-08",
          "2023-05-11",
          "2020-08-03",
          "2020-07-31",
          "2018-02-01",
          "2018-02-01",
          "2018-02-08",
          "2018-09-17",
          "2023-07-14",
          "2022-03-01",
          "2021-11-19",
          "2022-02-23",
          "2022-06-29",
          "2022-04-12",
          "2022-04-13",
          "2022-04-13",
          "2022-02-25",
          "2021-11-19",
          "2021-11-19",
          "2022-02-24",
          "2021-11-19",
          "2022-02-18",
          "2022-09-12",
          "2021-11-19",
          "2021-11-19",
          "2021-11-18",
          "2022-03-01",
          "2021-11-19",
          "2022-02-17",
          "2022-11-25",
          "2021-12-10",
          "2021-11-19",
          "2023-07-21",
          "2023-04-17",
          "2023-03-20",
          "2022-05-25",
          "2022-03-02",
          "2022-02-18",
          "2021-08-09",
          "2022-05-26",
          "2021-11-18",
          "2021-08-09",
          "2022-02-17",
          "2007-04-20",
          "2019-11-20",
          "2019-11-20",
          "2019-11-21",
          "2021-11-29",
          "2022-02-07",
          "2022-01-28",
          "2022-03-11",
          "2022-03-01",
          "2022-02-09",
          "2021-11-22",
          "2022-01-14",
          "2022-01-21",
          "2022-01-14",
          "2022-03-09",
          "2022-02-08",
          "2022-02-28",
          "2021-11-29",
          "2022-02-03",
          "2021-11-11",
          "2021-11-12",
          "2022-02-08",
          "2023-10-03",
          "2022-02-07",
          "2021-12-08",
          "2021-11-24",
          "2021-12-13",
          "2021-12-06",
          "2021-12-06",
          "2021-12-13",
          "2022-01-31",
          "2022-04-21",
          "2022-01-21",
          "2021-12-03",
          "2021-12-10",
          "2022-02-28",
          "2022-02-24",
          "2022-01-25",
          "2022-01-19",
          "2022-01-24",
          "2022-03-07",
          "2022-02-21",
          "2022-01-10",
          "2021-12-15",
          "2022-01-25",
          "2021-11-24",
          "2022-02-17",
          "2023-06-14",
          "2022-06-15",
          "2021-12-07",
          "2021-12-06",
          "2021-12-09",
          "2021-12-09",
          "2021-12-14",
          "2021-12-06",
          "2022-01-21",
          "2022-08-10",
          "2022-06-14",
          "2021-12-01",
          "2021-12-06",
          "2022-03-15",
          "2021-12-01",
          "2023-06-20",
          "2023-06-29",
          "2021-11-30",
          "2021-11-24",
          "2021-12-13",
          "2022-05-23",
          "2021-07-23",
          "2018-10-12",
          "2019-04-18",
          "2018-10-12",
          "2020-10-12",
          "2022-01-25",
          "2020-08-03",
          "2020-11-03",
          "2017-06-15",
          "2022-07-21",
          "2020-07-08",
          "2019-01-18",
          "2023-09-06",
          "2023-08-14",
          "2021-01-08",
          "2020-07-07",
          "2022-05-12",
          "2019-01-31",
          "2019-01-21",
          "2022-07-29",
          "2019-02-05",
          "2022-08-24",
          "2022-05-12",
          "2022-12-09",
          "2017-06-15",
          "2022-07-21",
          "2021-08-18",
          "2019-04-26",
          "2022-11-24",
          "2019-01-23",
          "2022-01-05",
          "2017-07-07",
          "2019-02-28",
          "2019-06-07",
          "2019-05-15",
          "2021-09-03",
          "2021-08-26",
          "2022-12-15",
          "2017-06-15",
          "2022-07-22",
          "2022-12-13",
          "2022-02-04",
          "2017-07-18",
          "2022-07-21",
          "2020-07-06",
          "2022-09-08",
          null,
          "2020-12-14",
          "2018-05-22",
          "2018-08-22",
          "2018-05-11",
          "2019-01-23",
          "2019-09-20",
          "2018-07-19",
          "2018-09-28",
          "2018-07-19",
          "2023-09-08",
          "2018-08-29",
          "2017-05-02",
          "2014-10-23",
          "2018-11-16",
          "2014-10-16",
          "2018-01-09",
          "2014-10-02",
          "2019-10-29",
          "2003-06-26",
          "2018-09-18",
          "2022-07-13",
          "2022-08-04",
          "2022-07-28",
          "2022-09-13",
          null,
          "2018-01-12",
          "2008-10-10",
          "2020-11-25",
          "2020-10-27",
          "2020-04-08",
          "2019-09-11",
          "2019-09-25",
          "2019-09-17",
          "2019-09-02",
          "2014-09-05",
          "2017-11-29",
          "2016-02-02",
          "2014-09-08",
          "2023-06-29",
          "2023-07-03",
          "2016-06-15",
          "2014-09-10",
          "2008-01-23",
          "2007-11-26",
          "2007-11-26",
          "2023-07-05",
          "2014-11-24",
          "2021-04-07",
          "2023-02-08",
          "2014-09-25",
          "2022-09-20",
          "2014-10-17",
          "2016-10-11",
          "2014-10-14",
          "2014-09-11",
          "2014-09-12",
          "2021-04-07",
          "2021-07-05",
          "2022-06-29",
          "2014-10-07",
          "2019-01-29",
          "2022-01-04",
          "2019-08-01",
          "2014-10-23",
          "2022-01-04",
          "2015-03-12",
          "2022-01-04",
          "2019-10-08",
          "2019-07-25",
          "2020-02-19",
          "2021-12-17",
          "2019-06-20",
          "2014-12-04",
          "2021-10-28",
          "2018-09-19",
          "2021-04-07",
          "2020-07-15",
          "2014-11-28",
          "2017-10-26",
          "2018-05-03",
          "2020-02-07",
          "2020-02-05",
          "2022-07-21",
          "2022-07-22",
          "2022-09-13",
          "2019-02-04",
          "2014-09-16",
          "2021-04-28",
          "2020-05-21",
          "2022-04-14",
          "2015-05-21",
          "2022-10-10",
          "2017-06-13",
          "2014-09-29",
          "2017-12-01",
          "2018-09-20",
          "2022-05-27",
          "2022-06-17",
          "2023-06-05",
          "2023-06-05",
          "2023-06-26",
          "2023-05-09",
          "2021-08-06",
          "2014-09-10",
          "2014-10-30",
          "2014-09-15",
          "2016-09-13",
          "2021-01-12",
          "2021-04-07",
          "2019-01-16",
          "2019-01-31",
          "2019-01-30",
          "2019-04-08",
          "2020-02-17",
          "2022-12-02",
          "2022-10-21",
          "2019-01-23",
          "2021-09-08",
          "2018-01-09",
          "2014-10-16",
          "2018-11-13",
          "2022-09-20",
          "2023-03-01",
          "2023-03-01",
          "2021-06-08",
          "2020-06-30",
          "2006-03-08",
          "2017-10-19",
          "2017-10-19",
          "2021-06-03",
          "2013-05-20",
          "2014-01-09",
          "2007-03-22",
          "2022-03-08",
          "2006-09-25",
          "2007-03-21",
          "2009-10-20",
          "2009-11-09",
          "2021-02-26",
          "2009-09-30",
          "2023-08-01",
          "2019-06-11",
          "2010-01-19",
          "2015-08-05",
          "2023-08-01",
          "2019-06-13",
          "2013-05-21",
          "2004-04-08",
          "2009-03-10",
          "2009-09-30",
          "2010-01-19",
          "2006-09-27",
          "2007-03-21",
          "2010-01-20",
          "2007-03-21",
          "2021-06-01",
          "2021-06-01",
          "2010-12-16",
          "2021-06-03",
          "2006-03-08",
          "2023-05-29",
          "2014-01-09",
          "2016-11-03",
          "2022-05-24",
          "2006-09-25",
          "2007-03-20",
          "2016-11-03",
          "2007-11-30",
          "2022-11-01",
          "2020-06-23",
          "2005-02-24",
          "2009-09-29",
          "2010-02-02",
          "2008-02-26",
          "2010-03-10",
          "2002-09-30",
          "2006-03-08",
          "2019-06-12",
          "2014-07-24",
          "2010-03-11",
          "2017-05-02",
          "2010-01-21",
          "2008-04-03",
          "2010-01-21",
          "2010-03-11",
          "2010-02-01",
          "2010-05-27",
          "2003-02-28",
          "2007-03-20",
          "2019-06-12",
          "2016-11-03",
          "2009-05-18",
          "2008-02-29",
          "2007-03-20",
          "2009-05-27",
          "2015-02-17",
          "2015-02-18",
          "2016-06-10",
          "2015-02-17",
          "2015-02-16",
          "2016-05-10",
          "2015-02-17",
          "2015-02-17",
          "2016-04-21",
          "2015-02-19",
          "2015-02-20",
          "2015-02-20",
          "2015-02-17",
          "2019-06-12",
          "2006-03-08",
          "2009-11-06",
          "2009-10-20",
          "2005-02-24",
          "2005-02-24",
          "2008-02-29",
          "2006-03-08",
          "2016-11-03",
          "2017-09-04",
          "2010-03-11",
          "2008-03-18",
          "2023-03-31",
          "2008-03-18",
          "2013-05-20",
          "2015-08-05",
          "2007-03-20",
          "2007-12-05",
          "2007-03-21",
          "2016-11-03",
          "2023-09-15",
          "2023-09-15",
          "2023-08-11",
          "2023-08-14",
          "2023-05-29",
          "2012-09-03",
          "2015-08-05",
          "2013-05-20",
          "2010-11-09",
          "2011-10-17",
          "2021-06-03",
          "2016-01-08",
          "2023-01-18",
          "2006-03-08",
          "2014-04-29",
          "2006-03-08",
          "2010-03-11",
          "2022-03-08",
          "2010-09-15",
          "2022-05-06",
          "2008-03-18",
          "2019-06-11",
          "2010-01-21",
          "2006-03-08",
          "2022-05-06",
          "2014-07-25",
          "2022-05-06",
          "2006-09-26",
          "2019-06-11",
          "2021-12-13",
          "2022-05-06",
          "2011-04-04",
          "2014-07-24",
          "2019-06-14",
          "2010-03-11",
          "2005-02-24",
          "2010-09-17",
          "2006-03-08",
          "2010-09-15",
          "2006-09-26",
          "2010-01-29",
          "2015-07-08",
          "2006-03-08",
          "2007-03-20",
          "2010-07-09",
          "2021-12-17",
          "2022-03-02",
          "2009-10-20",
          "2021-06-11",
          "2019-06-11",
          "2010-03-17",
          "2023-04-06",
          "2023-04-04",
          "2023-03-30",
          "2023-03-30",
          "2022-05-05",
          "2020-06-24",
          "2011-04-05",
          "2023-08-14",
          "2019-06-18",
          "2006-03-08",
          "2010-03-15",
          "2010-03-24",
          "2008-02-26",
          "2011-04-05",
          "2020-06-22",
          "2002-09-30",
          "2008-02-26",
          "2008-02-29",
          "2006-03-08",
          "2007-11-30",
          "2007-03-20",
          "2009-10-19",
          "2023-08-01",
          "2014-01-09",
          "2015-02-16",
          "2015-02-18",
          "2023-09-14",
          "2023-09-14",
          "2019-03-21",
          "2023-09-22",
          "2022-02-24",
          "2022-03-29",
          "2022-07-07",
          "2018-02-22",
          "2019-06-11",
          "2019-04-11",
          "2022-09-01",
          "2019-07-18",
          "2018-06-12",
          "2023-01-26",
          "2022-02-21",
          "2020-11-12",
          "2022-02-24",
          "2022-07-04",
          "2018-12-20",
          "2018-12-20",
          "2018-06-13",
          "2018-10-24",
          "2022-05-06",
          "2018-12-27",
          "2022-06-06",
          "2020-02-12",
          "2018-10-18",
          "2022-01-04",
          "2023-09-13",
          "2019-07-17",
          "2023-10-09",
          "2023-08-04",
          "2023-07-12",
          "2022-07-14",
          "2022-05-25",
          "2022-03-09",
          "2023-09-05",
          "2018-10-22",
          "2023-08-21",
          "2022-05-24",
          "2021-11-23",
          "2018-12-14",
          "2018-10-25",
          "2020-01-06",
          "2018-02-22",
          "2019-05-28",
          "2018-02-22",
          "2021-01-08",
          "2022-08-12",
          "2021-07-21",
          "2022-11-02",
          "2022-10-31",
          "2022-12-01",
          "2019-09-11",
          "2019-02-27",
          "2018-02-23",
          "2020-12-10",
          "2020-11-12",
          "2019-09-12",
          "2015-11-17",
          "2010-02-11",
          "2010-02-01",
          "2021-05-27",
          "2014-07-02",
          "2018-02-26",
          "2022-09-14",
          "2022-06-03",
          "2020-12-10",
          "2021-01-21",
          "2021-01-21",
          "2019-11-28",
          "2019-03-15",
          "2023-09-28",
          "2019-01-18",
          "2022-09-08",
          "2009-01-29",
          "2019-09-11",
          "2021-02-10",
          "2023-10-02",
          "2021-10-28",
          "2019-02-12",
          "2013-01-17",
          "2022-09-07",
          "2021-09-23",
          "2022-09-09",
          "2018-02-23",
          "2021-07-19",
          "2021-07-19",
          "2014-12-10",
          "2009-01-29",
          null,
          "2019-01-23",
          "2020-02-11",
          "2022-03-28",
          "2022-05-04",
          "2022-02-22",
          "2022-03-01",
          "2022-02-21",
          "2022-02-18",
          "2022-02-21",
          "2022-02-28",
          "2022-02-21",
          "2022-02-21",
          "2022-02-18",
          "2022-02-22",
          "2022-02-21",
          "2022-02-17",
          "2022-02-18",
          "2023-08-11",
          "2022-02-25",
          "2022-02-18",
          "2023-09-27",
          "2020-11-02",
          null,
          "2014-10-17",
          "2010-09-07",
          "2017-07-19",
          "2011-06-16",
          "2010-07-02",
          "2005-09-09",
          "2019-07-11",
          "2021-04-27",
          "2020-06-29",
          "2021-06-15",
          "2008-10-14",
          "2018-04-03",
          "2015-11-20",
          null,
          "2018-04-09",
          "2017-02-02",
          "2020-07-10",
          "2021-09-16",
          "2007-07-25",
          "2010-07-05",
          "2006-11-16",
          "2003-10-22",
          "2002-11-22",
          "2010-02-03",
          "2021-07-22",
          "2011-02-01",
          "2016-07-11",
          "2021-07-27",
          "2015-10-15",
          "2021-07-27",
          "2017-02-09",
          "2016-12-08",
          "2017-09-12",
          null,
          "2004-04-27",
          "2020-03-03",
          "2004-07-07",
          "2006-02-09",
          "2016-07-22",
          "2004-07-07",
          "2016-07-22",
          "2016-07-22",
          "2021-07-22",
          "2007-10-18",
          "2002-09-30",
          "2012-11-27",
          "2009-02-04",
          "2007-09-28",
          "2014-09-04",
          "2017-09-08",
          "2017-09-08",
          "2012-03-07",
          "2012-03-08",
          "2016-07-22",
          "2015-07-03",
          "2008-05-09",
          "2010-03-08",
          "2017-05-24",
          "2014-05-15",
          "2021-06-01",
          "2003-11-14",
          "2008-02-11",
          "2008-02-11",
          "2008-02-11",
          "2022-05-31",
          "2020-03-03",
          "2020-04-14",
          "2019-07-03",
          "2020-11-20",
          "2011-02-02",
          "2017-02-13",
          "2018-12-18",
          "2006-04-06",
          "2013-06-28",
          "2008-11-06",
          "2006-09-07",
          "2012-01-16",
          "2007-04-13",
          "2016-01-27",
          "2006-12-14",
          "2005-11-25",
          "2019-10-28",
          "2020-05-04",
          "2005-11-25",
          "2018-04-18",
          "2019-09-19",
          "2007-10-08",
          "2015-11-19",
          "2017-09-08",
          "2017-09-08",
          "2017-09-11",
          "2020-11-12",
          "2006-04-21",
          "2019-03-28",
          "2021-06-15",
          "2020-05-06",
          "2007-04-13",
          "2007-01-24",
          "2012-01-24",
          "2006-12-14",
          "2020-04-30",
          "2021-05-27",
          "2008-01-14",
          "2020-05-04",
          "2006-11-20",
          "2006-09-14",
          "2020-11-13",
          "2018-09-17",
          "2021-05-27",
          "2008-01-14",
          "2020-10-01",
          "2021-06-08",
          "2010-10-01",
          "2020-11-10",
          "2018-09-17",
          "2010-09-24",
          "2021-07-07",
          "2006-09-07",
          "2020-01-16",
          "2021-01-19",
          "2002-11-22",
          "2021-02-18",
          "2020-11-02",
          "2020-11-02",
          "2020-11-02",
          "2016-02-26",
          "2016-01-27",
          "2020-12-01",
          "2013-10-31",
          "2010-05-31",
          "2013-02-06",
          "2015-06-15",
          "2016-02-08",
          "2006-11-22",
          "2006-11-22",
          "2006-11-22",
          "2006-11-22",
          "2006-11-22",
          "2006-11-22",
          "2006-11-22",
          "2006-11-22",
          "2006-11-22",
          "2006-11-22",
          "2006-11-22",
          "2006-11-22",
          "2006-11-22",
          "2006-11-22",
          "2006-11-22",
          "2006-11-22",
          "2006-11-22",
          "2007-02-02",
          "2010-10-04",
          "2019-09-17",
          "2021-08-25",
          "2017-05-15",
          "2017-02-01",
          "2022-02-07",
          "2022-06-08",
          "2022-12-08",
          "2019-02-12",
          "2023-08-21",
          "2011-07-06",
          "2020-10-22",
          "2021-08-30",
          "2015-09-09",
          "2015-02-27",
          "2011-10-10",
          "2019-06-18",
          "2020-04-28",
          "2023-02-01",
          "2016-10-06",
          "2016-09-26",
          "2014-09-05",
          "2017-11-20",
          "2014-11-27",
          "2016-09-26",
          "2014-09-10",
          "2015-04-17",
          "2021-06-21",
          "2020-02-25",
          "2021-12-02",
          "2020-09-03",
          "2022-04-27",
          "2021-08-05",
          "2022-04-27",
          "2020-09-03",
          "2020-10-12",
          "2022-10-05",
          "2022-03-18",
          "2022-12-02",
          "2023-01-17",
          "2022-03-10",
          "2022-04-04",
          "2022-04-26",
          "2022-11-23",
          "2022-05-02",
          "2022-03-15",
          "2022-04-08",
          "2022-06-08",
          "2022-10-25",
          "2022-04-01",
          "2022-03-21",
          "2022-10-27",
          "2022-10-06",
          "2022-11-01",
          "2022-03-23",
          "2022-03-25",
          "2022-07-20",
          "2022-12-29",
          "2022-08-05",
          "2022-03-08",
          "2014-10-24",
          "2014-10-20",
          "2014-10-27",
          "2014-10-27",
          "2014-10-20",
          "2014-10-20",
          "2014-10-20",
          "2014-11-05",
          "2022-11-22",
          null,
          "2023-03-16",
          "2022-10-07",
          "2022-02-16",
          "2022-12-20",
          "2022-04-11",
          "2022-03-30",
          "2022-06-14",
          "2022-10-06",
          "2022-09-30",
          "2022-10-13",
          "2022-04-07",
          "2022-03-16",
          "2022-10-13",
          "2022-10-04",
          "2022-10-05",
          "2022-10-03",
          "2022-03-21",
          "2017-05-25",
          null,
          "2021-06-21",
          "2022-06-07",
          "2022-07-28",
          "2014-01-27",
          "2014-01-27",
          "2017-02-17",
          "2017-01-26",
          "2017-01-24",
          "2017-01-24",
          "2012-05-21",
          "2016-09-06",
          "2017-05-29",
          "2017-04-07",
          "2017-04-07",
          "2021-11-15",
          "2019-11-26",
          "2022-05-12",
          "2012-04-12",
          "2022-05-12",
          "2012-04-19",
          "2021-03-30",
          "2012-05-22",
          "2012-04-12",
          "2018-02-20",
          "2018-02-20",
          null,
          "2014-01-31",
          "2023-03-28",
          "2021-06-16",
          "2022-04-05",
          "2016-03-01",
          "2016-03-04",
          "2013-05-03",
          "2014-12-10",
          "2019-06-20",
          "2016-02-29",
          "2022-05-17",
          "2022-06-17",
          "2012-04-12",
          "2019-01-30",
          "2019-10-02",
          "2012-04-17",
          "2022-08-19",
          "2012-04-26",
          "2013-05-06",
          "2022-06-17",
          null,
          "2015-01-08",
          "2014-12-19",
          "2014-12-22",
          "2014-12-12",
          "2014-12-11",
          "2014-12-10",
          "2014-12-16",
          "2015-01-23",
          "2014-12-16",
          "2015-01-05",
          "2014-12-15",
          "2014-12-23",
          "2016-02-29",
          "2022-04-07",
          "2022-05-09",
          "2019-02-25",
          "2019-02-19",
          "2019-02-05",
          "2019-02-22",
          "2023-07-26",
          "2019-03-05",
          "2018-05-30",
          "2015-04-23",
          "2015-02-03",
          "2014-02-03",
          "2019-12-05",
          "2013-05-03",
          "2012-04-12",
          "2018-11-15",
          "2012-04-12",
          "2012-04-13",
          "2014-01-27",
          "2014-01-28",
          "2018-09-05",
          "2016-04-22",
          "2016-03-01",
          "2020-04-21",
          "2021-06-22",
          "2012-04-12",
          "2016-02-24",
          "2016-03-02",
          "2016-02-24",
          "2016-06-08",
          "2016-04-11",
          "2016-03-31",
          "2016-03-16",
          "2019-10-02",
          "2023-03-31",
          "2022-05-12",
          "2022-03-01",
          "2021-12-14",
          "2022-01-13",
          "2020-10-27",
          "2021-06-21",
          "2022-03-10",
          "2022-07-12",
          "2022-03-23",
          null,
          "2022-03-18",
          "2022-03-08",
          "2022-03-11",
          "2020-08-19",
          "2019-10-23",
          "2018-03-08",
          "2020-02-03",
          "2019-01-14",
          "2018-07-20",
          "2013-12-02",
          "2018-04-27",
          "2017-07-12",
          "2019-01-23",
          "2013-05-24",
          "2013-03-18",
          "2021-09-20",
          "2021-09-14",
          "2021-03-25",
          "2021-03-25",
          "2019-04-18",
          "2019-05-02",
          "2013-02-05",
          "2014-10-02",
          "2021-09-30",
          "2013-03-05",
          "2013-02-22",
          "2019-09-26",
          "2015-10-26",
          "2020-05-04",
          "2018-03-06",
          "2017-11-23",
          "2019-08-20",
          "2019-08-20",
          "2019-12-30",
          "2016-09-19",
          "2018-07-27",
          "2013-01-22",
          "2010-11-11",
          "2021-05-03",
          "2022-06-29",
          "2017-07-11",
          "2017-01-17",
          "2020-09-25",
          "2010-07-30",
          "2013-03-19",
          "2020-10-21",
          "2019-09-05",
          "2013-03-15",
          "2021-04-06",
          "2021-04-06",
          "2019-05-30",
          "2019-01-29",
          "2023-07-06",
          null,
          "2018-09-07",
          "2010-07-21",
          "2013-02-18",
          "2017-02-28",
          "2019-09-06",
          "2018-04-27",
          "2023-07-07",
          "2020-05-05",
          "2018-07-10",
          "2020-09-28",
          "2020-06-26",
          "2013-01-23",
          "2020-04-15",
          "2016-11-10",
          "2016-11-10",
          "2016-12-13",
          "2020-09-09",
          "2019-10-15",
          "2020-04-20",
          "2019-01-29",
          "2010-06-07",
          "2019-08-22",
          "2019-01-11",
          "2013-02-12",
          "2010-07-28",
          "2010-07-26",
          "2019-03-04",
          "2010-06-29",
          "2020-09-22",
          "2010-06-08",
          "2010-10-04",
          "2013-09-16",
          "2013-09-18",
          "2022-04-19",
          "2022-04-20",
          "2016-11-10",
          "2017-12-01",
          "2017-11-29",
          "2017-02-17",
          "2015-01-14",
          "2015-04-28",
          "2014-01-14",
          "2015-01-14",
          "2014-06-20",
          "2016-02-18",
          "2016-05-13",
          "2016-02-16",
          "2014-07-03",
          "2015-09-01",
          "2016-09-15",
          "2015-10-05",
          "2015-10-05",
          "2016-09-14",
          "2013-12-09",
          "2019-01-11",
          "2019-09-30",
          "2013-03-15",
          "2016-10-19",
          "2023-07-06",
          "2021-09-30",
          "2022-02-24",
          "2023-01-19",
          null,
          "2016-04-26",
          "2015-10-05",
          "2016-02-10",
          "2015-10-23",
          "2015-10-05",
          "2021-09-07",
          "2021-08-23",
          "2018-01-15",
          "2021-08-10",
          "2021-04-28",
          "2021-04-28",
          "2021-05-11",
          null,
          "2023-01-17",
          "2022-09-02",
          "2021-04-29",
          "2020-06-30",
          "2020-10-02",
          "2020-06-25",
          "2020-07-14",
          "2021-04-27",
          "2023-08-01",
          "2021-04-01",
          "2013-05-28",
          "2015-04-14",
          "2013-05-24",
          "2017-02-27",
          "2018-11-14",
          "2021-03-08",
          "2013-01-22",
          "2021-06-30",
          "2023-02-02",
          "2023-02-01",
          "2021-05-21",
          "2023-05-17",
          "2018-05-29",
          "2022-10-07",
          "2018-05-28",
          "2018-05-24",
          "2019-04-16",
          "2017-05-24",
          "2021-03-31",
          "2019-05-10",
          "2019-04-24",
          "2019-04-25",
          "2017-05-29",
          "2017-05-23",
          "2020-09-15",
          "2017-05-23",
          "2019-04-23",
          "2021-10-04",
          "2023-05-26",
          "2021-10-04",
          "2020-12-03",
          "2021-11-25",
          "2022-09-13",
          "2022-09-08",
          "2019-05-03",
          "2019-04-17",
          "2023-04-24",
          "2022-09-09",
          "2019-09-10",
          "2022-09-08",
          "2022-09-07",
          "2022-08-23",
          "2022-08-25",
          "2022-10-20",
          "2022-11-07",
          "2022-10-20",
          "2022-10-31",
          "2022-11-29",
          "2022-11-21",
          "2021-04-13",
          "2021-04-13",
          "2021-05-25",
          "2021-05-25",
          "2022-08-23",
          "2022-08-25",
          "2022-11-28",
          "2022-11-29",
          "2022-11-21",
          "2020-01-14",
          "2019-01-18",
          "2020-01-14",
          "2019-01-18",
          "2019-01-21",
          "2023-08-02",
          "2020-01-14",
          "2019-01-18",
          "2020-01-31",
          "2019-01-21",
          "2020-01-16",
          "2019-01-21",
          "2019-01-24",
          "2020-01-20",
          "2020-01-15",
          "2019-01-21",
          "2021-07-19",
          "2020-01-23",
          "2019-01-21",
          "2021-06-23",
          "2020-01-14",
          "2020-12-10",
          "2020-12-11",
          "2020-12-10",
          "2020-12-10",
          "2020-12-10",
          "2020-12-10",
          "2020-12-10",
          "2020-12-10",
          "2020-01-16",
          "2019-01-18",
          "2023-06-22",
          "2020-01-14",
          "2019-01-18",
          "2021-06-10",
          "2020-01-14",
          "2019-01-18",
          "2020-01-16",
          "2019-01-18",
          "2020-01-14",
          "2019-01-18",
          "2021-06-11",
          "2019-01-18",
          "2012-01-04",
          "2009-05-26",
          "2007-04-20",
          "2009-05-26",
          "2009-05-26",
          "2018-12-11",
          "2018-09-11",
          "2018-06-07",
          "2022-04-22",
          "2020-03-04",
          "2022-01-17",
          "2022-09-27",
          "2015-04-23",
          "2015-04-15",
          "2012-09-24",
          "2012-09-26",
          "2020-12-18",
          "2015-10-19",
          "2009-05-26",
          "2007-04-20",
          "2022-01-14",
          "2015-01-13",
          "2014-08-04",
          "2015-01-26",
          "2014-08-05",
          "2017-12-13",
          "2023-04-20",
          "2021-09-02",
          "2019-10-07",
          "2012-01-04",
          "2012-01-05",
          "2012-01-06",
          "2007-04-20",
          "2007-04-20",
          "2009-05-26",
          "2007-04-20",
          "2007-04-20",
          "2007-04-20",
          "2007-04-23",
          "2007-04-20",
          "2007-04-20",
          "2007-04-20",
          "2007-04-20",
          "2009-05-26",
          "2014-07-29",
          "2019-09-17",
          "2021-02-15",
          "2012-01-09",
          "2021-01-29",
          "2012-11-14",
          "2009-05-26",
          "2009-05-26",
          "2013-11-12",
          "2013-11-15",
          "2021-08-24",
          "2015-01-20",
          "2016-12-29",
          "2015-01-20",
          "2016-03-21",
          "2016-04-21",
          "2019-03-01",
          "2007-04-20",
          "2022-04-21",
          "2018-09-24",
          "2016-06-10",
          "2013-11-04",
          "2013-11-15",
          "2022-03-08",
          "2014-12-12",
          "2023-08-21",
          "2015-01-21",
          "2017-01-06",
          "2015-11-09",
          "2015-05-22",
          "2015-01-20",
          "2017-01-06",
          "2016-07-21",
          "2013-11-07",
          "2013-11-04",
          "2016-11-28",
          "2022-03-04",
          "2007-04-23",
          "2022-10-17",
          "2023-05-09",
          "2016-07-11",
          "2013-12-12",
          "2013-12-20",
          "2009-05-26",
          "2007-04-20",
          "2019-03-01",
          "2007-04-20",
          "2012-01-04",
          "2015-11-12",
          "2016-02-26",
          "2015-05-26",
          "2012-01-04",
          "2007-04-20",
          "2007-04-20",
          "2014-02-28",
          "2014-02-25",
          "2009-05-26",
          "2013-11-04",
          "2013-11-04",
          "2007-04-20",
          "2009-05-26",
          "2022-02-11",
          "2022-02-11",
          "2012-01-04",
          "2012-01-05",
          "2014-08-04",
          "2014-07-28",
          "2012-01-11",
          "2007-06-26",
          "2007-06-22",
          "2007-06-21",
          "2007-06-21",
          "2007-07-04",
          "2012-05-14",
          "2009-05-26",
          "2007-04-20",
          "2022-04-29",
          "2023-06-19",
          "2014-02-28",
          "2014-02-27",
          "2022-03-07",
          "2016-03-17",
          "2009-05-26",
          "2009-05-26",
          "2013-11-29",
          "2013-11-29",
          "2007-04-20",
          "2007-04-20",
          "2022-03-03",
          "2022-03-10",
          "2022-03-16",
          "2022-04-05",
          "2012-01-12",
          "2007-04-20",
          "2012-01-04",
          "2015-01-22",
          "2016-12-12",
          "2016-12-01",
          "2016-06-22",
          "2023-09-06",
          "2015-01-12",
          "2014-08-01",
          "2017-12-13",
          "2022-05-02",
          "2007-04-20",
          "2009-05-26",
          "2020-12-18",
          "2020-12-21",
          "2007-04-23",
          "2007-04-20",
          "2017-10-12",
          "2020-08-04",
          "2021-05-17",
          "2009-02-18",
          "2012-08-13",
          "2014-07-31",
          "2023-01-17",
          "2022-03-29",
          "2022-08-17",
          "2017-10-02",
          "2016-09-01",
          "2022-08-03",
          "2021-09-08",
          "2007-07-18",
          "2009-02-18",
          "2007-02-15",
          "2007-07-19",
          "2022-09-28",
          "2022-11-17",
          "2022-12-05",
          "2007-07-18",
          "2010-07-29",
          "2007-02-15",
          "2008-03-17",
          "2021-05-19",
          "2014-02-11",
          "2022-05-11",
          "2016-09-01",
          "2020-09-23",
          "2020-08-06",
          "2020-09-09",
          "2020-08-06",
          "2013-10-24",
          "2022-08-16",
          "2014-04-15",
          "2014-04-16",
          "2022-02-16",
          "2022-02-28",
          "2018-07-17",
          "2010-06-25",
          "2015-05-22",
          "2015-05-27",
          "2007-11-07",
          "2020-11-11",
          "2007-11-07",
          "2007-11-26",
          "2007-11-13",
          "2007-11-27",
          "2007-11-21",
          "2007-12-17",
          "2007-11-13",
          "2007-11-06",
          "2008-01-30",
          "2009-02-17",
          "2012-02-06",
          "2007-11-09",
          "2017-10-11",
          "2013-10-30",
          "2013-10-30",
          "2015-09-14",
          "2013-10-25",
          "2011-01-28",
          "2012-02-22",
          "2008-10-31",
          "2023-06-02",
          "2013-12-20",
          "2017-03-21",
          "2008-06-30",
          "2018-06-29",
          "2008-01-30",
          "2022-10-31",
          "2022-09-29",
          "2008-03-17",
          "2009-02-17",
          "2022-07-12",
          "2014-07-25",
          "2007-07-18",
          "2010-07-28",
          "2022-07-29",
          "2018-05-08",
          "2022-05-13",
          "2007-07-20",
          "2022-02-18",
          "2007-07-18",
          "2020-10-09",
          "2007-07-18",
          "2017-10-03",
          "2017-03-30",
          "2021-02-10",
          "2013-01-18",
          "2022-02-08",
          "2018-07-10",
          "2008-03-18",
          "2007-02-19",
          "2022-08-16",
          "2022-08-03",
          "2023-03-21",
          "2023-04-18",
          "2023-03-02",
          "2023-03-17",
          "2023-04-28",
          "2023-03-02",
          "2023-03-23",
          "2011-01-26",
          "2022-08-03",
          "2022-01-18",
          "2018-07-10",
          "2007-02-15",
          "2012-07-06",
          "2022-03-01",
          "2007-09-19",
          "2010-07-28",
          "2022-08-03",
          "2009-02-17",
          "2015-04-14",
          "2022-03-03",
          "2018-07-31",
          "2022-05-09",
          "2020-10-09",
          "2007-02-15",
          "2014-09-22",
          "2020-11-05",
          "2016-04-21",
          "2015-09-09",
          "2016-04-04",
          "2016-04-06",
          "2022-01-13",
          "2018-07-30",
          "2020-10-12",
          "2016-04-21",
          "2016-04-04",
          "2016-03-30",
          "2016-04-04",
          "2016-05-13",
          "2015-09-25",
          "2015-11-06",
          "2007-02-15",
          "2016-03-04",
          "2015-10-05",
          "2016-05-03",
          "2015-09-17",
          "2016-04-29",
          "2021-02-17",
          "2007-07-30",
          "2013-02-28",
          "2010-10-18",
          "2010-10-14",
          "2010-10-15",
          "2010-10-20",
          "2010-10-14",
          "2015-09-09",
          "2015-09-09",
          "2015-04-14",
          "2010-04-29",
          "2010-05-03",
          "2023-06-13",
          "2021-05-17",
          "2021-11-19",
          "2023-02-07",
          "2008-03-14",
          "2010-07-30",
          "2022-08-01",
          "2021-11-11",
          "2015-04-15",
          "2022-07-20",
          "2008-03-17",
          "2008-03-19",
          "2008-03-14",
          "2023-01-17",
          "2007-09-18",
          "2009-02-17",
          "2007-07-18",
          "2007-02-15",
          "2022-11-16",
          "2020-10-15",
          "2022-09-28",
          "2018-04-27",
          "2020-10-16",
          "2016-02-22",
          "2016-09-01",
          "2021-09-08",
          "2018-04-27",
          "2022-03-25"
         ],
         "xaxis": "x",
         "y": [
          687,
          114,
          127,
          926,
          4433,
          1370,
          175.00000000000003,
          3133,
          3437,
          3325,
          3348,
          3359,
          122.99999999999999,
          3153,
          122.99999999999999,
          2802,
          3221,
          3409,
          3468,
          3208,
          3165,
          3077,
          3139,
          1512,
          3666,
          501,
          3265,
          2527,
          2115,
          1460,
          2217,
          3245,
          1265,
          115.99999999999999,
          110.00000000000001,
          1430,
          1294,
          3210,
          2617,
          2251,
          3347,
          1157,
          1457,
          446,
          1386,
          939,
          3445,
          1323,
          464,
          1381,
          1411,
          1582,
          299,
          667,
          1044,
          1440,
          224,
          3457,
          1134,
          536,
          1574,
          1449,
          954,
          784,
          539,
          1181,
          1547,
          1109,
          1076,
          1469,
          2474,
          122.99999999999999,
          122.99999999999999,
          1543,
          3439,
          888,
          3127,
          3013,
          456,
          59.99999999999999,
          64,
          3210,
          195,
          null,
          122.99999999999999,
          1759,
          1371,
          3385,
          1315,
          3202,
          1260,
          3602,
          null,
          3403,
          951.9999999999999,
          1213,
          537,
          3346,
          3348,
          2633,
          135,
          107,
          1152,
          1131,
          660,
          693,
          791,
          994.9999999999999,
          568,
          707,
          491,
          634,
          2356,
          1008,
          1249,
          339,
          2885,
          3350,
          3322,
          3197,
          3291,
          3223,
          2958,
          3276,
          3139,
          1468,
          836,
          838,
          4279,
          1685,
          1205,
          3236,
          1412,
          3116,
          2923,
          1892,
          2018,
          3059,
          1201,
          280,
          21,
          22,
          12,
          23,
          24,
          138,
          256,
          698,
          722,
          966,
          62,
          729,
          654,
          146,
          240.00000000000003,
          1190,
          12,
          1126,
          849,
          614,
          206,
          2,
          3,
          1063,
          1165,
          748,
          187,
          77,
          590,
          35,
          640,
          464.00000000000006,
          156,
          5,
          890,
          430,
          1139,
          17,
          77,
          840,
          597,
          420.00000000000006,
          402,
          312,
          624,
          797,
          426,
          604,
          692,
          773,
          686,
          26.000000000000004,
          353,
          54,
          292,
          152,
          2087,
          1912,
          1464,
          495.99999999999994,
          238,
          267,
          559,
          186,
          262,
          657,
          573,
          700,
          283,
          1228,
          397,
          299,
          2012,
          2008,
          2011,
          2487,
          2692,
          2923,
          3188,
          2302,
          2545,
          2282,
          3209,
          1790,
          2280,
          1602,
          2287,
          2045,
          2544,
          2332,
          2576,
          1993,
          1938.9999999999998,
          2114,
          2637,
          2426,
          2536,
          2631,
          2422,
          1795.0000000000002,
          2081,
          2401,
          2766,
          1578,
          1290,
          1784,
          1982,
          2096,
          1879.9999999999998,
          2148,
          2199,
          1043,
          1028,
          1320,
          1086,
          926,
          885,
          2449,
          45,
          31,
          35.00000000000001,
          62.00000000000001,
          114,
          188,
          103,
          119,
          5,
          11,
          206,
          522,
          175,
          17,
          3,
          19,
          72,
          14,
          28,
          46,
          76,
          15,
          15,
          108,
          108,
          208,
          371,
          251,
          165,
          130,
          74,
          204,
          195.99999999999997,
          255,
          226,
          268,
          932,
          254,
          523,
          1399,
          426,
          267,
          145,
          846,
          637,
          708,
          null,
          260,
          97,
          1108,
          1130,
          853,
          115,
          162,
          849,
          1056,
          1030,
          901,
          83,
          10,
          8,
          803.0000000000001,
          216,
          70,
          16,
          784,
          666,
          1036,
          1137,
          422,
          230.99999999999997,
          78,
          210,
          302,
          369,
          57,
          47,
          25,
          146,
          205,
          346,
          400,
          397,
          404,
          174,
          119,
          221,
          423,
          460,
          300,
          274,
          433,
          238,
          285,
          438,
          66,
          34,
          6,
          360,
          324,
          435,
          431,
          364,
          281,
          298.00000000000006,
          183,
          4177,
          974,
          406,
          417,
          29,
          30,
          9,
          81,
          35,
          326,
          293,
          392,
          344,
          272,
          340,
          265,
          190,
          264,
          348,
          212,
          168,
          359,
          2.9999999999999996,
          197,
          197,
          277,
          314,
          466,
          425,
          339,
          338,
          150,
          118,
          487,
          185,
          366,
          133,
          215,
          152,
          231.00000000000003,
          169,
          163,
          73,
          70,
          206,
          17,
          257,
          3,
          155,
          150,
          89,
          238,
          359,
          380,
          210,
          77,
          64,
          82,
          488,
          147,
          322,
          101,
          15,
          20,
          79,
          102,
          57,
          180,
          325.00000000000006,
          1169,
          842,
          1177,
          470,
          361,
          616,
          701,
          1168,
          168,
          240.00000000000003,
          650.9999999999999,
          6,
          9,
          729,
          355,
          35,
          395,
          1130,
          41,
          1132,
          104,
          41,
          43,
          1379,
          83,
          72,
          367,
          15,
          631,
          56,
          806,
          893.9999999999999,
          651,
          548,
          189,
          499,
          211,
          1499,
          107,
          20,
          403,
          1238,
          26,
          447,
          107,
          null,
          704,
          379.99999999999994,
          211,
          429,
          484.99999999999994,
          77,
          1278,
          939,
          1288,
          3,
          835,
          1508,
          2236,
          738,
          2224,
          725,
          2280,
          986,
          5150,
          1208,
          38,
          27.999999999999996,
          55,
          12,
          null,
          459,
          3085,
          473,
          726,
          303,
          192,
          350,
          354,
          209,
          2126,
          413.00000000000006,
          1574,
          2325,
          83,
          9,
          1713,
          1578,
          3183,
          2887,
          3291,
          3,
          1863.0000000000002,
          533,
          74,
          2312,
          127,
          1930,
          1380,
          1869,
          1752,
          2317,
          580,
          516,
          45,
          1927,
          502,
          16,
          334,
          1304,
          19,
          866,
          40,
          663,
          857,
          167,
          47,
          737,
          2001,
          494,
          1279,
          466,
          826,
          2245,
          1498,
          1076,
          306,
          242,
          45,
          24,
          12,
          1073,
          1596,
          341,
          843,
          99,
          2120,
          7.999999999999999,
          557,
          2248,
          1201,
          1109,
          180,
          120.99999999999999,
          6,
          11,
          2,
          7,
          565,
          1508.9999999999998,
          1342,
          2302,
          1721,
          248,
          143,
          654,
          676,
          997,
          988,
          363,
          50,
          34,
          526,
          127.00000000000001,
          492.00000000000006,
          2166,
          611,
          75,
          72,
          60,
          281,
          474.00000000000006,
          4490,
          1176,
          1309,
          492,
          2634,
          2503,
          4225,
          102.00000000000001,
          4352,
          4228,
          3560,
          3516,
          504.00000000000006,
          3588,
          23,
          1101,
          3482,
          2045,
          13,
          1068,
          2632,
          4982,
          3682,
          3512,
          3147,
          4349,
          4196,
          3439,
          4224,
          597,
          554,
          3248,
          553,
          4459,
          75,
          2503,
          1783,
          377,
          4352,
          4129,
          1787,
          4050,
          205,
          862,
          4756,
          3557,
          3503,
          3992,
          3477,
          5335,
          4491,
          1119,
          2366,
          3474,
          1375,
          3511,
          3968,
          3511,
          3476,
          3474,
          3393,
          5231,
          4191,
          1107,
          1783,
          3683,
          3955,
          4228,
          3379,
          2161,
          2204,
          1301,
          2020,
          2219,
          1039,
          2193,
          2203,
          1760,
          2169,
          1826,
          2186,
          2222,
          1125,
          4491,
          3555,
          3569,
          4697,
          4750,
          3969,
          4489,
          1730,
          1530,
          3475,
          3978,
          118,
          3947,
          2665,
          2106,
          4224,
          4044,
          4217,
          1787,
          41,
          39,
          64,
          62.99999999999999,
          80,
          2837,
          2106,
          2653,
          3306,
          3036,
          599,
          1511,
          184,
          4482,
          2417,
          4490,
          3415,
          334,
          3322,
          367,
          3868,
          1005,
          3511,
          4491,
          346,
          1667,
          336,
          3977,
          1070,
          486,
          287,
          3204,
          2126,
          975,
          3433,
          4756,
          3106,
          4459,
          3100,
          4307,
          3145,
          1998,
          4417,
          4210,
          2804,
          479,
          271,
          3565,
          161,
          1080,
          3385,
          51,
          106,
          90,
          40.00000000000001,
          319,
          825,
          3172,
          15,
          1050,
          4460,
          3443,
          3461,
          3195,
          3172,
          865,
          5359,
          3993,
          3984,
          4483,
          3930,
          4194,
          3526,
          13,
          2462,
          2134,
          1262,
          41.99999999999999,
          41.99999999999999,
          1181,
          6,
          51,
          32,
          19,
          651,
          275,
          208,
          196,
          558,
          753.9999999999999,
          24,
          59,
          693,
          66,
          112.00000000000001,
          886,
          812,
          1220,
          683,
          228,
          741,
          103,
          390,
          888,
          271,
          6,
          701,
          2.9999999999999996,
          5,
          13.000000000000002,
          46,
          89,
          232,
          11,
          859,
          4,
          101,
          36,
          271,
          1140,
          571,
          1237,
          336.99999999999994,
          710,
          729,
          41,
          331,
          28,
          24,
          6,
          1062,
          546,
          1453,
          632,
          766,
          1053,
          2001,
          3326,
          3371,
          601,
          2189,
          1389,
          73,
          140,
          364,
          660,
          97,
          231,
          198,
          17,
          378,
          140,
          3755,
          1043,
          706,
          4,
          518,
          644,
          2698,
          189,
          534,
          93,
          1366,
          178,
          176,
          2268,
          3395,
          null,
          184,
          191,
          199,
          69,
          394,
          252.99999999999997,
          225,
          361,
          231,
          341,
          243,
          256,
          226,
          344,
          239,
          432,
          401,
          48,
          170,
          412,
          11,
          665,
          null,
          2030,
          3263,
          1557,
          3152,
          3393,
          4617,
          713,
          536,
          425,
          271,
          3677,
          1380,
          1959,
          null,
          466,
          1451,
          791,
          259,
          4140,
          3396,
          4314,
          5095,
          5325,
          3239,
          307,
          3247,
          1797,
          211,
          1930,
          498,
          1378,
          1717,
          1512,
          null,
          4970,
          412,
          4831,
          4509,
          1683,
          4918,
          1858,
          1858,
          328,
          4048,
          5366,
          2722,
          3756,
          4094,
          2336,
          1567,
          1557,
          2025,
          2864,
          1740,
          1964,
          3926,
          3447,
          1407,
          2385,
          482,
          5050,
          3973,
          3973,
          3973,
          220,
          632,
          683,
          1112,
          294,
          3234,
          1338,
          180,
          4470,
          2422,
          3756,
          4360,
          2971,
          4213,
          1601,
          4279,
          4563,
          974,
          903.0000000000001,
          4512,
          1024,
          841,
          4089,
          1343,
          1382,
          1315,
          1521,
          343,
          4443,
          1123,
          168,
          902,
          4165,
          4268,
          2882,
          4265,
          895,
          539,
          4021,
          872,
          4305,
          4295,
          391.00000000000006,
          893.0000000000001,
          574,
          4024,
          683,
          121,
          3332,
          702,
          1196,
          3338,
          470,
          4364,
          837,
          720,
          5296,
          489.99999999999994,
          641,
          242,
          603,
          1921,
          1952,
          564,
          2544,
          3422,
          2735,
          2109,
          1433,
          4083,
          4051,
          4293,
          4279,
          4309,
          3888,
          4080,
          4083,
          4296,
          4310,
          4241,
          3635,
          3847,
          4289,
          4172,
          3974,
          4256,
          4254,
          3213,
          970,
          479,
          1377,
          1569,
          49,
          252,
          21,
          936,
          13,
          2760,
          477,
          219,
          2074,
          1755,
          2295,
          166,
          846,
          83,
          1795,
          1746,
          2195,
          1473,
          2069,
          905,
          2333,
          2183,
          595,
          942,
          172,
          721,
          19,
          465,
          179,
          816.0000000000001,
          229,
          17,
          22,
          95,
          21.999999999999996,
          289,
          65,
          103.99999999999999,
          188,
          104.00000000000001,
          310,
          72,
          22,
          49,
          24,
          79,
          19,
          179,
          36,
          191,
          44,
          65,
          124.00000000000001,
          75,
          378,
          2101,
          1923,
          2001,
          1474.0000000000002,
          2267,
          2265,
          2273,
          2223,
          152,
          null,
          13,
          124,
          199,
          13.999999999999998,
          227,
          285,
          36,
          43,
          78,
          105,
          128,
          66,
          6,
          25,
          12,
          20,
          233,
          1196,
          null,
          542,
          278,
          66,
          1763,
          2490,
          1154,
          1439,
          1163,
          838,
          2692,
          1598,
          628,
          588,
          1181,
          159,
          542,
          180,
          2942,
          191,
          2763,
          641,
          2564,
          2941,
          1384,
          1398,
          null,
          2417,
          49.99999999999999,
          331,
          208.00000000000003,
          1808,
          1742,
          2402,
          2237,
          674,
          1701,
          265,
          28,
          2893,
          1217,
          816,
          2851,
          54,
          2752,
          2598,
          30,
          null,
          1413,
          1799,
          1729,
          2192,
          2200,
          2039.9999999999998,
          1666,
          1436.0000000000002,
          2091,
          1901,
          2227,
          1805,
          874,
          25.000000000000004,
          34,
          948,
          561,
          1115,
          1086,
          22,
          1086,
          1321,
          2161,
          2206,
          2288,
          636,
          2439,
          2884,
          1056,
          2864,
          2941,
          2491,
          2454,
          1267,
          1695,
          1671,
          700,
          173,
          2942,
          1938,
          1929,
          1847,
          1700,
          1581,
          1842,
          1705,
          743.0000000000001,
          98,
          367,
          147,
          201,
          380,
          537,
          606,
          47,
          8,
          37,
          null,
          210.00000000000003,
          314,
          291,
          705,
          830,
          1349,
          868,
          1054,
          517,
          2459,
          413,
          526,
          1060,
          2138,
          2518,
          59,
          195,
          67,
          57,
          929.0000000000001,
          945,
          1696,
          2254,
          151,
          2375,
          1506,
          669,
          1361,
          848,
          1364,
          1466,
          1024,
          1046,
          236,
          1569,
          484,
          2717,
          3191,
          97,
          20,
          431,
          1254,
          415,
          3340,
          2312,
          294,
          501,
          2642,
          531,
          658,
          989,
          890,
          8,
          null,
          1285,
          3103,
          1545.9999999999998,
          954.9999999999999,
          786,
          1069,
          35,
          826,
          1302,
          134,
          198,
          1751,
          318,
          1009,
          1348,
          1756,
          472,
          679,
          750,
          1110,
          3391,
          976,
          1153,
          2646,
          2782,
          2512,
          960,
          2759,
          642,
          2491,
          3064,
          2048,
          1754.0000000000002,
          173,
          352,
          1594,
          859,
          1373,
          1415,
          2055,
          2175,
          2490,
          1538,
          2387,
          1585,
          1878,
          1791,
          2375,
          1395,
          1231,
          1153,
          1535,
          1310,
          2521,
          882.0000000000001,
          365,
          2512,
          1194,
          9,
          61.99999999999999,
          41,
          2,
          null,
          1087,
          1813,
          1058,
          670,
          1153,
          25,
          532,
          1316,
          14,
          39.99999999999999,
          63,
          68,
          null,
          2,
          10,
          36,
          651,
          92,
          381,
          295,
          48,
          12,
          16,
          2659,
          2067,
          2313,
          1704,
          972,
          584,
          2051,
          371,
          98,
          29,
          634,
          126.99999999999999,
          820.0000000000001,
          63,
          1084,
          981,
          971,
          1513,
          640,
          174,
          147,
          57,
          785,
          1547,
          781,
          1499,
          819.0000000000001,
          268,
          38,
          540,
          720,
          80,
          193,
          65,
          99,
          587,
          106,
          68,
          1064,
          93,
          74,
          86,
          35,
          77,
          35,
          38,
          28,
          220,
          99,
          643,
          382,
          423,
          348,
          67,
          22,
          39,
          26,
          38,
          909,
          1217,
          899,
          1210,
          1058,
          2,
          946,
          1224,
          838,
          1192,
          842,
          1070,
          1074,
          587,
          829,
          1221,
          241,
          713,
          847,
          283,
          964,
          739,
          539,
          746,
          619,
          746,
          721,
          746,
          729,
          938,
          1228,
          68,
          911,
          757,
          345,
          921,
          1163,
          941,
          1227,
          916,
          1170,
          451,
          1226,
          2150,
          3676,
          4208,
          3076,
          3594,
          1247,
          1103,
          1329,
          207.00000000000003,
          934,
          237,
          131,
          1900,
          1921,
          2826,
          2816,
          733,
          2022,
          2632,
          4201,
          210,
          1883,
          2283,
          1358,
          2008,
          813,
          10,
          562,
          1042,
          3005,
          3008,
          3009,
          4208,
          4079,
          3649,
          4202,
          4117,
          4204,
          4130,
          4181,
          4205,
          3823,
          4078,
          3676,
          2361,
          1053,
          621,
          2975,
          714.0000000000001,
          2619,
          3227,
          3250,
          2540,
          2505,
          112,
          2039,
          573,
          1704,
          1907,
          1491,
          243,
          3983,
          192,
          700,
          1780,
          2514,
          2537,
          284,
          2235,
          53,
          1773,
          294,
          737,
          1077,
          1840.0000000000002,
          342,
          1618,
          2512,
          2515,
          1722,
          236,
          3882,
          63,
          36,
          1515,
          2518,
          2497,
          3493,
          3755,
          521,
          4167,
          1885,
          1156,
          684,
          1156,
          2329,
          4035,
          3164,
          2434,
          2439,
          3587,
          2515,
          2515,
          4208,
          3680,
          114.00000000000001,
          52,
          2250,
          2936,
          2175,
          2315,
          2737,
          4131,
          4159,
          4159,
          4064,
          4156,
          2916,
          3677,
          3754,
          166,
          30.999999999999996,
          2431,
          2437,
          375,
          1918,
          3673,
          3680,
          2496,
          2503,
          3294,
          4092,
          63.00000000000001,
          54,
          73,
          37,
          2924,
          4204,
          2239,
          1520,
          455,
          281,
          1326,
          2,
          1665,
          1728,
          739,
          132,
          4207,
          3671,
          707,
          706,
          4207,
          3999,
          862.0000000000001,
          643,
          622,
          3520,
          2856,
          2355,
          15,
          26.000000000000004,
          104,
          1075,
          1173,
          24.999999999999996,
          476,
          4140,
          3745,
          4248,
          3869,
          20,
          46,
          59,
          4106,
          3210,
          4171,
          3975,
          352.00000000000006,
          2468,
          131,
          1805,
          615,
          766,
          438,
          542,
          2228,
          86,
          2404,
          2429,
          199,
          63.99999999999999,
          1092,
          3345,
          2107,
          2136,
          3834,
          494.00000000000006,
          4066,
          4057,
          3522,
          3897,
          4019,
          3838,
          3801,
          4065,
          3999,
          3745,
          2593,
          4065,
          1100,
          2526,
          2522,
          1726,
          2531,
          2736,
          2956,
          3346,
          23,
          2512,
          1560,
          3893,
          1192,
          4010,
          31,
          66,
          3836,
          3585,
          90,
          2365,
          4096,
          3340,
          78,
          1383,
          184,
          4000,
          186,
          3971,
          527,
          4027,
          1488,
          785,
          539,
          2725,
          52,
          1026,
          3907,
          4166,
          118,
          58,
          23,
          9,
          51.99999999999999,
          45,
          4,
          14,
          9,
          3243,
          92,
          152,
          1005.9999999999999,
          4230,
          2518,
          29,
          3550,
          3348,
          112,
          3454,
          1556,
          32,
          1174,
          337,
          613,
          4169,
          2325,
          293,
          1519,
          1639,
          1933,
          1911,
          123,
          1139,
          494,
          1686,
          1906,
          1448,
          1935,
          1551,
          1875,
          1866,
          4248,
          1611,
          2008,
          1690,
          1754,
          1677,
          649,
          3930,
          2700,
          3322,
          3293,
          3218,
          3190,
          3323,
          2017,
          2064,
          2135,
          3444,
          3431,
          71,
          629,
          488,
          13,
          3980,
          3326,
          74,
          148,
          1875,
          261,
          3844,
          3940,
          3941,
          116.00000000000001,
          4091,
          3728,
          4140,
          4252,
          50,
          300,
          14,
          581,
          371,
          1565,
          1451,
          48,
          1140,
          73
         ],
         "yaxis": "y"
        }
       ],
       "layout": {
        "legend": {
         "tracegroupgap": 0
        },
        "margin": {
         "t": 60
        },
        "template": {
         "data": {
          "bar": [
           {
            "error_x": {
             "color": "#2a3f5f"
            },
            "error_y": {
             "color": "#2a3f5f"
            },
            "marker": {
             "line": {
              "color": "#E5ECF6",
              "width": 0.5
             },
             "pattern": {
              "fillmode": "overlay",
              "size": 10,
              "solidity": 0.2
             }
            },
            "type": "bar"
           }
          ],
          "barpolar": [
           {
            "marker": {
             "line": {
              "color": "#E5ECF6",
              "width": 0.5
             },
             "pattern": {
              "fillmode": "overlay",
              "size": 10,
              "solidity": 0.2
             }
            },
            "type": "barpolar"
           }
          ],
          "carpet": [
           {
            "aaxis": {
             "endlinecolor": "#2a3f5f",
             "gridcolor": "white",
             "linecolor": "white",
             "minorgridcolor": "white",
             "startlinecolor": "#2a3f5f"
            },
            "baxis": {
             "endlinecolor": "#2a3f5f",
             "gridcolor": "white",
             "linecolor": "white",
             "minorgridcolor": "white",
             "startlinecolor": "#2a3f5f"
            },
            "type": "carpet"
           }
          ],
          "choropleth": [
           {
            "colorbar": {
             "outlinewidth": 0,
             "ticks": ""
            },
            "type": "choropleth"
           }
          ],
          "contour": [
           {
            "colorbar": {
             "outlinewidth": 0,
             "ticks": ""
            },
            "colorscale": [
             [
              0,
              "#0d0887"
             ],
             [
              0.1111111111111111,
              "#46039f"
             ],
             [
              0.2222222222222222,
              "#7201a8"
             ],
             [
              0.3333333333333333,
              "#9c179e"
             ],
             [
              0.4444444444444444,
              "#bd3786"
             ],
             [
              0.5555555555555556,
              "#d8576b"
             ],
             [
              0.6666666666666666,
              "#ed7953"
             ],
             [
              0.7777777777777778,
              "#fb9f3a"
             ],
             [
              0.8888888888888888,
              "#fdca26"
             ],
             [
              1,
              "#f0f921"
             ]
            ],
            "type": "contour"
           }
          ],
          "contourcarpet": [
           {
            "colorbar": {
             "outlinewidth": 0,
             "ticks": ""
            },
            "type": "contourcarpet"
           }
          ],
          "heatmap": [
           {
            "colorbar": {
             "outlinewidth": 0,
             "ticks": ""
            },
            "colorscale": [
             [
              0,
              "#0d0887"
             ],
             [
              0.1111111111111111,
              "#46039f"
             ],
             [
              0.2222222222222222,
              "#7201a8"
             ],
             [
              0.3333333333333333,
              "#9c179e"
             ],
             [
              0.4444444444444444,
              "#bd3786"
             ],
             [
              0.5555555555555556,
              "#d8576b"
             ],
             [
              0.6666666666666666,
              "#ed7953"
             ],
             [
              0.7777777777777778,
              "#fb9f3a"
             ],
             [
              0.8888888888888888,
              "#fdca26"
             ],
             [
              1,
              "#f0f921"
             ]
            ],
            "type": "heatmap"
           }
          ],
          "heatmapgl": [
           {
            "colorbar": {
             "outlinewidth": 0,
             "ticks": ""
            },
            "colorscale": [
             [
              0,
              "#0d0887"
             ],
             [
              0.1111111111111111,
              "#46039f"
             ],
             [
              0.2222222222222222,
              "#7201a8"
             ],
             [
              0.3333333333333333,
              "#9c179e"
             ],
             [
              0.4444444444444444,
              "#bd3786"
             ],
             [
              0.5555555555555556,
              "#d8576b"
             ],
             [
              0.6666666666666666,
              "#ed7953"
             ],
             [
              0.7777777777777778,
              "#fb9f3a"
             ],
             [
              0.8888888888888888,
              "#fdca26"
             ],
             [
              1,
              "#f0f921"
             ]
            ],
            "type": "heatmapgl"
           }
          ],
          "histogram": [
           {
            "marker": {
             "pattern": {
              "fillmode": "overlay",
              "size": 10,
              "solidity": 0.2
             }
            },
            "type": "histogram"
           }
          ],
          "histogram2d": [
           {
            "colorbar": {
             "outlinewidth": 0,
             "ticks": ""
            },
            "colorscale": [
             [
              0,
              "#0d0887"
             ],
             [
              0.1111111111111111,
              "#46039f"
             ],
             [
              0.2222222222222222,
              "#7201a8"
             ],
             [
              0.3333333333333333,
              "#9c179e"
             ],
             [
              0.4444444444444444,
              "#bd3786"
             ],
             [
              0.5555555555555556,
              "#d8576b"
             ],
             [
              0.6666666666666666,
              "#ed7953"
             ],
             [
              0.7777777777777778,
              "#fb9f3a"
             ],
             [
              0.8888888888888888,
              "#fdca26"
             ],
             [
              1,
              "#f0f921"
             ]
            ],
            "type": "histogram2d"
           }
          ],
          "histogram2dcontour": [
           {
            "colorbar": {
             "outlinewidth": 0,
             "ticks": ""
            },
            "colorscale": [
             [
              0,
              "#0d0887"
             ],
             [
              0.1111111111111111,
              "#46039f"
             ],
             [
              0.2222222222222222,
              "#7201a8"
             ],
             [
              0.3333333333333333,
              "#9c179e"
             ],
             [
              0.4444444444444444,
              "#bd3786"
             ],
             [
              0.5555555555555556,
              "#d8576b"
             ],
             [
              0.6666666666666666,
              "#ed7953"
             ],
             [
              0.7777777777777778,
              "#fb9f3a"
             ],
             [
              0.8888888888888888,
              "#fdca26"
             ],
             [
              1,
              "#f0f921"
             ]
            ],
            "type": "histogram2dcontour"
           }
          ],
          "mesh3d": [
           {
            "colorbar": {
             "outlinewidth": 0,
             "ticks": ""
            },
            "type": "mesh3d"
           }
          ],
          "parcoords": [
           {
            "line": {
             "colorbar": {
              "outlinewidth": 0,
              "ticks": ""
             }
            },
            "type": "parcoords"
           }
          ],
          "pie": [
           {
            "automargin": true,
            "type": "pie"
           }
          ],
          "scatter": [
           {
            "fillpattern": {
             "fillmode": "overlay",
             "size": 10,
             "solidity": 0.2
            },
            "type": "scatter"
           }
          ],
          "scatter3d": [
           {
            "line": {
             "colorbar": {
              "outlinewidth": 0,
              "ticks": ""
             }
            },
            "marker": {
             "colorbar": {
              "outlinewidth": 0,
              "ticks": ""
             }
            },
            "type": "scatter3d"
           }
          ],
          "scattercarpet": [
           {
            "marker": {
             "colorbar": {
              "outlinewidth": 0,
              "ticks": ""
             }
            },
            "type": "scattercarpet"
           }
          ],
          "scattergeo": [
           {
            "marker": {
             "colorbar": {
              "outlinewidth": 0,
              "ticks": ""
             }
            },
            "type": "scattergeo"
           }
          ],
          "scattergl": [
           {
            "marker": {
             "colorbar": {
              "outlinewidth": 0,
              "ticks": ""
             }
            },
            "type": "scattergl"
           }
          ],
          "scattermapbox": [
           {
            "marker": {
             "colorbar": {
              "outlinewidth": 0,
              "ticks": ""
             }
            },
            "type": "scattermapbox"
           }
          ],
          "scatterpolar": [
           {
            "marker": {
             "colorbar": {
              "outlinewidth": 0,
              "ticks": ""
             }
            },
            "type": "scatterpolar"
           }
          ],
          "scatterpolargl": [
           {
            "marker": {
             "colorbar": {
              "outlinewidth": 0,
              "ticks": ""
             }
            },
            "type": "scatterpolargl"
           }
          ],
          "scatterternary": [
           {
            "marker": {
             "colorbar": {
              "outlinewidth": 0,
              "ticks": ""
             }
            },
            "type": "scatterternary"
           }
          ],
          "surface": [
           {
            "colorbar": {
             "outlinewidth": 0,
             "ticks": ""
            },
            "colorscale": [
             [
              0,
              "#0d0887"
             ],
             [
              0.1111111111111111,
              "#46039f"
             ],
             [
              0.2222222222222222,
              "#7201a8"
             ],
             [
              0.3333333333333333,
              "#9c179e"
             ],
             [
              0.4444444444444444,
              "#bd3786"
             ],
             [
              0.5555555555555556,
              "#d8576b"
             ],
             [
              0.6666666666666666,
              "#ed7953"
             ],
             [
              0.7777777777777778,
              "#fb9f3a"
             ],
             [
              0.8888888888888888,
              "#fdca26"
             ],
             [
              1,
              "#f0f921"
             ]
            ],
            "type": "surface"
           }
          ],
          "table": [
           {
            "cells": {
             "fill": {
              "color": "#EBF0F8"
             },
             "line": {
              "color": "white"
             }
            },
            "header": {
             "fill": {
              "color": "#C8D4E3"
             },
             "line": {
              "color": "white"
             }
            },
            "type": "table"
           }
          ]
         },
         "layout": {
          "annotationdefaults": {
           "arrowcolor": "#2a3f5f",
           "arrowhead": 0,
           "arrowwidth": 1
          },
          "autotypenumbers": "strict",
          "coloraxis": {
           "colorbar": {
            "outlinewidth": 0,
            "ticks": ""
           }
          },
          "colorscale": {
           "diverging": [
            [
             0,
             "#8e0152"
            ],
            [
             0.1,
             "#c51b7d"
            ],
            [
             0.2,
             "#de77ae"
            ],
            [
             0.3,
             "#f1b6da"
            ],
            [
             0.4,
             "#fde0ef"
            ],
            [
             0.5,
             "#f7f7f7"
            ],
            [
             0.6,
             "#e6f5d0"
            ],
            [
             0.7,
             "#b8e186"
            ],
            [
             0.8,
             "#7fbc41"
            ],
            [
             0.9,
             "#4d9221"
            ],
            [
             1,
             "#276419"
            ]
           ],
           "sequential": [
            [
             0,
             "#0d0887"
            ],
            [
             0.1111111111111111,
             "#46039f"
            ],
            [
             0.2222222222222222,
             "#7201a8"
            ],
            [
             0.3333333333333333,
             "#9c179e"
            ],
            [
             0.4444444444444444,
             "#bd3786"
            ],
            [
             0.5555555555555556,
             "#d8576b"
            ],
            [
             0.6666666666666666,
             "#ed7953"
            ],
            [
             0.7777777777777778,
             "#fb9f3a"
            ],
            [
             0.8888888888888888,
             "#fdca26"
            ],
            [
             1,
             "#f0f921"
            ]
           ],
           "sequentialminus": [
            [
             0,
             "#0d0887"
            ],
            [
             0.1111111111111111,
             "#46039f"
            ],
            [
             0.2222222222222222,
             "#7201a8"
            ],
            [
             0.3333333333333333,
             "#9c179e"
            ],
            [
             0.4444444444444444,
             "#bd3786"
            ],
            [
             0.5555555555555556,
             "#d8576b"
            ],
            [
             0.6666666666666666,
             "#ed7953"
            ],
            [
             0.7777777777777778,
             "#fb9f3a"
            ],
            [
             0.8888888888888888,
             "#fdca26"
            ],
            [
             1,
             "#f0f921"
            ]
           ]
          },
          "colorway": [
           "#636efa",
           "#EF553B",
           "#00cc96",
           "#ab63fa",
           "#FFA15A",
           "#19d3f3",
           "#FF6692",
           "#B6E880",
           "#FF97FF",
           "#FECB52"
          ],
          "font": {
           "color": "#2a3f5f"
          },
          "geo": {
           "bgcolor": "white",
           "lakecolor": "white",
           "landcolor": "#E5ECF6",
           "showlakes": true,
           "showland": true,
           "subunitcolor": "white"
          },
          "hoverlabel": {
           "align": "left"
          },
          "hovermode": "closest",
          "mapbox": {
           "style": "light"
          },
          "paper_bgcolor": "white",
          "plot_bgcolor": "#E5ECF6",
          "polar": {
           "angularaxis": {
            "gridcolor": "white",
            "linecolor": "white",
            "ticks": ""
           },
           "bgcolor": "#E5ECF6",
           "radialaxis": {
            "gridcolor": "white",
            "linecolor": "white",
            "ticks": ""
           }
          },
          "scene": {
           "xaxis": {
            "backgroundcolor": "#E5ECF6",
            "gridcolor": "white",
            "gridwidth": 2,
            "linecolor": "white",
            "showbackground": true,
            "ticks": "",
            "zerolinecolor": "white"
           },
           "yaxis": {
            "backgroundcolor": "#E5ECF6",
            "gridcolor": "white",
            "gridwidth": 2,
            "linecolor": "white",
            "showbackground": true,
            "ticks": "",
            "zerolinecolor": "white"
           },
           "zaxis": {
            "backgroundcolor": "#E5ECF6",
            "gridcolor": "white",
            "gridwidth": 2,
            "linecolor": "white",
            "showbackground": true,
            "ticks": "",
            "zerolinecolor": "white"
           }
          },
          "shapedefaults": {
           "line": {
            "color": "#2a3f5f"
           }
          },
          "ternary": {
           "aaxis": {
            "gridcolor": "white",
            "linecolor": "white",
            "ticks": ""
           },
           "baxis": {
            "gridcolor": "white",
            "linecolor": "white",
            "ticks": ""
           },
           "bgcolor": "#E5ECF6",
           "caxis": {
            "gridcolor": "white",
            "linecolor": "white",
            "ticks": ""
           }
          },
          "title": {
           "x": 0.05
          },
          "xaxis": {
           "automargin": true,
           "gridcolor": "white",
           "linecolor": "white",
           "ticks": "",
           "title": {
            "standoff": 15
           },
           "zerolinecolor": "white",
           "zerolinewidth": 2
          },
          "yaxis": {
           "automargin": true,
           "gridcolor": "white",
           "linecolor": "white",
           "ticks": "",
           "title": {
            "standoff": 15
           },
           "zerolinecolor": "white",
           "zerolinewidth": 2
          }
         }
        },
        "xaxis": {
         "anchor": "y",
         "domain": [
          0,
          1
         ],
         "title": {
          "text": "Date Oldest"
         }
        },
        "yaxis": {
         "anchor": "x",
         "domain": [
          0,
          1
         ],
         "title": {
          "text": "Data total"
         }
        }
       }
      }
     },
     "metadata": {},
     "output_type": "display_data"
    }
   ],
   "source": [
    "# Amount of data per year\n",
    "df = df_eda2.copy()\n",
    "df[\"Data total\"] = df[\"Data per Year\"] * df[\"Years Covered\"]\n",
    "df[\"NAME\"] = df[\"Ticker\"] + \" - \" + df[\"ETF Name\"]\n",
    "\n",
    "fig = px.scatter(df, x=\"Date Oldest\", y=\"Data total\", hover_name=\"NAME\", hover_data=[\"Years Covered\", \"Data per Year\", \"Avg Volume (M EUR)\"])\n",
    "fig.show()"
   ]
  },
  {
   "cell_type": "code",
   "execution_count": 7,
   "metadata": {},
   "outputs": [
    {
     "data": {
      "application/vnd.plotly.v1+json": {
       "config": {
        "plotlyServerURL": "https://plot.ly"
       },
       "data": [
        {
         "alignmentgroup": "True",
         "bingroup": "x",
         "hovertemplate": "Avg Volume (M EUR)=%{x}<br>count=%{y}<extra></extra>",
         "legendgroup": "",
         "marker": {
          "color": "#636efa",
          "pattern": {
           "shape": ""
          }
         },
         "name": "",
         "nbinsx": 50,
         "offsetgroup": "",
         "orientation": "v",
         "showlegend": false,
         "type": "histogram",
         "x": [
          0.49254551796379337,
          2.160326397042105,
          1.6281279156047248,
          5.4510443969494355,
          15.223571442462195,
          17.698471095893137,
          0.7386806030468571,
          31.597794308174823,
          57.46685449269613,
          68.39013056204715,
          0.8507670705936323,
          6.340377728636086,
          49.88958749865146,
          9.186125502339763,
          5.431974800867768,
          19.25536519816766,
          21.70855333337287,
          3.380101201742811,
          5.365631036297608,
          53.19152501939706,
          66.2278902573476,
          60.57799753006222,
          76.18112797433064,
          18.796674262703092,
          104.29728649695933,
          6.6206082439253,
          57.05349338210966,
          123.18853675766246,
          24.884793758819832,
          77.89211121006404,
          61.58117996375358,
          0.7950970135698174,
          17.312813062284587,
          26.99139845641034,
          0.884889550138182,
          34.8934222892053,
          7.297861922472822,
          44.04621622661039,
          41.00583048565764,
          28.795151699849033,
          220.05175405650837,
          37.652794529683234,
          21.117752695135245,
          6.869514572928756,
          22.089163580889565,
          37.431161673749415,
          64.87356279623977,
          4.992018989894652,
          1.8127001594729526,
          7.27890187706081,
          34.59914421887918,
          24.947838229668143,
          2.5447138475742475,
          1.0620588905461545,
          5.761439922932851,
          133.90690980910307,
          2.4314845608928572,
          87.45973344707605,
          15.66214150622738,
          2.607327985277985,
          23.436108623846586,
          70.9039049666321,
          21.00686880808323,
          12.3621887010272,
          4.551972001587755,
          50.79776250864762,
          19.958382008794644,
          9.341981444381119,
          4.628695111425301,
          13.842404030504593,
          102.26263742276156,
          7.989204329459794,
          9.612171698785883,
          3.5452159660497085,
          43.71268164514652,
          1.2289761721909784,
          10.754126606383878,
          1.2725762977687514,
          2.5273802484543753,
          6.164882929162918,
          1.0563221469847655,
          5.967050890588347,
          1.5695201293528207,
          null,
          4.5187443779546514,
          11.8805728690821,
          20.639862392989663,
          52.88310270691444,
          2.1759004158033957,
          56.34495350965701,
          9.493484497562743,
          0.8725234281317884,
          null,
          81.22315810399753,
          17.32722015320404,
          85.5551534173325,
          11.078790101357423,
          71.66348358662822,
          29.563616230730286,
          145.9006405319614,
          1.7356026937614815,
          0.9962717959112338,
          4.917605758193109,
          4.192298921436801,
          0.43194380842331964,
          0.7730248339911342,
          0.9117984368344194,
          1.1620883802545596,
          0.6961179281669576,
          0.8765903038983649,
          0.638298625148556,
          0.8981995995747081,
          22.59093207360289,
          8.004900191024142,
          28.491767928242474,
          7.168182516706489,
          40.73435378641047,
          37.965805552900875,
          47.554465144348086,
          19.60907569052664,
          24.28238496852657,
          23.852295851972077,
          6.037788276389325,
          20.22461303275899,
          21.587670763630047,
          44.54528939493506,
          3.264952778928346,
          1.6818773584589792,
          18.427018915385986,
          71.23131101725258,
          41.48894077576592,
          28.587520232282927,
          34.01787798031254,
          17.094830144056306,
          6.172100652750737,
          51.54392312029937,
          41.69345141941095,
          65.59722299750518,
          17.875583150857903,
          0.19523405720030002,
          0.2519928702018095,
          0.43613575208909083,
          0.46153713719966666,
          0.45803186143739133,
          0.14547651731133335,
          0.2973709053510724,
          9.230776775646094,
          2.930728121413727,
          0.6652001170361671,
          1.4492901625199315,
          0.07659217055438708,
          12.099836013607957,
          17.38429602814303,
          5.133831928512329,
          6.765884012725417,
          4.629110520882184,
          0.14285257162666667,
          3.7979463432602767,
          1.6029478111916007,
          0.3658068648837837,
          0.19111266322513595,
          0.2902380183785,
          0.45420540485833333,
          4.724576822896918,
          4.640097942125441,
          1.09909889404989,
          0.11360209368913371,
          0.04457932893672728,
          0.49126047484906105,
          0.08597840489988572,
          0.19596260122332196,
          0.48352241196411855,
          1.2498615729304614,
          0.0743792467976,
          1.7075721722479649,
          2.3557430872451213,
          25.66880140804021,
          0.16348421892511766,
          0.25056147275215584,
          8.027136070067316,
          0.3162889588161457,
          0.4758269439622128,
          4.683909837291209,
          0.665346818281785,
          1.16929024974237,
          0.5412823200373452,
          2.4974332102141648,
          0.500653895725477,
          0.6915991179937289,
          2.3451932267935094,
          3.030344248405864,
          0.28445728171457696,
          0.22347086610907932,
          0.5370926700211297,
          0.6011683712454329,
          6.317405930707237,
          8.257098726588591,
          3.5726119876270013,
          3.422425991004384,
          3.254650598843951,
          11.57879564167479,
          12.135599785255431,
          8.37801435526261,
          0.7784016852093065,
          5.871904122672519,
          6.050947406992846,
          58.0246978460206,
          0.4479628500351557,
          0.09126780483590041,
          6.357194668643279,
          0.1347839179786423,
          0.022995723561992174,
          6.186402192101581,
          3.327162525943553,
          3.005630029714797,
          2.359449902105925,
          1.9543531737364956,
          1.6833682118506301,
          73.90370288589179,
          2.2937469044018726,
          1.377651534563675,
          5.485928508428566,
          12.109008883058522,
          1.3098904327119771,
          41.58009334250106,
          1.0703524291877575,
          5.000254261999765,
          0.2872493215595983,
          0.32091639998211047,
          0.21535860036740875,
          0.8428900630566699,
          0.3276178562958952,
          0.7079783936244736,
          0.30213592260717104,
          1.0272227675725474,
          1.0356836853979772,
          0.24924361711051088,
          5.421638592505874,
          0.3384529740731001,
          0.7922545218525047,
          0.22419793048844855,
          0.39572532615129646,
          0.8258054548979606,
          0.5824735382306039,
          2.104982469660468,
          4.889740787958397,
          6.805423888631486,
          6.624499082604897,
          1.348191013710109,
          1.9814540167767212,
          5.2247400717825965,
          1.0318676460531138,
          1.1932850524187502,
          4.582194124000118,
          2.1496679132902745,
          0.5557291533977906,
          0.6791996925696429,
          15.504141513391199,
          0.0809962428882889,
          0.05568155292622581,
          0.15785124590829996,
          0.21510447331239918,
          0.05042548413271052,
          0.10103031259706781,
          0.05525956626511651,
          0.11510429367799999,
          0.18767029709410002,
          0.5496402787738637,
          0.08148753714545146,
          0.2639446753949195,
          0.06173376025864714,
          1.0333656255029413,
          0.41846114637799997,
          1.3485143946918947,
          0.3299095170857743,
          0.13918885322192856,
          0.260723211639375,
          0.3228590189859564,
          0.04519755727585527,
          0.3863524364698167,
          0.26644369733501666,
          0.5424219475469375,
          0.2366519437523241,
          0.16030352712778845,
          0.13294838391287056,
          0.9456868305274901,
          1.2880793418242427,
          3.7508028626976926,
          0.8552651681770271,
          0.5788655111808824,
          0.8301328236637756,
          1.776471085770588,
          0.9186218792800884,
          3.5364792437988806,
          10.375400966581294,
          0.49573078897965744,
          3.8635324964849422,
          3.2336049300826004,
          0.33325811004967604,
          0.331100422321191,
          1.2392360990577587,
          6.668893355259769,
          0.9164987459254067,
          2.3612849138247896,
          null,
          0.1696721701516,
          3.8987766106575252,
          0.7657483454214332,
          7.015439640975777,
          24.258021197530596,
          1.4126599457410869,
          0.4641354892924383,
          0.9486904989519637,
          6.003868835964071,
          2.3055226115234095,
          1.5789163687719079,
          0.18595800031059034,
          0.2480630764,
          0.07439438791875,
          0.6161378446698195,
          0.3295281669058241,
          0.09383825095745714,
          0.24402565117187502,
          1.9487212567392331,
          0.9261337365900525,
          2.300201994123835,
          0.9135535799981556,
          2.272687515590462,
          1.4342285866268398,
          0.3464320297504103,
          0.06992508545207143,
          0.14398007852655628,
          0.09337274381314295,
          0.7878376525758771,
          1.6388594825005323,
          0.246082159058,
          0.31294253761520546,
          0.14228386130348783,
          0.16539935225450292,
          0.36370280501531005,
          0.9065873234392544,
          0.2685616965761015,
          0.11470770769741953,
          0.12696158813247058,
          0.0949830060486199,
          0.12136227526417731,
          0.25545804740253913,
          0.11816192052530666,
          0.19907519581088323,
          0.37576159802895837,
          0.5985766112809077,
          0.16181127173989124,
          0.5946350176824156,
          0.20666793977230305,
          0.11693699451964705,
          0.06523751266466667,
          0.27843264309635557,
          0.30180652411091047,
          0.45904023555688733,
          0.1403080237174455,
          0.34350149012603304,
          0.7497123087795018,
          0.07251348306805706,
          0.07941196783496175,
          212.9232354456074,
          16.41219941787116,
          0.389346450226867,
          0.3554137211284173,
          0.33566331679155176,
          0.5983767809028333,
          0.4889793072241668,
          0.0033975886000204942,
          0.009136791326421428,
          0.004659238611511963,
          0.23604111693435328,
          0.41390216018141307,
          0.007296948081849709,
          0.11846542309033088,
          4.521104229744689,
          0.027074600521677886,
          0.09482598533948157,
          0.10490284304866548,
          0.35863387341359165,
          0.48513130080845995,
          0.042703126769003875,
          0.04204640665897103,
          0.058924317675,
          0.05873388432041477,
          2.635984436322986,
          0.1539912987025018,
          8.827597081113804,
          409.55469337801003,
          0.9625541494257486,
          4.53901766333444,
          0.4959702215708018,
          0.0012435366867967334,
          0.1698706466998665,
          9.465709987685765,
          0.3043531272472048,
          0.09124012307509971,
          0.004725344530995412,
          0.9315200431370094,
          0.010860944388255066,
          0.6984182553562556,
          0.20253797954248962,
          0.15269402157455259,
          0.8231485249683425,
          0.3323059506031072,
          13.589585439303468,
          1.0999501393861588,
          0.05859226087174402,
          0.13770063045333333,
          36.753489819062196,
          0.0784483256478592,
          0.01162267086726989,
          13.729656926136052,
          16.0918307844852,
          24.939209744844188,
          0.33422872526691183,
          0.0718113140662987,
          0.013762291308635937,
          0.011271225225597682,
          15.597809718550346,
          39.51178105688275,
          0.054565775955223876,
          1.9560142903346285,
          0.008212304373333333,
          0.0126008971126,
          0.16838874692789554,
          0.11932755968210784,
          0.07987452759302631,
          0.08904376909768333,
          0.10858324859116156,
          0.4339434911325166,
          0.1599208453182803,
          1.29283600057162,
          0.577895423599685,
          1.7249487087012993,
          1.3905363539644287,
          0.9867295473193197,
          7.9193978572413295,
          4.898526996643452,
          0.24248536432643333,
          0.36038686398753,
          0.43369624385266664,
          0.664720416427,
          3.376843331426119,
          0.4049429089625916,
          0.2778254393965714,
          1.0304686904899367,
          1.466488425237145,
          0.1474152929659512,
          1.335790605283562,
          0.4007223503806058,
          0.26991248922458533,
          0.26070661085999997,
          0.9217061560488345,
          0.6481232184692771,
          0.31127480888575,
          0.46618458822705183,
          1.2133426943498664,
          1.9937565294603803,
          0.45948730813021427,
          1.7463626440966808,
          3.9097788845041554,
          0.5188757865066077,
          1.6436361374621806,
          1.4075999893855817,
          1.6652895179872882,
          8.308466164876778,
          13.968248974891194,
          2.147937082511448,
          0.38812227573679997,
          0.4852033100006625,
          7.820237732121565,
          0.5899054601490384,
          0.5908936518144139,
          0.23585207358317756,
          null,
          0.4285166499652551,
          1.163046980858487,
          1.7763919546003555,
          0.5831727602196387,
          0.6749117589386598,
          2.2121996544006755,
          6.0071616600628905,
          0.7367658024366655,
          7.970920436369796,
          0.012047987179999999,
          3.245849716262244,
          6.305493337558219,
          72.44609854280885,
          4.724938051027697,
          73.13810514982998,
          1.220610915685821,
          133.474509991116,
          71.39838871148366,
          185.2620092291132,
          102.9601508763106,
          0.22180584230699998,
          0.28421790919027673,
          0.6451486711131955,
          0.11333702913160418,
          null,
          1.5042572719178533,
          24.530981673883613,
          2.073512601053501,
          4.061952418937184,
          1.2590456005244388,
          0.5540854485704427,
          0.8574354287205913,
          0.911693637287579,
          0.7006129191450956,
          23.954844085925526,
          8.84656011722851,
          0.539578892816995,
          73.63902187168064,
          0.09033841942368373,
          0.5850339072844446,
          1.253860847722114,
          0.6230997876386604,
          0.15765119581559503,
          0.269298283465037,
          0.8652424844830079,
          0.2289542505503333,
          1.9655486432048532,
          0.6871391558382064,
          0.09751276249855405,
          92.82863047401608,
          0.0620200862062697,
          73.88620826223178,
          20.519387801246136,
          55.81480253333706,
          7.340784985686734,
          6.665061897986003,
          0.5920341030566543,
          1.3319332947524596,
          0.1676755825799389,
          6.5109123043859745,
          3.9218016949131975,
          0.3392037148858593,
          3.6886288974229045,
          43.97553830448403,
          0.1739105114841184,
          3.314589903100275,
          1.651332421766575,
          4.835093431071795,
          5.39048560195776,
          0.9297595127748502,
          0.018969982360202125,
          2.0179692939377882,
          89.7331995463812,
          8.933707969213875,
          19.699049209220668,
          1.2886785394272529,
          8.32825936411756,
          293.4116513054281,
          1.1875329351297308,
          0.9741396942005001,
          2.1396413032071893,
          0.6611505668400827,
          0.2508767948086889,
          0.1678597828549271,
          1.3522331671187497,
          6.059946668770925,
          5.3207774788627,
          0.6663828551195748,
          16.882829607046318,
          4.846849014775253,
          3.8776190573101195,
          0.2270129749125,
          1.3672130342036806,
          607.1835748862015,
          5.36783530413803,
          13.17584001119948,
          0.30850369575037356,
          0.3725628644180743,
          0.20936282903483336,
          0.5468434578825682,
          0.0012688556600000001,
          0.04542706750682143,
          2.564704159796239,
          6.220493242011117,
          13.944978281259685,
          86.3365696065421,
          1.7874729190333252,
          0.5513771212497983,
          0.2845045632419581,
          1.8340768143269188,
          1.544900183153883,
          1.6543527445609076,
          15.544983085762164,
          1.8739115143909093,
          0.019134568867965003,
          0.030813042935323526,
          0.7461591720060362,
          1.1966278782962598,
          0.9445151921929309,
          72.18247507587787,
          0.8825488593064648,
          0.05178012977917001,
          0.07113910584677777,
          0.20495497079245,
          0.427796079004136,
          0.18324180900802742,
          70.28271587976636,
          0.2363917415644173,
          0.4831422577971951,
          0.2928595667371382,
          99.8022574296736,
          35.437325621291386,
          96.70952348341915,
          0.5455164990596225,
          158.7932612084841,
          137.3582413162559,
          45.63287602270153,
          32.5154272663935,
          3.0200799975077284,
          68.43978744303911,
          0.1104302989239565,
          2.271249409043298,
          155.59061583689896,
          1.3934125169062626,
          0.1384773233375192,
          2.9462386165474364,
          26.04706688472968,
          238.5719440921929,
          37.67810777698748,
          30.359212900475544,
          16.186105096258075,
          217.82415583751973,
          274.52287015594123,
          48.175963085891276,
          110.94507062724831,
          0.6439640141193496,
          0.5628425551815466,
          333.61799924010637,
          0.9927342659034379,
          157.30959450691273,
          1.01238378946476,
          129.14680399030178,
          1.2454400048594558,
          3.5687988475574937,
          5.98083444811522,
          1.4358118331626106,
          7.028407162644722,
          12.23895843106781,
          0.0969465871082927,
          3.40973497693612,
          119.4608254788233,
          230.70027273827202,
          80.94551488918702,
          121.8547841177083,
          165.70083929901077,
          231.4012986878232,
          6.808488601175665,
          4.64453130890908,
          57.45792276707215,
          94.71299043635896,
          0.7421132691851764,
          35.143442432016016,
          43.385761987093204,
          29.09255177922687,
          59.8362917063819,
          190.27598209957594,
          1032.1973673198625,
          72.57549805641216,
          2.6832772795645674,
          0.9824146095656648,
          2.168351331059659,
          4.678868177019449,
          6.508346708281175,
          7.361645282778598,
          14.503989670671913,
          4.991332233572761,
          16.574002323457034,
          0.3731203119111784,
          0.9591465840493638,
          2.897179938929762,
          0.26984464767489685,
          47.198452833856884,
          17.769725633393307,
          0.5703427792638288,
          12.175706323763427,
          2.0723555975254477,
          24.098279064950443,
          14.843003024516467,
          1.7741141996333514,
          14.76014360203837,
          50.55606825079821,
          43.01261609666072,
          7.418938881090256,
          7.484966104129516,
          15.765395655902918,
          6.0430371362559825,
          1.0055836834997438,
          0.7629516565354197,
          55.40321270190025,
          28.48062126445475,
          0.1658198898923284,
          14.511752946788059,
          43.40038156620225,
          29.312524066773,
          7.075533065643353,
          14.306205900708795,
          99.39555151789985,
          4.193927721414497,
          0.9200218361998048,
          0.5635043735140065,
          1.3898472377591953,
          1.7832697053258058,
          1.5881932457553845,
          95.5430361960262,
          155.27539185582305,
          17.29200904550616,
          173.34055356467445,
          98.47842165089631,
          0.7581418299511632,
          34.32168101239108,
          0.11627139056022963,
          22.272557210376817,
          4.382710839761694,
          38.99825861785304,
          19.912205768601844,
          0.20361492620311075,
          32.33056146499999,
          0.3530201544994148,
          2.5044615877583207,
          1.1581117626503887,
          9.991638073248202,
          82.95188623225884,
          0.7605844852895721,
          3.740627643638492,
          0.10705222244997917,
          7.0652802146775375,
          18.802190527050257,
          0.4759218808016034,
          0.06094365917374914,
          108.85406203914036,
          5.137703193111667,
          0.6473144140550716,
          22.054791153692094,
          21.626564288149744,
          15.069080587876396,
          13.992635159780408,
          6.365232153154188,
          14.836083944564587,
          5.950980300665377,
          1.5102970788361931,
          9.667319013873191,
          5.404344039903638,
          10.185121013602956,
          1.360557529221027,
          0.46426237066332754,
          57.5044123807861,
          357.6498569846273,
          11.719441460583434,
          57.9335558215002,
          0.028454354640078432,
          0.08272169580657548,
          0.09644345791944443,
          0.021463300332625,
          0.8224278527196333,
          0.8137540058335293,
          123.65333843567046,
          0.1604792150995,
          8.579093241333851,
          60.53326334522339,
          627.0915841987268,
          31.41567581530787,
          8.500538899734021,
          242.6656246176123,
          1.901996857374478,
          27.73727727619687,
          75.64229128341942,
          2.1469463447835344,
          1.3821388966198394,
          0.5257220527174217,
          4.59655176683918,
          25.626126626433525,
          0.1251253310075192,
          27.431326414693245,
          1.2144705688173798,
          0.27979422831552925,
          1.413071468918149,
          1.4005333777140296,
          74.04113606367089,
          0.020332238524666663,
          0.2971658778281373,
          0.4237326738375,
          0.5295784419210525,
          7.934809167397503,
          9.580395024731999,
          2.3543810643547403,
          0.5947916724133929,
          22.52519185671785,
          12.36222826375324,
          1.3316008918239584,
          1.7042676579800846,
          1.4971294370152235,
          0.33884080847381826,
          0.6718480534375,
          5.696904077153499,
          8.480611807652993,
          105.26883494253326,
          5.466149703325952,
          1.428181383211842,
          1.566166277103375,
          2.944020626903884,
          2.079005997735898,
          12.362312879774295,
          4.881047091827031,
          0.5323409003416667,
          0.6557649317996791,
          0.9832918821666665,
          8.38324525152,
          15.590663165707694,
          0.8552106344826089,
          0.7012050968823035,
          0.8456708847702588,
          0.6466368573909091,
          17.264156893196386,
          0.21098491093750002,
          3.94601407620099,
          2.3974018849750003,
          6.1270313648339485,
          18.823508697976813,
          4.111274222267663,
          10.664793846436277,
          9.266281230256082,
          13.241259270489506,
          4.164733727759879,
          0.08852924167592682,
          0.1369766106697009,
          0.09218726879028571,
          0.18042050169166665,
          0.13224882692083334,
          3.4211971535990466,
          0.36097407402514287,
          10.848695712436244,
          0.6280856897482048,
          2.4026592171188237,
          1.9465344348443354,
          19.787627239926856,
          77.96837714620433,
          3.702381254877481,
          0.37839257926675235,
          1.4799125861765898,
          5.3434712595599825,
          0.1826483667034384,
          0.7971985223505786,
          0.49741067695232116,
          0.23506675503865002,
          0.2427714556028866,
          0.29765455366620774,
          0.16936349314048485,
          0.47427766963299994,
          0.23206329807222748,
          0.09914945861024288,
          7.6069129841440155,
          4.177222679010982,
          5.779015842314454,
          3.2295840517719996,
          1.160017075693871,
          0.3828217554518462,
          2.1761325287791853,
          0.12546068508020633,
          3.0036666384961013,
          0.0428366598768172,
          0.8528049810621955,
          0.0901161837944382,
          0.11840749154657387,
          11.292042466573381,
          4.541419517842318,
          null,
          0.4365170578804565,
          0.919059019935754,
          0.06858691758695477,
          0.18728129725578263,
          0.22232355951311808,
          0.0013918793100117393,
          0.30738477875641174,
          2.2470995804120797,
          0.16889992589352812,
          0.03960740422320637,
          0.43330399689434157,
          0.007270298454113751,
          0.2328428108724027,
          1.2442990007207704,
          1.1251632646664622,
          0.09737640663375069,
          17.16372872843301,
          0.5449677480323333,
          0.856652230946831,
          5.814012463697406,
          0.023503636308000002,
          5.357417307367767,
          null,
          16.73901996513494,
          2.7495026059230665,
          32.889517167829325,
          50.815397800853006,
          69.84216317760678,
          83.7597596994676,
          2.313037522085622,
          2.7843094997124735,
          0.9797941811880141,
          0.21988159580002212,
          10.064904467095086,
          7.261897835304905,
          121.38519716377485,
          null,
          0.2948410596545944,
          18.06517045927814,
          3.6977676260258336,
          0.20037627868942853,
          202.54051730080678,
          17.145031201735375,
          365.4811684684833,
          3.0829894838688854,
          48.00265440516832,
          18.74906345571412,
          0.628344741676391,
          34.565145250179775,
          10.609950391295124,
          0.3598410733544502,
          14.684615921337784,
          0.1774950324921044,
          6.141799526959925,
          20.628155623693143,
          55.851151243653824,
          null,
          169.63654361059616,
          0.847543090826932,
          49.649845608778,
          196.3193093970665,
          50.17394721280888,
          196.58657538311016,
          76.76048133328572,
          109.98537412921297,
          0.4858460860765458,
          528.4946629804683,
          167.1779670168747,
          15.169322184859473,
          24.610710491702548,
          35.003755881155115,
          154.79178520505877,
          57.31325878276681,
          16.766498881172016,
          7.599215961210274,
          35.79376165710382,
          23.692135425692197,
          12.952117897644873,
          3.483480907170479,
          1.754080938011041,
          12.075708398069866,
          199.10352571902166,
          1.1614388744450248,
          230.76326780821975,
          138.75333666035692,
          61.76346673224986,
          414.64073884736445,
          2.2193933346155226,
          0.5254785233463238,
          0.8320083565962021,
          31.72841699791989,
          0.19654604580986731,
          32.92402854127635,
          9.005046331615517,
          4.406742874871667,
          56.75390326905901,
          25.396647616439314,
          13.317335357067936,
          15.009595101076354,
          145.4399399575713,
          19.176681781194237,
          20.257954726264984,
          7.148004018466732,
          209.80445315516764,
          4.266153385547207,
          5.246705743162845,
          7.192989842200104,
          0.4923494233681787,
          1.5544979443973388,
          11.261484202557822,
          8.360130941760255,
          6.398292924331402,
          24.223680623068365,
          13.323023240300593,
          0.29957426422390676,
          72.82016211745167,
          8.876698486343296,
          0.9488714378264405,
          3.392102150175257,
          0.40078710042826104,
          25.512152200610213,
          8.546724576229572,
          11.767943790998267,
          1.1894439528458458,
          0.5139471594935232,
          9.109545259091425,
          0.9341757533574032,
          23.148664668867184,
          43.352598282683836,
          0.5667064479691175,
          8.313568780013657,
          0.17737006830091331,
          10.840806322207305,
          6.686199568528938,
          1.511005355791645,
          71.21309881944028,
          0.21876413302741457,
          6.712231203628577,
          115.30288408471675,
          0.914161020872851,
          94.0703886387359,
          34.12441863336828,
          237.21765006979805,
          13.441018060988522,
          0.9073111761010367,
          1.3289298804188332,
          0.16831676783894628,
          0.7581612938599734,
          0.4107619573595707,
          8.382951986761148,
          9.538652652900355,
          164.16394047563278,
          15.672819336000206,
          5.573727416913062,
          179.12766368376253,
          449.3357765688731,
          6.519311963153665,
          5.858160978203359,
          13.022033304300587,
          26.080492244774174,
          37.894761132685126,
          9.054937962112168,
          3.8819954469725775,
          5.080909149955043,
          11.387763474637666,
          29.441958081463984,
          4.834751094922606,
          1.842889093420104,
          3.668764422575885,
          6.141017521704578,
          7.905403458968454,
          4.061375237275246,
          9.204906032348278,
          2.6760102176060747,
          11.535030444580412,
          26.09494798027204,
          0.4693119427385966,
          36.16715535940759,
          28.224606654136757,
          10.659736367230613,
          0.10145994632379862,
          0.04718010157038095,
          9.922221099546192,
          0.2225127553076923,
          13.230277136420487,
          10.788159151210742,
          1.2100856086091325,
          191.8528295724907,
          32.366001827710605,
          5.304540166558168,
          3.369558126328313,
          10.494766337826121,
          3.708381272318072,
          9.691698638412177,
          15.463247177091665,
          21.699321016435007,
          1.7509467845657984,
          11.1763576108778,
          3.159678462765241,
          85.38569472022458,
          27.657440792296864,
          0.23917700519608276,
          0.5247057491900897,
          0.03476663400110465,
          0.11372921879351049,
          0.26397941986730267,
          0.07468386899174193,
          0.030345819603494417,
          0.635005195312237,
          0.036407007127921394,
          0.04264985636470588,
          0.09354201296931815,
          0.02751338165404,
          0.05347492831322728,
          0.16738899738105883,
          0.04892343970081539,
          0.19707904389326925,
          0.012877827540923405,
          0.3602295615184615,
          0.2555539302274387,
          0.26179116550138887,
          4.389896392718182,
          0.10863667906275509,
          0.04840725390833333,
          0.47532845170664545,
          0.11639037667078948,
          0.9063324809748604,
          0.059680298246861115,
          0.06280466126897906,
          0.4416090503642045,
          0.3119630731438462,
          0.16666862028991933,
          0.34269813361566664,
          0.32189334739037767,
          4.742781734955566,
          0.6730068505242834,
          1.8178398401551559,
          0.586418793617635,
          7.655064154197149,
          1.6043019335515707,
          20909.109971263617,
          5.190768249269266,
          0.10022495351201316,
          null,
          0.112703443,
          0.1049233730978871,
          0.21380681452454275,
          0.5155069733071429,
          0.34147133466343615,
          0.12172407674701755,
          0.22199074579166667,
          1.191931152427907,
          0.5777836391641026,
          0.1044427670856762,
          0.5452982573265626,
          5.030317402368182,
          2.2277051413833333,
          0.09843182759200002,
          0.14470647265833333,
          0.07734350989,
          0.13591872115565665,
          82.69845465059737,
          null,
          0.14959946354815637,
          2.0161576439129494,
          8.71003968727462,
          3.466821618697626,
          22.978327757782505,
          1.4830279709270031,
          2.3186815054962793,
          3.3358422975742417,
          2.913370479090691,
          22.141325290760786,
          4.069233132308884,
          7.3985225063860245,
          2.067103976635036,
          1.5612978955836623,
          0.44422358489465413,
          1.7592232468075801,
          0.9348494424068057,
          50.432668602573166,
          1.9898392591863878,
          13.03094629924175,
          2.3630974064795427,
          20.453629413692006,
          30.1225375776395,
          3.749916612777404,
          6.7090629372389925,
          null,
          4.968169360689133,
          1.3424738755999999,
          2.0227671038544837,
          2.1226344056415867,
          4.215370515692356,
          8.138257225115531,
          2.0842133540308136,
          2.8441908643248714,
          1.4216069754507896,
          2.1892059575093157,
          1.0815521112601887,
          0.3017373850994286,
          13.966262435420374,
          51.648294928709596,
          5.0021775632532925,
          27.426833375613253,
          0.19377746899957407,
          4.646966916920926,
          12.394570503558244,
          0.14037909376103333,
          null,
          2.1562146617753233,
          8.120660704819972,
          17.589139502185304,
          28.409097924075613,
          10.333296503135664,
          14.500703379196008,
          32.9325309942593,
          13.406468867817253,
          11.384116507100938,
          5.016255577520251,
          43.028193391588424,
          12.067672520639157,
          1.7789427124500439,
          0.30704516321375996,
          0.31683508904311763,
          3.510384326434266,
          1.6084715020375935,
          3.4046366057574056,
          10.507044213651763,
          1.0706851909321362,
          6.378231111090087,
          15.201778811062994,
          8.344271987774206,
          17.78163118290803,
          6.92134627818857,
          6.306600386840364,
          6.94573385574377,
          169.8941896795046,
          4.161949461205537,
          1.390116246705448,
          9.97079457212648,
          11.802809134255451,
          4.755238889179091,
          3.01699548752794,
          7.554664838073533,
          5.347904013609472,
          0.4276465699965542,
          0.22019926214373992,
          30.41993585118968,
          11.464735518763666,
          16.91187015635147,
          7.006715931477217,
          7.683936933160849,
          7.259971242491763,
          17.897353775639488,
          6.784399564384391,
          0.8768014939172544,
          0.06300272392465307,
          0.7161814135187193,
          0.25092482240812924,
          1.1601240808328555,
          0.3138629985919448,
          13.460510196716035,
          0.43903754237790704,
          0.07943672846648937,
          10.3120399009625,
          0.10290054324324323,
          null,
          0.1387888194711286,
          0.5205741816696655,
          0.30436087505216153,
          2.3981668519920336,
          1.0434547589096783,
          1.421213919865963,
          1.9887957478766474,
          1.3834540190210447,
          0.41378994303093236,
          8.968229756643183,
          1.6723138023223512,
          2.6944899474641844,
          6.733935599986847,
          28.033258006714078,
          30.52203379286377,
          0.10169876186322034,
          0.08883929204914871,
          0.20717287536155224,
          0.04669222925908771,
          9.164355257916274,
          9.007206406850415,
          6.306244794643149,
          0.5938463039121981,
          0.7451960488359933,
          3.800507733355376,
          1.8488464910412172,
          0.35904022623316295,
          1.3106185816393632,
          2.0985392558543827,
          2.5767394849342016,
          2.4455083383390486,
          2.245442541537943,
          1.1789056273525278,
          0.7637958303163052,
          1.1120187164500843,
          1.6111354091850263,
          21.770437158194948,
          216.74549345085597,
          0.2249534103682474,
          0.13879824303860003,
          0.25124985739096983,
          3.1363758707224423,
          1.0052390925561396,
          16.664878968160913,
          5.508652728392222,
          0.3360753735353605,
          0.4012970207990159,
          31.34225556329543,
          0.12847630112299244,
          0.3223144291629947,
          1.3565070060203097,
          0.743586730744826,
          0.306868573330125,
          null,
          1.6885638852821665,
          9.149502108629221,
          4.629795081914265,
          3.1553410186579507,
          3.6900840674964535,
          22.121671289811623,
          0.3399422951994286,
          4.03828178192413,
          1.7891903863768246,
          1.7245476796064778,
          0.6297729400642423,
          8.660559220178044,
          1.1186121629338712,
          0.7961314703903848,
          0.7328010875644977,
          7.057993669455072,
          4.026478957020469,
          0.4398900668695096,
          2.4555510864483945,
          1.8107869093625961,
          4.651838892956257,
          1.545787342652733,
          6.039517708378909,
          18.51893226874212,
          5.605849622223471,
          10.400236254105879,
          6.392026489216626,
          5.095089238607576,
          1.1814015100882989,
          87.08257374515625,
          24.562105431212487,
          0.38352707672451153,
          0.5509926916768417,
          1.3490941803396301,
          0.5493212180481135,
          1.1215969578176752,
          1.065452244306086,
          3.2957631712803437,
          5.659213645201175,
          2.09553115318852,
          11.824712434517817,
          7.976817514511179,
          1.3732714157423016,
          8.28367986533581,
          1.8349854930003486,
          3.819207514571285,
          1.426833408573896,
          4.368136170337082,
          1.4038056085787993,
          1.4280024570570515,
          0.9447228733621256,
          1.1438151526142741,
          0.8090737184538291,
          9.08332654653034,
          10.772643741419882,
          1.0751463072892165,
          49.001784845703384,
          0.8298695429420849,
          0.02106479686027778,
          0.42083595029625814,
          0.39826041727092687,
          0.006450939520000001,
          null,
          0.9389129171338231,
          3.9749000255994527,
          0.9438716661595405,
          0.5837523526730928,
          2.651352934577257,
          0.39534750043392003,
          0.9522849388753223,
          4.90269043147036,
          0.13624203379885716,
          0.2991137978426999,
          0.0929748975450159,
          0.1439744929183529,
          null,
          0.010084692356,
          0.8501587546139999,
          0.11915441648422222,
          0.8988674714255055,
          2.0645229130386085,
          1.557002068266559,
          1.1998210516851038,
          0.09718166468574999,
          0.025313860693750006,
          0.188237700191,
          17.377382720610225,
          9.926996657353408,
          8.595282313465795,
          240.8733316905245,
          39.90480623326354,
          16.656672136119006,
          4.358046365039256,
          0.19694168203711654,
          0.0909501617899694,
          0.1136708170813793,
          0.7952181789323763,
          1.3184409915329527,
          4.942132245714634,
          0.10055949363714285,
          2.4082156028689963,
          3.625046244876965,
          2.324719738691653,
          15.522756414024803,
          1.726246465018569,
          1.3197009378274942,
          0.5951904821823333,
          0.14980907155207016,
          1.4767015597927928,
          10.755000086743678,
          1.1901902672933087,
          3.7892423006641205,
          2.8175640872357746,
          0.23561237272810448,
          0.4641166555046053,
          5.153509518967248,
          48.490565404941286,
          0.11180483218425,
          0.1423385299368031,
          0.04845115147484615,
          2.0642064108656566,
          0.5409557559801039,
          0.38071983887317923,
          0.5919083906102941,
          21.884377622549817,
          0.9808375151494623,
          0.8819870738891893,
          0.03659509662643314,
          0.033301970074371426,
          0.03715594104451948,
          0.07247913508531428,
          0.044386019413552635,
          0.05623625469480357,
          0.1539884730942341,
          0.09791452158667424,
          0.1659217553344172,
          0.049530287255689795,
          0.7166243262098788,
          0.09864010466436782,
          0.10627940493296645,
          0.01953331359423864,
          0.17090697367192306,
          0.11047978231381733,
          0.12236588521023026,
          8.881780144006658,
          11.9348967465438,
          6.86709860024703,
          13.641402949167459,
          12.090959598091233,
          2.0516260107375,
          60.78172922234051,
          58.007319237409185,
          3.941167943358323,
          3.443855895917254,
          8.410855561820954,
          4.670611064366518,
          1.1619266509398836,
          2.0927689012543866,
          2.5360064705732324,
          12.797218218411166,
          1.2720006876425312,
          2.0659649115085457,
          1.8358177588971367,
          2.7836346314261475,
          4.266291440136581,
          2.852285157975666,
          0.6202951808892393,
          5.202987732580644,
          0.7574271767107028,
          8.021239011244235,
          0.9902592962904648,
          11.083455178258719,
          1.0264688187561042,
          45.084011582803605,
          56.37510902466573,
          5.630421158043383,
          6.9310383339458,
          1.907893227447358,
          3.99757184534558,
          4.9149576998722795,
          6.063738732010077,
          4.279717336474443,
          11.011292475432626,
          2.485227237043272,
          3.555431934051092,
          5.79364720417744,
          37.16001465722862,
          1.4572723780630197,
          32.75308127811223,
          1.983532590149272,
          0.6793810945098057,
          0.36775994424508635,
          30.074408489072002,
          22.144663092575254,
          12.096152001143857,
          0.10541066692559421,
          14.109632367476484,
          0.14308766588814348,
          0.32819058569233583,
          2.321275105650602,
          2.7400020345377922,
          18.343745200009856,
          27.05402979518639,
          11.398926317341713,
          3429.963515967868,
          2.210167988610999,
          1.3432578729575086,
          0.12454109238817622,
          10.254296862743175,
          7.650102411904742,
          6.401727615882988,
          14.24358704967502,
          3.50821208706722,
          1.0561679782150002,
          9.466520750891783,
          65.3291416924339,
          0.36680515289045595,
          1.5167072669215458,
          1.7662606699250856,
          0.36107645288004564,
          0.26597829829706454,
          527.4948337222576,
          9.749712260285863,
          0.3793053802655047,
          3.855151770366696,
          4.283766292282767,
          0.20672698975385345,
          6.537736169562878,
          0.34563051584217347,
          1.1513256409027601,
          2.5322198676047414,
          11.576370501979309,
          4.772456964630199,
          23.89892777309092,
          0.47522601030296624,
          3.259320289536415,
          7.806835007466905,
          3.1810270306454758,
          2.3269971328384047,
          125.3395273450825,
          4.12960273181105,
          0.3788707442648661,
          0.3938045541892521,
          0.34275011220682966,
          0.25881893198963024,
          16.973342407790142,
          0.3748118163009091,
          1.8730173855006251,
          0.3989455729586747,
          0.18716198768000522,
          1.0202981333181729,
          1.5057033671338331,
          129.03219369203023,
          5.461622214028769,
          2.400263304974648,
          29.45940985581624,
          1.2604861854132074,
          0.3932994221837226,
          0.4024120824714103,
          0.6268440536253552,
          0.6045739300399176,
          0.6061961921429408,
          0.24969111516993042,
          0.9781318919376905,
          297.3789516395812,
          40.36591018383845,
          35.58950335218002,
          1.1596867115938556,
          1.6869192988465624,
          0.17224697855555562,
          0.1945088270536667,
          4.7470665743861895,
          14.593499368539389,
          14.560059639057862,
          3.127962391400205,
          0.22028805723917266,
          1.0368399747060748,
          2.655452931303594,
          1.6688320577141047,
          1.0455205329947954,
          1.1569759967865514,
          0.8982415421287829,
          0.33225185078812813,
          0.027207356123103026,
          0.06044050411089121,
          218.98297480606607,
          684.2651787085164,
          91.9246588588882,
          523462.9497946238,
          613327.5359356578,
          0.22218880365083937,
          8621.195488806881,
          0.13035285415225437,
          0.07960803262476925,
          0.6304547749549587,
          10.08045183216271,
          1.414161996320633,
          20.229150158723595,
          2.731211432348965,
          439.846128995542,
          25.685965165231917,
          29.12199851256063,
          8.170023072018763,
          17.887205306781915,
          48.482501938307486,
          0.7743058822213954,
          2.571709907358797,
          0.37042844550396387,
          0.15118876069667742,
          69.53110941830428,
          537.3987782965689,
          1.2254653227398,
          18345.985426404925,
          34.18166236021881,
          30.282840231750463,
          123.75474945290085,
          16.729293159951524,
          0.1896831527655826,
          1.4995448264470035,
          0.1489005289872857,
          0.062186904293796294,
          0.09235026551693151,
          0.12014863233308108,
          1.2070724319044448,
          2.4423042235442867,
          1.4727852260401555,
          1.197732681764031,
          0.6753817625080089,
          0.691653041586545,
          0.6809086695733287,
          0.035837904944,
          3.173201200074836,
          16.798027986748316,
          3.773922333367706,
          3.6358638727818184,
          0.3759758292470043,
          80.9783058984141,
          144.01928353513614,
          9.761991946042302,
          29.86255835506208,
          0.4886488852477942,
          6.902709897848337,
          1.4462672813468116,
          11.511202801689388,
          3.8980952426653475,
          11.207205267950467,
          140.54381520689932,
          0.4492814278583333,
          0.6437196398480769,
          1.618973248088942,
          1.179286315580386,
          0.6738272897088887,
          0.723326804595,
          3.548368399416492,
          62.72182178305321,
          67.47710638234196,
          35.66101264556612,
          1.2427875374532058,
          1.4027143469650003,
          1.653806705891304,
          6.43007046490339,
          9.218400958376613,
          1.5886384269924552,
          9.535404527565554,
          5.9919735485494465,
          1.3565932877400568,
          3.0021330067912615,
          0.8780907516685114,
          4.011172854505782,
          3.8487476290551528,
          6.889543474825326,
          0.9035441826575937,
          1.3154441150450185,
          5.4238799113586245,
          1.830198132295058,
          5.957665714241603,
          3.5284562721898856,
          0.10854031721546734,
          0.23137098414581247,
          71.86468131797693,
          72.97202234213408,
          3.293847721873841,
          2.698420259643675,
          259.9422490148629,
          20.139080764328543,
          71.4553316483088,
          69.2510653308607,
          42.058345003390855,
          54.6406001932972,
          84.88075236830484,
          48.044203956373245,
          28.462018074447442,
          107.52088792684049,
          50.19174243360962,
          93.57108659246506,
          12.465871709574216,
          113.67124472824568,
          14.155488919508386,
          129.81575351143175,
          6.42741246358463,
          2.1220230617269826,
          65.25086151169891,
          29.73173034197773,
          7.434396189163987,
          7.234040856302551,
          3.061613602559782,
          7.048592821324289,
          37.24115773497148,
          102.0307715128722,
          1.0900346320350252,
          165.54171486450892,
          0.8603088144241935,
          1.5474159697416665,
          6.413767897113213,
          10.17970608626251,
          0.876232976242778,
          6.015974919220197,
          20.39383687050318,
          7.021530985095645,
          0.3828789068094872,
          9.323261375771073,
          0.40998905689594023,
          11.013099123095797,
          2.236091514848387,
          1.6547244407900976,
          4.0687673275026555,
          38.50095424353605,
          21.534376312721744,
          2.2878333297161433,
          4.948308159732376,
          18.32673669083352,
          5.645459858099999,
          5.940845241603405,
          5.115130478199928,
          26.224216262506182,
          0.2234379581364407,
          0.6675017942534482,
          0.4362193454315217,
          0.1763090706638889,
          0.2326060626677884,
          0.9427873328108889,
          1.44737926334375,
          0.40183606024999996,
          0.41377727209166665,
          1.9294147713135923,
          0.49741421024266314,
          0.3943366505446579,
          1.400886833600056,
          14.987937684469474,
          3.9858259953862127,
          1.0725010263009653,
          15.208435079283035,
          0.7481691976224615,
          0.48790233222946433,
          7.293893248114932,
          1.962393421410574,
          0.18946049060284376,
          17.03079244762822,
          3.6866785468023178,
          4.949660880843285,
          25.873739062525225,
          100.68598993498749,
          7.804037277735837,
          1.3036817106352507,
          2.6605023958281766,
          7.4753164442964595,
          11.23178534342482,
          0.36274293583626016,
          9.706641792781413,
          4.2878030301391705,
          5.281127267262597,
          11.852554879438305,
          5.841141281160152,
          17.883567376122958,
          6.100705125447323,
          4.213931566197772,
          5.4884150471192505,
          28.70335689225153,
          13.93996566055671,
          27.162450810817226,
          3.8342135160097697,
          5.655785813153788,
          5.179971224505856,
          1.815709804040678,
          22.87509144485281,
          3.9947854071980653,
          75.92029696539397,
          222.35237413594237,
          4.297305872191557,
          20.33351820244731,
          51.32768999361706,
          0.9448190734418352,
          30.518401204168825,
          42.141229228500265,
          2.593167661708251,
          25.5700451352293,
          0.8998042790196762,
          23.035950726796933,
          2.603462683040461,
          0.32629277942884616,
          16.34485801495732,
          49.384654745902694,
          0.2747263993760946,
          0.15418067275856082,
          15.75592206410091,
          0.2636890920575402,
          2.798433362688797,
          3.8090396947405174,
          1.0261823905721272,
          5.518042211510129,
          88.77984198961089,
          31.035577718767687,
          5.0512931269686625,
          27.515641457423666,
          3.1671578787619996,
          3.4024768247274997,
          1.082298029989286,
          0.3744512804785129,
          2.776744634343733,
          1.0931413160914192,
          2.643452224779741,
          0.5918462478677083,
          0.8808851776560621,
          0.9611645068178083
         ],
         "xaxis": "x",
         "yaxis": "y"
        }
       ],
       "layout": {
        "barmode": "relative",
        "legend": {
         "tracegroupgap": 0
        },
        "margin": {
         "t": 60
        },
        "template": {
         "data": {
          "bar": [
           {
            "error_x": {
             "color": "#2a3f5f"
            },
            "error_y": {
             "color": "#2a3f5f"
            },
            "marker": {
             "line": {
              "color": "#E5ECF6",
              "width": 0.5
             },
             "pattern": {
              "fillmode": "overlay",
              "size": 10,
              "solidity": 0.2
             }
            },
            "type": "bar"
           }
          ],
          "barpolar": [
           {
            "marker": {
             "line": {
              "color": "#E5ECF6",
              "width": 0.5
             },
             "pattern": {
              "fillmode": "overlay",
              "size": 10,
              "solidity": 0.2
             }
            },
            "type": "barpolar"
           }
          ],
          "carpet": [
           {
            "aaxis": {
             "endlinecolor": "#2a3f5f",
             "gridcolor": "white",
             "linecolor": "white",
             "minorgridcolor": "white",
             "startlinecolor": "#2a3f5f"
            },
            "baxis": {
             "endlinecolor": "#2a3f5f",
             "gridcolor": "white",
             "linecolor": "white",
             "minorgridcolor": "white",
             "startlinecolor": "#2a3f5f"
            },
            "type": "carpet"
           }
          ],
          "choropleth": [
           {
            "colorbar": {
             "outlinewidth": 0,
             "ticks": ""
            },
            "type": "choropleth"
           }
          ],
          "contour": [
           {
            "colorbar": {
             "outlinewidth": 0,
             "ticks": ""
            },
            "colorscale": [
             [
              0,
              "#0d0887"
             ],
             [
              0.1111111111111111,
              "#46039f"
             ],
             [
              0.2222222222222222,
              "#7201a8"
             ],
             [
              0.3333333333333333,
              "#9c179e"
             ],
             [
              0.4444444444444444,
              "#bd3786"
             ],
             [
              0.5555555555555556,
              "#d8576b"
             ],
             [
              0.6666666666666666,
              "#ed7953"
             ],
             [
              0.7777777777777778,
              "#fb9f3a"
             ],
             [
              0.8888888888888888,
              "#fdca26"
             ],
             [
              1,
              "#f0f921"
             ]
            ],
            "type": "contour"
           }
          ],
          "contourcarpet": [
           {
            "colorbar": {
             "outlinewidth": 0,
             "ticks": ""
            },
            "type": "contourcarpet"
           }
          ],
          "heatmap": [
           {
            "colorbar": {
             "outlinewidth": 0,
             "ticks": ""
            },
            "colorscale": [
             [
              0,
              "#0d0887"
             ],
             [
              0.1111111111111111,
              "#46039f"
             ],
             [
              0.2222222222222222,
              "#7201a8"
             ],
             [
              0.3333333333333333,
              "#9c179e"
             ],
             [
              0.4444444444444444,
              "#bd3786"
             ],
             [
              0.5555555555555556,
              "#d8576b"
             ],
             [
              0.6666666666666666,
              "#ed7953"
             ],
             [
              0.7777777777777778,
              "#fb9f3a"
             ],
             [
              0.8888888888888888,
              "#fdca26"
             ],
             [
              1,
              "#f0f921"
             ]
            ],
            "type": "heatmap"
           }
          ],
          "heatmapgl": [
           {
            "colorbar": {
             "outlinewidth": 0,
             "ticks": ""
            },
            "colorscale": [
             [
              0,
              "#0d0887"
             ],
             [
              0.1111111111111111,
              "#46039f"
             ],
             [
              0.2222222222222222,
              "#7201a8"
             ],
             [
              0.3333333333333333,
              "#9c179e"
             ],
             [
              0.4444444444444444,
              "#bd3786"
             ],
             [
              0.5555555555555556,
              "#d8576b"
             ],
             [
              0.6666666666666666,
              "#ed7953"
             ],
             [
              0.7777777777777778,
              "#fb9f3a"
             ],
             [
              0.8888888888888888,
              "#fdca26"
             ],
             [
              1,
              "#f0f921"
             ]
            ],
            "type": "heatmapgl"
           }
          ],
          "histogram": [
           {
            "marker": {
             "pattern": {
              "fillmode": "overlay",
              "size": 10,
              "solidity": 0.2
             }
            },
            "type": "histogram"
           }
          ],
          "histogram2d": [
           {
            "colorbar": {
             "outlinewidth": 0,
             "ticks": ""
            },
            "colorscale": [
             [
              0,
              "#0d0887"
             ],
             [
              0.1111111111111111,
              "#46039f"
             ],
             [
              0.2222222222222222,
              "#7201a8"
             ],
             [
              0.3333333333333333,
              "#9c179e"
             ],
             [
              0.4444444444444444,
              "#bd3786"
             ],
             [
              0.5555555555555556,
              "#d8576b"
             ],
             [
              0.6666666666666666,
              "#ed7953"
             ],
             [
              0.7777777777777778,
              "#fb9f3a"
             ],
             [
              0.8888888888888888,
              "#fdca26"
             ],
             [
              1,
              "#f0f921"
             ]
            ],
            "type": "histogram2d"
           }
          ],
          "histogram2dcontour": [
           {
            "colorbar": {
             "outlinewidth": 0,
             "ticks": ""
            },
            "colorscale": [
             [
              0,
              "#0d0887"
             ],
             [
              0.1111111111111111,
              "#46039f"
             ],
             [
              0.2222222222222222,
              "#7201a8"
             ],
             [
              0.3333333333333333,
              "#9c179e"
             ],
             [
              0.4444444444444444,
              "#bd3786"
             ],
             [
              0.5555555555555556,
              "#d8576b"
             ],
             [
              0.6666666666666666,
              "#ed7953"
             ],
             [
              0.7777777777777778,
              "#fb9f3a"
             ],
             [
              0.8888888888888888,
              "#fdca26"
             ],
             [
              1,
              "#f0f921"
             ]
            ],
            "type": "histogram2dcontour"
           }
          ],
          "mesh3d": [
           {
            "colorbar": {
             "outlinewidth": 0,
             "ticks": ""
            },
            "type": "mesh3d"
           }
          ],
          "parcoords": [
           {
            "line": {
             "colorbar": {
              "outlinewidth": 0,
              "ticks": ""
             }
            },
            "type": "parcoords"
           }
          ],
          "pie": [
           {
            "automargin": true,
            "type": "pie"
           }
          ],
          "scatter": [
           {
            "fillpattern": {
             "fillmode": "overlay",
             "size": 10,
             "solidity": 0.2
            },
            "type": "scatter"
           }
          ],
          "scatter3d": [
           {
            "line": {
             "colorbar": {
              "outlinewidth": 0,
              "ticks": ""
             }
            },
            "marker": {
             "colorbar": {
              "outlinewidth": 0,
              "ticks": ""
             }
            },
            "type": "scatter3d"
           }
          ],
          "scattercarpet": [
           {
            "marker": {
             "colorbar": {
              "outlinewidth": 0,
              "ticks": ""
             }
            },
            "type": "scattercarpet"
           }
          ],
          "scattergeo": [
           {
            "marker": {
             "colorbar": {
              "outlinewidth": 0,
              "ticks": ""
             }
            },
            "type": "scattergeo"
           }
          ],
          "scattergl": [
           {
            "marker": {
             "colorbar": {
              "outlinewidth": 0,
              "ticks": ""
             }
            },
            "type": "scattergl"
           }
          ],
          "scattermapbox": [
           {
            "marker": {
             "colorbar": {
              "outlinewidth": 0,
              "ticks": ""
             }
            },
            "type": "scattermapbox"
           }
          ],
          "scatterpolar": [
           {
            "marker": {
             "colorbar": {
              "outlinewidth": 0,
              "ticks": ""
             }
            },
            "type": "scatterpolar"
           }
          ],
          "scatterpolargl": [
           {
            "marker": {
             "colorbar": {
              "outlinewidth": 0,
              "ticks": ""
             }
            },
            "type": "scatterpolargl"
           }
          ],
          "scatterternary": [
           {
            "marker": {
             "colorbar": {
              "outlinewidth": 0,
              "ticks": ""
             }
            },
            "type": "scatterternary"
           }
          ],
          "surface": [
           {
            "colorbar": {
             "outlinewidth": 0,
             "ticks": ""
            },
            "colorscale": [
             [
              0,
              "#0d0887"
             ],
             [
              0.1111111111111111,
              "#46039f"
             ],
             [
              0.2222222222222222,
              "#7201a8"
             ],
             [
              0.3333333333333333,
              "#9c179e"
             ],
             [
              0.4444444444444444,
              "#bd3786"
             ],
             [
              0.5555555555555556,
              "#d8576b"
             ],
             [
              0.6666666666666666,
              "#ed7953"
             ],
             [
              0.7777777777777778,
              "#fb9f3a"
             ],
             [
              0.8888888888888888,
              "#fdca26"
             ],
             [
              1,
              "#f0f921"
             ]
            ],
            "type": "surface"
           }
          ],
          "table": [
           {
            "cells": {
             "fill": {
              "color": "#EBF0F8"
             },
             "line": {
              "color": "white"
             }
            },
            "header": {
             "fill": {
              "color": "#C8D4E3"
             },
             "line": {
              "color": "white"
             }
            },
            "type": "table"
           }
          ]
         },
         "layout": {
          "annotationdefaults": {
           "arrowcolor": "#2a3f5f",
           "arrowhead": 0,
           "arrowwidth": 1
          },
          "autotypenumbers": "strict",
          "coloraxis": {
           "colorbar": {
            "outlinewidth": 0,
            "ticks": ""
           }
          },
          "colorscale": {
           "diverging": [
            [
             0,
             "#8e0152"
            ],
            [
             0.1,
             "#c51b7d"
            ],
            [
             0.2,
             "#de77ae"
            ],
            [
             0.3,
             "#f1b6da"
            ],
            [
             0.4,
             "#fde0ef"
            ],
            [
             0.5,
             "#f7f7f7"
            ],
            [
             0.6,
             "#e6f5d0"
            ],
            [
             0.7,
             "#b8e186"
            ],
            [
             0.8,
             "#7fbc41"
            ],
            [
             0.9,
             "#4d9221"
            ],
            [
             1,
             "#276419"
            ]
           ],
           "sequential": [
            [
             0,
             "#0d0887"
            ],
            [
             0.1111111111111111,
             "#46039f"
            ],
            [
             0.2222222222222222,
             "#7201a8"
            ],
            [
             0.3333333333333333,
             "#9c179e"
            ],
            [
             0.4444444444444444,
             "#bd3786"
            ],
            [
             0.5555555555555556,
             "#d8576b"
            ],
            [
             0.6666666666666666,
             "#ed7953"
            ],
            [
             0.7777777777777778,
             "#fb9f3a"
            ],
            [
             0.8888888888888888,
             "#fdca26"
            ],
            [
             1,
             "#f0f921"
            ]
           ],
           "sequentialminus": [
            [
             0,
             "#0d0887"
            ],
            [
             0.1111111111111111,
             "#46039f"
            ],
            [
             0.2222222222222222,
             "#7201a8"
            ],
            [
             0.3333333333333333,
             "#9c179e"
            ],
            [
             0.4444444444444444,
             "#bd3786"
            ],
            [
             0.5555555555555556,
             "#d8576b"
            ],
            [
             0.6666666666666666,
             "#ed7953"
            ],
            [
             0.7777777777777778,
             "#fb9f3a"
            ],
            [
             0.8888888888888888,
             "#fdca26"
            ],
            [
             1,
             "#f0f921"
            ]
           ]
          },
          "colorway": [
           "#636efa",
           "#EF553B",
           "#00cc96",
           "#ab63fa",
           "#FFA15A",
           "#19d3f3",
           "#FF6692",
           "#B6E880",
           "#FF97FF",
           "#FECB52"
          ],
          "font": {
           "color": "#2a3f5f"
          },
          "geo": {
           "bgcolor": "white",
           "lakecolor": "white",
           "landcolor": "#E5ECF6",
           "showlakes": true,
           "showland": true,
           "subunitcolor": "white"
          },
          "hoverlabel": {
           "align": "left"
          },
          "hovermode": "closest",
          "mapbox": {
           "style": "light"
          },
          "paper_bgcolor": "white",
          "plot_bgcolor": "#E5ECF6",
          "polar": {
           "angularaxis": {
            "gridcolor": "white",
            "linecolor": "white",
            "ticks": ""
           },
           "bgcolor": "#E5ECF6",
           "radialaxis": {
            "gridcolor": "white",
            "linecolor": "white",
            "ticks": ""
           }
          },
          "scene": {
           "xaxis": {
            "backgroundcolor": "#E5ECF6",
            "gridcolor": "white",
            "gridwidth": 2,
            "linecolor": "white",
            "showbackground": true,
            "ticks": "",
            "zerolinecolor": "white"
           },
           "yaxis": {
            "backgroundcolor": "#E5ECF6",
            "gridcolor": "white",
            "gridwidth": 2,
            "linecolor": "white",
            "showbackground": true,
            "ticks": "",
            "zerolinecolor": "white"
           },
           "zaxis": {
            "backgroundcolor": "#E5ECF6",
            "gridcolor": "white",
            "gridwidth": 2,
            "linecolor": "white",
            "showbackground": true,
            "ticks": "",
            "zerolinecolor": "white"
           }
          },
          "shapedefaults": {
           "line": {
            "color": "#2a3f5f"
           }
          },
          "ternary": {
           "aaxis": {
            "gridcolor": "white",
            "linecolor": "white",
            "ticks": ""
           },
           "baxis": {
            "gridcolor": "white",
            "linecolor": "white",
            "ticks": ""
           },
           "bgcolor": "#E5ECF6",
           "caxis": {
            "gridcolor": "white",
            "linecolor": "white",
            "ticks": ""
           }
          },
          "title": {
           "x": 0.05
          },
          "xaxis": {
           "automargin": true,
           "gridcolor": "white",
           "linecolor": "white",
           "ticks": "",
           "title": {
            "standoff": 15
           },
           "zerolinecolor": "white",
           "zerolinewidth": 2
          },
          "yaxis": {
           "automargin": true,
           "gridcolor": "white",
           "linecolor": "white",
           "ticks": "",
           "title": {
            "standoff": 15
           },
           "zerolinecolor": "white",
           "zerolinewidth": 2
          }
         }
        },
        "xaxis": {
         "anchor": "y",
         "domain": [
          0,
          1
         ],
         "title": {
          "text": "Avg Volume (M EUR)"
         }
        },
        "yaxis": {
         "anchor": "x",
         "domain": [
          0,
          1
         ],
         "title": {
          "text": "count"
         }
        }
       }
      }
     },
     "metadata": {},
     "output_type": "display_data"
    },
    {
     "data": {
      "text/html": [
       "<div>\n",
       "<style scoped>\n",
       "    .dataframe tbody tr th:only-of-type {\n",
       "        vertical-align: middle;\n",
       "    }\n",
       "\n",
       "    .dataframe tbody tr th {\n",
       "        vertical-align: top;\n",
       "    }\n",
       "\n",
       "    .dataframe thead th {\n",
       "        text-align: right;\n",
       "    }\n",
       "</style>\n",
       "<table border=\"1\" class=\"dataframe\">\n",
       "  <thead>\n",
       "    <tr style=\"text-align: right;\">\n",
       "      <th></th>\n",
       "      <th>Ticker</th>\n",
       "      <th>ISIN</th>\n",
       "      <th>ETF Name</th>\n",
       "      <th>Category</th>\n",
       "      <th>Type</th>\n",
       "      <th>Domicile</th>\n",
       "      <th>Date Oldest</th>\n",
       "      <th>Date Newest</th>\n",
       "      <th>Years Covered</th>\n",
       "      <th>Data per Year</th>\n",
       "      <th>Avg Volume (M EUR)</th>\n",
       "    </tr>\n",
       "  </thead>\n",
       "  <tbody>\n",
       "    <tr>\n",
       "      <th>1586</th>\n",
       "      <td>3NGS.MI</td>\n",
       "      <td>IE00B76BRD76</td>\n",
       "      <td>Wisdomtree Natural Gas 3X Daily Short</td>\n",
       "      <td>NaN</td>\n",
       "      <td>Exchange-Traded Commodity</td>\n",
       "      <td>Ireland</td>\n",
       "      <td>2013-11-04</td>\n",
       "      <td>2023-09-28</td>\n",
       "      <td>9.897331</td>\n",
       "      <td>254.108921</td>\n",
       "      <td>613327.535936</td>\n",
       "    </tr>\n",
       "    <tr>\n",
       "      <th>1585</th>\n",
       "      <td>3NGL.MI</td>\n",
       "      <td>IE00BLRPRG98</td>\n",
       "      <td>Wisdomtree Natural Gas 3X Daily Leverage</td>\n",
       "      <td>NaN</td>\n",
       "      <td>Exchange-Traded Commodity</td>\n",
       "      <td>Ireland</td>\n",
       "      <td>2013-11-04</td>\n",
       "      <td>2023-09-28</td>\n",
       "      <td>9.897331</td>\n",
       "      <td>254.108921</td>\n",
       "      <td>523462.949795</td>\n",
       "    </tr>\n",
       "    <tr>\n",
       "      <th>1115</th>\n",
       "      <td>GAS3L.MI</td>\n",
       "      <td>XS2425314189</td>\n",
       "      <td>SG ETC NATURAL GAS +3X DAILY LEV COLLAT ETC</td>\n",
       "      <td>NaN</td>\n",
       "      <td>Exchange-Traded Commodity</td>\n",
       "      <td>NaN</td>\n",
       "      <td>2014-10-20</td>\n",
       "      <td>2023-09-28</td>\n",
       "      <td>8.939083</td>\n",
       "      <td>254.276646</td>\n",
       "      <td>20909.109971</td>\n",
       "    </tr>\n",
       "    <tr>\n",
       "      <th>1609</th>\n",
       "      <td>VIXL.MI</td>\n",
       "      <td>IE00BLRPRH06</td>\n",
       "      <td>Wisdomtree S&amp;P 500 Vix Short-Term Future</td>\n",
       "      <td>NaN</td>\n",
       "      <td>Exchange-Traded Note</td>\n",
       "      <td>NaN</td>\n",
       "      <td>2016-03-17</td>\n",
       "      <td>2023-09-28</td>\n",
       "      <td>7.531828</td>\n",
       "      <td>254.652672</td>\n",
       "      <td>18345.985426</td>\n",
       "    </tr>\n",
       "    <tr>\n",
       "      <th>1588</th>\n",
       "      <td>LNGA.MI</td>\n",
       "      <td>JE00BDD9Q956</td>\n",
       "      <td>Wisdomtree Natural Gas Leverage ETC</td>\n",
       "      <td>NaN</td>\n",
       "      <td>Exchange-Traded Commodity</td>\n",
       "      <td>NaN</td>\n",
       "      <td>2009-05-26</td>\n",
       "      <td>2023-11-10</td>\n",
       "      <td>14.45859</td>\n",
       "      <td>254.519977</td>\n",
       "      <td>8621.195489</td>\n",
       "    </tr>\n",
       "    <tr>\n",
       "      <th>1501</th>\n",
       "      <td>3BRS.MI</td>\n",
       "      <td>IE00BLRPRK35</td>\n",
       "      <td>Wisdomtree Brent Crude Oil 3X Daily Shor</td>\n",
       "      <td>NaN</td>\n",
       "      <td>Exchange-Traded Commodity</td>\n",
       "      <td>NaN</td>\n",
       "      <td>2015-10-19</td>\n",
       "      <td>2023-09-28</td>\n",
       "      <td>7.942505</td>\n",
       "      <td>254.579628</td>\n",
       "      <td>3429.963516</td>\n",
       "    </tr>\n",
       "    <tr>\n",
       "      <th>665</th>\n",
       "      <td>CSSPX.MI</td>\n",
       "      <td>IE00B5BMR087</td>\n",
       "      <td>iShares Core S&amp;P 500 UCITS ETF USD (Acc)</td>\n",
       "      <td>Equity US</td>\n",
       "      <td>Equity ETF</td>\n",
       "      <td>Ireland</td>\n",
       "      <td>2010-05-27</td>\n",
       "      <td>2023-09-28</td>\n",
       "      <td>13.338809</td>\n",
       "      <td>254.370536</td>\n",
       "      <td>1032.197367</td>\n",
       "    </tr>\n",
       "    <tr>\n",
       "      <th>1583</th>\n",
       "      <td>QQQS.MI</td>\n",
       "      <td>IE00BLRPRJ20</td>\n",
       "      <td>Wisdomtree Nasdaq 100 3X Daily Short</td>\n",
       "      <td>NaN</td>\n",
       "      <td>Exchange-Traded Note</td>\n",
       "      <td>NaN</td>\n",
       "      <td>2014-02-25</td>\n",
       "      <td>2023-09-28</td>\n",
       "      <td>9.587953</td>\n",
       "      <td>254.38171</td>\n",
       "      <td>684.265179</td>\n",
       "    </tr>\n",
       "    <tr>\n",
       "      <th>768</th>\n",
       "      <td>CSNDX.MI</td>\n",
       "      <td>IE00B53SZB19</td>\n",
       "      <td>iShares NASDAQ 100 UCITS ETF USD (Acc)</td>\n",
       "      <td>Equity US</td>\n",
       "      <td>Equity ETF</td>\n",
       "      <td>Ireland</td>\n",
       "      <td>2010-03-15</td>\n",
       "      <td>2023-09-28</td>\n",
       "      <td>13.538672</td>\n",
       "      <td>254.308544</td>\n",
       "      <td>627.091584</td>\n",
       "    </tr>\n",
       "    <tr>\n",
       "      <th>572</th>\n",
       "      <td>SPXS.MI</td>\n",
       "      <td>IE00B3YCGJ38</td>\n",
       "      <td>Invesco S&amp;P 500 UCITS ETF Acc</td>\n",
       "      <td>Equity US</td>\n",
       "      <td>Equity ETF</td>\n",
       "      <td>Ireland</td>\n",
       "      <td>2014-09-29</td>\n",
       "      <td>2023-09-28</td>\n",
       "      <td>8.996578</td>\n",
       "      <td>249.872794</td>\n",
       "      <td>607.183575</td>\n",
       "    </tr>\n",
       "  </tbody>\n",
       "</table>\n",
       "</div>"
      ],
      "text/plain": [
       "        Ticker          ISIN                                     ETF Name  \\\n",
       "1586   3NGS.MI  IE00B76BRD76        Wisdomtree Natural Gas 3X Daily Short   \n",
       "1585   3NGL.MI  IE00BLRPRG98     Wisdomtree Natural Gas 3X Daily Leverage   \n",
       "1115  GAS3L.MI  XS2425314189  SG ETC NATURAL GAS +3X DAILY LEV COLLAT ETC   \n",
       "1609   VIXL.MI  IE00BLRPRH06     Wisdomtree S&P 500 Vix Short-Term Future   \n",
       "1588   LNGA.MI  JE00BDD9Q956          Wisdomtree Natural Gas Leverage ETC   \n",
       "1501   3BRS.MI  IE00BLRPRK35     Wisdomtree Brent Crude Oil 3X Daily Shor   \n",
       "665   CSSPX.MI  IE00B5BMR087     iShares Core S&P 500 UCITS ETF USD (Acc)   \n",
       "1583   QQQS.MI  IE00BLRPRJ20         Wisdomtree Nasdaq 100 3X Daily Short   \n",
       "768   CSNDX.MI  IE00B53SZB19       iShares NASDAQ 100 UCITS ETF USD (Acc)   \n",
       "572    SPXS.MI  IE00B3YCGJ38                Invesco S&P 500 UCITS ETF Acc   \n",
       "\n",
       "       Category                       Type Domicile Date Oldest Date Newest  \\\n",
       "1586        NaN  Exchange-Traded Commodity  Ireland  2013-11-04  2023-09-28   \n",
       "1585        NaN  Exchange-Traded Commodity  Ireland  2013-11-04  2023-09-28   \n",
       "1115        NaN  Exchange-Traded Commodity      NaN  2014-10-20  2023-09-28   \n",
       "1609        NaN       Exchange-Traded Note      NaN  2016-03-17  2023-09-28   \n",
       "1588        NaN  Exchange-Traded Commodity      NaN  2009-05-26  2023-11-10   \n",
       "1501        NaN  Exchange-Traded Commodity      NaN  2015-10-19  2023-09-28   \n",
       "665   Equity US                 Equity ETF  Ireland  2010-05-27  2023-09-28   \n",
       "1583        NaN       Exchange-Traded Note      NaN  2014-02-25  2023-09-28   \n",
       "768   Equity US                 Equity ETF  Ireland  2010-03-15  2023-09-28   \n",
       "572   Equity US                 Equity ETF  Ireland  2014-09-29  2023-09-28   \n",
       "\n",
       "     Years Covered Data per Year Avg Volume (M EUR)  \n",
       "1586      9.897331    254.108921      613327.535936  \n",
       "1585      9.897331    254.108921      523462.949795  \n",
       "1115      8.939083    254.276646       20909.109971  \n",
       "1609      7.531828    254.652672       18345.985426  \n",
       "1588      14.45859    254.519977        8621.195489  \n",
       "1501      7.942505    254.579628        3429.963516  \n",
       "665      13.338809    254.370536        1032.197367  \n",
       "1583      9.587953     254.38171         684.265179  \n",
       "768      13.538672    254.308544         627.091584  \n",
       "572       8.996578    249.872794         607.183575  "
      ]
     },
     "metadata": {},
     "output_type": "display_data"
    }
   ],
   "source": [
    "# Most traded ETFs\n",
    "fig = px.histogram(df_eda2, x=\"Avg Volume (M EUR)\", nbins=50)\n",
    "fig.show()\n",
    "display(df_eda2.sort_values(\"Avg Volume (M EUR)\", ascending=False).head(10))"
   ]
  }
 ],
 "metadata": {
  "kernelspec": {
   "display_name": "base",
   "language": "python",
   "name": "python3"
  },
  "language_info": {
   "codemirror_mode": {
    "name": "ipython",
    "version": 3
   },
   "file_extension": ".py",
   "mimetype": "text/x-python",
   "name": "python",
   "nbconvert_exporter": "python",
   "pygments_lexer": "ipython3",
   "version": "3.8.5"
  }
 },
 "nbformat": 4,
 "nbformat_minor": 2
}
